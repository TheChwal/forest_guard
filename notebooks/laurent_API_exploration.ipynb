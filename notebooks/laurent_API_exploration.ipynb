{
 "cells": [
  {
   "cell_type": "code",
   "execution_count": 1,
   "id": "valued-parade",
   "metadata": {
    "ExecuteTime": {
     "end_time": "2021-05-25T07:17:46.033575Z",
     "start_time": "2021-05-25T07:17:31.193512Z"
    }
   },
   "outputs": [
    {
     "data": {
      "text/html": [
       "<p>To authorize access needed by Earth Engine, open the following\n",
       "        URL in a web browser and follow the instructions:</p>\n",
       "        <p><a href=https://accounts.google.com/o/oauth2/auth?client_id=517222506229-vsmmajv00ul0bs7p89v5m89qs8eb9359.apps.googleusercontent.com&scope=https%3A%2F%2Fwww.googleapis.com%2Fauth%2Fearthengine+https%3A%2F%2Fwww.googleapis.com%2Fauth%2Fdevstorage.full_control&redirect_uri=urn%3Aietf%3Awg%3Aoauth%3A2.0%3Aoob&response_type=code&code_challenge=I8som1ZCh70cNzf1DXKmZ_CrHF0G0RX_7cH_mAei3H4&code_challenge_method=S256>https://accounts.google.com/o/oauth2/auth?client_id=517222506229-vsmmajv00ul0bs7p89v5m89qs8eb9359.apps.googleusercontent.com&scope=https%3A%2F%2Fwww.googleapis.com%2Fauth%2Fearthengine+https%3A%2F%2Fwww.googleapis.com%2Fauth%2Fdevstorage.full_control&redirect_uri=urn%3Aietf%3Awg%3Aoauth%3A2.0%3Aoob&response_type=code&code_challenge=I8som1ZCh70cNzf1DXKmZ_CrHF0G0RX_7cH_mAei3H4&code_challenge_method=S256</a></p>\n",
       "        <p>The authorization workflow will generate a code, which you\n",
       "        should paste in the box below</p>\n",
       "        "
      ],
      "text/plain": [
       "<IPython.core.display.HTML object>"
      ]
     },
     "metadata": {},
     "output_type": "display_data"
    },
    {
     "name": "stdout",
     "output_type": "stream",
     "text": [
      "Enter verification code: 4/1AY0e-g5LKdrR9d_LMpSYYG8ZneF6OxPGCn7ruZ6-AsJziXMqxzUYxCi6U8Y\n",
      "\n",
      "Successfully saved authorization token.\n"
     ]
    }
   ],
   "source": [
    "import ee\n",
    "ee.Authenticate()\n",
    "ee.Initialize()"
   ]
  },
  {
   "cell_type": "code",
   "execution_count": 2,
   "id": "forward-sending",
   "metadata": {
    "ExecuteTime": {
     "end_time": "2021-05-25T07:17:47.964439Z",
     "start_time": "2021-05-25T07:17:47.551354Z"
    }
   },
   "outputs": [],
   "source": [
    "import folium\n",
    "\n",
    "\n",
    "def add_ee_layer(self, ee_image_object, vis_params, name):\n",
    "  map_id_dict = ee.Image(ee_image_object).getMapId(vis_params)\n",
    "  folium.raster_layers.TileLayer(\n",
    "      tiles=map_id_dict['tile_fetcher'].url_format,\n",
    "      attr='Map Data &copy; <a href=\"https://earthengine.google.com/\">Google Earth Engine</a>',\n",
    "      name=name,\n",
    "      overlay=True,\n",
    "      control=True\n",
    "  ).add_to(self)\n",
    "\n",
    "folium.Map.add_ee_layer = add_ee_layer"
   ]
  },
  {
   "cell_type": "code",
   "execution_count": 3,
   "id": "worth-afternoon",
   "metadata": {
    "ExecuteTime": {
     "end_time": "2021-05-25T07:17:48.819624Z",
     "start_time": "2021-05-25T07:17:48.815561Z"
    }
   },
   "outputs": [],
   "source": [
    "collec = ee.ImageCollection('LANDSAT/LC08/C01/T1_SR')"
   ]
  },
  {
   "cell_type": "code",
   "execution_count": 7,
   "id": "scenic-russell",
   "metadata": {
    "ExecuteTime": {
     "end_time": "2021-05-25T07:21:34.341305Z",
     "start_time": "2021-05-25T07:21:11.713925Z"
    }
   },
   "outputs": [
    {
     "data": {
      "text/plain": [
       "1136623"
      ]
     },
     "execution_count": 7,
     "metadata": {},
     "output_type": "execute_result"
    }
   ],
   "source": [
    "collec.size().getInfo()"
   ]
  },
  {
   "cell_type": "code",
   "execution_count": 16,
   "id": "fifteen-packing",
   "metadata": {
    "ExecuteTime": {
     "end_time": "2021-05-25T07:31:22.217788Z",
     "start_time": "2021-05-25T07:31:22.213205Z"
    }
   },
   "outputs": [],
   "source": [
    "begin_date = \"2015-01-01\"\n",
    "end_date = \"2017-01-01\""
   ]
  },
  {
   "cell_type": "code",
   "execution_count": 17,
   "id": "exterior-addiction",
   "metadata": {
    "ExecuteTime": {
     "end_time": "2021-05-25T07:32:01.095585Z",
     "start_time": "2021-05-25T07:32:01.091620Z"
    }
   },
   "outputs": [],
   "source": [
    "collec_fildate = collec.filterDate(begin_date,end_date)"
   ]
  },
  {
   "cell_type": "code",
   "execution_count": 18,
   "id": "municipal-agreement",
   "metadata": {
    "ExecuteTime": {
     "end_time": "2021-05-25T07:32:22.957415Z",
     "start_time": "2021-05-25T07:32:15.843186Z"
    }
   },
   "outputs": [
    {
     "data": {
      "text/plain": [
       "286389"
      ]
     },
     "execution_count": 18,
     "metadata": {},
     "output_type": "execute_result"
    }
   ],
   "source": [
    "collec_fildate.size().getInfo()"
   ]
  },
  {
   "cell_type": "code",
   "execution_count": 43,
   "id": "internal-group",
   "metadata": {
    "ExecuteTime": {
     "end_time": "2021-05-25T08:07:55.440588Z",
     "start_time": "2021-05-25T08:07:55.435990Z"
    }
   },
   "outputs": [],
   "source": [
    "geom = ee.Geometry.Point(45.7833,3.0833)\n",
    "geom1 = ee.Geometry.Rectangle([45.2833, 2.5833,\n",
    "                                   46.2833, 3.5833])"
   ]
  },
  {
   "cell_type": "code",
   "execution_count": 44,
   "id": "lucky-probe",
   "metadata": {
    "ExecuteTime": {
     "end_time": "2021-05-25T08:08:01.358969Z",
     "start_time": "2021-05-25T08:08:01.355023Z"
    }
   },
   "outputs": [],
   "source": [
    "collec_fildate_filbound = collec_fildate.filterBounds(geom1)"
   ]
  },
  {
   "cell_type": "code",
   "execution_count": 45,
   "id": "answering-steering",
   "metadata": {
    "ExecuteTime": {
     "end_time": "2021-05-25T08:08:04.802970Z",
     "start_time": "2021-05-25T08:08:04.090097Z"
    }
   },
   "outputs": [
    {
     "data": {
      "text/plain": [
       "87"
      ]
     },
     "execution_count": 45,
     "metadata": {},
     "output_type": "execute_result"
    }
   ],
   "source": [
    "collec_fildate_filbound.size().getInfo()"
   ]
  },
  {
   "cell_type": "code",
   "execution_count": 46,
   "id": "exterior-affiliation",
   "metadata": {
    "ExecuteTime": {
     "end_time": "2021-05-25T08:08:15.512861Z",
     "start_time": "2021-05-25T08:08:15.509041Z"
    }
   },
   "outputs": [],
   "source": [
    " collec_liste = collec_fildate_filbound.toList(collec_fildate_filbound.size())"
   ]
  },
  {
   "cell_type": "code",
   "execution_count": 47,
   "id": "powered-awareness",
   "metadata": {
    "ExecuteTime": {
     "end_time": "2021-05-25T08:08:17.491968Z",
     "start_time": "2021-05-25T08:08:16.558561Z"
    }
   },
   "outputs": [
    {
     "data": {
      "text/plain": [
       "87"
      ]
     },
     "execution_count": 47,
     "metadata": {},
     "output_type": "execute_result"
    }
   ],
   "source": [
    "collec_liste.size().getInfo()"
   ]
  },
  {
   "cell_type": "code",
   "execution_count": 48,
   "id": "baking-topic",
   "metadata": {
    "ExecuteTime": {
     "end_time": "2021-05-25T08:08:20.233583Z",
     "start_time": "2021-05-25T08:08:20.228390Z"
    }
   },
   "outputs": [],
   "source": [
    "image_list = []\n",
    "for i in range(44):\n",
    "    image_list.append(collec_liste.get(i))"
   ]
  },
  {
   "cell_type": "code",
   "execution_count": 84,
   "id": "subsequent-contrast",
   "metadata": {
    "ExecuteTime": {
     "end_time": "2021-05-25T08:26:52.296055Z",
     "start_time": "2021-05-25T08:26:52.290173Z"
    }
   },
   "outputs": [
    {
     "data": {
      "text/plain": [
       "[<ee.computedobject.ComputedObject object at 0x7f5da344c1c0>, <ee.computedobject.ComputedObject object at 0x7f5da329b250>, <ee.computedobject.ComputedObject object at 0x7f5da347ebe0>, <ee.computedobject.ComputedObject object at 0x7f5da347e5b0>, <ee.computedobject.ComputedObject object at 0x7f5da347edf0>, <ee.computedobject.ComputedObject object at 0x7f5da347e2e0>, <ee.computedobject.ComputedObject object at 0x7f5da347edc0>, <ee.computedobject.ComputedObject object at 0x7f5da347e760>, <ee.computedobject.ComputedObject object at 0x7f5da347e7c0>, <ee.computedobject.ComputedObject object at 0x7f5da3426df0>, <ee.computedobject.ComputedObject object at 0x7f5da2febc70>, <ee.computedobject.ComputedObject object at 0x7f5da2feb2b0>, <ee.computedobject.ComputedObject object at 0x7f5da3afc550>, <ee.computedobject.ComputedObject object at 0x7f5da3b4adf0>, <ee.computedobject.ComputedObject object at 0x7f5da3b4a880>, <ee.computedobject.ComputedObject object at 0x7f5da3b4a040>, <ee.computedobject.ComputedObject object at 0x7f5da3b4a2b0>, <ee.computedobject.ComputedObject object at 0x7f5da3b4a070>, <ee.computedobject.ComputedObject object at 0x7f5da348aa90>, <ee.computedobject.ComputedObject object at 0x7f5da348a040>, <ee.computedobject.ComputedObject object at 0x7f5da2ff58e0>, <ee.computedobject.ComputedObject object at 0x7f5da2ff5430>, <ee.computedobject.ComputedObject object at 0x7f5da2ff59d0>, <ee.computedobject.ComputedObject object at 0x7f5da2ff5550>, <ee.computedobject.ComputedObject object at 0x7f5da3441070>, <ee.computedobject.ComputedObject object at 0x7f5da3441100>, <ee.computedobject.ComputedObject object at 0x7f5da3441c70>, <ee.computedobject.ComputedObject object at 0x7f5da3441430>, <ee.computedobject.ComputedObject object at 0x7f5da393ee20>, <ee.computedobject.ComputedObject object at 0x7f5da393ed00>, <ee.computedobject.ComputedObject object at 0x7f5da393efa0>, <ee.computedobject.ComputedObject object at 0x7f5da393ee80>, <ee.computedobject.ComputedObject object at 0x7f5da3260f10>, <ee.computedobject.ComputedObject object at 0x7f5da3b05160>, <ee.computedobject.ComputedObject object at 0x7f5da3b057f0>, <ee.computedobject.ComputedObject object at 0x7f5da3269e80>, <ee.computedobject.ComputedObject object at 0x7f5da3269c70>, <ee.computedobject.ComputedObject object at 0x7f5da3269a00>, <ee.computedobject.ComputedObject object at 0x7f5da3b45250>, <ee.computedobject.ComputedObject object at 0x7f5da3934880>, <ee.computedobject.ComputedObject object at 0x7f5da3934910>, <ee.computedobject.ComputedObject object at 0x7f5da39348b0>, <ee.computedobject.ComputedObject object at 0x7f5da3463670>, <ee.computedobject.ComputedObject object at 0x7f5da3463ca0>]"
      ]
     },
     "execution_count": 84,
     "metadata": {},
     "output_type": "execute_result"
    }
   ],
   "source": [
    "image_list"
   ]
  },
  {
   "cell_type": "code",
   "execution_count": 85,
   "id": "broken-scanner",
   "metadata": {
    "ExecuteTime": {
     "end_time": "2021-05-25T08:27:06.181695Z",
     "start_time": "2021-05-25T08:27:05.956859Z"
    }
   },
   "outputs": [
    {
     "data": {
      "text/plain": [
       "{'type': 'Image', 'bands': [{'id': 'B1', 'data_type': {'type': 'PixelType', 'precision': 'int', 'min': -32768, 'max': 32767}, 'dimensions': [7581, 7731], 'crs': 'EPSG:32638', 'crs_transform': [30, 0, 502785, 0, -30, 595215]}, {'id': 'B2', 'data_type': {'type': 'PixelType', 'precision': 'int', 'min': -32768, 'max': 32767}, 'dimensions': [7581, 7731], 'crs': 'EPSG:32638', 'crs_transform': [30, 0, 502785, 0, -30, 595215]}, {'id': 'B3', 'data_type': {'type': 'PixelType', 'precision': 'int', 'min': -32768, 'max': 32767}, 'dimensions': [7581, 7731], 'crs': 'EPSG:32638', 'crs_transform': [30, 0, 502785, 0, -30, 595215]}, {'id': 'B4', 'data_type': {'type': 'PixelType', 'precision': 'int', 'min': -32768, 'max': 32767}, 'dimensions': [7581, 7731], 'crs': 'EPSG:32638', 'crs_transform': [30, 0, 502785, 0, -30, 595215]}, {'id': 'B5', 'data_type': {'type': 'PixelType', 'precision': 'int', 'min': -32768, 'max': 32767}, 'dimensions': [7581, 7731], 'crs': 'EPSG:32638', 'crs_transform': [30, 0, 502785, 0, -30, 595215]}, {'id': 'B6', 'data_type': {'type': 'PixelType', 'precision': 'int', 'min': -32768, 'max': 32767}, 'dimensions': [7581, 7731], 'crs': 'EPSG:32638', 'crs_transform': [30, 0, 502785, 0, -30, 595215]}, {'id': 'B7', 'data_type': {'type': 'PixelType', 'precision': 'int', 'min': -32768, 'max': 32767}, 'dimensions': [7581, 7731], 'crs': 'EPSG:32638', 'crs_transform': [30, 0, 502785, 0, -30, 595215]}, {'id': 'B10', 'data_type': {'type': 'PixelType', 'precision': 'int', 'min': -32768, 'max': 32767}, 'dimensions': [7581, 7731], 'crs': 'EPSG:32638', 'crs_transform': [30, 0, 502785, 0, -30, 595215]}, {'id': 'B11', 'data_type': {'type': 'PixelType', 'precision': 'int', 'min': -32768, 'max': 32767}, 'dimensions': [7581, 7731], 'crs': 'EPSG:32638', 'crs_transform': [30, 0, 502785, 0, -30, 595215]}, {'id': 'sr_aerosol', 'data_type': {'type': 'PixelType', 'precision': 'int', 'min': 0, 'max': 255}, 'dimensions': [7581, 7731], 'crs': 'EPSG:32638', 'crs_transform': [30, 0, 502785, 0, -30, 595215]}, {'id': 'pixel_qa', 'data_type': {'type': 'PixelType', 'precision': 'int', 'min': 0, 'max': 65535}, 'dimensions': [7581, 7731], 'crs': 'EPSG:32638', 'crs_transform': [30, 0, 502785, 0, -30, 595215]}, {'id': 'radsat_qa', 'data_type': {'type': 'PixelType', 'precision': 'int', 'min': 0, 'max': 65535}, 'dimensions': [7581, 7731], 'crs': 'EPSG:32638', 'crs_transform': [30, 0, 502785, 0, -30, 595215]}], 'id': 'LANDSAT/LC08/C01/T1_SR/LC08_163057_20150118', 'version': 1522749131895879, 'properties': {'IMAGE_QUALITY_TIRS': 9, 'CLOUD_COVER': 0.02, 'EARTH_SUN_DISTANCE': 0.983854, 'LANDSAT_ID': 'LC08_L1TP_163057_20150118_20170414_01_T1', 'system:footprint': {'type': 'LinearRing', 'coordinates': [[46.94377067541336, 4.422660686933409], [47.038543870349, 4.865054489847841], [47.06011244259395, 4.965671427950151], [47.07257294972275, 5.023885813115318], [47.07257770270739, 5.025394294346964], [46.542991871857474, 5.139078684822026], [45.597319577865946, 5.340945371436672], [45.43703137892623, 5.375009731838584], [45.435550076388026, 5.375010816273857], [45.28118421080978, 4.649037298025401], [45.06727596201717, 3.6393751762130204], [45.10930497335099, 3.6303224512997496], [46.090954504367495, 3.4185502638294984], [46.468038650094485, 3.336920628130814], [46.70079778981235, 3.2864606155029716], [46.701268207086066, 3.287402298755359], [46.71730115993577, 3.3624956925103073], [46.90466759746914, 4.2399367113285455], [46.918882483659, 4.306358432941474], [46.94377067541336, 4.422660686933409]]}, 'CLOUD_COVER_LAND': 0.02, 'GEOMETRIC_RMSE_MODEL': 3.478, 'SR_APP_VERSION': 'LaSRC_1.3.0', 'SATELLITE': 'LANDSAT_8', 'SOLAR_AZIMUTH_ANGLE': 132.424973, 'IMAGE_QUALITY_OLI': 9, 'WRS_PATH': 163, 'system:time_start': 1421565041520, 'SENSING_TIME': '2015-01-18T07:10:41.5176070Z', 'ESPA_VERSION': '2_23_0_1a', 'SOLAR_ZENITH_ANGLE': 37.712807, 'WRS_ROW': 57, 'GEOMETRIC_RMSE_MODEL_Y': 2.318, 'LEVEL1_PRODUCTION_DATE': 1492128251000, 'GEOMETRIC_RMSE_MODEL_X': 2.593, 'system:asset_size': 577792516, 'PIXEL_QA_VERSION': 'generate_pixel_qa_1.6.0', 'system:index': 'LC08_163057_20150118'}}"
      ]
     },
     "execution_count": 85,
     "metadata": {},
     "output_type": "execute_result"
    }
   ],
   "source": [
    "image_list[1].getInfo()"
   ]
  },
  {
   "cell_type": "code",
   "execution_count": 82,
   "id": "eleven-overhead",
   "metadata": {
    "ExecuteTime": {
     "end_time": "2021-05-25T08:23:03.185970Z",
     "start_time": "2021-05-25T08:23:02.749922Z"
    }
   },
   "outputs": [
    {
     "data": {
      "text/plain": [
       "[[45.44716503097465, 5.3755451844323545], [45.44582305587568, 5.375546175688216], [45.29018894207917, 4.643744502825828], [45.07755294939392, 3.6404531431247347], [45.078210330557376, 3.6397925374663025], [45.15495744298099, 3.623259187745727], [45.83500583845366, 3.4766121844460134], [46.68365818424098, 3.292895408731762], [46.712218803260434, 3.286713149143521], [46.712870209263606, 3.289313027740403], [46.72265212510042, 3.335086179342859], [46.73544502896889, 3.3950177760629705], [46.74197901681664, 3.42566109130409], [46.91219018952545, 4.222557833158487], [46.948282870025196, 4.391184095934385], [47.064802857144244, 4.934872290807373], [47.08288923038374, 5.019269863549368], [47.08416285773281, 5.025551756173728], [45.507445982530584, 5.362737052861654], [45.44716503097465, 5.3755451844323545]]"
      ]
     },
     "execution_count": 82,
     "metadata": {},
     "output_type": "execute_result"
    }
   ],
   "source": [
    "image_list[0].getInfo()[\"properties\"][\"system:footprint\"][\"coordinates\"]"
   ]
  },
  {
   "cell_type": "code",
   "execution_count": 50,
   "id": "quick-webmaster",
   "metadata": {
    "ExecuteTime": {
     "end_time": "2021-05-25T08:08:24.721976Z",
     "start_time": "2021-05-25T08:08:24.708441Z"
    }
   },
   "outputs": [
    {
     "data": {
      "text/html": [
       "<div style=\"width:100%;\"><div style=\"position:relative;width:100%;height:0;padding-bottom:60%;\"><span style=\"color:#565656\">Make this Notebook Trusted to load map: File -> Trust Notebook</span><iframe src=\"about:blank\" style=\"position:absolute;width:100%;height:100%;left:0;top:0;border:none !important;\" data-html=%3C%21DOCTYPE%20html%3E%0A%3Chead%3E%20%20%20%20%0A%20%20%20%20%3Cmeta%20http-equiv%3D%22content-type%22%20content%3D%22text/html%3B%20charset%3DUTF-8%22%20/%3E%0A%20%20%20%20%0A%20%20%20%20%20%20%20%20%3Cscript%3E%0A%20%20%20%20%20%20%20%20%20%20%20%20L_NO_TOUCH%20%3D%20false%3B%0A%20%20%20%20%20%20%20%20%20%20%20%20L_DISABLE_3D%20%3D%20false%3B%0A%20%20%20%20%20%20%20%20%3C/script%3E%0A%20%20%20%20%0A%20%20%20%20%3Cstyle%3Ehtml%2C%20body%20%7Bwidth%3A%20100%25%3Bheight%3A%20100%25%3Bmargin%3A%200%3Bpadding%3A%200%3B%7D%3C/style%3E%0A%20%20%20%20%3Cstyle%3E%23map%20%7Bposition%3Aabsolute%3Btop%3A0%3Bbottom%3A0%3Bright%3A0%3Bleft%3A0%3B%7D%3C/style%3E%0A%20%20%20%20%3Cscript%20src%3D%22https%3A//cdn.jsdelivr.net/npm/leaflet%401.6.0/dist/leaflet.js%22%3E%3C/script%3E%0A%20%20%20%20%3Cscript%20src%3D%22https%3A//code.jquery.com/jquery-1.12.4.min.js%22%3E%3C/script%3E%0A%20%20%20%20%3Cscript%20src%3D%22https%3A//maxcdn.bootstrapcdn.com/bootstrap/3.2.0/js/bootstrap.min.js%22%3E%3C/script%3E%0A%20%20%20%20%3Cscript%20src%3D%22https%3A//cdnjs.cloudflare.com/ajax/libs/Leaflet.awesome-markers/2.0.2/leaflet.awesome-markers.js%22%3E%3C/script%3E%0A%20%20%20%20%3Clink%20rel%3D%22stylesheet%22%20href%3D%22https%3A//cdn.jsdelivr.net/npm/leaflet%401.6.0/dist/leaflet.css%22/%3E%0A%20%20%20%20%3Clink%20rel%3D%22stylesheet%22%20href%3D%22https%3A//maxcdn.bootstrapcdn.com/bootstrap/3.2.0/css/bootstrap.min.css%22/%3E%0A%20%20%20%20%3Clink%20rel%3D%22stylesheet%22%20href%3D%22https%3A//maxcdn.bootstrapcdn.com/bootstrap/3.2.0/css/bootstrap-theme.min.css%22/%3E%0A%20%20%20%20%3Clink%20rel%3D%22stylesheet%22%20href%3D%22https%3A//maxcdn.bootstrapcdn.com/font-awesome/4.6.3/css/font-awesome.min.css%22/%3E%0A%20%20%20%20%3Clink%20rel%3D%22stylesheet%22%20href%3D%22https%3A//cdnjs.cloudflare.com/ajax/libs/Leaflet.awesome-markers/2.0.2/leaflet.awesome-markers.css%22/%3E%0A%20%20%20%20%3Clink%20rel%3D%22stylesheet%22%20href%3D%22https%3A//cdn.jsdelivr.net/gh/python-visualization/folium/folium/templates/leaflet.awesome.rotate.min.css%22/%3E%0A%20%20%20%20%0A%20%20%20%20%20%20%20%20%20%20%20%20%3Cmeta%20name%3D%22viewport%22%20content%3D%22width%3Ddevice-width%2C%0A%20%20%20%20%20%20%20%20%20%20%20%20%20%20%20%20initial-scale%3D1.0%2C%20maximum-scale%3D1.0%2C%20user-scalable%3Dno%22%20/%3E%0A%20%20%20%20%20%20%20%20%20%20%20%20%3Cstyle%3E%0A%20%20%20%20%20%20%20%20%20%20%20%20%20%20%20%20%23map_30b443e89e834db6b2ee84a6e106265d%20%7B%0A%20%20%20%20%20%20%20%20%20%20%20%20%20%20%20%20%20%20%20%20position%3A%20relative%3B%0A%20%20%20%20%20%20%20%20%20%20%20%20%20%20%20%20%20%20%20%20width%3A%20100.0%25%3B%0A%20%20%20%20%20%20%20%20%20%20%20%20%20%20%20%20%20%20%20%20height%3A%20100.0%25%3B%0A%20%20%20%20%20%20%20%20%20%20%20%20%20%20%20%20%20%20%20%20left%3A%200.0%25%3B%0A%20%20%20%20%20%20%20%20%20%20%20%20%20%20%20%20%20%20%20%20top%3A%200.0%25%3B%0A%20%20%20%20%20%20%20%20%20%20%20%20%20%20%20%20%7D%0A%20%20%20%20%20%20%20%20%20%20%20%20%3C/style%3E%0A%20%20%20%20%20%20%20%20%0A%3C/head%3E%0A%3Cbody%3E%20%20%20%20%0A%20%20%20%20%0A%20%20%20%20%20%20%20%20%20%20%20%20%3Cdiv%20class%3D%22folium-map%22%20id%3D%22map_30b443e89e834db6b2ee84a6e106265d%22%20%3E%3C/div%3E%0A%20%20%20%20%20%20%20%20%0A%3C/body%3E%0A%3Cscript%3E%20%20%20%20%0A%20%20%20%20%0A%20%20%20%20%20%20%20%20%20%20%20%20var%20map_30b443e89e834db6b2ee84a6e106265d%20%3D%20L.map%28%0A%20%20%20%20%20%20%20%20%20%20%20%20%20%20%20%20%22map_30b443e89e834db6b2ee84a6e106265d%22%2C%0A%20%20%20%20%20%20%20%20%20%20%20%20%20%20%20%20%7B%0A%20%20%20%20%20%20%20%20%20%20%20%20%20%20%20%20%20%20%20%20center%3A%20%5B45.7833%2C%203.0833%5D%2C%0A%20%20%20%20%20%20%20%20%20%20%20%20%20%20%20%20%20%20%20%20crs%3A%20L.CRS.EPSG3857%2C%0A%20%20%20%20%20%20%20%20%20%20%20%20%20%20%20%20%20%20%20%20zoom%3A%2010%2C%0A%20%20%20%20%20%20%20%20%20%20%20%20%20%20%20%20%20%20%20%20zoomControl%3A%20true%2C%0A%20%20%20%20%20%20%20%20%20%20%20%20%20%20%20%20%20%20%20%20preferCanvas%3A%20false%2C%0A%20%20%20%20%20%20%20%20%20%20%20%20%20%20%20%20%7D%0A%20%20%20%20%20%20%20%20%20%20%20%20%29%3B%0A%0A%20%20%20%20%20%20%20%20%20%20%20%20%0A%0A%20%20%20%20%20%20%20%20%0A%20%20%20%20%0A%20%20%20%20%20%20%20%20%20%20%20%20var%20tile_layer_c5b8f8fedd56437d96cf006bea8287b1%20%3D%20L.tileLayer%28%0A%20%20%20%20%20%20%20%20%20%20%20%20%20%20%20%20%22https%3A//%7Bs%7D.tile.openstreetmap.org/%7Bz%7D/%7Bx%7D/%7By%7D.png%22%2C%0A%20%20%20%20%20%20%20%20%20%20%20%20%20%20%20%20%7B%22attribution%22%3A%20%22Data%20by%20%5Cu0026copy%3B%20%5Cu003ca%20href%3D%5C%22http%3A//openstreetmap.org%5C%22%5Cu003eOpenStreetMap%5Cu003c/a%5Cu003e%2C%20under%20%5Cu003ca%20href%3D%5C%22http%3A//www.openstreetmap.org/copyright%5C%22%5Cu003eODbL%5Cu003c/a%5Cu003e.%22%2C%20%22detectRetina%22%3A%20false%2C%20%22maxNativeZoom%22%3A%2018%2C%20%22maxZoom%22%3A%2018%2C%20%22minZoom%22%3A%200%2C%20%22noWrap%22%3A%20false%2C%20%22opacity%22%3A%201%2C%20%22subdomains%22%3A%20%22abc%22%2C%20%22tms%22%3A%20false%7D%0A%20%20%20%20%20%20%20%20%20%20%20%20%29.addTo%28map_30b443e89e834db6b2ee84a6e106265d%29%3B%0A%20%20%20%20%20%20%20%20%0A%3C/script%3E onload=\"this.contentDocument.open();this.contentDocument.write(    decodeURIComponent(this.getAttribute('data-html')));this.contentDocument.close();\" allowfullscreen webkitallowfullscreen mozallowfullscreen></iframe></div></div>"
      ],
      "text/plain": [
       "<folium.folium.Map at 0x7f5da329bca0>"
      ]
     },
     "execution_count": 50,
     "metadata": {},
     "output_type": "execute_result"
    }
   ],
   "source": [
    "clermont_map = folium.Map(location=[45.7833,3.0833], zoom_start=10)\n",
    "clermont_map"
   ]
  },
  {
   "cell_type": "code",
   "execution_count": 86,
   "id": "developmental-bermuda",
   "metadata": {
    "ExecuteTime": {
     "end_time": "2021-05-25T08:33:13.439478Z",
     "start_time": "2021-05-25T08:33:13.435729Z"
    }
   },
   "outputs": [],
   "source": [
    "img = ee.Image(image_list[0])"
   ]
  },
  {
   "cell_type": "code",
   "execution_count": 105,
   "id": "every-sterling",
   "metadata": {
    "ExecuteTime": {
     "end_time": "2021-05-25T08:40:15.085840Z",
     "start_time": "2021-05-25T08:40:14.552597Z"
    }
   },
   "outputs": [
    {
     "data": {
      "text/plain": [
       "{'type': 'Image', 'bands': [{'id': 'B1', 'data_type': {'type': 'PixelType', 'precision': 'int', 'min': -32768, 'max': 32767}, 'dimensions': [7581, 7731], 'crs': 'EPSG:32638', 'crs_transform': [30, 0, 503985, 0, -30, 595215]}, {'id': 'B2', 'data_type': {'type': 'PixelType', 'precision': 'int', 'min': -32768, 'max': 32767}, 'dimensions': [7581, 7731], 'crs': 'EPSG:32638', 'crs_transform': [30, 0, 503985, 0, -30, 595215]}, {'id': 'B3', 'data_type': {'type': 'PixelType', 'precision': 'int', 'min': -32768, 'max': 32767}, 'dimensions': [7581, 7731], 'crs': 'EPSG:32638', 'crs_transform': [30, 0, 503985, 0, -30, 595215]}, {'id': 'B4', 'data_type': {'type': 'PixelType', 'precision': 'int', 'min': -32768, 'max': 32767}, 'dimensions': [7581, 7731], 'crs': 'EPSG:32638', 'crs_transform': [30, 0, 503985, 0, -30, 595215]}, {'id': 'B5', 'data_type': {'type': 'PixelType', 'precision': 'int', 'min': -32768, 'max': 32767}, 'dimensions': [7581, 7731], 'crs': 'EPSG:32638', 'crs_transform': [30, 0, 503985, 0, -30, 595215]}, {'id': 'B6', 'data_type': {'type': 'PixelType', 'precision': 'int', 'min': -32768, 'max': 32767}, 'dimensions': [7581, 7731], 'crs': 'EPSG:32638', 'crs_transform': [30, 0, 503985, 0, -30, 595215]}, {'id': 'B7', 'data_type': {'type': 'PixelType', 'precision': 'int', 'min': -32768, 'max': 32767}, 'dimensions': [7581, 7731], 'crs': 'EPSG:32638', 'crs_transform': [30, 0, 503985, 0, -30, 595215]}, {'id': 'B10', 'data_type': {'type': 'PixelType', 'precision': 'int', 'min': -32768, 'max': 32767}, 'dimensions': [7581, 7731], 'crs': 'EPSG:32638', 'crs_transform': [30, 0, 503985, 0, -30, 595215]}, {'id': 'B11', 'data_type': {'type': 'PixelType', 'precision': 'int', 'min': -32768, 'max': 32767}, 'dimensions': [7581, 7731], 'crs': 'EPSG:32638', 'crs_transform': [30, 0, 503985, 0, -30, 595215]}, {'id': 'sr_aerosol', 'data_type': {'type': 'PixelType', 'precision': 'int', 'min': 0, 'max': 255}, 'dimensions': [7581, 7731], 'crs': 'EPSG:32638', 'crs_transform': [30, 0, 503985, 0, -30, 595215]}, {'id': 'pixel_qa', 'data_type': {'type': 'PixelType', 'precision': 'int', 'min': 0, 'max': 65535}, 'dimensions': [7581, 7731], 'crs': 'EPSG:32638', 'crs_transform': [30, 0, 503985, 0, -30, 595215]}, {'id': 'radsat_qa', 'data_type': {'type': 'PixelType', 'precision': 'int', 'min': 0, 'max': 65535}, 'dimensions': [7581, 7731], 'crs': 'EPSG:32638', 'crs_transform': [30, 0, 503985, 0, -30, 595215]}], 'id': 'LANDSAT/LC08/C01/T1_SR/LC08_163057_20150102', 'version': 1538944263477664, 'properties': {'IMAGE_QUALITY_TIRS': 9, 'CLOUD_COVER': 0, 'EARTH_SUN_DISTANCE': 0.98329, 'LANDSAT_ID': 'LC08_L1TP_163057_20150102_20170415_01_T1', 'system:footprint': {'type': 'LinearRing', 'coordinates': [[45.44716503097465, 5.3755451844323545], [45.44582305587568, 5.375546175688216], [45.29018894207917, 4.643744502825828], [45.07755294939392, 3.6404531431247347], [45.078210330557376, 3.6397925374663025], [45.15495744298099, 3.623259187745727], [45.83500583845366, 3.4766121844460134], [46.68365818424098, 3.292895408731762], [46.712218803260434, 3.286713149143521], [46.712870209263606, 3.289313027740403], [46.72265212510042, 3.335086179342859], [46.73544502896889, 3.3950177760629705], [46.74197901681664, 3.42566109130409], [46.91219018952545, 4.222557833158487], [46.948282870025196, 4.391184095934385], [47.064802857144244, 4.934872290807373], [47.08288923038374, 5.019269863549368], [47.08416285773281, 5.025551756173728], [45.507445982530584, 5.362737052861654], [45.44716503097465, 5.3755451844323545]]}, 'CLOUD_COVER_LAND': 0, 'GEOMETRIC_RMSE_MODEL': 3.223, 'SR_APP_VERSION': 'LaSRC_1.3.0', 'SATELLITE': 'LANDSAT_8', 'SOLAR_AZIMUTH_ANGLE': 136.931534, 'IMAGE_QUALITY_OLI': 9, 'WRS_PATH': 163, 'system:time_start': 1420182643160, 'SENSING_TIME': '2015-01-02T07:10:43.1570050Z', 'ESPA_VERSION': '2_23_0_1a', 'SOLAR_ZENITH_ANGLE': 38.074738, 'WRS_ROW': 57, 'GEOMETRIC_RMSE_MODEL_Y': 2.45, 'LEVEL1_PRODUCTION_DATE': 1492280085000, 'GEOMETRIC_RMSE_MODEL_X': 2.093, 'system:asset_size': 575136493, 'PIXEL_QA_VERSION': 'generate_pixel_qa_1.6.0', 'system:index': 'LC08_163057_20150102'}}"
      ]
     },
     "execution_count": 105,
     "metadata": {},
     "output_type": "execute_result"
    }
   ],
   "source": [
    "img.getInfo()"
   ]
  },
  {
   "cell_type": "code",
   "execution_count": 88,
   "id": "express-compiler",
   "metadata": {
    "ExecuteTime": {
     "end_time": "2021-05-25T08:33:31.643744Z",
     "start_time": "2021-05-25T08:33:31.640031Z"
    }
   },
   "outputs": [],
   "source": [
    "from IPython.display import Image"
   ]
  },
  {
   "cell_type": "code",
   "execution_count": 114,
   "id": "headed-iceland",
   "metadata": {
    "ExecuteTime": {
     "end_time": "2021-05-25T08:59:19.878881Z",
     "start_time": "2021-05-25T08:59:19.874275Z"
    }
   },
   "outputs": [],
   "source": [
    "parameters = {'min': 0,\n",
    "              'max': 1000,\n",
    "              'dimensions': 512,\n",
    "              'bands': ['B5', 'B4', 'B2'],\n",
    "              'region': img.geometry()}"
   ]
  },
  {
   "cell_type": "code",
   "execution_count": 115,
   "id": "compact-sudan",
   "metadata": {
    "ExecuteTime": {
     "end_time": "2021-05-25T08:59:20.862488Z",
     "start_time": "2021-05-25T08:59:20.431842Z"
    }
   },
   "outputs": [
    {
     "data": {
      "text/html": [
       "<img src=\"https://earthengine.googleapis.com/v1alpha/projects/earthengine-legacy/thumbnails/b109839f28c5ac2e9faf469bc3ba5e68-c77da3175f9e6532a7453eeb02f62db2:getPixels\"/>"
      ],
      "text/plain": [
       "<IPython.core.display.Image object>"
      ]
     },
     "execution_count": 115,
     "metadata": {},
     "output_type": "execute_result"
    }
   ],
   "source": [
    "Image(url = img.getThumbURL(parameters))"
   ]
  },
  {
   "cell_type": "code",
   "execution_count": null,
   "id": "established-converter",
   "metadata": {},
   "outputs": [],
   "source": []
  }
 ],
 "metadata": {
  "kernelspec": {
   "display_name": "Python 3",
   "language": "python",
   "name": "python3"
  },
  "language_info": {
   "codemirror_mode": {
    "name": "ipython",
    "version": 3
   },
   "file_extension": ".py",
   "mimetype": "text/x-python",
   "name": "python",
   "nbconvert_exporter": "python",
   "pygments_lexer": "ipython3",
   "version": "3.8.5"
  },
  "toc": {
   "base_numbering": 1,
   "nav_menu": {},
   "number_sections": true,
   "sideBar": true,
   "skip_h1_title": false,
   "title_cell": "Table of Contents",
   "title_sidebar": "Contents",
   "toc_cell": false,
   "toc_position": {},
   "toc_section_display": true,
   "toc_window_display": false
  }
 },
 "nbformat": 4,
 "nbformat_minor": 5
}
