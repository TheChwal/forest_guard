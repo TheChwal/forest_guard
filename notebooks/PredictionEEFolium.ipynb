{
 "cells": [
  {
   "cell_type": "markdown",
   "id": "69f4e0c9",
   "metadata": {
    "id": "69f4e0c9"
   },
   "source": [
    "### Authentification & initial params"
   ]
  },
  {
   "cell_type": "code",
   "execution_count": null,
   "id": "2dd6c127",
   "metadata": {
    "id": "2dd6c127"
   },
   "outputs": [],
   "source": [
    "# TO BE DONE IN GOOGLE COLAB\n",
    "\n",
    "# !git clone https://github.com/TheChwal/forest_guard.git\n",
    "\n",
    "# %cd forest_guard/\n",
    "\n",
    "# !pip install ."
   ]
  },
  {
   "cell_type": "code",
   "execution_count": null,
   "id": "FQy5ppBNyBqq",
   "metadata": {
    "colab": {
     "base_uri": "https://localhost:8080/"
    },
    "id": "FQy5ppBNyBqq",
    "outputId": "0c393710-d738-4bbf-93bc-7c7cf182bd6c"
   },
   "outputs": [],
   "source": [
    "!git clone https://github.com/TheChwal/forest_guard.git"
   ]
  },
  {
   "cell_type": "code",
   "execution_count": null,
   "id": "s314HeUbyNBg",
   "metadata": {
    "colab": {
     "base_uri": "https://localhost:8080/"
    },
    "id": "s314HeUbyNBg",
    "outputId": "ce26bb45-0a18-4a69-c3f7-b477a7dba1f4"
   },
   "outputs": [],
   "source": [
    "%cd forest_guard/"
   ]
  },
  {
   "cell_type": "code",
   "execution_count": null,
   "id": "iG3BDrK0yRCA",
   "metadata": {
    "colab": {
     "base_uri": "https://localhost:8080/"
    },
    "id": "iG3BDrK0yRCA",
    "outputId": "c65f5fcb-7cc7-4dc8-f546-0a0e73009554"
   },
   "outputs": [],
   "source": [
    "!pip install ."
   ]
  },
  {
   "cell_type": "code",
   "execution_count": null,
   "id": "2d8bd76e",
   "metadata": {
    "ExecuteTime": {
     "end_time": "2021-05-31T08:29:46.623953Z",
     "start_time": "2021-05-31T08:29:44.816884Z"
    },
    "id": "2d8bd76e"
   },
   "outputs": [],
   "source": [
    "import ee \n",
    "import folium\n",
    "from datetime import datetime as dt\n",
    "from IPython.display import Image\n",
    "import tensorflow as tf\n",
    "import matplotlib.pyplot as plt\n",
    "import os\n",
    "from google.cloud import storage\n",
    "import time\n",
    "import numpy as np\n",
    "from tensorflow.python.keras import layers\n",
    "from tensorflow.python.keras import losses\n",
    "from tensorflow.python.keras import models\n",
    "from tensorflow.python.keras import metrics\n",
    "from tensorflow.python.keras import optimizers"
   ]
  },
  {
   "cell_type": "code",
   "execution_count": null,
   "id": "0572b0d6",
   "metadata": {
    "id": "0572b0d6"
   },
   "outputs": [],
   "source": [
    "#TO BE DONE IN GOOGLE COLAB\n",
    "\n",
    "from google.colab import auth"
   ]
  },
  {
   "cell_type": "code",
   "execution_count": null,
   "id": "ulC2ce8iz0WR",
   "metadata": {
    "id": "ulC2ce8iz0WR"
   },
   "outputs": [],
   "source": [
    "auth.authenticate_user()"
   ]
  },
  {
   "cell_type": "code",
   "execution_count": null,
   "id": "7f5343e9",
   "metadata": {
    "ExecuteTime": {
     "end_time": "2021-05-31T08:31:14.408172Z",
     "start_time": "2021-05-31T08:30:42.946389Z"
    },
    "colab": {
     "base_uri": "https://localhost:8080/"
    },
    "id": "7f5343e9",
    "outputId": "547e226a-fe1b-43db-e9d5-51dfd2e29196"
   },
   "outputs": [],
   "source": [
    "ee.Authenticate()\n",
    "ee.Initialize()"
   ]
  },
  {
   "cell_type": "code",
   "execution_count": null,
   "id": "9dde7c36",
   "metadata": {
    "ExecuteTime": {
     "end_time": "2021-05-31T08:31:53.367576Z",
     "start_time": "2021-05-31T08:31:53.361889Z"
    },
    "id": "9dde7c36"
   },
   "outputs": [],
   "source": [
    "import os\n",
    "from google.cloud import storage\n",
    "\n",
    "BUCKET = 'forest_guard_bucket'  # ⚠️ replace with your BUCKET NAME\n",
    "FOLDER = 'JP_prediction'\n",
    "TRAINING_BASE = 'training_patches'\n",
    "EVAL_BASE = 'eval_patches'\n",
    "\n",
    "OPTICAL_BANDS = ['B1', 'B2', 'B3', 'B4', 'B5', 'B6', 'B7']\n",
    "THERMAL_BANDS = ['B10', 'B11']\n",
    "BANDS = OPTICAL_BANDS + THERMAL_BANDS\n",
    "RESPONSE = 'fnf'\n",
    "FEATURES = BANDS + [RESPONSE]\n",
    "\n",
    "# Specify the size and shape of patches expected by the model.\n",
    "KERNEL_SIZE = 256\n",
    "KERNEL_SHAPE = [KERNEL_SIZE, KERNEL_SIZE]\n",
    "\n",
    "COLUMNS = [\n",
    "  tf.io.FixedLenFeature(shape=KERNEL_SHAPE, dtype=tf.float32) for k in FEATURES\n",
    "]\n",
    "FEATURES_DICT = dict(zip(FEATURES, COLUMNS))\n",
    "\n",
    "# Specify model training parameters.\n",
    "#BATCH_SIZE = 16\n",
    "# EPOCHS = 10\n",
    "#BUFFER_SIZE = 2000\n",
    "# OPTIMIZER = 'SGD'\n",
    "# LOSS = 'MeanSquaredError'\n",
    "# METRICS = ['RootMeanSquaredError']"
   ]
  },
  {
   "cell_type": "code",
   "execution_count": null,
   "id": "af1a8580",
   "metadata": {
    "ExecuteTime": {
     "end_time": "2021-05-31T08:32:06.335585Z",
     "start_time": "2021-05-31T08:32:06.325753Z"
    },
    "id": "af1a8580"
   },
   "outputs": [],
   "source": [
    "from forest_guard.datas import get_image_landsat\n",
    "\n",
    "image_2018 = get_image_landsat('2018-01-01', '2018-12-31')\n",
    "image_2019 = get_image_landsat('2019-01-01', '2019-12-31')\n",
    "image_2020 = get_image_landsat('2020-01-01', '2020-12-31')"
   ]
  },
  {
   "cell_type": "code",
   "execution_count": null,
   "id": "fdb92057",
   "metadata": {
    "ExecuteTime": {
     "end_time": "2021-05-31T08:32:11.266480Z",
     "start_time": "2021-05-31T08:32:11.262666Z"
    },
    "id": "fdb92057"
   },
   "outputs": [],
   "source": [
    "from forest_guard.datas import get_jaxa\n",
    "\n",
    "jaxa = get_jaxa('2017-01-01', '2017-12-31')"
   ]
  },
  {
   "cell_type": "code",
   "execution_count": null,
   "id": "24c109ba",
   "metadata": {
    "ExecuteTime": {
     "end_time": "2021-05-31T08:32:52.651224Z",
     "start_time": "2021-05-31T08:32:52.646739Z"
    },
    "id": "24c109ba"
   },
   "outputs": [],
   "source": [
    "from forest_guard.datas import get_stacked_arrays\n",
    "\n",
    "arrays_2018 = get_stacked_arrays(image_2019, jaxa, BANDS, RESPONSE, KERNEL_SIZE)\n",
    "arrays_2019 = get_stacked_arrays(image_2019, jaxa, BANDS, RESPONSE, KERNEL_SIZE)\n",
    "arrays_2020 = get_stacked_arrays(image_2020, jaxa, BANDS, RESPONSE, KERNEL_SIZE)"
   ]
  },
  {
   "cell_type": "markdown",
   "id": "2b52f525",
   "metadata": {
    "id": "2b52f525"
   },
   "source": [
    "### Download predict image"
   ]
  },
  {
   "cell_type": "code",
   "execution_count": null,
   "id": "67ff1424",
   "metadata": {
    "ExecuteTime": {
     "end_time": "2021-05-31T08:41:20.942919Z",
     "start_time": "2021-05-31T08:41:20.938213Z"
    },
    "id": "67ff1424"
   },
   "outputs": [],
   "source": [
    "#Predict parameters\n",
    "\n",
    "user_folder = 'users/bastidearthur' # replace 'username' by your GEE username (https://code.earthengine.google.com/ => Assets)\n",
    "predict_image = 'france_mont_de_marsan_2018' #precise zone + model params\n",
    "predict_kernel_buffer = [256, 256]\n",
    "predict_region = ee.Geometry.Rectangle([7.225043704039957,48.82141561662563,7.598578860289957,49.00913356480467])\n",
    "        # [[[-0.6447696609345477,43.92265687302346],\n",
    "        #   [-0.6447696609345477,43.82167805045728],\n",
    "        #   [-0.4195499343720477,43.82167805045728],\n",
    "        #   [-0.4195499343720477,43.92265687302346]]], None, False)\n"
   ]
  },
  {
   "cell_type": "code",
   "execution_count": null,
   "id": "yuCP7RFm-Cjj",
   "metadata": {
    "id": "yuCP7RFm-Cjj"
   },
   "outputs": [],
   "source": [
    "def get_image(predict_image, predict_kernel_buffer, predict_region):\n",
    "  \"\"\"Run the image export task.  Block until complete.\n",
    "  \"\"\"\n",
    "  task = ee.batch.Export.image.toCloudStorage(\n",
    "    image = image_2018.select(BANDS),\n",
    "    description = predict_image,\n",
    "    bucket = BUCKET,\n",
    "    fileNamePrefix = FOLDER + '/' + predict_image,\n",
    "    region = predict_region.getInfo()['coordinates'],\n",
    "    scale = 30,\n",
    "    fileFormat = 'TFRecord',\n",
    "    maxPixels = 1e10,\n",
    "    formatOptions = {\n",
    "      'patchDimensions': KERNEL_SHAPE,\n",
    "      'kernelSize': predict_kernel_buffer,\n",
    "      'compressed': True,\n",
    "      'maxFileSize': 104857600\n",
    "    }\n",
    "  )\n",
    "  task.start()\n",
    "\n",
    "  # Block until the task completes.\n",
    "  print('Running image export to Cloud Storage...')\n",
    "  import time\n",
    "  while task.active():\n",
    "    time.sleep(30)\n",
    "\n",
    "  # Error condition\n",
    "  if task.status()['state'] != 'COMPLETED':\n",
    "    print('Error with image export.')\n",
    "  else:\n",
    "    print('Image export completed.')"
   ]
  },
  {
   "cell_type": "code",
   "execution_count": null,
   "id": "062bb5af",
   "metadata": {
    "colab": {
     "base_uri": "https://localhost:8080/"
    },
    "id": "062bb5af",
    "outputId": "1534c585-b888-45e7-f8e8-5307f7fa5bb3"
   },
   "outputs": [],
   "source": [
    "# Run the download\n",
    "get_image(predict_image, predict_kernel_buffer, predict_region)"
   ]
  },
  {
   "cell_type": "markdown",
   "id": "73e210a4",
   "metadata": {
    "id": "73e210a4"
   },
   "source": [
    "### Predict target "
   ]
  },
  {
   "cell_type": "code",
   "execution_count": null,
   "id": "a9d59d6f",
   "metadata": {
    "ExecuteTime": {
     "start_time": "2021-05-31T07:29:58.408Z"
    },
    "id": "a9d59d6f"
   },
   "outputs": [],
   "source": [
    "# Select the model from Cloud Storage to use for prediction\n",
    "MODEL_SAVE = 'gs://' + 'forest_guard_bucket' + '/' + 'models/forest_guard/JP_test_model_adam_binarycrossentropy'  \n",
    "model_adam_crossentropy = tf.keras.models.load_model(MODEL_SAVE)"
   ]
  },
  {
   "cell_type": "code",
   "execution_count": null,
   "id": "MSQM0BmG7ryU",
   "metadata": {
    "id": "MSQM0BmG7ryU"
   },
   "outputs": [],
   "source": [
    "def iou(y_true, y_pred):\n",
    "    '''\n",
    "    dice_loss\n",
    "    '''\n",
    "    y_true = tf.cast(y_true, tf.float32)\n",
    "    y_pred = tf.cast(y_pred, tf.float32)\n",
    "    # y_pred = tf.math.sigmoid(y_pred)\n",
    "    numerator = tf.reduce_sum(y_true * y_pred)\n",
    "    denominator = tf.reduce_sum(y_true + y_pred)-numerator\n",
    "    iou1 = numerator / denominator\n",
    "    \n",
    "    y_true_op = 1-y_true\n",
    "    y_pred_op = 1-y_pred\n",
    "    numerator = tf.reduce_sum(y_true_op * y_pred_op)\n",
    "    denominator = tf.reduce_sum(y_true_op + y_pred_op)-numerator\n",
    "    iou2 = numerator / denominator\n",
    "    \n",
    "    return tf.cast(0.5* (iou1 + iou2), tf.float32)\n",
    "\n",
    "def tversky_loss(beta):\n",
    "  '''\n",
    "  tversky loss is like dice loss with more weight on FP or FN\n",
    "  beta = 0.5, similar to Dice\n",
    "  beta <0.5 more weight on FN\n",
    "  '''\n",
    "\n",
    "  def loss(y_true, y_pred):\n",
    "    y_true = tf.cast(y_true, tf.float32)\n",
    "    #y_pred = tf.math.sigmoid(y_pred)\n",
    "    numerator = y_true * y_pred\n",
    "    denominator = y_true * y_pred + beta * (1 - y_true) * y_pred + (1 - beta) * y_true * (1 - y_pred)\n",
    "\n",
    "    return 1 - tf.reduce_sum(numerator) / tf.reduce_sum(denominator)\n",
    "\n",
    "  return loss"
   ]
  },
  {
   "cell_type": "code",
   "execution_count": null,
   "id": "46_5DVgVM9PV",
   "metadata": {
    "colab": {
     "base_uri": "https://localhost:8080/"
    },
    "id": "46_5DVgVM9PV",
    "outputId": "82b766e9-2384-4f7c-87bb-f18c39a786f4"
   },
   "outputs": [],
   "source": [
    "MODEL_SAVE_TVER = 'gs://' + 'forest_guard_bucket' + '/' + 'models/forest_guard/ai_platform_tversky_ownmodel_patience7'#ai_platform_tversky_ownmodel_test_metric_float'  \n",
    "model_tversky = tf.keras.models.load_model(MODEL_SAVE_TVER, custom_objects={'iou':iou, 'loss':tversky_loss(0.5)})\n"
   ]
  },
  {
   "cell_type": "code",
   "execution_count": null,
   "id": "kmFybUUiqr8I",
   "metadata": {
    "id": "kmFybUUiqr8I"
   },
   "outputs": [],
   "source": [
    "INITIAL_MODEL = 'gs://' + 'forest_guard_bucket' + '/' + 'models/forest_guard/ai_platform_ee_output_format_tf'#'gs://ee-docs-demos/fcnn-demo/trainer/model'\n",
    "initial_model = tf.keras.models.load_model(INITIAL_MODEL)"
   ]
  },
  {
   "cell_type": "code",
   "execution_count": null,
   "id": "3ad93c16",
   "metadata": {
    "colab": {
     "base_uri": "https://localhost:8080/",
     "height": 132
    },
    "id": "3ad93c16",
    "outputId": "ca006a5b-67ce-4acb-cba2-f5089418d05f"
   },
   "outputs": [],
   "source": [
    "# does not work yet\n",
    "\n",
    "from forest_guard.predict import predict_image_target"
   ]
  },
  {
   "cell_type": "code",
   "execution_count": null,
   "id": "HYO7Z5zy9S8Z",
   "metadata": {
    "id": "HYO7Z5zy9S8Z"
   },
   "outputs": [],
   "source": [
    "def predict_image_target(predict_image, user_folder, predict_kernel_buffer, predict_region):\n",
    "  \"\"\"Perform inference on exported imagery, upload to Earth Engine.\n",
    "  \"\"\"\n",
    "\n",
    "  print('Looking for TFRecord files...')\n",
    "\n",
    "  # Get a list of all the files in the output bucket.\n",
    "  filesList = !gsutil ls 'gs://'{BUCKET}'/'{FOLDER}\n",
    "\n",
    "  # Get only the files generated by the image export.\n",
    "  exportFilesList = [s for s in filesList if predict_image in s]\n",
    "\n",
    "  # Get the list of image files and the JSON mixer file.\n",
    "  imageFilesList = []\n",
    "  jsonFile = None\n",
    "  for f in exportFilesList:\n",
    "    if f.endswith('.tfrecord.gz'):\n",
    "      imageFilesList.append(f)\n",
    "    elif f.endswith('.json'):\n",
    "      jsonFile = f\n",
    "\n",
    "  # Make sure the files are in the right order.\n",
    "  imageFilesList.sort()\n",
    "\n",
    "  from pprint import pprint\n",
    "  pprint(imageFilesList)\n",
    "  print(jsonFile)\n",
    "\n",
    "  import json\n",
    "  # Load the contents of the mixer file to a JSON object.\n",
    "  jsonText = !gsutil cat {jsonFile}\n",
    "  # Get a single string w/ newlines from the IPython.utils.text.SList\n",
    "  mixer = json.loads(jsonText.nlstr)\n",
    "  pprint(mixer)\n",
    "  patches = mixer['totalPatches']\n",
    "\n",
    "  # Get set up for prediction.\n",
    "  x_buffer = int(predict_kernel_buffer[0] / 2)\n",
    "  y_buffer = int(predict_kernel_buffer[1] / 2)\n",
    "\n",
    "  buffered_shape = [\n",
    "      KERNEL_SHAPE[0] + predict_kernel_buffer[0],\n",
    "      KERNEL_SHAPE[1] + predict_kernel_buffer[1]]\n",
    "\n",
    "  imageColumns = [\n",
    "    tf.io.FixedLenFeature(shape=buffered_shape, dtype=tf.float32) \n",
    "      for k in BANDS\n",
    "  ]\n",
    "\n",
    "  imageFeaturesDict = dict(zip(BANDS, imageColumns))\n",
    "\n",
    "  def parse_image(example_proto):\n",
    "    return tf.io.parse_single_example(example_proto, imageFeaturesDict)\n",
    "\n",
    "  def toTupleImage(inputs):\n",
    "    inputsList = [inputs.get(key) for key in BANDS]\n",
    "    stacked = tf.stack(inputsList, axis=0)\n",
    "    stacked = tf.transpose(stacked, [1, 2, 0])\n",
    "    return stacked\n",
    "\n",
    "   # Create a dataset from the TFRecord file(s) in Cloud Storage.\n",
    "  imageDataset = tf.data.TFRecordDataset(imageFilesList, compression_type='GZIP')\n",
    "  imageDataset = imageDataset.map(parse_image, num_parallel_calls=5)\n",
    "  imageDataset = imageDataset.map(toTupleImage).batch(1)\n",
    "\n",
    "  # Perform inference.\n",
    "  print('Running predictions...')\n",
    "  predictions = initial_model.predict(imageDataset, steps=patches, verbose=1)\n",
    "  # print(predictions[0])\n",
    "\n",
    "  featured_predictions = np.where(predictions>0.5,1,predictions)\n",
    "  featured_predictions = np.where(featured_predictions<0.5,0,featured_predictions)\n",
    "\n",
    "  print('Writing predictions...')\n",
    "  predict_image_file = 'gs://' + BUCKET + '/' + FOLDER + '/' + predict_image + '.TFRecord'\n",
    "  writer = tf.io.TFRecordWriter(predict_image_file)\n",
    "  patches = 0\n",
    "  for predictionPatch in featured_predictions:\n",
    "    print('Writing patch ' + str(patches) + '...')\n",
    "    predictionPatch = predictionPatch[\n",
    "        x_buffer:x_buffer+KERNEL_SIZE, y_buffer:y_buffer+KERNEL_SIZE]\n",
    "\n",
    "    # Create an example.\n",
    "    example = tf.train.Example(\n",
    "      features=tf.train.Features(\n",
    "        feature={\n",
    "          'fnf': tf.train.Feature(\n",
    "              float_list=tf.train.FloatList(\n",
    "                  value=predictionPatch.flatten()))\n",
    "        }\n",
    "      )\n",
    "    )\n",
    "    # Write the example.\n",
    "    writer.write(example.SerializeToString())\n",
    "    patches += 1\n",
    "\n",
    "  writer.close()\n",
    "\n",
    "  # Start the upload.\n",
    "  predict_image_asset = user_folder + '/' + predict_image + 'initial_model'\n",
    "  !earthengine upload image --asset_id={predict_image_asset} {predict_image_file} {jsonFile}"
   ]
  },
  {
   "cell_type": "code",
   "execution_count": null,
   "id": "84a7aa1a",
   "metadata": {
    "ExecuteTime": {
     "end_time": "2021-05-30T22:00:22.732011Z",
     "start_time": "2021-05-30T21:59:09.775733Z"
    },
    "colab": {
     "base_uri": "https://localhost:8080/"
    },
    "id": "84a7aa1a",
    "outputId": "e308347b-cb82-40d8-a463-d9b6847d4e35"
   },
   "outputs": [],
   "source": [
    "# Run the prediction.\n",
    "predict_image_target(predict_image, user_folder, predict_kernel_buffer, predict_region)"
   ]
  },
  {
   "cell_type": "markdown",
   "id": "3ee61394",
   "metadata": {
    "id": "3ee61394"
   },
   "source": [
    "### Display prediction on map"
   ]
  },
  {
   "cell_type": "code",
   "execution_count": null,
   "id": "fef7479f",
   "metadata": {
    "ExecuteTime": {
     "end_time": "2021-05-31T07:25:53.790220Z",
     "start_time": "2021-05-31T07:25:53.787010Z"
    },
    "id": "fef7479f"
   },
   "outputs": [],
   "source": [
    "palette = ['006400',\n",
    "           'FEFF99']\n",
    "\n",
    "palette_1 = ['FEFF99',\n",
    "             '006400']         "
   ]
  },
  {
   "cell_type": "code",
   "execution_count": null,
   "id": "03290bc2",
   "metadata": {
    "ExecuteTime": {
     "end_time": "2021-05-31T07:26:11.354184Z",
     "start_time": "2021-05-31T07:26:10.668087Z"
    },
    "colab": {
     "base_uri": "https://localhost:8080/",
     "height": 787
    },
    "id": "03290bc2",
    "outputId": "d93dee0a-3620-4a14-8ccb-a92cc72f431e"
   },
   "outputs": [],
   "source": [
    "# Display predicted target on a map\n",
    "\n",
    "prediction_adam_crossentropy = ee.Image(user_folder + '/' + 'france_mont_de_marsan_2018model_adam_crossentropy')\n",
    "\n",
    "prediction_initial_model = ee.Image(user_folder + '/' + 'france_mont_de_marsan_2018initial_model')\n",
    "\n",
    "mapid_1 = prediction_adam_crossentropy.getMapId({'bands': ['fnf'],\n",
    "                       'min': 0, \n",
    "                       'max': 1, \n",
    "                      'palette':palette_1\n",
    "                      })\n",
    "\n",
    "mapid_2 = prediction_initial_model.getMapId({'bands': ['fnf'],\n",
    "                       'min': 0, \n",
    "                       'max': 1, \n",
    "                      'palette':palette_1\n",
    "                      })\n",
    "\n",
    "mapid_3 = jaxa.getMapId({'bands': ['fnf'],\n",
    "                       'min': 1, \n",
    "                       'max': 2, \n",
    "                      'palette':palette\n",
    "                      })\n",
    "\n",
    "map = folium.Map(location=[45.5, 2.8], zoom_start=9)\n",
    "\n",
    "folium.TileLayer(\n",
    "    tiles=mapid_1['tile_fetcher'].url_format,\n",
    "    attr='Map Data &copy; <a href=\"https://earthengine.google.com/\">Google Earth Engine</a>',\n",
    "    overlay=True,\n",
    "    name='prediction adam crossentropy',\n",
    "    color=palette,\n",
    "    opacity = 0.4\n",
    "  ).add_to(map)\n",
    "\n",
    "folium.TileLayer(\n",
    "    tiles=mapid_2['tile_fetcher'].url_format,\n",
    "    attr='Map Data &copy; <a href=\"https://earthengine.google.com/\">Google Earth Engine</a>',\n",
    "    overlay=False,\n",
    "    name='prediction initial model',\n",
    "    color=palette,\n",
    "    opacity = 1\n",
    "  ).add_to(map)\n",
    "\n",
    "folium.TileLayer(\n",
    "    tiles=mapid_3['tile_fetcher'].url_format,\n",
    "    attr='Map Data &copy; <a href=\"https://earthengine.google.com/\">Google Earth Engine</a>',\n",
    "    overlay=False,\n",
    "    name='jaxa fnf',\n",
    "    color=palette,\n",
    "    opacity = 1\n",
    "  ).add_to(map)\n",
    "\n",
    "map.add_child(folium.LayerControl())\n",
    "map"
   ]
  },
  {
   "cell_type": "code",
   "execution_count": null,
   "id": "4f529eec",
   "metadata": {
    "ExecuteTime": {
     "end_time": "2021-05-31T07:26:16.775503Z",
     "start_time": "2021-05-31T07:26:16.483181Z"
    },
    "colab": {
     "base_uri": "https://localhost:8080/",
     "height": 787
    },
    "id": "4f529eec",
    "outputId": "5d629f4e-ded1-4cf6-f263-376f5e0058e8"
   },
   "outputs": [],
   "source": [
    "# Display y_true to compare\n",
    "\n",
    "mapid = jaxa.getMapId({'bands': ['fnf'],\n",
    "                       'min': 2, \n",
    "                       'max': 0, \n",
    "                      'palette':palette\n",
    "                      })\n",
    "map = folium.Map(location=[45.5, 2.8], zoom_start=10)\n",
    "\n",
    "\n",
    "folium.TileLayer(\n",
    "    tiles=mapid['tile_fetcher'].url_format,\n",
    "    attr='Map Data &copy; <a href=\"https://earthengine.google.com/\">Google Earth Engine</a>',\n",
    "    overlay=True,\n",
    "    name='jaxa fnf',\n",
    "    color=palette,\n",
    "    opacity = 1\n",
    "  ).add_to(map)\n",
    "map.add_child(folium.LayerControl())\n",
    "map"
   ]
  },
  {
   "cell_type": "markdown",
   "id": "6b248755",
   "metadata": {
    "id": "6b248755"
   },
   "source": [
    "### Compare y_true vs. y_pred on specific images"
   ]
  },
  {
   "cell_type": "code",
   "execution_count": null,
   "id": "49eef7c3",
   "metadata": {
    "ExecuteTime": {
     "end_time": "2021-05-31T09:13:06.962318Z",
     "start_time": "2021-05-31T09:13:06.958394Z"
    },
    "id": "49eef7c3"
   },
   "outputs": [],
   "source": [
    "rect_train = []\n",
    "rect_train.append(predict_region)\n",
    "trainingPolys = ee.FeatureCollection(rect_train)\n",
    "\n",
    "rect_eval=[]\n",
    "evalPolys= ee.FeatureCollection(rect_eval)"
   ]
  },
  {
   "cell_type": "code",
   "execution_count": null,
   "id": "89cc2633",
   "metadata": {
    "ExecuteTime": {
     "end_time": "2021-05-31T09:20:47.227999Z",
     "start_time": "2021-05-31T09:13:36.941029Z"
    },
    "colab": {
     "base_uri": "https://localhost:8080/"
    },
    "id": "89cc2633",
    "outputId": "3f094588-85d3-412c-9ec6-89aabfbf6516"
   },
   "outputs": [],
   "source": [
    "########DO NOT RUN\n",
    "from forest_guard.datas import export_to_cloud_sampling_train_eval\n",
    "\n",
    "\n",
    "export_to_cloud_sampling_train_eval(trainingPolys, evalPolys, arrays_2018, 10, 100, FOLDER)"
   ]
  },
  {
   "cell_type": "code",
   "execution_count": null,
   "id": "53f0e01e",
   "metadata": {
    "ExecuteTime": {
     "start_time": "2021-05-31T09:27:25.134Z"
    },
    "id": "53f0e01e"
   },
   "outputs": [],
   "source": [
    "from forest_guard.parse import get_training_dataset\n",
    "\n",
    "image_data = get_training_dataset(FOLDER)"
   ]
  },
  {
   "cell_type": "code",
   "execution_count": null,
   "id": "4254630c",
   "metadata": {
    "colab": {
     "base_uri": "https://localhost:8080/"
    },
    "id": "4254630c",
    "outputId": "8f9290bd-91bc-4cbd-b6a3-32f086721475"
   },
   "outputs": [],
   "source": [
    "images , labels = iter(image_data.take(1)).next()\n",
    "images.shape, labels.shape"
   ]
  },
  {
   "cell_type": "code",
   "execution_count": null,
   "id": "Lc_loVXW1-me",
   "metadata": {
    "colab": {
     "base_uri": "https://localhost:8080/"
    },
    "id": "Lc_loVXW1-me",
    "outputId": "e6609a0d-0d02-41a9-8ca2-b2476f98770c"
   },
   "outputs": [],
   "source": [
    "predictions_adam_crossentropy = model_adam_crossentropy.predict(images, verbose=1)"
   ]
  },
  {
   "cell_type": "code",
   "execution_count": null,
   "id": "K5E6rQuX3Efl",
   "metadata": {
    "id": "K5E6rQuX3Efl"
   },
   "outputs": [],
   "source": [
    "featured_predictions_adam_crossentropy = np.where(predictions_adam_crossentropy>0.5,1,predictions_adam_crossentropy)\n",
    "featured_predictions_adam_crossentropy = np.where(featured_predictions_adam_crossentropy<0.5,0,featured_predictions_adam_crossentropy)"
   ]
  },
  {
   "cell_type": "code",
   "execution_count": null,
   "id": "wz0BR7wM5JdY",
   "metadata": {
    "colab": {
     "base_uri": "https://localhost:8080/"
    },
    "id": "wz0BR7wM5JdY",
    "outputId": "c32d98de-4bfb-496e-a66f-ba4e39fc9bc5"
   },
   "outputs": [],
   "source": [
    "predictions_initial_model = initial_model.predict(images, verbose=1)"
   ]
  },
  {
   "cell_type": "code",
   "execution_count": null,
   "id": "2bP1c-s35jsy",
   "metadata": {
    "id": "2bP1c-s35jsy"
   },
   "outputs": [],
   "source": [
    "featured_predictions_initial_model = np.where(predictions_initial_model>0.5,1,predictions_initial_model)\n",
    "featured_predictions_initial_model = np.where(featured_predictions_initial_model<0.5,0,featured_predictions_initial_model)"
   ]
  },
  {
   "cell_type": "code",
   "execution_count": null,
   "id": "ghx2b76En85E",
   "metadata": {
    "colab": {
     "base_uri": "https://localhost:8080/"
    },
    "id": "ghx2b76En85E",
    "outputId": "4af2a92f-a294-425d-a780-5233ef1af91d"
   },
   "outputs": [],
   "source": [
    "predictions_tversky = model_tversky.predict(images, verbose=1)"
   ]
  },
  {
   "cell_type": "code",
   "execution_count": null,
   "id": "8HKph_EvEIzB",
   "metadata": {
    "id": "8HKph_EvEIzB"
   },
   "outputs": [],
   "source": [
    "featured_predictions_tversky_model = np.where(predictions_tversky>0.5,1,predictions_tversky)\n",
    "featured_predictions_tversky_model = np.where(featured_predictions_tversky_model<0.5,0,featured_predictions_tversky_model)"
   ]
  },
  {
   "cell_type": "code",
   "execution_count": null,
   "id": "NyYlBY0g3OXw",
   "metadata": {
    "id": "NyYlBY0g3OXw"
   },
   "outputs": [],
   "source": [
    "# stacked_images = np.stack(list(images))"
   ]
  },
  {
   "cell_type": "code",
   "execution_count": null,
   "id": "CpPwlBX0WDwt",
   "metadata": {
    "id": "CpPwlBX0WDwt"
   },
   "outputs": [],
   "source": [
    "from tensorflow.keras.metrics import MeanIoU\n",
    "miou = MeanIoU(num_classes=2)"
   ]
  },
  {
   "cell_type": "code",
   "execution_count": null,
   "id": "kdQEkHqI7CCX",
   "metadata": {
    "colab": {
     "base_uri": "https://localhost:8080/"
    },
    "id": "kdQEkHqI7CCX",
    "outputId": "efbfc4dd-29b0-4b17-d9c6-39b04e57d939"
   },
   "outputs": [],
   "source": [
    "miou.reset_state"
   ]
  },
  {
   "cell_type": "code",
   "execution_count": null,
   "id": "4J8w_dSO6QiD",
   "metadata": {
    "colab": {
     "base_uri": "https://localhost:8080/"
    },
    "id": "4J8w_dSO6QiD",
    "outputId": "939964df-99a6-4e64-9663-0cc244ca9638"
   },
   "outputs": [],
   "source": [
    "miou.update_state(labels[:,:,:,0], featured_predictions_tversky_model[:,:,:,0])"
   ]
  },
  {
   "cell_type": "code",
   "execution_count": null,
   "id": "lP6_e5Zh6tE2",
   "metadata": {
    "colab": {
     "base_uri": "https://localhost:8080/"
    },
    "id": "lP6_e5Zh6tE2",
    "outputId": "d4a9300f-7ff6-4366-ca24-8c73c628100d"
   },
   "outputs": [],
   "source": [
    "miou.result()"
   ]
  },
  {
   "cell_type": "code",
   "execution_count": null,
   "id": "-pmA58eV3g7z",
   "metadata": {
    "colab": {
     "base_uri": "https://localhost:8080/",
     "height": 231
    },
    "id": "-pmA58eV3g7z",
    "outputId": "7a86d796-3ba3-4401-bbc1-32aa1ca900fb"
   },
   "outputs": [],
   "source": [
    "# from ipywidgets import interact\n",
    "from matplotlib import colors\n",
    "# @interact(image_number=np.arange(0, 17, 1))\n",
    "palette = ['006400',\n",
    "           'FEFF99']\n",
    "# make a color map of fixed colors\n",
    "cmap = colors.ListedColormap(['yellow', 'green'])\n",
    "bounds=[0.5]\n",
    "norm = colors.BoundaryNorm(bounds, cmap.N)\n",
    "\n",
    "def plot_prediction(image_number):\n",
    "    fig = plt.figure(figsize=(17,7))\n",
    "    \n",
    "    plt.subplot(1, 5, 1)\n",
    "    plt.imshow(np.flip(images[image_number, :, : , 1:4], axis=2)*5)\n",
    "    \n",
    "    plt.subplot(1, 5, 2)\n",
    "    plt.imshow(labels[image_number,:,:,0], cmap=cmap)\n",
    "\n",
    "    plt.subplot(1, 5, 3)\n",
    "    plt.imshow(featured_predictions_initial_model[image_number,:,:,0], cmap=cmap)\n",
    "\n",
    "    plt.subplot(1, 5, 4)\n",
    "    plt.imshow(featured_predictions_adam_crossentropy[image_number,:,:,0], cmap=cmap)\n",
    "\n",
    "    plt.subplot(1, 5, 5)\n",
    "    plt.imshow(featured_predictions_tversky_model[image_number,:,:,0], cmap=cmap)\n",
    "    #miou.reset_state\n",
    "    #miou.update_state(labels[image_number,:,:,0], featured_predictions[image_number,:,:,0])\n",
    "    #print(miou.result())\n",
    "    \n",
    "plot_prediction(2)"
   ]
  },
  {
   "cell_type": "code",
   "execution_count": null,
   "id": "mrJWUKedcZop",
   "metadata": {
    "id": "mrJWUKedcZop"
   },
   "outputs": [],
   "source": [
    "def prediction(repeat_dataset):\n",
    "  images , labels = iter(repeat_dataset.take(1)).next()\n",
    "\n",
    "  predictions = model_pretrained.predict(images, verbose=1)\n",
    "  featured_predictions = np.where(predictions>0.5,1,predictions)\n",
    "  featured_predictions = np.where(featured_predictions<0.5,0,featured_predictions)\n",
    "\n",
    "  return np.flip(images, axis=2), labels, featured_predictions"
   ]
  },
  {
   "cell_type": "markdown",
   "id": "UpInIHMEOflB",
   "metadata": {
    "id": "UpInIHMEOflB"
   },
   "source": [
    "# Compute forest evolution"
   ]
  },
  {
   "cell_type": "code",
   "execution_count": null,
   "id": "Wr6Ry4p0Wzej",
   "metadata": {
    "id": "Wr6Ry4p0Wzej"
   },
   "outputs": [],
   "source": [
    "from forest_guard.parse import get_dataset, target_simplification"
   ]
  },
  {
   "cell_type": "code",
   "execution_count": null,
   "id": "oa_zaOFZOkg7",
   "metadata": {
    "id": "oa_zaOFZOkg7"
   },
   "outputs": [],
   "source": [
    "def get_training_dataset_numpy(folder):\n",
    "    \"\"\"Get the preprocessed training dataset\n",
    "    Returns: \n",
    "    A tf.data.Dataset of training data.\n",
    "    \"\"\"\n",
    "    glob = 'gs://' + BUCKET + '/' + folder + '/' + TRAINING_BASE + '*'\n",
    "    dataset = get_dataset(glob)\n",
    "    dataset = dataset.map(target_simplification)\n",
    "\n",
    "    feature = np.array([x for x, y in dataset])\n",
    "    target = np.array([y for x, y in dataset])\n",
    "    \n",
    "    return feature, target"
   ]
  },
  {
   "cell_type": "code",
   "execution_count": null,
   "id": "j8T1D0-3WjYp",
   "metadata": {
    "id": "j8T1D0-3WjYp"
   },
   "outputs": [],
   "source": [
    "image_data_2 = get_training_dataset_numpy(FOLDER)"
   ]
  },
  {
   "cell_type": "code",
   "execution_count": null,
   "id": "Vl0JtoemZhpK",
   "metadata": {
    "colab": {
     "base_uri": "https://localhost:8080/"
    },
    "id": "Vl0JtoemZhpK",
    "outputId": "397e9027-e23e-417a-f0f4-aed29405180b"
   },
   "outputs": [],
   "source": [
    "image_data_2[0].shape"
   ]
  },
  {
   "cell_type": "code",
   "execution_count": null,
   "id": "CMMJjfIOafjw",
   "metadata": {
    "id": "CMMJjfIOafjw"
   },
   "outputs": [],
   "source": [
    "task = ee.batch.Export.table.toCloudStorage(\n",
    "                                            collection = ee.FeatureCollection([]),\n",
    "                                            description = desc,\n",
    "                                            bucket = BUCKET,\n",
    "                                            fileNamePrefix = folder + '/' + desc,\n",
    "                                            fileFormat = 'TFRecord',\n",
    "                                            selectors = BANDS + [RESPONSE], \n",
    "                                            )\n",
    "task.start() "
   ]
  },
  {
   "cell_type": "markdown",
   "id": "1OJuLkAzlAmz",
   "metadata": {
    "id": "1OJuLkAzlAmz"
   },
   "source": [
    "# ee.Predict"
   ]
  },
  {
   "cell_type": "code",
   "execution_count": null,
   "id": "VtKhzripLEXj",
   "metadata": {
    "id": "VtKhzripLEXj"
   },
   "outputs": [],
   "source": [
    "MODEL_DIR = 'gs://forest_guard_bucket/models/forest_guard/JP_test_model_adam_binarycrossentropy'\n",
    "EEIFIED_DIR = 'gs://forest_guard_bucket/models/forest_guard/eefied'\n",
    "REGION = 'europe-west1'"
   ]
  },
  {
   "cell_type": "code",
   "execution_count": null,
   "id": "i3nW13G3lDJ2",
   "metadata": {
    "id": "i3nW13G3lDJ2"
   },
   "outputs": [],
   "source": [
    "from tensorflow.python.tools import saved_model_utils\n",
    "\n",
    "meta_graph_def = saved_model_utils.get_meta_graph_def(MODEL_DIR, 'serve')\n",
    "inputs = meta_graph_def.signature_def['serving_default'].inputs\n",
    "outputs = meta_graph_def.signature_def['serving_default'].outputs\n",
    "\n",
    "# Just get the first thing(s) from the serving signature def.  i.e. this\n",
    "# model only has a single input and a single output.\n",
    "input_name = None\n",
    "for k,v in inputs.items():\n",
    "  input_name = v.name\n",
    "  break\n",
    "\n",
    "output_name = None\n",
    "for k,v in outputs.items():\n",
    "  output_name = v.name\n",
    "  break\n",
    "\n",
    "# Make a dictionary that maps Earth Engine outputs and inputs to \n",
    "# AI Platform inputs and outputs, respectively.\n",
    "import json\n",
    "input_dict = \"'\" + json.dumps({input_name: \"array\"}) + \"'\"\n",
    "output_dict = \"'\" + json.dumps({output_name: \"fnf\"}) + \"'\""
   ]
  },
  {
   "cell_type": "code",
   "execution_count": null,
   "id": "eB30DDbHLUSd",
   "metadata": {
    "colab": {
     "base_uri": "https://localhost:8080/"
    },
    "id": "eB30DDbHLUSd",
    "outputId": "ec25578a-4ec9-44c9-dac5-a8a67941a6bf"
   },
   "outputs": [],
   "source": [
    "# You need to set the project before using the model prepare command.\n",
    "PROJECT = 'wagon-bootcamp-data'\n",
    "!earthengine set_project {PROJECT}\n",
    "!earthengine model prepare --source_dir {MODEL_DIR} --dest_dir {EEIFIED_DIR} --input {input_dict} --output {output_dict}"
   ]
  },
  {
   "cell_type": "code",
   "execution_count": null,
   "id": "mFntQekMLh_I",
   "metadata": {
    "colab": {
     "base_uri": "https://localhost:8080/"
    },
    "id": "mFntQekMLh_I",
    "outputId": "5961638c-4679-4f14-936e-e910dc0f357b"
   },
   "outputs": [],
   "source": [
    "%%writefile config.yaml\n",
    "# autoScaling:\n",
    "    # minNodes: 10"
   ]
  },
  {
   "cell_type": "code",
   "execution_count": null,
   "id": "T4ya1rP9MDIH",
   "metadata": {
    "colab": {
     "base_uri": "https://localhost:8080/"
    },
    "id": "T4ya1rP9MDIH",
    "outputId": "791e2949-76ee-4b8c-87f6-50875b32d5b0"
   },
   "outputs": [],
   "source": [
    "MODEL_NAME = 'JP_test_model_adam_binarycrossentropy'\n",
    "VERSION_NAME = 'v' + str(int(time.time()))\n",
    "print('Creating version: ' + VERSION_NAME)\n",
    "\n",
    "# !gcloud ai-platform models create {MODEL_NAME} \\\n",
    "#   --project {PROJECT} \\\n",
    "#   --region {REGION}\n",
    "\n",
    "!gcloud ai-platform versions create {VERSION_NAME} \\\n",
    "  --project {PROJECT} \\\n",
    "  --model {MODEL_NAME} \\\n",
    "  --region {REGION} \\\n",
    "  --origin {EEIFIED_DIR} \\\n",
    "  --framework \"TENSORFLOW\" \\\n",
    "  --runtime-version 2.3 \\\n",
    "  --python-version 3.7 \\\n",
    "  #--machine-type mls1-c4-m2\n",
    "\n",
    "  #--config=config.yaml \\\n",
    "  "
   ]
  },
  {
   "cell_type": "code",
   "execution_count": null,
   "id": "z1_1BRWLMWJt",
   "metadata": {
    "colab": {
     "base_uri": "https://localhost:8080/",
     "height": 547
    },
    "id": "z1_1BRWLMWJt",
    "outputId": "d4c98cd5-77ef-459b-b446-1d2aa98dc8c1"
   },
   "outputs": [],
   "source": [
    "# Use Landsat 8 surface reflectance data.\n",
    "l8sr = ee.ImageCollection('LANDSAT/LC08/C01/T1_SR')\n",
    "\n",
    "# Cloud masking function.\n",
    "def maskL8sr(image):\n",
    "  cloudShadowBitMask = ee.Number(2).pow(3).int()\n",
    "  cloudsBitMask = ee.Number(2).pow(5).int()\n",
    "  qa = image.select('pixel_qa')\n",
    "  mask1 = qa.bitwiseAnd(cloudShadowBitMask).eq(0).And(\n",
    "    qa.bitwiseAnd(cloudsBitMask).eq(0))\n",
    "  mask2 = image.mask().reduce('min')\n",
    "  mask3 = image.select(OPTICAL_BANDS).gt(0).And(\n",
    "          image.select(OPTICAL_BANDS).lt(10000)).reduce('min')\n",
    "  mask = mask1.And(mask2).And(mask3)\n",
    "  return image.select(OPTICAL_BANDS).divide(10000).addBands(\n",
    "          image.select(THERMAL_BANDS).divide(10).clamp(273.15, 373.15)\n",
    "            .subtract(273.15).divide(100)).updateMask(mask)\n",
    "\n",
    "# The image input data is a cloud-masked median composite.\n",
    "image = l8sr.filterDate(\n",
    "    '2015-01-01', '2017-12-31').map(maskL8sr).median().select(BANDS).float()\n",
    "\n",
    "# Load the trained model and use it for prediction.  If you specified a region \n",
    "# other than the default (us-central1) at model creation, specify it here.\n",
    "model = ee.Model.fromAiPlatformPredictor(\n",
    "    projectId = PROJECT,\n",
    "    modelName = MODEL_NAME,\n",
    "    # modelName = \"ai_platform_ee_output_format_tf2\",\n",
    "    version = VERSION_NAME,\n",
    "    # version = \"v1622550169\",\n",
    "    region= REGION,\n",
    "    inputTileSize = [144, 144],\n",
    "    inputOverlapSize = [8, 8],\n",
    "    proj = ee.Projection('EPSG:4326').atScale(30),\n",
    "    fixInputProj = True,\n",
    "    outputBands = {'fnf': {\n",
    "        'type': ee.PixelType.float()\n",
    "      }\n",
    "    }\n",
    ")\n",
    "palette = [ '#FEFF99',\n",
    "           '006400',\n",
    "            # '0000FF'\n",
    "          ]\n",
    "predictions = model.predictImage(image.toArray())\n",
    "\n",
    "# Use folium to visualize the input imagery and the predictions.\n",
    "mapid = image.getMapId({'bands': ['B4', 'B3', 'B2'], 'min': 0, 'max': 0.3})\n",
    "map = folium.Map(location=[49, 7.5], zoom_start=15)\n",
    "folium.TileLayer(\n",
    "    tiles=mapid['tile_fetcher'].url_format,\n",
    "    attr='Google Earth Engine',\n",
    "    overlay=True,\n",
    "    name='median composite',\n",
    "  ).add_to(map)\n",
    "\n",
    "mapid = predictions.getMapId({'bands': ['fnf'],\n",
    "                       'min': 0, \n",
    "                       'max': 1, \n",
    "                      'palette':palette\n",
    "                      })\n",
    "\n",
    "folium.TileLayer(\n",
    "    tiles=mapid['tile_fetcher'].url_format,\n",
    "    attr='Google Earth Engine',\n",
    "    overlay=True,\n",
    "    name='predictions'\n",
    "  ).add_to(map)\n",
    "map.add_child(folium.LayerControl())\n",
    "map"
   ]
  },
  {
   "cell_type": "code",
   "execution_count": null,
   "id": "Lnvdx_EjUWjY",
   "metadata": {
    "id": "Lnvdx_EjUWjY"
   },
   "outputs": [],
   "source": []
  }
 ],
 "metadata": {
  "accelerator": "GPU",
  "colab": {
   "collapsed_sections": [
    "3ee61394"
   ],
   "name": "Copy of Arthur_prediction_test_image_2.ipynb",
   "provenance": [],
   "toc_visible": true
  },
  "kernelspec": {
   "display_name": "Python 3",
   "language": "python",
   "name": "python3"
  },
  "language_info": {
   "codemirror_mode": {
    "name": "ipython",
    "version": 3
   },
   "file_extension": ".py",
   "mimetype": "text/x-python",
   "name": "python",
   "nbconvert_exporter": "python",
   "pygments_lexer": "ipython3",
   "version": "3.8.6"
  },
  "toc": {
   "base_numbering": 1,
   "nav_menu": {},
   "number_sections": true,
   "sideBar": true,
   "skip_h1_title": false,
   "title_cell": "Table of Contents",
   "title_sidebar": "Contents",
   "toc_cell": false,
   "toc_position": {},
   "toc_section_display": true,
   "toc_window_display": true
  }
 },
 "nbformat": 4,
 "nbformat_minor": 5
}
