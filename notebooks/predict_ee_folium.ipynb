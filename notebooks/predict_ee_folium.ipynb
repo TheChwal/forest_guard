{
 "cells": [
  {
   "cell_type": "markdown",
   "id": "69f4e0c9",
   "metadata": {
    "id": "69f4e0c9"
   },
   "source": [
    "### Authentification & initial params"
   ]
  },
  {
   "cell_type": "code",
   "execution_count": null,
   "id": "2dd6c127",
   "metadata": {
    "id": "2dd6c127"
   },
   "outputs": [],
   "source": [
    "# TO BE DONE IN GOOGLE COLAB\n",
    "\n",
    "# !git clone https://github.com/TheChwal/forest_guard.git\n",
    "\n",
    "# %cd forest_guard/\n",
    "\n",
    "# !pip install ."
   ]
  },
  {
   "cell_type": "code",
   "execution_count": null,
   "id": "FQy5ppBNyBqq",
   "metadata": {
    "colab": {
     "base_uri": "https://localhost:8080/"
    },
    "id": "FQy5ppBNyBqq",
    "outputId": "f77d23c6-7300-4d9f-c432-166612d0c63b"
   },
   "outputs": [
    {
     "name": "stdout",
     "output_type": "stream",
     "text": [
      "Cloning into 'forest_guard'...\n",
      "remote: Enumerating objects: 251, done.\u001b[K\n",
      "remote: Counting objects: 100% (251/251), done.\u001b[K\n",
      "remote: Compressing objects: 100% (104/104), done.\u001b[K\n",
      "remote: Total 251 (delta 150), reused 236 (delta 137), pack-reused 0\u001b[K\n",
      "Receiving objects: 100% (251/251), 12.17 MiB | 22.82 MiB/s, done.\n",
      "Resolving deltas: 100% (150/150), done.\n"
     ]
    }
   ],
   "source": [
    "!git clone https://github.com/TheChwal/forest_guard.git"
   ]
  },
  {
   "cell_type": "code",
   "execution_count": null,
   "id": "s314HeUbyNBg",
   "metadata": {
    "colab": {
     "base_uri": "https://localhost:8080/"
    },
    "id": "s314HeUbyNBg",
    "outputId": "ebeb0a2c-3c57-4e28-de55-27192a55bf26"
   },
   "outputs": [
    {
     "name": "stdout",
     "output_type": "stream",
     "text": [
      "/content/forest_guard\n"
     ]
    }
   ],
   "source": [
    "%cd forest_guard/"
   ]
  },
  {
   "cell_type": "code",
   "execution_count": null,
   "id": "iG3BDrK0yRCA",
   "metadata": {
    "colab": {
     "base_uri": "https://localhost:8080/"
    },
    "id": "iG3BDrK0yRCA",
    "outputId": "cd667188-f8ee-402b-f8a9-211e7b454b1b"
   },
   "outputs": [
    {
     "name": "stdout",
     "output_type": "stream",
     "text": [
      "Processing /content/forest_guard\n",
      "Requirement already satisfied: pip>=9 in /usr/local/lib/python3.7/dist-packages (from forest-guard==1.0) (19.3.1)\n",
      "Requirement already satisfied: setuptools>=26 in /usr/local/lib/python3.7/dist-packages (from forest-guard==1.0) (57.0.0)\n",
      "Collecting twine\n",
      "  Downloading https://files.pythonhosted.org/packages/42/ad/713372978a8de58a43c507bf62b9c30c3d7b5cda4e972d563b881620a511/twine-3.4.1-py3-none-any.whl\n",
      "Requirement already satisfied: wheel>=0.29 in /usr/local/lib/python3.7/dist-packages (from forest-guard==1.0) (0.36.2)\n",
      "Requirement already satisfied: numpy in /usr/local/lib/python3.7/dist-packages (from forest-guard==1.0) (1.19.5)\n",
      "Requirement already satisfied: pandas in /usr/local/lib/python3.7/dist-packages (from forest-guard==1.0) (1.1.5)\n",
      "Requirement already satisfied: scikit-learn in /usr/local/lib/python3.7/dist-packages (from forest-guard==1.0) (0.22.2.post1)\n",
      "Requirement already satisfied: tensorflow in /usr/local/lib/python3.7/dist-packages (from forest-guard==1.0) (2.5.0)\n",
      "Requirement already satisfied: matplotlib in /usr/local/lib/python3.7/dist-packages (from forest-guard==1.0) (3.2.2)\n",
      "Collecting black\n",
      "\u001b[?25l  Downloading https://files.pythonhosted.org/packages/0f/a4/b521c6e974c90934674f42e44f91c7d75f1f0bfa5faa4101281cfb506247/black-21.5b2-py3-none-any.whl (138kB)\n",
      "\u001b[K     |████████████████████████████████| 143kB 3.7MB/s \n",
      "\u001b[?25hRequirement already satisfied: coverage in /usr/local/lib/python3.7/dist-packages (from forest-guard==1.0) (3.7.1)\n",
      "Collecting flake8\n",
      "\u001b[?25l  Downloading https://files.pythonhosted.org/packages/fc/80/35a0716e5d5101e643404dabd20f07f5528a21f3ef4032d31a49c913237b/flake8-3.9.2-py2.py3-none-any.whl (73kB)\n",
      "\u001b[K     |████████████████████████████████| 81kB 7.9MB/s \n",
      "\u001b[?25hRequirement already satisfied: pytest in /usr/local/lib/python3.7/dist-packages (from forest-guard==1.0) (3.6.4)\n",
      "Collecting yapf\n",
      "\u001b[?25l  Downloading https://files.pythonhosted.org/packages/5f/0d/8814e79eb865eab42d95023b58b650d01dec6f8ea87fc9260978b1bf2167/yapf-0.31.0-py2.py3-none-any.whl (185kB)\n",
      "\u001b[K     |████████████████████████████████| 194kB 17.8MB/s \n",
      "\u001b[?25hCollecting gcsfs\n",
      "  Downloading https://files.pythonhosted.org/packages/65/72/630fa61d0588542931d4d8af1d3c27cc1a6386bf883437ea1d7a56ff6187/gcsfs-2021.5.0-py2.py3-none-any.whl\n",
      "Requirement already satisfied: google-cloud-storage in /usr/local/lib/python3.7/dist-packages (from forest-guard==1.0) (1.18.1)\n",
      "Collecting mlflow\n",
      "\u001b[?25l  Downloading https://files.pythonhosted.org/packages/78/95/66f2e43a3662b27409fdce1775e1fbe8fdb5557140467d9e6654a87cc22e/mlflow-1.17.0-py3-none-any.whl (14.2MB)\n",
      "\u001b[K     |████████████████████████████████| 14.2MB 286kB/s \n",
      "\u001b[?25hCollecting s3fs\n",
      "  Downloading https://files.pythonhosted.org/packages/c5/51/3436ab8eadf24cb2625cdc11d855c85d10bf15ba8d59bfd46ff01a85773f/s3fs-2021.5.0-py3-none-any.whl\n",
      "Requirement already satisfied: six>=1.14 in /usr/local/lib/python3.7/dist-packages (from forest-guard==1.0) (1.15.0)\n",
      "Requirement already satisfied: joblib in /usr/local/lib/python3.7/dist-packages (from forest-guard==1.0) (1.0.1)\n",
      "Collecting memoized-property\n",
      "  Downloading https://files.pythonhosted.org/packages/70/db/23f8b5d86c9385299586c2469b58087f658f58eaeb414be0fd64cfd054e1/memoized-property-1.0.3.tar.gz\n",
      "Requirement already satisfied: termcolor in /usr/local/lib/python3.7/dist-packages (from forest-guard==1.0) (1.1.0)\n",
      "Requirement already satisfied: earthengine-api in /usr/local/lib/python3.7/dist-packages (from forest-guard==1.0) (0.1.266)\n",
      "Requirement already satisfied: folium in /usr/local/lib/python3.7/dist-packages (from forest-guard==1.0) (0.8.3)\n",
      "Collecting rasterio\n",
      "\u001b[?25l  Downloading https://files.pythonhosted.org/packages/0e/78/c69f7457b7dad6163abde2772abd4c8c0c6498d2ab9fd3f3b0eb73b40951/rasterio-1.2.4-cp37-cp37m-manylinux1_x86_64.whl (19.3MB)\n",
      "\u001b[K     |████████████████████████████████| 19.3MB 1.4MB/s \n",
      "\u001b[?25hCollecting keyring>=15.1\n",
      "  Downloading https://files.pythonhosted.org/packages/26/f9/41230ac47f738f1ba66676dc8d3b30ca5b1f9eb0230fc204bcd9836c4ae9/keyring-23.0.1-py3-none-any.whl\n",
      "Collecting requests-toolbelt!=0.9.0,>=0.8.0\n",
      "\u001b[?25l  Downloading https://files.pythonhosted.org/packages/60/ef/7681134338fc097acef8d9b2f8abe0458e4d87559c689a8c306d0957ece5/requests_toolbelt-0.9.1-py2.py3-none-any.whl (54kB)\n",
      "\u001b[K     |████████████████████████████████| 61kB 7.2MB/s \n",
      "\u001b[?25hCollecting readme-renderer>=21.0\n",
      "  Downloading https://files.pythonhosted.org/packages/39/a5/459adfa22ea237f6e8d0fa95ad29d7369579a5eec26f016ab34bb7f8359c/readme_renderer-29.0-py2.py3-none-any.whl\n",
      "Requirement already satisfied: tqdm>=4.14 in /usr/local/lib/python3.7/dist-packages (from twine->forest-guard==1.0) (4.41.1)\n",
      "Collecting pkginfo>=1.4.2\n",
      "  Downloading https://files.pythonhosted.org/packages/b0/9a/d78e7c299eb5659bc3a036e5a968a399c62bfe0b2aa18baf7d13f43373ba/pkginfo-1.7.0-py2.py3-none-any.whl\n",
      "Requirement already satisfied: importlib-metadata>=3.6 in /usr/local/lib/python3.7/dist-packages (from twine->forest-guard==1.0) (4.0.1)\n",
      "Collecting rfc3986>=1.4.0\n",
      "  Downloading https://files.pythonhosted.org/packages/c4/e5/63ca2c4edf4e00657584608bee1001302bbf8c5f569340b78304f2f446cb/rfc3986-1.5.0-py2.py3-none-any.whl\n",
      "Requirement already satisfied: requests>=2.20 in /usr/local/lib/python3.7/dist-packages (from twine->forest-guard==1.0) (2.23.0)\n",
      "Collecting colorama>=0.4.3\n",
      "  Downloading https://files.pythonhosted.org/packages/44/98/5b86278fbbf250d239ae0ecb724f8572af1c91f4a11edf4d36a206189440/colorama-0.4.4-py2.py3-none-any.whl\n",
      "Requirement already satisfied: python-dateutil>=2.7.3 in /usr/local/lib/python3.7/dist-packages (from pandas->forest-guard==1.0) (2.8.1)\n",
      "Requirement already satisfied: pytz>=2017.2 in /usr/local/lib/python3.7/dist-packages (from pandas->forest-guard==1.0) (2018.9)\n",
      "Requirement already satisfied: scipy>=0.17.0 in /usr/local/lib/python3.7/dist-packages (from scikit-learn->forest-guard==1.0) (1.4.1)\n",
      "Requirement already satisfied: absl-py~=0.10 in /usr/local/lib/python3.7/dist-packages (from tensorflow->forest-guard==1.0) (0.12.0)\n",
      "Requirement already satisfied: flatbuffers~=1.12.0 in /usr/local/lib/python3.7/dist-packages (from tensorflow->forest-guard==1.0) (1.12)\n",
      "Requirement already satisfied: grpcio~=1.34.0 in /usr/local/lib/python3.7/dist-packages (from tensorflow->forest-guard==1.0) (1.34.1)\n",
      "Requirement already satisfied: h5py~=3.1.0 in /usr/local/lib/python3.7/dist-packages (from tensorflow->forest-guard==1.0) (3.1.0)\n",
      "Requirement already satisfied: tensorboard~=2.5 in /usr/local/lib/python3.7/dist-packages (from tensorflow->forest-guard==1.0) (2.5.0)\n",
      "Requirement already satisfied: google-pasta~=0.2 in /usr/local/lib/python3.7/dist-packages (from tensorflow->forest-guard==1.0) (0.2.0)\n",
      "Requirement already satisfied: protobuf>=3.9.2 in /usr/local/lib/python3.7/dist-packages (from tensorflow->forest-guard==1.0) (3.12.4)\n",
      "Requirement already satisfied: astunparse~=1.6.3 in /usr/local/lib/python3.7/dist-packages (from tensorflow->forest-guard==1.0) (1.6.3)\n",
      "Requirement already satisfied: keras-preprocessing~=1.1.2 in /usr/local/lib/python3.7/dist-packages (from tensorflow->forest-guard==1.0) (1.1.2)\n",
      "Requirement already satisfied: keras-nightly~=2.5.0.dev in /usr/local/lib/python3.7/dist-packages (from tensorflow->forest-guard==1.0) (2.5.0.dev2021032900)\n",
      "Requirement already satisfied: wrapt~=1.12.1 in /usr/local/lib/python3.7/dist-packages (from tensorflow->forest-guard==1.0) (1.12.1)\n",
      "Requirement already satisfied: typing-extensions~=3.7.4 in /usr/local/lib/python3.7/dist-packages (from tensorflow->forest-guard==1.0) (3.7.4.3)\n",
      "Requirement already satisfied: opt-einsum~=3.3.0 in /usr/local/lib/python3.7/dist-packages (from tensorflow->forest-guard==1.0) (3.3.0)\n",
      "Requirement already satisfied: tensorflow-estimator<2.6.0,>=2.5.0rc0 in /usr/local/lib/python3.7/dist-packages (from tensorflow->forest-guard==1.0) (2.5.0)\n",
      "Requirement already satisfied: gast==0.4.0 in /usr/local/lib/python3.7/dist-packages (from tensorflow->forest-guard==1.0) (0.4.0)\n",
      "Requirement already satisfied: cycler>=0.10 in /usr/local/lib/python3.7/dist-packages (from matplotlib->forest-guard==1.0) (0.10.0)\n",
      "Requirement already satisfied: pyparsing!=2.0.4,!=2.1.2,!=2.1.6,>=2.0.1 in /usr/local/lib/python3.7/dist-packages (from matplotlib->forest-guard==1.0) (2.4.7)\n",
      "Requirement already satisfied: kiwisolver>=1.0.1 in /usr/local/lib/python3.7/dist-packages (from matplotlib->forest-guard==1.0) (1.3.1)\n",
      "Requirement already satisfied: toml>=0.10.1 in /usr/local/lib/python3.7/dist-packages (from black->forest-guard==1.0) (0.10.2)\n",
      "Collecting pathspec<1,>=0.8.1\n",
      "  Downloading https://files.pythonhosted.org/packages/29/29/a465741a3d97ea3c17d21eaad4c64205428bde56742360876c4391f930d4/pathspec-0.8.1-py2.py3-none-any.whl\n",
      "Collecting regex>=2020.1.8\n",
      "\u001b[?25l  Downloading https://files.pythonhosted.org/packages/c4/28/5f08d8841013ccf72cd95dfff2500fe7fb39467af12c5e7b802d8381d811/regex-2021.4.4-cp37-cp37m-manylinux2014_x86_64.whl (720kB)\n",
      "\u001b[K     |████████████████████████████████| 727kB 37.2MB/s \n",
      "\u001b[?25hRequirement already satisfied: appdirs in /usr/local/lib/python3.7/dist-packages (from black->forest-guard==1.0) (1.4.4)\n",
      "Requirement already satisfied: click>=7.1.2 in /usr/local/lib/python3.7/dist-packages (from black->forest-guard==1.0) (7.1.2)\n",
      "Collecting typed-ast>=1.4.2; python_version < \"3.8\"\n",
      "\u001b[?25l  Downloading https://files.pythonhosted.org/packages/65/b3/573d2f1fecbbe8f82a8d08172e938c247f99abe1be3bef3da2efaa3810bf/typed_ast-1.4.3-cp37-cp37m-manylinux1_x86_64.whl (743kB)\n",
      "\u001b[K     |████████████████████████████████| 747kB 24.9MB/s \n",
      "\u001b[?25hCollecting mypy-extensions>=0.4.3\n",
      "  Downloading https://files.pythonhosted.org/packages/5c/eb/975c7c080f3223a5cdaff09612f3a5221e4ba534f7039db34c35d95fa6a5/mypy_extensions-0.4.3-py2.py3-none-any.whl\n",
      "Collecting mccabe<0.7.0,>=0.6.0\n",
      "  Downloading https://files.pythonhosted.org/packages/87/89/479dc97e18549e21354893e4ee4ef36db1d237534982482c3681ee6e7b57/mccabe-0.6.1-py2.py3-none-any.whl\n",
      "Collecting pyflakes<2.4.0,>=2.3.0\n",
      "\u001b[?25l  Downloading https://files.pythonhosted.org/packages/6c/11/2a745612f1d3cbbd9c69ba14b1b43a35a2f5c3c81cd0124508c52c64307f/pyflakes-2.3.1-py2.py3-none-any.whl (68kB)\n",
      "\u001b[K     |████████████████████████████████| 71kB 8.2MB/s \n",
      "\u001b[?25hCollecting pycodestyle<2.8.0,>=2.7.0\n",
      "\u001b[?25l  Downloading https://files.pythonhosted.org/packages/de/cc/227251b1471f129bc35e966bb0fceb005969023926d744139642d847b7ae/pycodestyle-2.7.0-py2.py3-none-any.whl (41kB)\n",
      "\u001b[K     |████████████████████████████████| 51kB 5.9MB/s \n",
      "\u001b[?25hRequirement already satisfied: pluggy<0.8,>=0.5 in /usr/local/lib/python3.7/dist-packages (from pytest->forest-guard==1.0) (0.7.1)\n",
      "Requirement already satisfied: atomicwrites>=1.0 in /usr/local/lib/python3.7/dist-packages (from pytest->forest-guard==1.0) (1.4.0)\n",
      "Requirement already satisfied: attrs>=17.4.0 in /usr/local/lib/python3.7/dist-packages (from pytest->forest-guard==1.0) (21.2.0)\n",
      "Requirement already satisfied: more-itertools>=4.0.0 in /usr/local/lib/python3.7/dist-packages (from pytest->forest-guard==1.0) (8.7.0)\n",
      "Requirement already satisfied: py>=1.5.0 in /usr/local/lib/python3.7/dist-packages (from pytest->forest-guard==1.0) (1.10.0)\n",
      "Collecting fsspec==2021.05.0\n",
      "\u001b[?25l  Downloading https://files.pythonhosted.org/packages/bc/52/816d1a3a599176057bf29dfacb1f8fadb61d35fbd96cb1bab4aaa7df83c0/fsspec-2021.5.0-py3-none-any.whl (111kB)\n",
      "\u001b[K     |████████████████████████████████| 112kB 52.7MB/s \n",
      "\u001b[?25hRequirement already satisfied: google-auth-oauthlib in /usr/local/lib/python3.7/dist-packages (from gcsfs->forest-guard==1.0) (0.4.4)\n",
      "Requirement already satisfied: decorator in /usr/local/lib/python3.7/dist-packages (from gcsfs->forest-guard==1.0) (4.4.2)\n",
      "Requirement already satisfied: google-auth>=1.2 in /usr/local/lib/python3.7/dist-packages (from gcsfs->forest-guard==1.0) (1.30.0)\n",
      "Collecting aiohttp\n",
      "\u001b[?25l  Downloading https://files.pythonhosted.org/packages/88/c0/5890b4c8b04a79b7360e8fe4490feb0bb3ab179743f199f0e6220cebd568/aiohttp-3.7.4.post0-cp37-cp37m-manylinux2014_x86_64.whl (1.3MB)\n",
      "\u001b[K     |████████████████████████████████| 1.3MB 38.4MB/s \n",
      "\u001b[?25hRequirement already satisfied: google-cloud-core<2.0dev,>=1.0.0 in /usr/local/lib/python3.7/dist-packages (from google-cloud-storage->forest-guard==1.0) (1.0.3)\n",
      "Requirement already satisfied: google-resumable-media<0.5.0dev,>=0.3.1 in /usr/local/lib/python3.7/dist-packages (from google-cloud-storage->forest-guard==1.0) (0.4.1)\n",
      "Collecting databricks-cli>=0.8.7\n",
      "\u001b[?25l  Downloading https://files.pythonhosted.org/packages/bc/af/631375abc29e59cedfa4467a5f7755503ba19898890751e1f2636ef02f92/databricks-cli-0.14.3.tar.gz (54kB)\n",
      "\u001b[K     |████████████████████████████████| 61kB 5.2MB/s \n",
      "\u001b[?25hRequirement already satisfied: Flask in /usr/local/lib/python3.7/dist-packages (from mlflow->forest-guard==1.0) (1.1.4)\n",
      "Collecting gitpython>=2.1.0\n",
      "\u001b[?25l  Downloading https://files.pythonhosted.org/packages/27/da/6f6224fdfc47dab57881fe20c0d1bc3122be290198ba0bf26a953a045d92/GitPython-3.1.17-py3-none-any.whl (166kB)\n",
      "\u001b[K     |████████████████████████████████| 174kB 48.7MB/s \n",
      "\u001b[?25hRequirement already satisfied: pyyaml in /usr/local/lib/python3.7/dist-packages (from mlflow->forest-guard==1.0) (3.13)\n",
      "Collecting docker>=4.0.0\n",
      "\u001b[?25l  Downloading https://files.pythonhosted.org/packages/b2/5a/f988909dfed18c1ac42ad8d9e611e6c5657e270aa6eb68559985dbb69c13/docker-5.0.0-py2.py3-none-any.whl (146kB)\n",
      "\u001b[K     |████████████████████████████████| 153kB 31.6MB/s \n",
      "\u001b[?25hRequirement already satisfied: entrypoints in /usr/local/lib/python3.7/dist-packages (from mlflow->forest-guard==1.0) (0.3)\n",
      "Requirement already satisfied: sqlalchemy in /usr/local/lib/python3.7/dist-packages (from mlflow->forest-guard==1.0) (1.4.15)\n",
      "Collecting gunicorn; platform_system != \"Windows\"\n",
      "\u001b[?25l  Downloading https://files.pythonhosted.org/packages/e4/dd/5b190393e6066286773a67dfcc2f9492058e9b57c4867a95f1ba5caf0a83/gunicorn-20.1.0-py3-none-any.whl (79kB)\n",
      "\u001b[K     |████████████████████████████████| 81kB 7.8MB/s \n",
      "\u001b[?25hCollecting alembic<=1.4.1\n",
      "\u001b[?25l  Downloading https://files.pythonhosted.org/packages/e0/e9/359dbb77c35c419df0aedeb1d53e71e7e3f438ff64a8fdb048c907404de3/alembic-1.4.1.tar.gz (1.1MB)\n",
      "\u001b[K     |████████████████████████████████| 1.1MB 38.8MB/s \n",
      "\u001b[?25hCollecting prometheus-flask-exporter\n",
      "  Downloading https://files.pythonhosted.org/packages/f3/c1/2cc385fadf18dc75fe24c18899269eda4dcc60221d61eff7da4a6cc5c01d/prometheus_flask_exporter-0.18.2.tar.gz\n",
      "Collecting querystring-parser\n",
      "  Downloading https://files.pythonhosted.org/packages/88/6b/572b2590fd55114118bf08bde63c0a421dcc82d593700f3e2ad89908a8a9/querystring_parser-1.2.4-py2.py3-none-any.whl\n",
      "Requirement already satisfied: cloudpickle in /usr/local/lib/python3.7/dist-packages (from mlflow->forest-guard==1.0) (1.3.0)\n",
      "Requirement already satisfied: sqlparse>=0.3.1 in /usr/local/lib/python3.7/dist-packages (from mlflow->forest-guard==1.0) (0.4.1)\n",
      "Collecting aiobotocore>=1.0.1\n",
      "\u001b[?25l  Downloading https://files.pythonhosted.org/packages/21/8e/4562029e179226051cd4aa3135444deb014fc9b0795f80f7f3563745f8d5/aiobotocore-1.3.0.tar.gz (48kB)\n",
      "\u001b[K     |████████████████████████████████| 51kB 5.6MB/s \n",
      "\u001b[?25hRequirement already satisfied: google-auth-httplib2>=0.0.3 in /usr/local/lib/python3.7/dist-packages (from earthengine-api->forest-guard==1.0) (0.0.4)\n",
      "Requirement already satisfied: future in /usr/local/lib/python3.7/dist-packages (from earthengine-api->forest-guard==1.0) (0.16.0)\n",
      "Requirement already satisfied: google-api-python-client<2,>=1.12.1 in /usr/local/lib/python3.7/dist-packages (from earthengine-api->forest-guard==1.0) (1.12.8)\n",
      "Requirement already satisfied: httplib2<1dev,>=0.9.2 in /usr/local/lib/python3.7/dist-packages (from earthengine-api->forest-guard==1.0) (0.17.4)\n",
      "Requirement already satisfied: httplib2shim in /usr/local/lib/python3.7/dist-packages (from earthengine-api->forest-guard==1.0) (0.0.3)\n",
      "Requirement already satisfied: branca>=0.3.0 in /usr/local/lib/python3.7/dist-packages (from folium->forest-guard==1.0) (0.4.2)\n",
      "Requirement already satisfied: jinja2 in /usr/local/lib/python3.7/dist-packages (from folium->forest-guard==1.0) (2.11.3)\n",
      "Requirement already satisfied: certifi in /usr/local/lib/python3.7/dist-packages (from rasterio->forest-guard==1.0) (2020.12.5)\n",
      "Collecting snuggs>=1.4.1\n",
      "  Downloading https://files.pythonhosted.org/packages/cc/0e/d27d6e806d6c0d1a2cfdc5d1f088e42339a0a54a09c3343f7f81ec8947ea/snuggs-1.4.7-py3-none-any.whl\n",
      "Collecting affine\n",
      "  Downloading https://files.pythonhosted.org/packages/ac/a6/1a39a1ede71210e3ddaf623982b06ecfc5c5c03741ae659073159184cd3e/affine-2.3.0-py2.py3-none-any.whl\n",
      "Collecting cligj>=0.5\n",
      "  Downloading https://files.pythonhosted.org/packages/73/86/43fa9f15c5b9fb6e82620428827cd3c284aa933431405d1bcf5231ae3d3e/cligj-0.7.2-py3-none-any.whl\n",
      "Collecting click-plugins\n",
      "  Downloading https://files.pythonhosted.org/packages/e9/da/824b92d9942f4e472702488857914bdd50f73021efea15b4cad9aca8ecef/click_plugins-1.1.1-py2.py3-none-any.whl\n",
      "Collecting jeepney>=0.4.2; sys_platform == \"linux\"\n",
      "\u001b[?25l  Downloading https://files.pythonhosted.org/packages/51/b0/a6ea72741aaac3f37fb96d195e4ee576a103c4c04e279bc6b446a70960e1/jeepney-0.6.0-py3-none-any.whl (45kB)\n",
      "\u001b[K     |████████████████████████████████| 51kB 6.1MB/s \n",
      "\u001b[?25hCollecting SecretStorage>=3.2; sys_platform == \"linux\"\n",
      "  Downloading https://files.pythonhosted.org/packages/d9/1e/29cd69fdac7391aa51510dfd42aa70b4e6a826c8cd019ee2a8ab9ec0777f/SecretStorage-3.3.1-py3-none-any.whl\n",
      "Requirement already satisfied: Pygments>=2.5.1 in /usr/local/lib/python3.7/dist-packages (from readme-renderer>=21.0->twine->forest-guard==1.0) (2.6.1)\n",
      "Requirement already satisfied: docutils>=0.13.1 in /usr/local/lib/python3.7/dist-packages (from readme-renderer>=21.0->twine->forest-guard==1.0) (0.17.1)\n",
      "Requirement already satisfied: bleach>=2.1.0 in /usr/local/lib/python3.7/dist-packages (from readme-renderer>=21.0->twine->forest-guard==1.0) (3.3.0)\n",
      "Requirement already satisfied: zipp>=0.5 in /usr/local/lib/python3.7/dist-packages (from importlib-metadata>=3.6->twine->forest-guard==1.0) (3.4.1)\n",
      "Requirement already satisfied: idna<3,>=2.5 in /usr/local/lib/python3.7/dist-packages (from requests>=2.20->twine->forest-guard==1.0) (2.10)\n",
      "Requirement already satisfied: urllib3!=1.25.0,!=1.25.1,<1.26,>=1.21.1 in /usr/local/lib/python3.7/dist-packages (from requests>=2.20->twine->forest-guard==1.0) (1.24.3)\n",
      "Requirement already satisfied: chardet<4,>=3.0.2 in /usr/local/lib/python3.7/dist-packages (from requests>=2.20->twine->forest-guard==1.0) (3.0.4)\n",
      "Requirement already satisfied: cached-property; python_version < \"3.8\" in /usr/local/lib/python3.7/dist-packages (from h5py~=3.1.0->tensorflow->forest-guard==1.0) (1.5.2)\n",
      "Requirement already satisfied: tensorboard-data-server<0.7.0,>=0.6.0 in /usr/local/lib/python3.7/dist-packages (from tensorboard~=2.5->tensorflow->forest-guard==1.0) (0.6.1)\n",
      "Requirement already satisfied: werkzeug>=0.11.15 in /usr/local/lib/python3.7/dist-packages (from tensorboard~=2.5->tensorflow->forest-guard==1.0) (1.0.1)\n",
      "Requirement already satisfied: tensorboard-plugin-wit>=1.6.0 in /usr/local/lib/python3.7/dist-packages (from tensorboard~=2.5->tensorflow->forest-guard==1.0) (1.8.0)\n",
      "Requirement already satisfied: markdown>=2.6.8 in /usr/local/lib/python3.7/dist-packages (from tensorboard~=2.5->tensorflow->forest-guard==1.0) (3.3.4)\n",
      "Requirement already satisfied: requests-oauthlib>=0.7.0 in /usr/local/lib/python3.7/dist-packages (from google-auth-oauthlib->gcsfs->forest-guard==1.0) (1.3.0)\n",
      "Requirement already satisfied: pyasn1-modules>=0.2.1 in /usr/local/lib/python3.7/dist-packages (from google-auth>=1.2->gcsfs->forest-guard==1.0) (0.2.8)\n",
      "Requirement already satisfied: rsa<5,>=3.1.4; python_version >= \"3.6\" in /usr/local/lib/python3.7/dist-packages (from google-auth>=1.2->gcsfs->forest-guard==1.0) (4.7.2)\n",
      "Requirement already satisfied: cachetools<5.0,>=2.0.0 in /usr/local/lib/python3.7/dist-packages (from google-auth>=1.2->gcsfs->forest-guard==1.0) (4.2.2)\n",
      "Collecting multidict<7.0,>=4.5\n",
      "\u001b[?25l  Downloading https://files.pythonhosted.org/packages/7c/a6/4123b8165acbe773d1a8dc8e3f0d1edea16d29f7de018eda769abb56bd30/multidict-5.1.0-cp37-cp37m-manylinux2014_x86_64.whl (142kB)\n",
      "\u001b[K     |████████████████████████████████| 143kB 43.2MB/s \n",
      "\u001b[?25hCollecting yarl<2.0,>=1.0\n",
      "\u001b[?25l  Downloading https://files.pythonhosted.org/packages/f1/62/046834c5fc998c88ab2ef722f5d42122230a632212c8afa76418324f53ff/yarl-1.6.3-cp37-cp37m-manylinux2014_x86_64.whl (294kB)\n",
      "\u001b[K     |████████████████████████████████| 296kB 39.7MB/s \n",
      "\u001b[?25hCollecting async-timeout<4.0,>=3.0\n",
      "  Downloading https://files.pythonhosted.org/packages/e1/1e/5a4441be21b0726c4464f3f23c8b19628372f606755a9d2e46c187e65ec4/async_timeout-3.0.1-py3-none-any.whl\n",
      "Requirement already satisfied: google-api-core<2.0.0dev,>=1.14.0 in /usr/local/lib/python3.7/dist-packages (from google-cloud-core<2.0dev,>=1.0.0->google-cloud-storage->forest-guard==1.0) (1.26.3)\n",
      "Requirement already satisfied: tabulate>=0.7.7 in /usr/local/lib/python3.7/dist-packages (from databricks-cli>=0.8.7->mlflow->forest-guard==1.0) (0.8.9)\n",
      "Requirement already satisfied: itsdangerous<2.0,>=0.24 in /usr/local/lib/python3.7/dist-packages (from Flask->mlflow->forest-guard==1.0) (1.1.0)\n",
      "Collecting gitdb<5,>=4.0.1\n",
      "\u001b[?25l  Downloading https://files.pythonhosted.org/packages/ea/e8/f414d1a4f0bbc668ed441f74f44c116d9816833a48bf81d22b697090dba8/gitdb-4.0.7-py3-none-any.whl (63kB)\n",
      "\u001b[K     |████████████████████████████████| 71kB 6.7MB/s \n",
      "\u001b[?25hCollecting websocket-client>=0.32.0\n",
      "\u001b[?25l  Downloading https://files.pythonhosted.org/packages/85/ee/7aa724dc2dbed9b028f463eada5482770c13b7381a0c79457d12b3b62de2/websocket_client-1.0.1-py2.py3-none-any.whl (68kB)\n",
      "\u001b[K     |████████████████████████████████| 71kB 7.8MB/s \n",
      "\u001b[?25hRequirement already satisfied: greenlet!=0.4.17; python_version >= \"3\" in /usr/local/lib/python3.7/dist-packages (from sqlalchemy->mlflow->forest-guard==1.0) (1.1.0)\n",
      "Collecting Mako\n",
      "\u001b[?25l  Downloading https://files.pythonhosted.org/packages/f3/54/dbc07fbb20865d3b78fdb7cf7fa713e2cba4f87f71100074ef2dc9f9d1f7/Mako-1.1.4-py2.py3-none-any.whl (75kB)\n",
      "\u001b[K     |████████████████████████████████| 81kB 7.6MB/s \n",
      "\u001b[?25hCollecting python-editor>=0.3\n",
      "  Downloading https://files.pythonhosted.org/packages/c6/d3/201fc3abe391bbae6606e6f1d598c15d367033332bd54352b12f35513717/python_editor-1.0.4-py3-none-any.whl\n",
      "Requirement already satisfied: prometheus_client in /usr/local/lib/python3.7/dist-packages (from prometheus-flask-exporter->mlflow->forest-guard==1.0) (0.10.1)\n",
      "Collecting botocore<1.20.50,>=1.20.49\n",
      "\u001b[?25l  Downloading https://files.pythonhosted.org/packages/68/59/6e28ce58206039ad2592992b75ee79a8f9dbc902a9704373ddacc4f96300/botocore-1.20.49-py2.py3-none-any.whl (7.4MB)\n",
      "\u001b[K     |████████████████████████████████| 7.4MB 40.4MB/s \n",
      "\u001b[?25hCollecting aioitertools>=0.5.1\n",
      "  Downloading https://files.pythonhosted.org/packages/32/0b/3260ac050de07bf6e91871944583bb8598091da19155c34f7ef02244709c/aioitertools-0.7.1-py3-none-any.whl\n",
      "Requirement already satisfied: uritemplate<4dev,>=3.0.0 in /usr/local/lib/python3.7/dist-packages (from google-api-python-client<2,>=1.12.1->earthengine-api->forest-guard==1.0) (3.0.1)\n",
      "Requirement already satisfied: MarkupSafe>=0.23 in /usr/local/lib/python3.7/dist-packages (from jinja2->folium->forest-guard==1.0) (2.0.1)\n",
      "Collecting cryptography>=2.0\n",
      "\u001b[?25l  Downloading https://files.pythonhosted.org/packages/b2/26/7af637e6a7e87258b963f1731c5982fb31cd507f0d90d91836e446955d02/cryptography-3.4.7-cp36-abi3-manylinux2014_x86_64.whl (3.2MB)\n",
      "\u001b[K     |████████████████████████████████| 3.2MB 36.8MB/s \n",
      "\u001b[?25hRequirement already satisfied: webencodings in /usr/local/lib/python3.7/dist-packages (from bleach>=2.1.0->readme-renderer>=21.0->twine->forest-guard==1.0) (0.5.1)\n",
      "Requirement already satisfied: packaging in /usr/local/lib/python3.7/dist-packages (from bleach>=2.1.0->readme-renderer>=21.0->twine->forest-guard==1.0) (20.9)\n",
      "Requirement already satisfied: oauthlib>=3.0.0 in /usr/local/lib/python3.7/dist-packages (from requests-oauthlib>=0.7.0->google-auth-oauthlib->gcsfs->forest-guard==1.0) (3.1.0)\n",
      "Requirement already satisfied: pyasn1<0.5.0,>=0.4.6 in /usr/local/lib/python3.7/dist-packages (from pyasn1-modules>=0.2.1->google-auth>=1.2->gcsfs->forest-guard==1.0) (0.4.8)\n",
      "Requirement already satisfied: googleapis-common-protos<2.0dev,>=1.6.0 in /usr/local/lib/python3.7/dist-packages (from google-api-core<2.0.0dev,>=1.14.0->google-cloud-core<2.0dev,>=1.0.0->google-cloud-storage->forest-guard==1.0) (1.53.0)\n",
      "Collecting smmap<5,>=3.0.1\n",
      "  Downloading https://files.pythonhosted.org/packages/68/ee/d540eb5e5996eb81c26ceffac6ee49041d473bc5125f2aa995cf51ec1cf1/smmap-4.0.0-py2.py3-none-any.whl\n",
      "Collecting jmespath<1.0.0,>=0.7.1\n",
      "  Downloading https://files.pythonhosted.org/packages/07/cb/5f001272b6faeb23c1c9e0acc04d48eaaf5c862c17709d20e3469c6e0139/jmespath-0.10.0-py2.py3-none-any.whl\n",
      "Requirement already satisfied: cffi>=1.12 in /usr/local/lib/python3.7/dist-packages (from cryptography>=2.0->SecretStorage>=3.2; sys_platform == \"linux\"->keyring>=15.1->twine->forest-guard==1.0) (1.14.5)\n",
      "Requirement already satisfied: pycparser in /usr/local/lib/python3.7/dist-packages (from cffi>=1.12->cryptography>=2.0->SecretStorage>=3.2; sys_platform == \"linux\"->keyring>=15.1->twine->forest-guard==1.0) (2.20)\n",
      "Building wheels for collected packages: forest-guard, memoized-property, databricks-cli, alembic, prometheus-flask-exporter, aiobotocore\n",
      "  Building wheel for forest-guard (setup.py) ... \u001b[?25l\u001b[?25hdone\n",
      "  Created wheel for forest-guard: filename=forest_guard-1.0-cp37-none-any.whl size=14246 sha256=9937445c656fbb96f05b59b60a1c366a21d9d246cbdd3dbce715ded919a16821\n",
      "  Stored in directory: /tmp/pip-ephem-wheel-cache-y43yxoys/wheels/9e/9d/59/bcf258bba2d65e66bd1972ef2863bdee90cb5bf1b3ef9c2ab3\n",
      "  Building wheel for memoized-property (setup.py) ... \u001b[?25l\u001b[?25hdone\n",
      "  Created wheel for memoized-property: filename=memoized_property-1.0.3-py2.py3-none-any.whl size=4198 sha256=1201b65ded00e46127468bfa39b724ff5fa386a7f577cc06dd55069746e822c5\n",
      "  Stored in directory: /root/.cache/pip/wheels/8e/d4/82/ace27b33257f5918497d20427c0ac31d39c76e68b44d593fe6\n",
      "  Building wheel for databricks-cli (setup.py) ... \u001b[?25l\u001b[?25hdone\n",
      "  Created wheel for databricks-cli: filename=databricks_cli-0.14.3-cp37-none-any.whl size=100560 sha256=8785b59db82ba785709e75fb811c11581ce03a1ac99df65348f35d8e054ad7c7\n",
      "  Stored in directory: /root/.cache/pip/wheels/5b/24/f3/34d8e3964dac4ba849d844273c49a679111b00d5799ebb934a\n",
      "  Building wheel for alembic (setup.py) ... \u001b[?25l\u001b[?25hdone\n",
      "  Created wheel for alembic: filename=alembic-1.4.1-py2.py3-none-any.whl size=158170 sha256=47a8d23b21c989ccb5d7c0236529e66663dd41757cff387447dfe1a003c01a4c\n",
      "  Stored in directory: /root/.cache/pip/wheels/84/07/f7/12f7370ca47a66030c2edeedcc23dec26ea0ac22dcb4c4a0f3\n",
      "  Building wheel for prometheus-flask-exporter (setup.py) ... \u001b[?25l\u001b[?25hdone\n",
      "  Created wheel for prometheus-flask-exporter: filename=prometheus_flask_exporter-0.18.2-cp37-none-any.whl size=17415 sha256=c7895bd90f65f3e66bdf90d8a72b4db65433415fa79091e1f1a6bd51f1d6c81a\n",
      "  Stored in directory: /root/.cache/pip/wheels/c0/e2/9c/4f3ee23964802940f81a8b476d0b9be6fb6348cb12df2e2226\n",
      "  Building wheel for aiobotocore (setup.py) ... \u001b[?25l\u001b[?25hdone\n",
      "  Created wheel for aiobotocore: filename=aiobotocore-1.3.0-cp37-none-any.whl size=45803 sha256=d93af41e85fd1b94068cddb4a7689714a4e7c48fe80a8ba34682461f9f251b0b\n",
      "  Stored in directory: /root/.cache/pip/wheels/1d/5b/92/72a47210109971364c619c41e29289d4e7d58269f0cc653bf1\n",
      "Successfully built forest-guard memoized-property databricks-cli alembic prometheus-flask-exporter aiobotocore\n",
      "\u001b[31mERROR: botocore 1.20.49 has requirement urllib3<1.27,>=1.25.4, but you'll have urllib3 1.24.3 which is incompatible.\u001b[0m\n",
      "Installing collected packages: jeepney, cryptography, SecretStorage, keyring, requests-toolbelt, readme-renderer, pkginfo, rfc3986, colorama, twine, pathspec, regex, typed-ast, mypy-extensions, black, mccabe, pyflakes, pycodestyle, flake8, yapf, fsspec, multidict, yarl, async-timeout, aiohttp, gcsfs, databricks-cli, smmap, gitdb, gitpython, websocket-client, docker, gunicorn, Mako, python-editor, alembic, prometheus-flask-exporter, querystring-parser, mlflow, jmespath, botocore, aioitertools, aiobotocore, s3fs, memoized-property, snuggs, affine, cligj, click-plugins, rasterio, forest-guard\n",
      "  Found existing installation: regex 2019.12.20\n",
      "    Uninstalling regex-2019.12.20:\n",
      "      Successfully uninstalled regex-2019.12.20\n",
      "Successfully installed Mako-1.1.4 SecretStorage-3.3.1 affine-2.3.0 aiobotocore-1.3.0 aiohttp-3.7.4.post0 aioitertools-0.7.1 alembic-1.4.1 async-timeout-3.0.1 black-21.5b2 botocore-1.20.49 click-plugins-1.1.1 cligj-0.7.2 colorama-0.4.4 cryptography-3.4.7 databricks-cli-0.14.3 docker-5.0.0 flake8-3.9.2 forest-guard-1.0 fsspec-2021.5.0 gcsfs-2021.5.0 gitdb-4.0.7 gitpython-3.1.17 gunicorn-20.1.0 jeepney-0.6.0 jmespath-0.10.0 keyring-23.0.1 mccabe-0.6.1 memoized-property-1.0.3 mlflow-1.17.0 multidict-5.1.0 mypy-extensions-0.4.3 pathspec-0.8.1 pkginfo-1.7.0 prometheus-flask-exporter-0.18.2 pycodestyle-2.7.0 pyflakes-2.3.1 python-editor-1.0.4 querystring-parser-1.2.4 rasterio-1.2.4 readme-renderer-29.0 regex-2021.4.4 requests-toolbelt-0.9.1 rfc3986-1.5.0 s3fs-2021.5.0 smmap-4.0.0 snuggs-1.4.7 twine-3.4.1 typed-ast-1.4.3 websocket-client-1.0.1 yapf-0.31.0 yarl-1.6.3\n"
     ]
    }
   ],
   "source": [
    "!pip install ."
   ]
  },
  {
   "cell_type": "code",
   "execution_count": null,
   "id": "2d8bd76e",
   "metadata": {
    "ExecuteTime": {
     "end_time": "2021-05-31T08:29:46.623953Z",
     "start_time": "2021-05-31T08:29:44.816884Z"
    },
    "id": "2d8bd76e"
   },
   "outputs": [],
   "source": [
    "import ee \n",
    "import folium\n",
    "from datetime import datetime as dt\n",
    "from IPython.display import Image\n",
    "import tensorflow as tf\n",
    "import matplotlib.pyplot as plt\n",
    "import os\n",
    "from google.cloud import storage\n",
    "import time\n",
    "import numpy as np\n",
    "from tensorflow.python.keras import layers\n",
    "from tensorflow.python.keras import losses\n",
    "from tensorflow.python.keras import models\n",
    "from tensorflow.python.keras import metrics\n",
    "from tensorflow.python.keras import optimizers"
   ]
  },
  {
   "cell_type": "code",
   "execution_count": null,
   "id": "0572b0d6",
   "metadata": {
    "id": "0572b0d6"
   },
   "outputs": [],
   "source": [
    "#TO BE DONE IN GOOGLE COLAB\n",
    "\n",
    "from google.colab import auth"
   ]
  },
  {
   "cell_type": "code",
   "execution_count": null,
   "id": "ulC2ce8iz0WR",
   "metadata": {
    "id": "ulC2ce8iz0WR"
   },
   "outputs": [],
   "source": [
    "auth.authenticate_user()"
   ]
  },
  {
   "cell_type": "code",
   "execution_count": null,
   "id": "7f5343e9",
   "metadata": {
    "ExecuteTime": {
     "end_time": "2021-05-31T08:31:14.408172Z",
     "start_time": "2021-05-31T08:30:42.946389Z"
    },
    "colab": {
     "base_uri": "https://localhost:8080/"
    },
    "id": "7f5343e9",
    "outputId": "d7c75bee-ab02-447a-ff57-67a29c61d358"
   },
   "outputs": [
    {
     "name": "stdout",
     "output_type": "stream",
     "text": [
      "To authorize access needed by Earth Engine, open the following URL in a web browser and follow the instructions. If the web browser does not start automatically, please manually browse the URL below.\n",
      "\n",
      "    https://accounts.google.com/o/oauth2/auth?client_id=517222506229-vsmmajv00ul0bs7p89v5m89qs8eb9359.apps.googleusercontent.com&scope=https%3A%2F%2Fwww.googleapis.com%2Fauth%2Fearthengine+https%3A%2F%2Fwww.googleapis.com%2Fauth%2Fdevstorage.full_control&redirect_uri=urn%3Aietf%3Awg%3Aoauth%3A2.0%3Aoob&response_type=code&code_challenge=uCJGJHMztEfwxMbXNO-dqmnX9eGz8zgvbrnlot47p8c&code_challenge_method=S256\n",
      "\n",
      "The authorization workflow will generate a code, which you should paste in the box below. \n",
      "Enter verification code: 4/1AY0e-g7jopnIea8dPD90tY47vqMrzxwHLLHq6eD69KaQPM4iouNxrs5J_dk\n",
      "\n",
      "Successfully saved authorization token.\n"
     ]
    }
   ],
   "source": [
    "ee.Authenticate()\n",
    "ee.Initialize()"
   ]
  },
  {
   "cell_type": "code",
   "execution_count": null,
   "id": "9dde7c36",
   "metadata": {
    "ExecuteTime": {
     "end_time": "2021-05-31T08:31:53.367576Z",
     "start_time": "2021-05-31T08:31:53.361889Z"
    },
    "id": "9dde7c36"
   },
   "outputs": [],
   "source": [
    "import os\n",
    "from google.cloud import storage\n",
    "\n",
    "BUCKET = 'forest_guard_bucket'  # ⚠️ replace with your BUCKET NAME\n",
    "FOLDER = 'JP_prediction'\n",
    "TRAINING_BASE = 'training_patches'\n",
    "EVAL_BASE = 'eval_patches'\n",
    "\n",
    "OPTICAL_BANDS = ['B1', 'B2', 'B3', 'B4', 'B5', 'B6', 'B7']\n",
    "THERMAL_BANDS = ['B10', 'B11']\n",
    "BANDS = OPTICAL_BANDS + THERMAL_BANDS\n",
    "RESPONSE = 'fnf'\n",
    "FEATURES = BANDS + [RESPONSE]\n",
    "\n",
    "# Specify the size and shape of patches expected by the model.\n",
    "KERNEL_SIZE = 256\n",
    "KERNEL_SHAPE = [KERNEL_SIZE, KERNEL_SIZE]\n",
    "\n",
    "COLUMNS = [\n",
    "  tf.io.FixedLenFeature(shape=KERNEL_SHAPE, dtype=tf.float32) for k in FEATURES\n",
    "]\n",
    "FEATURES_DICT = dict(zip(FEATURES, COLUMNS))\n",
    "\n",
    "# Specify model training parameters.\n",
    "#BATCH_SIZE = 16\n",
    "# EPOCHS = 10\n",
    "#BUFFER_SIZE = 2000\n",
    "# OPTIMIZER = 'SGD'\n",
    "# LOSS = 'MeanSquaredError'\n",
    "# METRICS = ['RootMeanSquaredError']"
   ]
  },
  {
   "cell_type": "code",
   "execution_count": null,
   "id": "af1a8580",
   "metadata": {
    "ExecuteTime": {
     "end_time": "2021-05-31T08:32:06.335585Z",
     "start_time": "2021-05-31T08:32:06.325753Z"
    },
    "id": "af1a8580"
   },
   "outputs": [],
   "source": [
    "from forest_guard.datas import get_image_landsat\n",
    "\n",
    "image_2018 = get_image_landsat('2018-01-01', '2018-12-31')\n",
    "image_2019 = get_image_landsat('2019-01-01', '2019-12-31')\n",
    "image_2020 = get_image_landsat('2020-01-01', '2020-12-31')"
   ]
  },
  {
   "cell_type": "code",
   "execution_count": null,
   "id": "fdb92057",
   "metadata": {
    "ExecuteTime": {
     "end_time": "2021-05-31T08:32:11.266480Z",
     "start_time": "2021-05-31T08:32:11.262666Z"
    },
    "id": "fdb92057"
   },
   "outputs": [],
   "source": [
    "from forest_guard.datas import get_jaxa\n",
    "\n",
    "jaxa = get_jaxa('2017-01-01', '2017-12-31')"
   ]
  },
  {
   "cell_type": "code",
   "execution_count": null,
   "id": "24c109ba",
   "metadata": {
    "ExecuteTime": {
     "end_time": "2021-05-31T08:32:52.651224Z",
     "start_time": "2021-05-31T08:32:52.646739Z"
    },
    "id": "24c109ba"
   },
   "outputs": [],
   "source": [
    "from forest_guard.datas import get_stacked_arrays\n",
    "\n",
    "arrays_2018 = get_stacked_arrays(image_2019, jaxa, BANDS, RESPONSE, KERNEL_SIZE)\n",
    "arrays_2019 = get_stacked_arrays(image_2019, jaxa, BANDS, RESPONSE, KERNEL_SIZE)\n",
    "arrays_2020 = get_stacked_arrays(image_2020, jaxa, BANDS, RESPONSE, KERNEL_SIZE)"
   ]
  },
  {
   "cell_type": "markdown",
   "id": "2b52f525",
   "metadata": {
    "id": "2b52f525"
   },
   "source": [
    "### Download predict image"
   ]
  },
  {
   "cell_type": "code",
   "execution_count": null,
   "id": "67ff1424",
   "metadata": {
    "ExecuteTime": {
     "end_time": "2021-05-31T08:41:20.942919Z",
     "start_time": "2021-05-31T08:41:20.938213Z"
    },
    "id": "67ff1424"
   },
   "outputs": [],
   "source": [
    "#Predict parameters\n",
    "\n",
    "user_folder = 'users/bastidearthur' # replace 'username' by your GEE username (https://code.earthengine.google.com/ => Assets)\n",
    "predict_image = 'france_mont_de_marsan_2018' #precise zone + model params\n",
    "predict_kernel_buffer = [256, 256]\n",
    "predict_region = ee.Geometry.Rectangle([7.225043704039957,48.82141561662563,7.598578860289957,49.00913356480467])\n",
    "        # [[[-0.6447696609345477,43.92265687302346],\n",
    "        #   [-0.6447696609345477,43.82167805045728],\n",
    "        #   [-0.4195499343720477,43.82167805045728],\n",
    "        #   [-0.4195499343720477,43.92265687302346]]], None, False)\n"
   ]
  },
  {
   "cell_type": "code",
   "execution_count": null,
   "id": "yuCP7RFm-Cjj",
   "metadata": {
    "id": "yuCP7RFm-Cjj"
   },
   "outputs": [],
   "source": [
    "def get_image(predict_image, predict_kernel_buffer, predict_region):\n",
    "  \"\"\"Run the image export task.  Block until complete.\n",
    "  \"\"\"\n",
    "  task = ee.batch.Export.image.toCloudStorage(\n",
    "    image = image_2018.select(BANDS),\n",
    "    description = predict_image,\n",
    "    bucket = BUCKET,\n",
    "    fileNamePrefix = FOLDER + '/' + predict_image,\n",
    "    region = predict_region.getInfo()['coordinates'],\n",
    "    scale = 30,\n",
    "    fileFormat = 'TFRecord',\n",
    "    maxPixels = 1e10,\n",
    "    formatOptions = {\n",
    "      'patchDimensions': KERNEL_SHAPE,\n",
    "      'kernelSize': predict_kernel_buffer,\n",
    "      'compressed': True,\n",
    "      'maxFileSize': 104857600\n",
    "    }\n",
    "  )\n",
    "  task.start()\n",
    "\n",
    "  # Block until the task completes.\n",
    "  print('Running image export to Cloud Storage...')\n",
    "  import time\n",
    "  while task.active():\n",
    "    time.sleep(30)\n",
    "\n",
    "  # Error condition\n",
    "  if task.status()['state'] != 'COMPLETED':\n",
    "    print('Error with image export.')\n",
    "  else:\n",
    "    print('Image export completed.')"
   ]
  },
  {
   "cell_type": "code",
   "execution_count": null,
   "id": "062bb5af",
   "metadata": {
    "colab": {
     "base_uri": "https://localhost:8080/"
    },
    "id": "062bb5af",
    "outputId": "1534c585-b888-45e7-f8e8-5307f7fa5bb3"
   },
   "outputs": [
    {
     "name": "stdout",
     "output_type": "stream",
     "text": [
      "Running image export to Cloud Storage...\n",
      "Image export completed.\n"
     ]
    }
   ],
   "source": [
    "# Run the download\n",
    "get_image(predict_image, predict_kernel_buffer, predict_region)"
   ]
  },
  {
   "cell_type": "markdown",
   "id": "73e210a4",
   "metadata": {
    "id": "73e210a4"
   },
   "source": [
    "### Predict target "
   ]
  },
  {
   "cell_type": "code",
   "execution_count": null,
   "id": "a9d59d6f",
   "metadata": {
    "ExecuteTime": {
     "start_time": "2021-05-31T07:29:58.408Z"
    },
    "id": "a9d59d6f"
   },
   "outputs": [],
   "source": [
    "# Select the model from Cloud Storage to use for prediction\n",
    "MODEL_SAVE = 'gs://' + 'forest_guard_bucket' + '/' + 'models/forest_guard/JP_test_model_adam_binarycrossentropy'  \n",
    "model_adam_crossentropy = tf.keras.models.load_model(MODEL_SAVE)"
   ]
  },
  {
   "cell_type": "code",
   "execution_count": null,
   "id": "MSQM0BmG7ryU",
   "metadata": {
    "id": "MSQM0BmG7ryU"
   },
   "outputs": [],
   "source": [
    "def iou(y_true, y_pred):\n",
    "    '''\n",
    "    dice_loss\n",
    "    '''\n",
    "    y_true = tf.cast(y_true, tf.float32)\n",
    "    y_pred = tf.cast(y_pred, tf.float32)\n",
    "    # y_pred = tf.math.sigmoid(y_pred)\n",
    "    numerator = tf.reduce_sum(y_true * y_pred)\n",
    "    denominator = tf.reduce_sum(y_true + y_pred)-numerator\n",
    "    iou1 = numerator / denominator\n",
    "    \n",
    "    y_true_op = 1-y_true\n",
    "    y_pred_op = 1-y_pred\n",
    "    numerator = tf.reduce_sum(y_true_op * y_pred_op)\n",
    "    denominator = tf.reduce_sum(y_true_op + y_pred_op)-numerator\n",
    "    iou2 = numerator / denominator\n",
    "    \n",
    "    return tf.cast(0.5* (iou1 + iou2), tf.float32)\n",
    "\n",
    "def tversky_loss(beta):\n",
    "  '''\n",
    "  tversky loss is like dice loss with more weight on FP or FN\n",
    "  beta = 0.5, similar to Dice\n",
    "  beta <0.5 more weight on FN\n",
    "  '''\n",
    "\n",
    "  def loss(y_true, y_pred):\n",
    "    y_true = tf.cast(y_true, tf.float32)\n",
    "    #y_pred = tf.math.sigmoid(y_pred)\n",
    "    numerator = y_true * y_pred\n",
    "    denominator = y_true * y_pred + beta * (1 - y_true) * y_pred + (1 - beta) * y_true * (1 - y_pred)\n",
    "\n",
    "    return 1 - tf.reduce_sum(numerator) / tf.reduce_sum(denominator)\n",
    "\n",
    "  return loss"
   ]
  },
  {
   "cell_type": "code",
   "execution_count": null,
   "id": "46_5DVgVM9PV",
   "metadata": {
    "colab": {
     "base_uri": "https://localhost:8080/"
    },
    "id": "46_5DVgVM9PV",
    "outputId": "82b766e9-2384-4f7c-87bb-f18c39a786f4"
   },
   "outputs": [
    {
     "name": "stdout",
     "output_type": "stream",
     "text": [
      "WARNING:tensorflow:SavedModel saved prior to TF 2.5 detected when loading Keras model. Please ensure that you are saving the model with model.save() or tf.keras.models.save_model(), *NOT* tf.saved_model.save(). To confirm, there should be a file named \"keras_metadata.pb\" in the SavedModel directory.\n"
     ]
    }
   ],
   "source": [
    "MODEL_SAVE_TVER = 'gs://' + 'forest_guard_bucket' + '/' + 'models/forest_guard/ai_platform_tversky_ownmodel_patience7'#ai_platform_tversky_ownmodel_test_metric_float'  \n",
    "model_tversky = tf.keras.models.load_model(MODEL_SAVE_TVER, custom_objects={'iou':iou, 'loss':tversky_loss(0.5)})\n"
   ]
  },
  {
   "cell_type": "code",
   "execution_count": null,
   "id": "kmFybUUiqr8I",
   "metadata": {
    "id": "kmFybUUiqr8I"
   },
   "outputs": [],
   "source": [
    "INITIAL_MODEL = 'gs://' + 'forest_guard_bucket' + '/' + 'models/forest_guard/ai_platform_ee_output_format_tf'#'gs://ee-docs-demos/fcnn-demo/trainer/model'\n",
    "initial_model = tf.keras.models.load_model(INITIAL_MODEL)"
   ]
  },
  {
   "cell_type": "code",
   "execution_count": null,
   "id": "3ad93c16",
   "metadata": {
    "colab": {
     "base_uri": "https://localhost:8080/",
     "height": 132
    },
    "id": "3ad93c16",
    "outputId": "ca006a5b-67ce-4acb-cba2-f5089418d05f"
   },
   "outputs": [
    {
     "ename": "SyntaxError",
     "evalue": "ignored",
     "output_type": "error",
     "traceback": [
      "\u001b[0;36m  File \u001b[0;32m\"/content/forest_guard/forest_guard/predict.py\"\u001b[0;36m, line \u001b[0;32m53\u001b[0m\n\u001b[0;31m    filesList = !gsutil ls 'gs://'{BUCKET}'/'{FOLDER}\u001b[0m\n\u001b[0m                ^\u001b[0m\n\u001b[0;31mSyntaxError\u001b[0m\u001b[0;31m:\u001b[0m invalid syntax\n"
     ]
    }
   ],
   "source": [
    "# does not work yet\n",
    "\n",
    "from forest_guard.predict import predict_image_target"
   ]
  },
  {
   "cell_type": "code",
   "execution_count": null,
   "id": "HYO7Z5zy9S8Z",
   "metadata": {
    "id": "HYO7Z5zy9S8Z"
   },
   "outputs": [],
   "source": [
    "def predict_image_target(predict_image, user_folder, predict_kernel_buffer, predict_region):\n",
    "  \"\"\"Perform inference on exported imagery, upload to Earth Engine.\n",
    "  \"\"\"\n",
    "\n",
    "  print('Looking for TFRecord files...')\n",
    "\n",
    "  # Get a list of all the files in the output bucket.\n",
    "  filesList = !gsutil ls 'gs://'{BUCKET}'/'{FOLDER}\n",
    "\n",
    "  # Get only the files generated by the image export.\n",
    "  exportFilesList = [s for s in filesList if predict_image in s]\n",
    "\n",
    "  # Get the list of image files and the JSON mixer file.\n",
    "  imageFilesList = []\n",
    "  jsonFile = None\n",
    "  for f in exportFilesList:\n",
    "    if f.endswith('.tfrecord.gz'):\n",
    "      imageFilesList.append(f)\n",
    "    elif f.endswith('.json'):\n",
    "      jsonFile = f\n",
    "\n",
    "  # Make sure the files are in the right order.\n",
    "  imageFilesList.sort()\n",
    "\n",
    "  from pprint import pprint\n",
    "  pprint(imageFilesList)\n",
    "  print(jsonFile)\n",
    "\n",
    "  import json\n",
    "  # Load the contents of the mixer file to a JSON object.\n",
    "  jsonText = !gsutil cat {jsonFile}\n",
    "  # Get a single string w/ newlines from the IPython.utils.text.SList\n",
    "  mixer = json.loads(jsonText.nlstr)\n",
    "  pprint(mixer)\n",
    "  patches = mixer['totalPatches']\n",
    "\n",
    "  # Get set up for prediction.\n",
    "  x_buffer = int(predict_kernel_buffer[0] / 2)\n",
    "  y_buffer = int(predict_kernel_buffer[1] / 2)\n",
    "\n",
    "  buffered_shape = [\n",
    "      KERNEL_SHAPE[0] + predict_kernel_buffer[0],\n",
    "      KERNEL_SHAPE[1] + predict_kernel_buffer[1]]\n",
    "\n",
    "  imageColumns = [\n",
    "    tf.io.FixedLenFeature(shape=buffered_shape, dtype=tf.float32) \n",
    "      for k in BANDS\n",
    "  ]\n",
    "\n",
    "  imageFeaturesDict = dict(zip(BANDS, imageColumns))\n",
    "\n",
    "  def parse_image(example_proto):\n",
    "    return tf.io.parse_single_example(example_proto, imageFeaturesDict)\n",
    "\n",
    "  def toTupleImage(inputs):\n",
    "    inputsList = [inputs.get(key) for key in BANDS]\n",
    "    stacked = tf.stack(inputsList, axis=0)\n",
    "    stacked = tf.transpose(stacked, [1, 2, 0])\n",
    "    return stacked\n",
    "\n",
    "   # Create a dataset from the TFRecord file(s) in Cloud Storage.\n",
    "  imageDataset = tf.data.TFRecordDataset(imageFilesList, compression_type='GZIP')\n",
    "  imageDataset = imageDataset.map(parse_image, num_parallel_calls=5)\n",
    "  imageDataset = imageDataset.map(toTupleImage).batch(1)\n",
    "\n",
    "  # Perform inference.\n",
    "  print('Running predictions...')\n",
    "  predictions = initial_model.predict(imageDataset, steps=patches, verbose=1)\n",
    "  # print(predictions[0])\n",
    "\n",
    "  featured_predictions = np.where(predictions>0.5,1,predictions)\n",
    "  featured_predictions = np.where(featured_predictions<0.5,0,featured_predictions)\n",
    "\n",
    "  print('Writing predictions...')\n",
    "  predict_image_file = 'gs://' + BUCKET + '/' + FOLDER + '/' + predict_image + '.TFRecord'\n",
    "  writer = tf.io.TFRecordWriter(predict_image_file)\n",
    "  patches = 0\n",
    "  for predictionPatch in featured_predictions:\n",
    "    print('Writing patch ' + str(patches) + '...')\n",
    "    predictionPatch = predictionPatch[\n",
    "        x_buffer:x_buffer+KERNEL_SIZE, y_buffer:y_buffer+KERNEL_SIZE]\n",
    "\n",
    "    # Create an example.\n",
    "    example = tf.train.Example(\n",
    "      features=tf.train.Features(\n",
    "        feature={\n",
    "          'fnf': tf.train.Feature(\n",
    "              float_list=tf.train.FloatList(\n",
    "                  value=predictionPatch.flatten()))\n",
    "        }\n",
    "      )\n",
    "    )\n",
    "    # Write the example.\n",
    "    writer.write(example.SerializeToString())\n",
    "    patches += 1\n",
    "\n",
    "  writer.close()\n",
    "\n",
    "  # Start the upload.\n",
    "  predict_image_asset = user_folder + '/' + predict_image + 'initial_model'\n",
    "  !earthengine upload image --asset_id={predict_image_asset} {predict_image_file} {jsonFile}"
   ]
  },
  {
   "cell_type": "code",
   "execution_count": null,
   "id": "84a7aa1a",
   "metadata": {
    "ExecuteTime": {
     "end_time": "2021-05-30T22:00:22.732011Z",
     "start_time": "2021-05-30T21:59:09.775733Z"
    },
    "colab": {
     "base_uri": "https://localhost:8080/"
    },
    "id": "84a7aa1a",
    "outputId": "e308347b-cb82-40d8-a463-d9b6847d4e35"
   },
   "outputs": [
    {
     "name": "stdout",
     "output_type": "stream",
     "text": [
      "Looking for TFRecord files...\n",
      "['gs://forest_guard_bucket/Arthur_prediction_mont_de_marsan/france_mont_de_marsan_2018.tfrecord.gz']\n",
      "gs://forest_guard_bucket/Arthur_prediction_mont_de_marsan/france_mont_de_marsan_2018.json\n",
      "{'patchDimensions': [256, 256],\n",
      " 'patchesPerRow': 3,\n",
      " 'projection': {'affine': {'doubleMatrix': [0.00026949458523585647,\n",
      "                                            0.0,\n",
      "                                            -0.6449005424694045,\n",
      "                                            0.0,\n",
      "                                            -0.00026949458523585647,\n",
      "                                            43.92276649091036]},\n",
      "                'crs': 'EPSG:4326'},\n",
      " 'totalPatches': 3}\n",
      "Running predictions...\n",
      "3/3 [==============================] - 2s 55ms/step\n",
      "Writing predictions...\n",
      "Writing patch 0...\n",
      "Writing patch 1...\n",
      "Writing patch 2...\n",
      "WARNING:tensorflow:From /usr/local/lib/python3.7/dist-packages/tensorflow/python/compat/v2_compat.py:96: disable_resource_variables (from tensorflow.python.ops.variable_scope) is deprecated and will be removed in a future version.\n",
      "Instructions for updating:\n",
      "non-resource variables are not supported in the long term\n",
      "Started upload task with ID: X62XFA3ZUULS3DJPJEBI6UIQ\n"
     ]
    }
   ],
   "source": [
    "# Run the prediction.\n",
    "predict_image_target(predict_image, user_folder, predict_kernel_buffer, predict_region)"
   ]
  },
  {
   "cell_type": "markdown",
   "id": "3ee61394",
   "metadata": {
    "id": "3ee61394"
   },
   "source": [
    "### Display prediction on map"
   ]
  },
  {
   "cell_type": "code",
   "execution_count": null,
   "id": "fef7479f",
   "metadata": {
    "ExecuteTime": {
     "end_time": "2021-05-31T07:25:53.790220Z",
     "start_time": "2021-05-31T07:25:53.787010Z"
    },
    "id": "fef7479f"
   },
   "outputs": [],
   "source": [
    "palette = ['006400',\n",
    "           'FEFF99']\n",
    "\n",
    "palette_1 = ['FEFF99',\n",
    "             '006400']         "
   ]
  },
  {
   "cell_type": "code",
   "execution_count": null,
   "id": "03290bc2",
   "metadata": {
    "ExecuteTime": {
     "end_time": "2021-05-31T07:26:11.354184Z",
     "start_time": "2021-05-31T07:26:10.668087Z"
    },
    "colab": {
     "base_uri": "https://localhost:8080/",
     "height": 787
    },
    "id": "03290bc2",
    "outputId": "d93dee0a-3620-4a14-8ccb-a92cc72f431e"
   },
   "outputs": [
    {
     "data": {
      "text/html": [
       "<div style=\"width:100%;\"><div style=\"position:relative;width:100%;height:0;padding-bottom:60%;\"><span style=\"color:#565656\">Make this Notebook Trusted to load map: File -> Trust Notebook</span><iframe src=\"about:blank\" style=\"position:absolute;width:100%;height:100%;left:0;top:0;border:none !important;\" data-html=%3C%21DOCTYPE%20html%3E%0A%3Chead%3E%20%20%20%20%0A%20%20%20%20%3Cmeta%20http-equiv%3D%22content-type%22%20content%3D%22text/html%3B%20charset%3DUTF-8%22%20/%3E%0A%20%20%20%20%3Cscript%3EL_PREFER_CANVAS%3Dfalse%3B%20L_NO_TOUCH%3Dfalse%3B%20L_DISABLE_3D%3Dfalse%3B%3C/script%3E%0A%20%20%20%20%3Cscript%20src%3D%22https%3A//cdn.jsdelivr.net/npm/leaflet%401.4.0/dist/leaflet.js%22%3E%3C/script%3E%0A%20%20%20%20%3Cscript%20src%3D%22https%3A//code.jquery.com/jquery-1.12.4.min.js%22%3E%3C/script%3E%0A%20%20%20%20%3Cscript%20src%3D%22https%3A//maxcdn.bootstrapcdn.com/bootstrap/3.2.0/js/bootstrap.min.js%22%3E%3C/script%3E%0A%20%20%20%20%3Cscript%20src%3D%22https%3A//cdnjs.cloudflare.com/ajax/libs/Leaflet.awesome-markers/2.0.2/leaflet.awesome-markers.js%22%3E%3C/script%3E%0A%20%20%20%20%3Clink%20rel%3D%22stylesheet%22%20href%3D%22https%3A//cdn.jsdelivr.net/npm/leaflet%401.4.0/dist/leaflet.css%22/%3E%0A%20%20%20%20%3Clink%20rel%3D%22stylesheet%22%20href%3D%22https%3A//maxcdn.bootstrapcdn.com/bootstrap/3.2.0/css/bootstrap.min.css%22/%3E%0A%20%20%20%20%3Clink%20rel%3D%22stylesheet%22%20href%3D%22https%3A//maxcdn.bootstrapcdn.com/bootstrap/3.2.0/css/bootstrap-theme.min.css%22/%3E%0A%20%20%20%20%3Clink%20rel%3D%22stylesheet%22%20href%3D%22https%3A//maxcdn.bootstrapcdn.com/font-awesome/4.6.3/css/font-awesome.min.css%22/%3E%0A%20%20%20%20%3Clink%20rel%3D%22stylesheet%22%20href%3D%22https%3A//cdnjs.cloudflare.com/ajax/libs/Leaflet.awesome-markers/2.0.2/leaflet.awesome-markers.css%22/%3E%0A%20%20%20%20%3Clink%20rel%3D%22stylesheet%22%20href%3D%22https%3A//rawcdn.githack.com/python-visualization/folium/master/folium/templates/leaflet.awesome.rotate.css%22/%3E%0A%20%20%20%20%3Cstyle%3Ehtml%2C%20body%20%7Bwidth%3A%20100%25%3Bheight%3A%20100%25%3Bmargin%3A%200%3Bpadding%3A%200%3B%7D%3C/style%3E%0A%20%20%20%20%3Cstyle%3E%23map%20%7Bposition%3Aabsolute%3Btop%3A0%3Bbottom%3A0%3Bright%3A0%3Bleft%3A0%3B%7D%3C/style%3E%0A%20%20%20%20%0A%20%20%20%20%3Cmeta%20name%3D%22viewport%22%20content%3D%22width%3Ddevice-width%2C%0A%20%20%20%20%20%20%20%20initial-scale%3D1.0%2C%20maximum-scale%3D1.0%2C%20user-scalable%3Dno%22%20/%3E%0A%20%20%20%20%3Cstyle%3E%23map_a112f7e154ca468e91f75ca986463641%20%7B%0A%20%20%20%20%20%20%20%20position%3A%20relative%3B%0A%20%20%20%20%20%20%20%20width%3A%20100.0%25%3B%0A%20%20%20%20%20%20%20%20height%3A%20100.0%25%3B%0A%20%20%20%20%20%20%20%20left%3A%200.0%25%3B%0A%20%20%20%20%20%20%20%20top%3A%200.0%25%3B%0A%20%20%20%20%20%20%20%20%7D%0A%20%20%20%20%3C/style%3E%0A%3C/head%3E%0A%3Cbody%3E%20%20%20%20%0A%20%20%20%20%0A%20%20%20%20%3Cdiv%20class%3D%22folium-map%22%20id%3D%22map_a112f7e154ca468e91f75ca986463641%22%20%3E%3C/div%3E%0A%3C/body%3E%0A%3Cscript%3E%20%20%20%20%0A%20%20%20%20%0A%20%20%20%20%0A%20%20%20%20%20%20%20%20var%20bounds%20%3D%20null%3B%0A%20%20%20%20%0A%0A%20%20%20%20var%20map_a112f7e154ca468e91f75ca986463641%20%3D%20L.map%28%0A%20%20%20%20%20%20%20%20%27map_a112f7e154ca468e91f75ca986463641%27%2C%20%7B%0A%20%20%20%20%20%20%20%20center%3A%20%5B45.5%2C%202.8%5D%2C%0A%20%20%20%20%20%20%20%20zoom%3A%209%2C%0A%20%20%20%20%20%20%20%20maxBounds%3A%20bounds%2C%0A%20%20%20%20%20%20%20%20layers%3A%20%5B%5D%2C%0A%20%20%20%20%20%20%20%20worldCopyJump%3A%20false%2C%0A%20%20%20%20%20%20%20%20crs%3A%20L.CRS.EPSG3857%2C%0A%20%20%20%20%20%20%20%20zoomControl%3A%20true%2C%0A%20%20%20%20%20%20%20%20%7D%29%3B%0A%0A%0A%20%20%20%20%0A%20%20%20%20var%20tile_layer_21337e8d264b41f7bc25af4adc928bd9%20%3D%20L.tileLayer%28%0A%20%20%20%20%20%20%20%20%27https%3A//%7Bs%7D.tile.openstreetmap.org/%7Bz%7D/%7Bx%7D/%7By%7D.png%27%2C%0A%20%20%20%20%20%20%20%20%7B%0A%20%20%20%20%20%20%20%20%22attribution%22%3A%20null%2C%0A%20%20%20%20%20%20%20%20%22detectRetina%22%3A%20false%2C%0A%20%20%20%20%20%20%20%20%22maxNativeZoom%22%3A%2018%2C%0A%20%20%20%20%20%20%20%20%22maxZoom%22%3A%2018%2C%0A%20%20%20%20%20%20%20%20%22minZoom%22%3A%200%2C%0A%20%20%20%20%20%20%20%20%22noWrap%22%3A%20false%2C%0A%20%20%20%20%20%20%20%20%22opacity%22%3A%201%2C%0A%20%20%20%20%20%20%20%20%22subdomains%22%3A%20%22abc%22%2C%0A%20%20%20%20%20%20%20%20%22tms%22%3A%20false%0A%7D%29.addTo%28map_a112f7e154ca468e91f75ca986463641%29%3B%0A%20%20%20%20var%20tile_layer_f3a303420eec47968cc5a33c73e50f44%20%3D%20L.tileLayer%28%0A%20%20%20%20%20%20%20%20%27https%3A//earthengine.googleapis.com/v1alpha/projects/earthengine-legacy/maps/e060328801dfe2df468179e6e3cc77bb-dff093ff1af85351f707d79136b67649/tiles/%7Bz%7D/%7Bx%7D/%7By%7D%27%2C%0A%20%20%20%20%20%20%20%20%7B%0A%20%20%20%20%20%20%20%20%22attribution%22%3A%20%22Map%20Data%20%26copy%3B%20%3Ca%20href%3D%5C%22https%3A//earthengine.google.com/%5C%22%3EGoogle%20Earth%20Engine%3C/a%3E%22%2C%0A%20%20%20%20%20%20%20%20%22color%22%3A%20%5B%0A%20%20%20%20%20%20%20%20%20%20%20%20%20%20%20%20%22006400%22%2C%0A%20%20%20%20%20%20%20%20%20%20%20%20%20%20%20%20%22FEFF99%22%0A%20%20%20%20%20%20%20%20%5D%2C%0A%20%20%20%20%20%20%20%20%22detectRetina%22%3A%20false%2C%0A%20%20%20%20%20%20%20%20%22maxNativeZoom%22%3A%2018%2C%0A%20%20%20%20%20%20%20%20%22maxZoom%22%3A%2018%2C%0A%20%20%20%20%20%20%20%20%22minZoom%22%3A%200%2C%0A%20%20%20%20%20%20%20%20%22noWrap%22%3A%20false%2C%0A%20%20%20%20%20%20%20%20%22opacity%22%3A%200.4%2C%0A%20%20%20%20%20%20%20%20%22subdomains%22%3A%20%22abc%22%2C%0A%20%20%20%20%20%20%20%20%22tms%22%3A%20false%0A%7D%29.addTo%28map_a112f7e154ca468e91f75ca986463641%29%3B%0A%20%20%20%20var%20tile_layer_fbcc0bad65ad42aabba79645ec7918a5%20%3D%20L.tileLayer%28%0A%20%20%20%20%20%20%20%20%27https%3A//earthengine.googleapis.com/v1alpha/projects/earthengine-legacy/maps/2e9da2194aa35f7fd492b00f7c074e61-a62d47097efee8b85e84dbe060b627df/tiles/%7Bz%7D/%7Bx%7D/%7By%7D%27%2C%0A%20%20%20%20%20%20%20%20%7B%0A%20%20%20%20%20%20%20%20%22attribution%22%3A%20%22Map%20Data%20%26copy%3B%20%3Ca%20href%3D%5C%22https%3A//earthengine.google.com/%5C%22%3EGoogle%20Earth%20Engine%3C/a%3E%22%2C%0A%20%20%20%20%20%20%20%20%22color%22%3A%20%5B%0A%20%20%20%20%20%20%20%20%20%20%20%20%20%20%20%20%22006400%22%2C%0A%20%20%20%20%20%20%20%20%20%20%20%20%20%20%20%20%22FEFF99%22%0A%20%20%20%20%20%20%20%20%5D%2C%0A%20%20%20%20%20%20%20%20%22detectRetina%22%3A%20false%2C%0A%20%20%20%20%20%20%20%20%22maxNativeZoom%22%3A%2018%2C%0A%20%20%20%20%20%20%20%20%22maxZoom%22%3A%2018%2C%0A%20%20%20%20%20%20%20%20%22minZoom%22%3A%200%2C%0A%20%20%20%20%20%20%20%20%22noWrap%22%3A%20false%2C%0A%20%20%20%20%20%20%20%20%22opacity%22%3A%201%2C%0A%20%20%20%20%20%20%20%20%22subdomains%22%3A%20%22abc%22%2C%0A%20%20%20%20%20%20%20%20%22tms%22%3A%20false%0A%7D%29.addTo%28map_a112f7e154ca468e91f75ca986463641%29%3B%0A%20%20%20%20var%20tile_layer_7480c2eec73142f59326fd1e3c76ac66%20%3D%20L.tileLayer%28%0A%20%20%20%20%20%20%20%20%27https%3A//earthengine.googleapis.com/v1alpha/projects/earthengine-legacy/maps/9e84678e7f414c30e42ba67cdded2c18-baddc41b5ad39bfd83fb5fe2419bc66c/tiles/%7Bz%7D/%7Bx%7D/%7By%7D%27%2C%0A%20%20%20%20%20%20%20%20%7B%0A%20%20%20%20%20%20%20%20%22attribution%22%3A%20%22Map%20Data%20%26copy%3B%20%3Ca%20href%3D%5C%22https%3A//earthengine.google.com/%5C%22%3EGoogle%20Earth%20Engine%3C/a%3E%22%2C%0A%20%20%20%20%20%20%20%20%22color%22%3A%20%5B%0A%20%20%20%20%20%20%20%20%20%20%20%20%20%20%20%20%22006400%22%2C%0A%20%20%20%20%20%20%20%20%20%20%20%20%20%20%20%20%22FEFF99%22%0A%20%20%20%20%20%20%20%20%5D%2C%0A%20%20%20%20%20%20%20%20%22detectRetina%22%3A%20false%2C%0A%20%20%20%20%20%20%20%20%22maxNativeZoom%22%3A%2018%2C%0A%20%20%20%20%20%20%20%20%22maxZoom%22%3A%2018%2C%0A%20%20%20%20%20%20%20%20%22minZoom%22%3A%200%2C%0A%20%20%20%20%20%20%20%20%22noWrap%22%3A%20false%2C%0A%20%20%20%20%20%20%20%20%22opacity%22%3A%201%2C%0A%20%20%20%20%20%20%20%20%22subdomains%22%3A%20%22abc%22%2C%0A%20%20%20%20%20%20%20%20%22tms%22%3A%20false%0A%7D%29.addTo%28map_a112f7e154ca468e91f75ca986463641%29%3B%0A%20%20%20%20%0A%20%20%20%20%20%20%20%20%20%20%20%20var%20layer_control_70b33aaa3847415c83d342102638d8d4%20%3D%20%7B%0A%20%20%20%20%20%20%20%20%20%20%20%20%20%20%20%20base_layers%20%3A%20%7B%20%22openstreetmap%22%20%3A%20tile_layer_21337e8d264b41f7bc25af4adc928bd9%2C%22prediction%20initial%20model%22%20%3A%20tile_layer_fbcc0bad65ad42aabba79645ec7918a5%2C%22jaxa%20fnf%22%20%3A%20tile_layer_7480c2eec73142f59326fd1e3c76ac66%2C%20%7D%2C%0A%20%20%20%20%20%20%20%20%20%20%20%20%20%20%20%20overlays%20%3A%20%7B%20%22prediction%20adam%20crossentropy%22%20%3A%20tile_layer_f3a303420eec47968cc5a33c73e50f44%2C%20%7D%0A%20%20%20%20%20%20%20%20%20%20%20%20%20%20%20%20%7D%3B%0A%20%20%20%20%20%20%20%20%20%20%20%20L.control.layers%28%0A%20%20%20%20%20%20%20%20%20%20%20%20%20%20%20%20layer_control_70b33aaa3847415c83d342102638d8d4.base_layers%2C%0A%20%20%20%20%20%20%20%20%20%20%20%20%20%20%20%20layer_control_70b33aaa3847415c83d342102638d8d4.overlays%2C%0A%20%20%20%20%20%20%20%20%20%20%20%20%20%20%20%20%7Bposition%3A%20%27topright%27%2C%0A%20%20%20%20%20%20%20%20%20%20%20%20%20%20%20%20%20collapsed%3A%20true%2C%0A%20%20%20%20%20%20%20%20%20%20%20%20%20%20%20%20%20autoZIndex%3A%20true%0A%20%20%20%20%20%20%20%20%20%20%20%20%20%20%20%20%7D%29.addTo%28map_a112f7e154ca468e91f75ca986463641%29%3B%0A%20%20%20%20%20%20%20%20%20%20%20%20%0A%20%20%20%20%20%20%20%20%20%20%20%20%20%20%20%20tile_layer_fbcc0bad65ad42aabba79645ec7918a5.remove%28%29%3B%0A%20%20%20%20%20%20%20%20%20%20%20%20%20%20%20%20tile_layer_7480c2eec73142f59326fd1e3c76ac66.remove%28%29%3B%0A%20%20%20%20%20%20%20%20%0A%3C/script%3E onload=\"this.contentDocument.open();this.contentDocument.write(    decodeURIComponent(this.getAttribute('data-html')));this.contentDocument.close();\" allowfullscreen webkitallowfullscreen mozallowfullscreen></iframe></div></div>"
      ],
      "text/plain": [
       "<folium.folium.Map at 0x7f6858235f10>"
      ]
     },
     "execution_count": 47,
     "metadata": {
      "tags": []
     },
     "output_type": "execute_result"
    }
   ],
   "source": [
    "# Display predicted target on a map\n",
    "\n",
    "prediction_adam_crossentropy = ee.Image(user_folder + '/' + 'france_mont_de_marsan_2018model_adam_crossentropy')\n",
    "\n",
    "prediction_initial_model = ee.Image(user_folder + '/' + 'france_mont_de_marsan_2018initial_model')\n",
    "\n",
    "mapid_1 = prediction_adam_crossentropy.getMapId({'bands': ['fnf'],\n",
    "                       'min': 0, \n",
    "                       'max': 1, \n",
    "                      'palette':palette_1\n",
    "                      })\n",
    "\n",
    "mapid_2 = prediction_initial_model.getMapId({'bands': ['fnf'],\n",
    "                       'min': 0, \n",
    "                       'max': 1, \n",
    "                      'palette':palette_1\n",
    "                      })\n",
    "\n",
    "mapid_3 = jaxa.getMapId({'bands': ['fnf'],\n",
    "                       'min': 1, \n",
    "                       'max': 2, \n",
    "                      'palette':palette\n",
    "                      })\n",
    "\n",
    "map = folium.Map(location=[45.5, 2.8], zoom_start=9)\n",
    "\n",
    "folium.TileLayer(\n",
    "    tiles=mapid_1['tile_fetcher'].url_format,\n",
    "    attr='Map Data &copy; <a href=\"https://earthengine.google.com/\">Google Earth Engine</a>',\n",
    "    overlay=True,\n",
    "    name='prediction adam crossentropy',\n",
    "    color=palette,\n",
    "    opacity = 0.4\n",
    "  ).add_to(map)\n",
    "\n",
    "folium.TileLayer(\n",
    "    tiles=mapid_2['tile_fetcher'].url_format,\n",
    "    attr='Map Data &copy; <a href=\"https://earthengine.google.com/\">Google Earth Engine</a>',\n",
    "    overlay=False,\n",
    "    name='prediction initial model',\n",
    "    color=palette,\n",
    "    opacity = 1\n",
    "  ).add_to(map)\n",
    "\n",
    "folium.TileLayer(\n",
    "    tiles=mapid_3['tile_fetcher'].url_format,\n",
    "    attr='Map Data &copy; <a href=\"https://earthengine.google.com/\">Google Earth Engine</a>',\n",
    "    overlay=False,\n",
    "    name='jaxa fnf',\n",
    "    color=palette,\n",
    "    opacity = 1\n",
    "  ).add_to(map)\n",
    "\n",
    "map.add_child(folium.LayerControl())\n",
    "map"
   ]
  },
  {
   "cell_type": "code",
   "execution_count": null,
   "id": "4f529eec",
   "metadata": {
    "ExecuteTime": {
     "end_time": "2021-05-31T07:26:16.775503Z",
     "start_time": "2021-05-31T07:26:16.483181Z"
    },
    "colab": {
     "base_uri": "https://localhost:8080/",
     "height": 787
    },
    "id": "4f529eec",
    "outputId": "5d629f4e-ded1-4cf6-f263-376f5e0058e8"
   },
   "outputs": [
    {
     "data": {
      "text/html": [
       "<div style=\"width:100%;\"><div style=\"position:relative;width:100%;height:0;padding-bottom:60%;\"><span style=\"color:#565656\">Make this Notebook Trusted to load map: File -> Trust Notebook</span><iframe src=\"about:blank\" style=\"position:absolute;width:100%;height:100%;left:0;top:0;border:none !important;\" data-html=%3C%21DOCTYPE%20html%3E%0A%3Chead%3E%20%20%20%20%0A%20%20%20%20%3Cmeta%20http-equiv%3D%22content-type%22%20content%3D%22text/html%3B%20charset%3DUTF-8%22%20/%3E%0A%20%20%20%20%3Cscript%3EL_PREFER_CANVAS%3Dfalse%3B%20L_NO_TOUCH%3Dfalse%3B%20L_DISABLE_3D%3Dfalse%3B%3C/script%3E%0A%20%20%20%20%3Cscript%20src%3D%22https%3A//cdn.jsdelivr.net/npm/leaflet%401.4.0/dist/leaflet.js%22%3E%3C/script%3E%0A%20%20%20%20%3Cscript%20src%3D%22https%3A//code.jquery.com/jquery-1.12.4.min.js%22%3E%3C/script%3E%0A%20%20%20%20%3Cscript%20src%3D%22https%3A//maxcdn.bootstrapcdn.com/bootstrap/3.2.0/js/bootstrap.min.js%22%3E%3C/script%3E%0A%20%20%20%20%3Cscript%20src%3D%22https%3A//cdnjs.cloudflare.com/ajax/libs/Leaflet.awesome-markers/2.0.2/leaflet.awesome-markers.js%22%3E%3C/script%3E%0A%20%20%20%20%3Clink%20rel%3D%22stylesheet%22%20href%3D%22https%3A//cdn.jsdelivr.net/npm/leaflet%401.4.0/dist/leaflet.css%22/%3E%0A%20%20%20%20%3Clink%20rel%3D%22stylesheet%22%20href%3D%22https%3A//maxcdn.bootstrapcdn.com/bootstrap/3.2.0/css/bootstrap.min.css%22/%3E%0A%20%20%20%20%3Clink%20rel%3D%22stylesheet%22%20href%3D%22https%3A//maxcdn.bootstrapcdn.com/bootstrap/3.2.0/css/bootstrap-theme.min.css%22/%3E%0A%20%20%20%20%3Clink%20rel%3D%22stylesheet%22%20href%3D%22https%3A//maxcdn.bootstrapcdn.com/font-awesome/4.6.3/css/font-awesome.min.css%22/%3E%0A%20%20%20%20%3Clink%20rel%3D%22stylesheet%22%20href%3D%22https%3A//cdnjs.cloudflare.com/ajax/libs/Leaflet.awesome-markers/2.0.2/leaflet.awesome-markers.css%22/%3E%0A%20%20%20%20%3Clink%20rel%3D%22stylesheet%22%20href%3D%22https%3A//rawcdn.githack.com/python-visualization/folium/master/folium/templates/leaflet.awesome.rotate.css%22/%3E%0A%20%20%20%20%3Cstyle%3Ehtml%2C%20body%20%7Bwidth%3A%20100%25%3Bheight%3A%20100%25%3Bmargin%3A%200%3Bpadding%3A%200%3B%7D%3C/style%3E%0A%20%20%20%20%3Cstyle%3E%23map%20%7Bposition%3Aabsolute%3Btop%3A0%3Bbottom%3A0%3Bright%3A0%3Bleft%3A0%3B%7D%3C/style%3E%0A%20%20%20%20%0A%20%20%20%20%3Cmeta%20name%3D%22viewport%22%20content%3D%22width%3Ddevice-width%2C%0A%20%20%20%20%20%20%20%20initial-scale%3D1.0%2C%20maximum-scale%3D1.0%2C%20user-scalable%3Dno%22%20/%3E%0A%20%20%20%20%3Cstyle%3E%23map_af9131f66dc44fc2a89a81654167c6e8%20%7B%0A%20%20%20%20%20%20%20%20position%3A%20relative%3B%0A%20%20%20%20%20%20%20%20width%3A%20100.0%25%3B%0A%20%20%20%20%20%20%20%20height%3A%20100.0%25%3B%0A%20%20%20%20%20%20%20%20left%3A%200.0%25%3B%0A%20%20%20%20%20%20%20%20top%3A%200.0%25%3B%0A%20%20%20%20%20%20%20%20%7D%0A%20%20%20%20%3C/style%3E%0A%3C/head%3E%0A%3Cbody%3E%20%20%20%20%0A%20%20%20%20%0A%20%20%20%20%3Cdiv%20class%3D%22folium-map%22%20id%3D%22map_af9131f66dc44fc2a89a81654167c6e8%22%20%3E%3C/div%3E%0A%3C/body%3E%0A%3Cscript%3E%20%20%20%20%0A%20%20%20%20%0A%20%20%20%20%0A%20%20%20%20%20%20%20%20var%20bounds%20%3D%20null%3B%0A%20%20%20%20%0A%0A%20%20%20%20var%20map_af9131f66dc44fc2a89a81654167c6e8%20%3D%20L.map%28%0A%20%20%20%20%20%20%20%20%27map_af9131f66dc44fc2a89a81654167c6e8%27%2C%20%7B%0A%20%20%20%20%20%20%20%20center%3A%20%5B45.5%2C%202.8%5D%2C%0A%20%20%20%20%20%20%20%20zoom%3A%2010%2C%0A%20%20%20%20%20%20%20%20maxBounds%3A%20bounds%2C%0A%20%20%20%20%20%20%20%20layers%3A%20%5B%5D%2C%0A%20%20%20%20%20%20%20%20worldCopyJump%3A%20false%2C%0A%20%20%20%20%20%20%20%20crs%3A%20L.CRS.EPSG3857%2C%0A%20%20%20%20%20%20%20%20zoomControl%3A%20true%2C%0A%20%20%20%20%20%20%20%20%7D%29%3B%0A%0A%0A%20%20%20%20%0A%20%20%20%20var%20tile_layer_28ea57951fd849f68a8f27f32d757f9f%20%3D%20L.tileLayer%28%0A%20%20%20%20%20%20%20%20%27https%3A//%7Bs%7D.tile.openstreetmap.org/%7Bz%7D/%7Bx%7D/%7By%7D.png%27%2C%0A%20%20%20%20%20%20%20%20%7B%0A%20%20%20%20%20%20%20%20%22attribution%22%3A%20null%2C%0A%20%20%20%20%20%20%20%20%22detectRetina%22%3A%20false%2C%0A%20%20%20%20%20%20%20%20%22maxNativeZoom%22%3A%2018%2C%0A%20%20%20%20%20%20%20%20%22maxZoom%22%3A%2018%2C%0A%20%20%20%20%20%20%20%20%22minZoom%22%3A%200%2C%0A%20%20%20%20%20%20%20%20%22noWrap%22%3A%20false%2C%0A%20%20%20%20%20%20%20%20%22opacity%22%3A%201%2C%0A%20%20%20%20%20%20%20%20%22subdomains%22%3A%20%22abc%22%2C%0A%20%20%20%20%20%20%20%20%22tms%22%3A%20false%0A%7D%29.addTo%28map_af9131f66dc44fc2a89a81654167c6e8%29%3B%0A%20%20%20%20var%20tile_layer_37766cde15e14a03907cbb57990a3ab7%20%3D%20L.tileLayer%28%0A%20%20%20%20%20%20%20%20%27https%3A//earthengine.googleapis.com/v1alpha/projects/earthengine-legacy/maps/30ff626897979de1de0c4d4efd318afa-f85bd7279e24279c7d2537182e9f2a24/tiles/%7Bz%7D/%7Bx%7D/%7By%7D%27%2C%0A%20%20%20%20%20%20%20%20%7B%0A%20%20%20%20%20%20%20%20%22attribution%22%3A%20%22Map%20Data%20%26copy%3B%20%3Ca%20href%3D%5C%22https%3A//earthengine.google.com/%5C%22%3EGoogle%20Earth%20Engine%3C/a%3E%22%2C%0A%20%20%20%20%20%20%20%20%22color%22%3A%20%5B%0A%20%20%20%20%20%20%20%20%20%20%20%20%20%20%20%20%22006600%22%2C%0A%20%20%20%20%20%20%20%20%20%20%20%20%20%20%20%20%22FEFF99%22%0A%20%20%20%20%20%20%20%20%5D%2C%0A%20%20%20%20%20%20%20%20%22detectRetina%22%3A%20false%2C%0A%20%20%20%20%20%20%20%20%22maxNativeZoom%22%3A%2018%2C%0A%20%20%20%20%20%20%20%20%22maxZoom%22%3A%2018%2C%0A%20%20%20%20%20%20%20%20%22minZoom%22%3A%200%2C%0A%20%20%20%20%20%20%20%20%22noWrap%22%3A%20false%2C%0A%20%20%20%20%20%20%20%20%22opacity%22%3A%201%2C%0A%20%20%20%20%20%20%20%20%22subdomains%22%3A%20%22abc%22%2C%0A%20%20%20%20%20%20%20%20%22tms%22%3A%20false%0A%7D%29.addTo%28map_af9131f66dc44fc2a89a81654167c6e8%29%3B%0A%20%20%20%20%0A%20%20%20%20%20%20%20%20%20%20%20%20var%20layer_control_b2ae2f77e6b7481e962a12263813b8c9%20%3D%20%7B%0A%20%20%20%20%20%20%20%20%20%20%20%20%20%20%20%20base_layers%20%3A%20%7B%20%22openstreetmap%22%20%3A%20tile_layer_28ea57951fd849f68a8f27f32d757f9f%2C%20%7D%2C%0A%20%20%20%20%20%20%20%20%20%20%20%20%20%20%20%20overlays%20%3A%20%7B%20%22jaxa%20fnf%22%20%3A%20tile_layer_37766cde15e14a03907cbb57990a3ab7%2C%20%7D%0A%20%20%20%20%20%20%20%20%20%20%20%20%20%20%20%20%7D%3B%0A%20%20%20%20%20%20%20%20%20%20%20%20L.control.layers%28%0A%20%20%20%20%20%20%20%20%20%20%20%20%20%20%20%20layer_control_b2ae2f77e6b7481e962a12263813b8c9.base_layers%2C%0A%20%20%20%20%20%20%20%20%20%20%20%20%20%20%20%20layer_control_b2ae2f77e6b7481e962a12263813b8c9.overlays%2C%0A%20%20%20%20%20%20%20%20%20%20%20%20%20%20%20%20%7Bposition%3A%20%27topright%27%2C%0A%20%20%20%20%20%20%20%20%20%20%20%20%20%20%20%20%20collapsed%3A%20true%2C%0A%20%20%20%20%20%20%20%20%20%20%20%20%20%20%20%20%20autoZIndex%3A%20true%0A%20%20%20%20%20%20%20%20%20%20%20%20%20%20%20%20%7D%29.addTo%28map_af9131f66dc44fc2a89a81654167c6e8%29%3B%0A%20%20%20%20%20%20%20%20%20%20%20%20%0A%20%20%20%20%20%20%20%20%0A%3C/script%3E onload=\"this.contentDocument.open();this.contentDocument.write(    decodeURIComponent(this.getAttribute('data-html')));this.contentDocument.close();\" allowfullscreen webkitallowfullscreen mozallowfullscreen></iframe></div></div>"
      ],
      "text/plain": [
       "<folium.folium.Map at 0x7f74dd208990>"
      ]
     },
     "execution_count": 105,
     "metadata": {
      "tags": []
     },
     "output_type": "execute_result"
    }
   ],
   "source": [
    "# Display y_true to compare\n",
    "\n",
    "mapid = jaxa.getMapId({'bands': ['fnf'],\n",
    "                       'min': 2, \n",
    "                       'max': 0, \n",
    "                      'palette':palette\n",
    "                      })\n",
    "map = folium.Map(location=[45.5, 2.8], zoom_start=10)\n",
    "\n",
    "\n",
    "folium.TileLayer(\n",
    "    tiles=mapid['tile_fetcher'].url_format,\n",
    "    attr='Map Data &copy; <a href=\"https://earthengine.google.com/\">Google Earth Engine</a>',\n",
    "    overlay=True,\n",
    "    name='jaxa fnf',\n",
    "    color=palette,\n",
    "    opacity = 1\n",
    "  ).add_to(map)\n",
    "map.add_child(folium.LayerControl())\n",
    "map"
   ]
  },
  {
   "cell_type": "markdown",
   "id": "6b248755",
   "metadata": {
    "id": "6b248755"
   },
   "source": [
    "### Compare y_true vs. y_pred on specific images"
   ]
  },
  {
   "cell_type": "code",
   "execution_count": null,
   "id": "49eef7c3",
   "metadata": {
    "ExecuteTime": {
     "end_time": "2021-05-31T09:13:06.962318Z",
     "start_time": "2021-05-31T09:13:06.958394Z"
    },
    "id": "49eef7c3"
   },
   "outputs": [],
   "source": [
    "rect_train = []\n",
    "rect_train.append(predict_region)\n",
    "trainingPolys = ee.FeatureCollection(rect_train)\n",
    "\n",
    "rect_eval=[]\n",
    "evalPolys= ee.FeatureCollection(rect_eval)"
   ]
  },
  {
   "cell_type": "code",
   "execution_count": null,
   "id": "89cc2633",
   "metadata": {
    "ExecuteTime": {
     "end_time": "2021-05-31T09:20:47.227999Z",
     "start_time": "2021-05-31T09:13:36.941029Z"
    },
    "colab": {
     "base_uri": "https://localhost:8080/"
    },
    "id": "89cc2633",
    "outputId": "3f094588-85d3-412c-9ec6-89aabfbf6516"
   },
   "outputs": [
    {
     "name": "stdout",
     "output_type": "stream",
     "text": [
      "{'state': 'READY', 'description': 'training_patches_g0', 'creation_timestamp_ms': 1622546164948, 'update_timestamp_ms': 1622546164948, 'start_timestamp_ms': 0, 'task_type': 'EXPORT_FEATURES', 'id': 'K2QTSVST2MAZVUEEBCNSULQN', 'name': 'projects/earthengine-legacy/operations/K2QTSVST2MAZVUEEBCNSULQN'}\n",
      "Polling for task (id: K2QTSVST2MAZVUEEBCNSULQN).\n",
      "Polling for task (id: K2QTSVST2MAZVUEEBCNSULQN).\n",
      "Polling for task (id: K2QTSVST2MAZVUEEBCNSULQN).\n",
      "Polling for task (id: K2QTSVST2MAZVUEEBCNSULQN).\n",
      "Polling for task (id: K2QTSVST2MAZVUEEBCNSULQN).\n",
      "Polling for task (id: K2QTSVST2MAZVUEEBCNSULQN).\n",
      "Polling for task (id: K2QTSVST2MAZVUEEBCNSULQN).\n",
      "Polling for task (id: K2QTSVST2MAZVUEEBCNSULQN).\n",
      "Polling for task (id: K2QTSVST2MAZVUEEBCNSULQN).\n",
      "Polling for task (id: K2QTSVST2MAZVUEEBCNSULQN).\n",
      "Polling for task (id: K2QTSVST2MAZVUEEBCNSULQN).\n",
      "Polling for task (id: K2QTSVST2MAZVUEEBCNSULQN).\n",
      "Polling for task (id: K2QTSVST2MAZVUEEBCNSULQN).\n",
      "Polling for task (id: K2QTSVST2MAZVUEEBCNSULQN).\n",
      "Polling for task (id: K2QTSVST2MAZVUEEBCNSULQN).\n",
      "Polling for task (id: K2QTSVST2MAZVUEEBCNSULQN).\n",
      "Polling for task (id: K2QTSVST2MAZVUEEBCNSULQN).\n",
      "Polling for task (id: K2QTSVST2MAZVUEEBCNSULQN).\n",
      "Polling for task (id: K2QTSVST2MAZVUEEBCNSULQN).\n",
      "Polling for task (id: K2QTSVST2MAZVUEEBCNSULQN).\n",
      "Polling for task (id: K2QTSVST2MAZVUEEBCNSULQN).\n",
      "Polling for task (id: K2QTSVST2MAZVUEEBCNSULQN).\n",
      "Polling for task (id: K2QTSVST2MAZVUEEBCNSULQN).\n",
      "Polling for task (id: K2QTSVST2MAZVUEEBCNSULQN).\n",
      "Polling for task (id: K2QTSVST2MAZVUEEBCNSULQN).\n",
      "Polling for task (id: K2QTSVST2MAZVUEEBCNSULQN).\n",
      "Polling for task (id: K2QTSVST2MAZVUEEBCNSULQN).\n",
      "Polling for task (id: K2QTSVST2MAZVUEEBCNSULQN).\n",
      "Image export completed.\n"
     ]
    }
   ],
   "source": [
    "########DO NOT RUN\n",
    "from forest_guard.datas import export_to_cloud_sampling_train_eval\n",
    "\n",
    "\n",
    "export_to_cloud_sampling_train_eval(trainingPolys, evalPolys, arrays_2018, 10, 100, FOLDER)"
   ]
  },
  {
   "cell_type": "code",
   "execution_count": null,
   "id": "53f0e01e",
   "metadata": {
    "ExecuteTime": {
     "start_time": "2021-05-31T09:27:25.134Z"
    },
    "id": "53f0e01e"
   },
   "outputs": [],
   "source": [
    "from forest_guard.parse import get_training_dataset\n",
    "\n",
    "image_data = get_training_dataset(FOLDER)"
   ]
  },
  {
   "cell_type": "code",
   "execution_count": null,
   "id": "4254630c",
   "metadata": {
    "colab": {
     "base_uri": "https://localhost:8080/"
    },
    "id": "4254630c",
    "outputId": "8f9290bd-91bc-4cbd-b6a3-32f086721475"
   },
   "outputs": [
    {
     "data": {
      "text/plain": [
       "(TensorShape([16, 256, 256, 9]), TensorShape([16, 256, 256, 1]))"
      ]
     },
     "execution_count": 16,
     "metadata": {
      "tags": []
     },
     "output_type": "execute_result"
    }
   ],
   "source": [
    "images , labels = iter(image_data.take(1)).next()\n",
    "images.shape, labels.shape"
   ]
  },
  {
   "cell_type": "code",
   "execution_count": null,
   "id": "Lc_loVXW1-me",
   "metadata": {
    "colab": {
     "base_uri": "https://localhost:8080/"
    },
    "id": "Lc_loVXW1-me",
    "outputId": "e6609a0d-0d02-41a9-8ca2-b2476f98770c"
   },
   "outputs": [
    {
     "name": "stdout",
     "output_type": "stream",
     "text": [
      "1/1 [==============================] - 7s 7s/step\n"
     ]
    }
   ],
   "source": [
    "predictions_adam_crossentropy = model_adam_crossentropy.predict(images, verbose=1)"
   ]
  },
  {
   "cell_type": "code",
   "execution_count": null,
   "id": "K5E6rQuX3Efl",
   "metadata": {
    "id": "K5E6rQuX3Efl"
   },
   "outputs": [],
   "source": [
    "featured_predictions_adam_crossentropy = np.where(predictions_adam_crossentropy>0.5,1,predictions_adam_crossentropy)\n",
    "featured_predictions_adam_crossentropy = np.where(featured_predictions_adam_crossentropy<0.5,0,featured_predictions_adam_crossentropy)"
   ]
  },
  {
   "cell_type": "code",
   "execution_count": null,
   "id": "wz0BR7wM5JdY",
   "metadata": {
    "colab": {
     "base_uri": "https://localhost:8080/"
    },
    "id": "wz0BR7wM5JdY",
    "outputId": "c32d98de-4bfb-496e-a66f-ba4e39fc9bc5"
   },
   "outputs": [
    {
     "name": "stdout",
     "output_type": "stream",
     "text": [
      "1/1 [==============================] - 7s 7s/step\n"
     ]
    }
   ],
   "source": [
    "predictions_initial_model = initial_model.predict(images, verbose=1)"
   ]
  },
  {
   "cell_type": "code",
   "execution_count": null,
   "id": "2bP1c-s35jsy",
   "metadata": {
    "id": "2bP1c-s35jsy"
   },
   "outputs": [],
   "source": [
    "featured_predictions_initial_model = np.where(predictions_initial_model>0.5,1,predictions_initial_model)\n",
    "featured_predictions_initial_model = np.where(featured_predictions_initial_model<0.5,0,featured_predictions_initial_model)"
   ]
  },
  {
   "cell_type": "code",
   "execution_count": null,
   "id": "ghx2b76En85E",
   "metadata": {
    "colab": {
     "base_uri": "https://localhost:8080/"
    },
    "id": "ghx2b76En85E",
    "outputId": "4af2a92f-a294-425d-a780-5233ef1af91d"
   },
   "outputs": [
    {
     "name": "stdout",
     "output_type": "stream",
     "text": [
      "1/1 [==============================] - 7s 7s/step\n"
     ]
    }
   ],
   "source": [
    "predictions_tversky = model_tversky.predict(images, verbose=1)"
   ]
  },
  {
   "cell_type": "code",
   "execution_count": null,
   "id": "8HKph_EvEIzB",
   "metadata": {
    "id": "8HKph_EvEIzB"
   },
   "outputs": [],
   "source": [
    "featured_predictions_tversky_model = np.where(predictions_tversky>0.5,1,predictions_tversky)\n",
    "featured_predictions_tversky_model = np.where(featured_predictions_tversky_model<0.5,0,featured_predictions_tversky_model)"
   ]
  },
  {
   "cell_type": "code",
   "execution_count": null,
   "id": "NyYlBY0g3OXw",
   "metadata": {
    "id": "NyYlBY0g3OXw"
   },
   "outputs": [],
   "source": [
    "# stacked_images = np.stack(list(images))"
   ]
  },
  {
   "cell_type": "code",
   "execution_count": null,
   "id": "CpPwlBX0WDwt",
   "metadata": {
    "id": "CpPwlBX0WDwt"
   },
   "outputs": [],
   "source": [
    "from tensorflow.keras.metrics import MeanIoU\n",
    "miou = MeanIoU(num_classes=2)"
   ]
  },
  {
   "cell_type": "code",
   "execution_count": null,
   "id": "kdQEkHqI7CCX",
   "metadata": {
    "colab": {
     "base_uri": "https://localhost:8080/"
    },
    "id": "kdQEkHqI7CCX",
    "outputId": "efbfc4dd-29b0-4b17-d9c6-39b04e57d939"
   },
   "outputs": [
    {
     "data": {
      "text/plain": [
       "<bound method MeanIoU.reset_state of <tensorflow.python.keras.metrics.MeanIoU object at 0x7f5656caf290>>"
      ]
     },
     "execution_count": 153,
     "metadata": {
      "tags": []
     },
     "output_type": "execute_result"
    }
   ],
   "source": [
    "miou.reset_state"
   ]
  },
  {
   "cell_type": "code",
   "execution_count": null,
   "id": "4J8w_dSO6QiD",
   "metadata": {
    "colab": {
     "base_uri": "https://localhost:8080/"
    },
    "id": "4J8w_dSO6QiD",
    "outputId": "939964df-99a6-4e64-9663-0cc244ca9638"
   },
   "outputs": [
    {
     "data": {
      "text/plain": [
       "<tf.Variable 'UnreadVariable' shape=(2, 2) dtype=float32, numpy=\n",
       "array([[300291.,  29185.],\n",
       "       [ 24050., 695050.]], dtype=float32)>"
      ]
     },
     "execution_count": 154,
     "metadata": {
      "tags": []
     },
     "output_type": "execute_result"
    }
   ],
   "source": [
    "miou.update_state(labels[:,:,:,0], featured_predictions_tversky_model[:,:,:,0])"
   ]
  },
  {
   "cell_type": "code",
   "execution_count": null,
   "id": "lP6_e5Zh6tE2",
   "metadata": {
    "colab": {
     "base_uri": "https://localhost:8080/"
    },
    "id": "lP6_e5Zh6tE2",
    "outputId": "d4a9300f-7ff6-4366-ca24-8c73c628100d"
   },
   "outputs": [
    {
     "data": {
      "text/plain": [
       "<tf.Tensor: shape=(), dtype=float32, numpy=0.88913715>"
      ]
     },
     "execution_count": 155,
     "metadata": {
      "tags": []
     },
     "output_type": "execute_result"
    }
   ],
   "source": [
    "miou.result()"
   ]
  },
  {
   "cell_type": "code",
   "execution_count": null,
   "id": "-pmA58eV3g7z",
   "metadata": {
    "colab": {
     "base_uri": "https://localhost:8080/",
     "height": 232
    },
    "id": "-pmA58eV3g7z",
    "outputId": "7a86d796-3ba3-4401-bbc1-32aa1ca900fb"
   },
   "outputs": [
    {
     "name": "stderr",
     "output_type": "stream",
     "text": [
      "Clipping input data to the valid range for imshow with RGB data ([0..1] for floats or [0..255] for integers).\n"
     ]
    },
    {
     "data": {
      "image/png": "[encoded data removed]",
      "text/plain": [
       "<Figure size 1224x504 with 5 Axes>"
      ]
     },
     "metadata": {
      "needs_background": "light",
      "tags": []
     },
     "output_type": "display_data"
    }
   ],
   "source": [
    "# from ipywidgets import interact\n",
    "from matplotlib import colors\n",
    "# @interact(image_number=np.arange(0, 17, 1))\n",
    "palette = ['006400',\n",
    "           'FEFF99']\n",
    "# make a color map of fixed colors\n",
    "cmap = colors.ListedColormap(['yellow', 'green'])\n",
    "bounds=[0.5]\n",
    "norm = colors.BoundaryNorm(bounds, cmap.N)\n",
    "\n",
    "def plot_prediction(image_number):\n",
    "    fig = plt.figure(figsize=(17,7))\n",
    "    \n",
    "    plt.subplot(1, 5, 1)\n",
    "    plt.imshow(np.flip(images[image_number, :, : , 1:4], axis=2)*5)\n",
    "    \n",
    "    plt.subplot(1, 5, 2)\n",
    "    plt.imshow(labels[image_number,:,:,0], cmap=cmap)\n",
    "\n",
    "    plt.subplot(1, 5, 3)\n",
    "    plt.imshow(featured_predictions_initial_model[image_number,:,:,0], cmap=cmap)\n",
    "\n",
    "    plt.subplot(1, 5, 4)\n",
    "    plt.imshow(featured_predictions_adam_crossentropy[image_number,:,:,0], cmap=cmap)\n",
    "\n",
    "    plt.subplot(1, 5, 5)\n",
    "    plt.imshow(featured_predictions_tversky_model[image_number,:,:,0], cmap=cmap)\n",
    "    #miou.reset_state\n",
    "    #miou.update_state(labels[image_number,:,:,0], featured_predictions[image_number,:,:,0])\n",
    "    #print(miou.result())\n",
    "    \n",
    "plot_prediction(2)"
   ]
  },
  {
   "cell_type": "code",
   "execution_count": null,
   "id": "mrJWUKedcZop",
   "metadata": {
    "id": "mrJWUKedcZop"
   },
   "outputs": [],
   "source": [
    "def prediction(repeat_dataset):\n",
    "  images , labels = iter(repeat_dataset.take(1)).next()\n",
    "\n",
    "  predictions = model_pretrained.predict(images, verbose=1)\n",
    "  featured_predictions = np.where(predictions>0.5,1,predictions)\n",
    "  featured_predictions = np.where(featured_predictions<0.5,0,featured_predictions)\n",
    "\n",
    "  return np.flip(images, axis=2), labels, featured_predictions"
   ]
  },
  {
   "cell_type": "markdown",
   "id": "UpInIHMEOflB",
   "metadata": {
    "id": "UpInIHMEOflB"
   },
   "source": [
    "# Compute forest evolution"
   ]
  },
  {
   "cell_type": "code",
   "execution_count": null,
   "id": "Wr6Ry4p0Wzej",
   "metadata": {
    "id": "Wr6Ry4p0Wzej"
   },
   "outputs": [],
   "source": [
    "from forest_guard.parse import get_dataset, target_simplification"
   ]
  },
  {
   "cell_type": "code",
   "execution_count": null,
   "id": "oa_zaOFZOkg7",
   "metadata": {
    "id": "oa_zaOFZOkg7"
   },
   "outputs": [],
   "source": [
    "def get_training_dataset_numpy(folder):\n",
    "    \"\"\"Get the preprocessed training dataset\n",
    "    Returns: \n",
    "    A tf.data.Dataset of training data.\n",
    "    \"\"\"\n",
    "    glob = 'gs://' + BUCKET + '/' + folder + '/' + TRAINING_BASE + '*'\n",
    "    dataset = get_dataset(glob)\n",
    "    dataset = dataset.map(target_simplification)\n",
    "\n",
    "    feature = np.array([x for x, y in dataset])\n",
    "    target = np.array([y for x, y in dataset])\n",
    "    \n",
    "    return feature, target"
   ]
  },
  {
   "cell_type": "code",
   "execution_count": null,
   "id": "j8T1D0-3WjYp",
   "metadata": {
    "id": "j8T1D0-3WjYp"
   },
   "outputs": [],
   "source": [
    "image_data_2 = get_training_dataset_numpy(FOLDER)"
   ]
  },
  {
   "cell_type": "code",
   "execution_count": null,
   "id": "Vl0JtoemZhpK",
   "metadata": {
    "colab": {
     "base_uri": "https://localhost:8080/"
    },
    "id": "Vl0JtoemZhpK",
    "outputId": "397e9027-e23e-417a-f0f4-aed29405180b"
   },
   "outputs": [
    {
     "data": {
      "text/plain": [
       "(1000, 256, 256, 9)"
      ]
     },
     "execution_count": 144,
     "metadata": {
      "tags": []
     },
     "output_type": "execute_result"
    }
   ],
   "source": [
    "image_data_2[0].shape"
   ]
  },
  {
   "cell_type": "code",
   "execution_count": null,
   "id": "CMMJjfIOafjw",
   "metadata": {
    "id": "CMMJjfIOafjw"
   },
   "outputs": [],
   "source": [
    "task = ee.batch.Export.table.toCloudStorage(\n",
    "                                            collection = ee.FeatureCollection([]),\n",
    "                                            description = desc,\n",
    "                                            bucket = BUCKET,\n",
    "                                            fileNamePrefix = folder + '/' + desc,\n",
    "                                            fileFormat = 'TFRecord',\n",
    "                                            selectors = BANDS + [RESPONSE], \n",
    "                                            )\n",
    "task.start() "
   ]
  },
  {
   "cell_type": "markdown",
   "id": "1OJuLkAzlAmz",
   "metadata": {
    "id": "1OJuLkAzlAmz"
   },
   "source": [
    "# ee.Predict"
   ]
  },
  {
   "cell_type": "code",
   "execution_count": null,
   "id": "VtKhzripLEXj",
   "metadata": {
    "id": "VtKhzripLEXj"
   },
   "outputs": [],
   "source": [
    "MODEL_DIR = 'gs://forest_guard_bucket/models/forest_guard/JP_test_model_adam_binarycrossentropy'\n",
    "EEIFIED_DIR = 'gs://forest_guard_bucket/models/forest_guard/eefied'\n",
    "REGION = 'europe-west1'"
   ]
  },
  {
   "cell_type": "code",
   "execution_count": null,
   "id": "i3nW13G3lDJ2",
   "metadata": {
    "id": "i3nW13G3lDJ2"
   },
   "outputs": [],
   "source": [
    "from tensorflow.python.tools import saved_model_utils\n",
    "\n",
    "meta_graph_def = saved_model_utils.get_meta_graph_def(MODEL_DIR, 'serve')\n",
    "inputs = meta_graph_def.signature_def['serving_default'].inputs\n",
    "outputs = meta_graph_def.signature_def['serving_default'].outputs\n",
    "\n",
    "# Just get the first thing(s) from the serving signature def.  i.e. this\n",
    "# model only has a single input and a single output.\n",
    "input_name = None\n",
    "for k,v in inputs.items():\n",
    "  input_name = v.name\n",
    "  break\n",
    "\n",
    "output_name = None\n",
    "for k,v in outputs.items():\n",
    "  output_name = v.name\n",
    "  break\n",
    "\n",
    "# Make a dictionary that maps Earth Engine outputs and inputs to \n",
    "# AI Platform inputs and outputs, respectively.\n",
    "import json\n",
    "input_dict = \"'\" + json.dumps({input_name: \"array\"}) + \"'\"\n",
    "output_dict = \"'\" + json.dumps({output_name: \"fnf\"}) + \"'\""
   ]
  },
  {
   "cell_type": "code",
   "execution_count": null,
   "id": "TEoM1gun_naZ",
   "metadata": {
    "id": "TEoM1gun_naZ"
   },
   "outputs": [],
   "source": [
    "PROJECT = 'wagon-bootcamp-data'"
   ]
  },
  {
   "cell_type": "code",
   "execution_count": null,
   "id": "eB30DDbHLUSd",
   "metadata": {
    "colab": {
     "base_uri": "https://localhost:8080/"
    },
    "id": "eB30DDbHLUSd",
    "outputId": "ec25578a-4ec9-44c9-dac5-a8a67941a6bf"
   },
   "outputs": [
    {
     "name": "stdout",
     "output_type": "stream",
     "text": [
      "WARNING:tensorflow:From /usr/local/lib/python3.7/dist-packages/tensorflow/python/compat/v2_compat.py:96: disable_resource_variables (from tensorflow.python.ops.variable_scope) is deprecated and will be removed in a future version.\n",
      "Instructions for updating:\n",
      "non-resource variables are not supported in the long term\n",
      "Successfully saved project id\n",
      "WARNING:tensorflow:From /usr/local/lib/python3.7/dist-packages/tensorflow/python/compat/v2_compat.py:96: disable_resource_variables (from tensorflow.python.ops.variable_scope) is deprecated and will be removed in a future version.\n",
      "Instructions for updating:\n",
      "non-resource variables are not supported in the long term\n",
      "Warning: TensorFlow Addons not found. Models that use non-standard ops may not work.\n",
      "Success: model at 'gs://forest_guard_bucket/models/forest_guard/eefied' is ready to be hosted in AI Platform.\n"
     ]
    }
   ],
   "source": [
    "# You need to set the project before using the model prepare command.\n",
    "\n",
    "!earthengine set_project {PROJECT}\n",
    "!earthengine model prepare --source_dir {MODEL_DIR} --dest_dir {EEIFIED_DIR} --input {input_dict} --output {output_dict}"
   ]
  },
  {
   "cell_type": "code",
   "execution_count": null,
   "id": "mFntQekMLh_I",
   "metadata": {
    "colab": {
     "base_uri": "https://localhost:8080/"
    },
    "id": "mFntQekMLh_I",
    "outputId": "5961638c-4679-4f14-936e-e910dc0f357b"
   },
   "outputs": [
    {
     "name": "stdout",
     "output_type": "stream",
     "text": [
      "Overwriting config.yaml\n"
     ]
    }
   ],
   "source": [
    "%%writefile config.yaml\n",
    "# autoScaling:\n",
    "    # minNodes: 10"
   ]
  },
  {
   "cell_type": "code",
   "execution_count": null,
   "id": "aqozVGwT_f3_",
   "metadata": {
    "id": "aqozVGwT_f3_"
   },
   "outputs": [],
   "source": [
    "MODEL_NAME = 'JP_test_model_adam_binarycrossentropy'\n",
    "PROJECT = 'wagon-bootcamp-data'\n",
    "REGION = 'europe-west1'"
   ]
  },
  {
   "cell_type": "code",
   "execution_count": null,
   "id": "T4ya1rP9MDIH",
   "metadata": {
    "colab": {
     "base_uri": "https://localhost:8080/"
    },
    "id": "T4ya1rP9MDIH",
    "outputId": "791e2949-76ee-4b8c-87f6-50875b32d5b0"
   },
   "outputs": [
    {
     "name": "stdout",
     "output_type": "stream",
     "text": [
      "Creating version: v1622563893\n",
      "Using endpoint [https://europe-west1-ml.googleapis.com/]\n"
     ]
    }
   ],
   "source": [
    "VERSION_NAME = 'v' + str(int(time.time()))\n",
    "print('Creating version: ' + VERSION_NAME)\n",
    "\n",
    "# !gcloud ai-platform models create {MODEL_NAME} \\\n",
    "#   --project {PROJECT} \\\n",
    "#   --region {REGION}\n",
    "\n",
    "!gcloud ai-platform versions create {VERSION_NAME} \\\n",
    "  --project {PROJECT} \\\n",
    "  --model {MODEL_NAME} \\\n",
    "  --region {REGION} \\\n",
    "  --origin {EEIFIED_DIR} \\\n",
    "  --framework \"TENSORFLOW\" \\\n",
    "  --runtime-version 2.3 \\\n",
    "  --python-version 3.7 \\\n",
    "  #--machine-type mls1-c4-m2\n",
    "\n",
    "  #--config=config.yaml \\\n",
    "  "
   ]
  },
  {
   "cell_type": "code",
   "execution_count": null,
   "id": "XOD_nu5Di25R",
   "metadata": {
    "id": "XOD_nu5Di25R"
   },
   "outputs": [],
   "source": []
  },
  {
   "cell_type": "markdown",
   "id": "M8L4M0OLi7me",
   "metadata": {
    "id": "M8L4M0OLi7me"
   },
   "source": [
    "# Prediction in Follium only"
   ]
  },
  {
   "cell_type": "code",
   "execution_count": null,
   "id": "8UvvS9P5i0oV",
   "metadata": {
    "id": "8UvvS9P5i0oV"
   },
   "outputs": [],
   "source": [
    "MODEL_NAME_SMALL = 'JP_test_model_adam_binarycrossentropy'\n",
    "VERSION_SMALL = \"v1622718569\"\n",
    "MODEL_NAME_LARGE = 'adam_binary_tf_none_none'\n",
    "VERSION_LARGE = 'v1622619546'\n",
    "PROJECT = 'wagon-bootcamp-data'\n",
    "REGION = 'us-central1'\n",
    "# REGION = 'europe-west1'"
   ]
  },
  {
   "cell_type": "code",
   "execution_count": null,
   "id": "qlWesLGEsedR",
   "metadata": {
    "id": "qlWesLGEsedR"
   },
   "outputs": [],
   "source": [
    "def add_ee_layer(self, ee_image_object, vis_params, name):\n",
    "  map_id_dict = ee.Image(ee_image_object).getMapId(vis_params)\n",
    "  folium.raster_layers.TileLayer(\n",
    "      tiles=map_id_dict['tile_fetcher'].url_format,\n",
    "      attr='Map Data &copy; <a href=\"https://earthengine.google.com/\">Google Earth Engine</a>',\n",
    "      name=name,\n",
    "      overlay=True,\n",
    "      control=True,\n",
    "      show=False,\n",
    "      opacity=0.7\n",
    "  ).add_to(self)\n",
    "\n",
    "# Cloud masking function.\n",
    "def maskL8sr(image):\n",
    "  cloudShadowBitMask = ee.Number(2).pow(3).int()\n",
    "  cloudsBitMask = ee.Number(2).pow(5).int()\n",
    "  qa = image.select('pixel_qa')\n",
    "  mask1 = qa.bitwiseAnd(cloudShadowBitMask).eq(0).And(\n",
    "    qa.bitwiseAnd(cloudsBitMask).eq(0))\n",
    "  mask2 = image.mask().reduce('min')\n",
    "  mask3 = image.select(OPTICAL_BANDS).gt(0).And(\n",
    "          image.select(OPTICAL_BANDS).lt(10000)).reduce('min')\n",
    "  mask = mask1.And(mask2).And(mask3)\n",
    "  return image.select(OPTICAL_BANDS).divide(10000).addBands(\n",
    "          image.select(THERMAL_BANDS).divide(10).clamp(273.15, 373.15)\n",
    "            .subtract(273.15).divide(100)).updateMask(mask)\n"
   ]
  },
  {
   "cell_type": "code",
   "execution_count": null,
   "id": "z1_1BRWLMWJt",
   "metadata": {
    "id": "z1_1BRWLMWJt"
   },
   "outputs": [],
   "source": [
    "folium.Map.add_ee_layer = add_ee_layer\n",
    "\n",
    "def map_pred(year1=2017, year2=2020, model_large=False, center_point=[48.47, 6.92], zoom_start=13):\n",
    "  '''\n",
    "  plot on follium landsat on year1 and year2\n",
    "  '''\n",
    "  threshold = 0.80\n",
    "  #max year is 2020\n",
    "  if year2>2020:\n",
    "    year2=2020\n",
    "  if year1>2020:\n",
    "    year1=2020\n",
    "\n",
    "  #min year is 2013\n",
    "  if year2<2013:\n",
    "    year2=2013\n",
    "  if year1<2013:\n",
    "    year1=2013\n",
    "\n",
    "  # Use Landsat 8 surface reflectance data.\n",
    "  l8sr = ee.ImageCollection('LANDSAT/LC08/C01/T1_SR')\n",
    "\n",
    "\n",
    "  if model_large:\n",
    "    MODEL_NAME = MODEL_NAME_LARGE\n",
    "    VERSION_NAME = VERSION_LARGE\n",
    "  else:\n",
    "    MODEL_NAME = MODEL_NAME_SMALL\n",
    "    VERSION_NAME = VERSION_SMALL\n",
    "\n",
    "  # The image input data is a cloud-masked median composite.\n",
    "  image20 = l8sr.filterDate(\n",
    "      f'{year2}-01-01', f'{year2}-12-31').map(maskL8sr).median().select(BANDS).float()\n",
    "  image17 = l8sr.filterDate(\n",
    "      f'{year1}-01-01', f'{year1}-12-31').map(maskL8sr).median().select(BANDS).float()\n",
    "\n",
    "\n",
    "  # Load the trained model and use it for prediction.  If you specified a region \n",
    "  # other than the default (us-central1) at model creation, specify it here.\n",
    "  model = ee.Model.fromAiPlatformPredictor(\n",
    "      projectId = PROJECT,\n",
    "      modelName = MODEL_NAME,\n",
    "      version = VERSION_NAME,\n",
    "      region= REGION,\n",
    "      inputTileSize = [144, 144],\n",
    "      inputOverlapSize = [8, 8],\n",
    "      proj = ee.Projection('EPSG:4326').atScale(30),\n",
    "      fixInputProj = True,\n",
    "      outputBands = {'fnf': {\n",
    "          'type': ee.PixelType.float()\n",
    "        }\n",
    "      }\n",
    "  )\n",
    "\n",
    "\n",
    "\n",
    "  # Use folium to visualize the input imagery and the predictions.\n",
    "  map = folium.Map(location=center_point, zoom_start=zoom_start)\n",
    "  \n",
    "\n",
    "\n",
    "  ## landsat\n",
    "  mapid = image17.getMapId({'bands': ['B4', 'B3', 'B2'], 'min': 0, 'max': 0.3})\n",
    "  folium.TileLayer(\n",
    "      tiles=mapid['tile_fetcher'].url_format,\n",
    "      attr='Google Earth Engine',\n",
    "      overlay=True,\n",
    "      name=f'landsat{year1}',\n",
    "      show=False\n",
    "    ).add_to(map)\n",
    "\n",
    "  mapid = image20.getMapId({'bands': ['B4', 'B3', 'B2'], 'min': 0, 'max': 0.3})\n",
    "  folium.TileLayer(\n",
    "      tiles=mapid['tile_fetcher'].url_format,\n",
    "      attr='Google Earth Engine',\n",
    "      overlay=True,\n",
    "      name=f'landsat{year2}',\n",
    "      show=False\n",
    "    ).add_to(map)\n",
    "\n",
    "  ### Predictions\n",
    "  palette = [ '#FEFF99',\n",
    "            '006400',\n",
    "            ]\n",
    "  #Pred year1\n",
    "  predictions17 = model.predictImage(image17.toArray())\n",
    "  predictions17=predictions17.where(predictions17.gt(threshold), 1)\n",
    "  predictions17=predictions17.where(predictions17.lt(threshold), 0)\n",
    "\n",
    "  mask_pred17 = predictions17.updateMask(predictions17.gte(threshold))\n",
    "\n",
    "  map.add_ee_layer(mask_pred17,\n",
    "                  {'bands': ['fnf'],\n",
    "                        'min': 1, \n",
    "                        'max': 1, \n",
    "                        'palette':palette\n",
    "                        }, f'predictions_{year1}'\n",
    "                  )\n",
    "  \n",
    "  #PRED year2\n",
    "  predictions20 = model.predictImage(image20.toArray())\n",
    "  predictions20=predictions20.where(predictions20.gt(threshold), 1)\n",
    "  predictions20=predictions20.where(predictions20.lt(threshold), 0)\n",
    "  \n",
    "  mask_pred20 = predictions20.updateMask(predictions20.gte(threshold))\n",
    "\n",
    "  map.add_ee_layer(mask_pred20,\n",
    "                  {'bands': ['fnf'],\n",
    "                        'min': 1, \n",
    "                        'max': 1, \n",
    "                        'palette':palette\n",
    "                        }, f'predictions_{year2}'\n",
    "                  )\n",
    "  #Diff of prediction\n",
    "  palette_diff = [ 'red','blue']\n",
    "\n",
    "  \n",
    "  diff = predictions20.subtract(predictions17)\n",
    "  d_map = predictions20.multiply(0)\n",
    "  d_map = d_map.where(diff.gt(0.6), 2)      # All pos diffs are now labeled 2.\n",
    "  d_map = d_map.where(diff.lt(-0.6), 1)      # Label all neg to 1.\n",
    "  mask_d_map = d_map.updateMask(d_map.gte(0.5)) #mask the zeros\n",
    "\n",
    "\n",
    "  map.add_ee_layer(mask_d_map,\n",
    "                  {'bands': ['fnf'],\n",
    "                        'min': 1, \n",
    "                        'max': 2, \n",
    "                        'palette':palette_diff\n",
    "                        }, f'predictions_diff_{year2}_{year1}'\n",
    "                  )\n",
    "\n",
    "  ###JAXA\n",
    "  from forest_guard.datas import get_jaxa\n",
    "  jaxa = get_jaxa('2017-01-01', '2017-12-31')\n",
    "\n",
    "  palette = ['006400',\n",
    "            'FEFF99',\n",
    "              '0000FF'\n",
    "            ]\n",
    "  mask_pred_jaxa = jaxa.updateMask(jaxa.lte(1.5))\n",
    "\n",
    "  map.add_ee_layer(mask_pred_jaxa,\n",
    "                  {'bands': ['fnf'],\n",
    "                        'min': 1, \n",
    "                        'max': 3, \n",
    "                        'palette':palette\n",
    "                        }, 'jaxa_masked'\n",
    "                  )\n",
    "\n",
    "  #### SHOW MAP\n",
    "  map.add_child(folium.LayerControl())\n",
    "\n",
    "  display(map)\n",
    "  return map"
   ]
  },
  {
   "cell_type": "code",
   "execution_count": null,
   "id": "yiKmcbR9vaKn",
   "metadata": {
    "colab": {
     "base_uri": "https://localhost:8080/",
     "height": 547
    },
    "id": "yiKmcbR9vaKn",
    "outputId": "93f09ea9-3263-4cab-9196-92e8b4637986"
   },
   "outputs": [
    {
     "data": {
      "text/html": [
       "<div style=\"width:100%;\"><div style=\"position:relative;width:100%;height:0;padding-bottom:60%;\"><span style=\"color:#565656\">Make this Notebook Trusted to load map: File -> Trust Notebook</span><iframe src=\"about:blank\" style=\"position:absolute;width:100%;height:100%;left:0;top:0;border:none !important;\" data-html=%3C%21DOCTYPE%20html%3E%0A%3Chead%3E%20%20%20%20%0A%20%20%20%20%3Cmeta%20http-equiv%3D%22content-type%22%20content%3D%22text/html%3B%20charset%3DUTF-8%22%20/%3E%0A%20%20%20%20%3Cscript%3EL_PREFER_CANVAS%3Dfalse%3B%20L_NO_TOUCH%3Dfalse%3B%20L_DISABLE_3D%3Dfalse%3B%3C/script%3E%0A%20%20%20%20%3Cscript%20src%3D%22https%3A//cdn.jsdelivr.net/npm/leaflet%401.4.0/dist/leaflet.js%22%3E%3C/script%3E%0A%20%20%20%20%3Cscript%20src%3D%22https%3A//code.jquery.com/jquery-1.12.4.min.js%22%3E%3C/script%3E%0A%20%20%20%20%3Cscript%20src%3D%22https%3A//maxcdn.bootstrapcdn.com/bootstrap/3.2.0/js/bootstrap.min.js%22%3E%3C/script%3E%0A%20%20%20%20%3Cscript%20src%3D%22https%3A//cdnjs.cloudflare.com/ajax/libs/Leaflet.awesome-markers/2.0.2/leaflet.awesome-markers.js%22%3E%3C/script%3E%0A%20%20%20%20%3Clink%20rel%3D%22stylesheet%22%20href%3D%22https%3A//cdn.jsdelivr.net/npm/leaflet%401.4.0/dist/leaflet.css%22/%3E%0A%20%20%20%20%3Clink%20rel%3D%22stylesheet%22%20href%3D%22https%3A//maxcdn.bootstrapcdn.com/bootstrap/3.2.0/css/bootstrap.min.css%22/%3E%0A%20%20%20%20%3Clink%20rel%3D%22stylesheet%22%20href%3D%22https%3A//maxcdn.bootstrapcdn.com/bootstrap/3.2.0/css/bootstrap-theme.min.css%22/%3E%0A%20%20%20%20%3Clink%20rel%3D%22stylesheet%22%20href%3D%22https%3A//maxcdn.bootstrapcdn.com/font-awesome/4.6.3/css/font-awesome.min.css%22/%3E%0A%20%20%20%20%3Clink%20rel%3D%22stylesheet%22%20href%3D%22https%3A//cdnjs.cloudflare.com/ajax/libs/Leaflet.awesome-markers/2.0.2/leaflet.awesome-markers.css%22/%3E%0A%20%20%20%20%3Clink%20rel%3D%22stylesheet%22%20href%3D%22https%3A//rawcdn.githack.com/python-visualization/folium/master/folium/templates/leaflet.awesome.rotate.css%22/%3E%0A%20%20%20%20%3Cstyle%3Ehtml%2C%20body%20%7Bwidth%3A%20100%25%3Bheight%3A%20100%25%3Bmargin%3A%200%3Bpadding%3A%200%3B%7D%3C/style%3E%0A%20%20%20%20%3Cstyle%3E%23map%20%7Bposition%3Aabsolute%3Btop%3A0%3Bbottom%3A0%3Bright%3A0%3Bleft%3A0%3B%7D%3C/style%3E%0A%20%20%20%20%0A%20%20%20%20%3Cmeta%20name%3D%22viewport%22%20content%3D%22width%3Ddevice-width%2C%0A%20%20%20%20%20%20%20%20initial-scale%3D1.0%2C%20maximum-scale%3D1.0%2C%20user-scalable%3Dno%22%20/%3E%0A%20%20%20%20%3Cstyle%3E%23map_610b3832b91545f29023151acb0fb395%20%7B%0A%20%20%20%20%20%20%20%20position%3A%20relative%3B%0A%20%20%20%20%20%20%20%20width%3A%20100.0%25%3B%0A%20%20%20%20%20%20%20%20height%3A%20100.0%25%3B%0A%20%20%20%20%20%20%20%20left%3A%200.0%25%3B%0A%20%20%20%20%20%20%20%20top%3A%200.0%25%3B%0A%20%20%20%20%20%20%20%20%7D%0A%20%20%20%20%3C/style%3E%0A%3C/head%3E%0A%3Cbody%3E%20%20%20%20%0A%20%20%20%20%0A%20%20%20%20%3Cdiv%20class%3D%22folium-map%22%20id%3D%22map_610b3832b91545f29023151acb0fb395%22%20%3E%3C/div%3E%0A%3C/body%3E%0A%3Cscript%3E%20%20%20%20%0A%20%20%20%20%0A%20%20%20%20%0A%20%20%20%20%20%20%20%20var%20bounds%20%3D%20null%3B%0A%20%20%20%20%0A%0A%20%20%20%20var%20map_610b3832b91545f29023151acb0fb395%20%3D%20L.map%28%0A%20%20%20%20%20%20%20%20%27map_610b3832b91545f29023151acb0fb395%27%2C%20%7B%0A%20%20%20%20%20%20%20%20center%3A%20%5B48.47%2C%206.92%5D%2C%0A%20%20%20%20%20%20%20%20zoom%3A%2013%2C%0A%20%20%20%20%20%20%20%20maxBounds%3A%20bounds%2C%0A%20%20%20%20%20%20%20%20layers%3A%20%5B%5D%2C%0A%20%20%20%20%20%20%20%20worldCopyJump%3A%20false%2C%0A%20%20%20%20%20%20%20%20crs%3A%20L.CRS.EPSG3857%2C%0A%20%20%20%20%20%20%20%20zoomControl%3A%20true%2C%0A%20%20%20%20%20%20%20%20%7D%29%3B%0A%0A%0A%20%20%20%20%0A%20%20%20%20var%20tile_layer_6e5b1f12af27466fa18f0080c1eb1623%20%3D%20L.tileLayer%28%0A%20%20%20%20%20%20%20%20%27https%3A//%7Bs%7D.tile.openstreetmap.org/%7Bz%7D/%7Bx%7D/%7By%7D.png%27%2C%0A%20%20%20%20%20%20%20%20%7B%0A%20%20%20%20%20%20%20%20%22attribution%22%3A%20null%2C%0A%20%20%20%20%20%20%20%20%22detectRetina%22%3A%20false%2C%0A%20%20%20%20%20%20%20%20%22maxNativeZoom%22%3A%2018%2C%0A%20%20%20%20%20%20%20%20%22maxZoom%22%3A%2018%2C%0A%20%20%20%20%20%20%20%20%22minZoom%22%3A%200%2C%0A%20%20%20%20%20%20%20%20%22noWrap%22%3A%20false%2C%0A%20%20%20%20%20%20%20%20%22opacity%22%3A%201%2C%0A%20%20%20%20%20%20%20%20%22subdomains%22%3A%20%22abc%22%2C%0A%20%20%20%20%20%20%20%20%22tms%22%3A%20false%0A%7D%29.addTo%28map_610b3832b91545f29023151acb0fb395%29%3B%0A%20%20%20%20var%20tile_layer_cdbc6a6d86d9479a9bf86438a2f101cf%20%3D%20L.tileLayer%28%0A%20%20%20%20%20%20%20%20%27https%3A//earthengine.googleapis.com/v1alpha/projects/earthengine-legacy/maps/3c865f12378baed353328879fa44daf6-2e0c8981e99ddea363b3ff2ea7bb3677/tiles/%7Bz%7D/%7Bx%7D/%7By%7D%27%2C%0A%20%20%20%20%20%20%20%20%7B%0A%20%20%20%20%20%20%20%20%22attribution%22%3A%20%22Google%20Earth%20Engine%22%2C%0A%20%20%20%20%20%20%20%20%22detectRetina%22%3A%20false%2C%0A%20%20%20%20%20%20%20%20%22maxNativeZoom%22%3A%2018%2C%0A%20%20%20%20%20%20%20%20%22maxZoom%22%3A%2018%2C%0A%20%20%20%20%20%20%20%20%22minZoom%22%3A%200%2C%0A%20%20%20%20%20%20%20%20%22noWrap%22%3A%20false%2C%0A%20%20%20%20%20%20%20%20%22opacity%22%3A%201%2C%0A%20%20%20%20%20%20%20%20%22subdomains%22%3A%20%22abc%22%2C%0A%20%20%20%20%20%20%20%20%22tms%22%3A%20false%0A%7D%29.addTo%28map_610b3832b91545f29023151acb0fb395%29%3B%0A%20%20%20%20var%20tile_layer_511355b5eccf40b49e0a6e7dfd9339af%20%3D%20L.tileLayer%28%0A%20%20%20%20%20%20%20%20%27https%3A//earthengine.googleapis.com/v1alpha/projects/earthengine-legacy/maps/e007c8c0838085bcbd35da8be2a0e6e1-6b60c024a0c04b8795a09d35b861b038/tiles/%7Bz%7D/%7Bx%7D/%7By%7D%27%2C%0A%20%20%20%20%20%20%20%20%7B%0A%20%20%20%20%20%20%20%20%22attribution%22%3A%20%22Google%20Earth%20Engine%22%2C%0A%20%20%20%20%20%20%20%20%22detectRetina%22%3A%20false%2C%0A%20%20%20%20%20%20%20%20%22maxNativeZoom%22%3A%2018%2C%0A%20%20%20%20%20%20%20%20%22maxZoom%22%3A%2018%2C%0A%20%20%20%20%20%20%20%20%22minZoom%22%3A%200%2C%0A%20%20%20%20%20%20%20%20%22noWrap%22%3A%20false%2C%0A%20%20%20%20%20%20%20%20%22opacity%22%3A%201%2C%0A%20%20%20%20%20%20%20%20%22subdomains%22%3A%20%22abc%22%2C%0A%20%20%20%20%20%20%20%20%22tms%22%3A%20false%0A%7D%29.addTo%28map_610b3832b91545f29023151acb0fb395%29%3B%0A%20%20%20%20var%20tile_layer_ef165fc82685428fac321861d9966612%20%3D%20L.tileLayer%28%0A%20%20%20%20%20%20%20%20%27https%3A//earthengine.googleapis.com/v1alpha/projects/earthengine-legacy/maps/1cadfe25f7940afc6130541563bcd0be-bbbf49f39b4eee3654d641864622bfdb/tiles/%7Bz%7D/%7Bx%7D/%7By%7D%27%2C%0A%20%20%20%20%20%20%20%20%7B%0A%20%20%20%20%20%20%20%20%22attribution%22%3A%20%22Map%20Data%20%26copy%3B%20%3Ca%20href%3D%5C%22https%3A//earthengine.google.com/%5C%22%3EGoogle%20Earth%20Engine%3C/a%3E%22%2C%0A%20%20%20%20%20%20%20%20%22detectRetina%22%3A%20false%2C%0A%20%20%20%20%20%20%20%20%22maxNativeZoom%22%3A%2018%2C%0A%20%20%20%20%20%20%20%20%22maxZoom%22%3A%2018%2C%0A%20%20%20%20%20%20%20%20%22minZoom%22%3A%200%2C%0A%20%20%20%20%20%20%20%20%22noWrap%22%3A%20false%2C%0A%20%20%20%20%20%20%20%20%22opacity%22%3A%200.7%2C%0A%20%20%20%20%20%20%20%20%22subdomains%22%3A%20%22abc%22%2C%0A%20%20%20%20%20%20%20%20%22tms%22%3A%20false%0A%7D%29.addTo%28map_610b3832b91545f29023151acb0fb395%29%3B%0A%20%20%20%20var%20tile_layer_0e7fcc9c956341fcb4f858b13650d0bd%20%3D%20L.tileLayer%28%0A%20%20%20%20%20%20%20%20%27https%3A//earthengine.googleapis.com/v1alpha/projects/earthengine-legacy/maps/670ea65ac4c1352e285766552b9c0308-879f64ccae85adf554ba182ce38ca02a/tiles/%7Bz%7D/%7Bx%7D/%7By%7D%27%2C%0A%20%20%20%20%20%20%20%20%7B%0A%20%20%20%20%20%20%20%20%22attribution%22%3A%20%22Map%20Data%20%26copy%3B%20%3Ca%20href%3D%5C%22https%3A//earthengine.google.com/%5C%22%3EGoogle%20Earth%20Engine%3C/a%3E%22%2C%0A%20%20%20%20%20%20%20%20%22detectRetina%22%3A%20false%2C%0A%20%20%20%20%20%20%20%20%22maxNativeZoom%22%3A%2018%2C%0A%20%20%20%20%20%20%20%20%22maxZoom%22%3A%2018%2C%0A%20%20%20%20%20%20%20%20%22minZoom%22%3A%200%2C%0A%20%20%20%20%20%20%20%20%22noWrap%22%3A%20false%2C%0A%20%20%20%20%20%20%20%20%22opacity%22%3A%200.7%2C%0A%20%20%20%20%20%20%20%20%22subdomains%22%3A%20%22abc%22%2C%0A%20%20%20%20%20%20%20%20%22tms%22%3A%20false%0A%7D%29.addTo%28map_610b3832b91545f29023151acb0fb395%29%3B%0A%20%20%20%20var%20tile_layer_6cdfb44ae7ec403ba87138423264fa9a%20%3D%20L.tileLayer%28%0A%20%20%20%20%20%20%20%20%27https%3A//earthengine.googleapis.com/v1alpha/projects/earthengine-legacy/maps/e67ab977a907290bd4027784cba5e976-9766ceaf8652426ac3f18ae02008b655/tiles/%7Bz%7D/%7Bx%7D/%7By%7D%27%2C%0A%20%20%20%20%20%20%20%20%7B%0A%20%20%20%20%20%20%20%20%22attribution%22%3A%20%22Map%20Data%20%26copy%3B%20%3Ca%20href%3D%5C%22https%3A//earthengine.google.com/%5C%22%3EGoogle%20Earth%20Engine%3C/a%3E%22%2C%0A%20%20%20%20%20%20%20%20%22detectRetina%22%3A%20false%2C%0A%20%20%20%20%20%20%20%20%22maxNativeZoom%22%3A%2018%2C%0A%20%20%20%20%20%20%20%20%22maxZoom%22%3A%2018%2C%0A%20%20%20%20%20%20%20%20%22minZoom%22%3A%200%2C%0A%20%20%20%20%20%20%20%20%22noWrap%22%3A%20false%2C%0A%20%20%20%20%20%20%20%20%22opacity%22%3A%200.7%2C%0A%20%20%20%20%20%20%20%20%22subdomains%22%3A%20%22abc%22%2C%0A%20%20%20%20%20%20%20%20%22tms%22%3A%20false%0A%7D%29.addTo%28map_610b3832b91545f29023151acb0fb395%29%3B%0A%20%20%20%20var%20tile_layer_91570ef49307498e9a6e4f56a061aacc%20%3D%20L.tileLayer%28%0A%20%20%20%20%20%20%20%20%27https%3A//earthengine.googleapis.com/v1alpha/projects/earthengine-legacy/maps/13e82f0e214f949b4fd4556d7a4c307d-c086d593939e3407874e999fde006667/tiles/%7Bz%7D/%7Bx%7D/%7By%7D%27%2C%0A%20%20%20%20%20%20%20%20%7B%0A%20%20%20%20%20%20%20%20%22attribution%22%3A%20%22Map%20Data%20%26copy%3B%20%3Ca%20href%3D%5C%22https%3A//earthengine.google.com/%5C%22%3EGoogle%20Earth%20Engine%3C/a%3E%22%2C%0A%20%20%20%20%20%20%20%20%22detectRetina%22%3A%20false%2C%0A%20%20%20%20%20%20%20%20%22maxNativeZoom%22%3A%2018%2C%0A%20%20%20%20%20%20%20%20%22maxZoom%22%3A%2018%2C%0A%20%20%20%20%20%20%20%20%22minZoom%22%3A%200%2C%0A%20%20%20%20%20%20%20%20%22noWrap%22%3A%20false%2C%0A%20%20%20%20%20%20%20%20%22opacity%22%3A%200.7%2C%0A%20%20%20%20%20%20%20%20%22subdomains%22%3A%20%22abc%22%2C%0A%20%20%20%20%20%20%20%20%22tms%22%3A%20false%0A%7D%29.addTo%28map_610b3832b91545f29023151acb0fb395%29%3B%0A%20%20%20%20%0A%20%20%20%20%20%20%20%20%20%20%20%20var%20layer_control_34064c00d76a47adbb9b20c9402f9ce1%20%3D%20%7B%0A%20%20%20%20%20%20%20%20%20%20%20%20%20%20%20%20base_layers%20%3A%20%7B%20%22openstreetmap%22%20%3A%20tile_layer_6e5b1f12af27466fa18f0080c1eb1623%2C%20%7D%2C%0A%20%20%20%20%20%20%20%20%20%20%20%20%20%20%20%20overlays%20%3A%20%7B%20%22landsat2017%22%20%3A%20tile_layer_cdbc6a6d86d9479a9bf86438a2f101cf%2C%22landsat2020%22%20%3A%20tile_layer_511355b5eccf40b49e0a6e7dfd9339af%2C%22predictions_2017%22%20%3A%20tile_layer_ef165fc82685428fac321861d9966612%2C%22predictions_2020%22%20%3A%20tile_layer_0e7fcc9c956341fcb4f858b13650d0bd%2C%22predictions_diff_2020_2017%22%20%3A%20tile_layer_6cdfb44ae7ec403ba87138423264fa9a%2C%22jaxa_masked%22%20%3A%20tile_layer_91570ef49307498e9a6e4f56a061aacc%2C%20%7D%0A%20%20%20%20%20%20%20%20%20%20%20%20%20%20%20%20%7D%3B%0A%20%20%20%20%20%20%20%20%20%20%20%20L.control.layers%28%0A%20%20%20%20%20%20%20%20%20%20%20%20%20%20%20%20layer_control_34064c00d76a47adbb9b20c9402f9ce1.base_layers%2C%0A%20%20%20%20%20%20%20%20%20%20%20%20%20%20%20%20layer_control_34064c00d76a47adbb9b20c9402f9ce1.overlays%2C%0A%20%20%20%20%20%20%20%20%20%20%20%20%20%20%20%20%7Bposition%3A%20%27topright%27%2C%0A%20%20%20%20%20%20%20%20%20%20%20%20%20%20%20%20%20collapsed%3A%20true%2C%0A%20%20%20%20%20%20%20%20%20%20%20%20%20%20%20%20%20autoZIndex%3A%20true%0A%20%20%20%20%20%20%20%20%20%20%20%20%20%20%20%20%7D%29.addTo%28map_610b3832b91545f29023151acb0fb395%29%3B%0A%20%20%20%20%20%20%20%20%20%20%20%20%0A%20%20%20%20%20%20%20%20%20%20%20%20%20%20%20%20tile_layer_cdbc6a6d86d9479a9bf86438a2f101cf.remove%28%29%3B%0A%20%20%20%20%20%20%20%20%20%20%20%20%20%20%20%20tile_layer_511355b5eccf40b49e0a6e7dfd9339af.remove%28%29%3B%0A%20%20%20%20%20%20%20%20%20%20%20%20%20%20%20%20tile_layer_ef165fc82685428fac321861d9966612.remove%28%29%3B%0A%20%20%20%20%20%20%20%20%20%20%20%20%20%20%20%20tile_layer_0e7fcc9c956341fcb4f858b13650d0bd.remove%28%29%3B%0A%20%20%20%20%20%20%20%20%20%20%20%20%20%20%20%20tile_layer_6cdfb44ae7ec403ba87138423264fa9a.remove%28%29%3B%0A%20%20%20%20%20%20%20%20%20%20%20%20%20%20%20%20tile_layer_91570ef49307498e9a6e4f56a061aacc.remove%28%29%3B%0A%20%20%20%20%20%20%20%20%0A%3C/script%3E onload=\"this.contentDocument.open();this.contentDocument.write(    decodeURIComponent(this.getAttribute('data-html')));this.contentDocument.close();\" allowfullscreen webkitallowfullscreen mozallowfullscreen></iframe></div></div>"
      ],
      "text/plain": [
       "<folium.folium.Map at 0x7fae14b6bb50>"
      ]
     },
     "metadata": {
      "tags": []
     },
     "output_type": "display_data"
    }
   ],
   "source": [
    "map = map_pred(2017, 2020, model_large=False)"
   ]
  },
  {
   "cell_type": "code",
   "execution_count": null,
   "id": "bByCfcUJ4HGq",
   "metadata": {
    "colab": {
     "base_uri": "https://localhost:8080/"
    },
    "id": "bByCfcUJ4HGq",
    "outputId": "57b49db7-df37-4c7d-9c84-06d5d6250775"
   },
   "outputs": [
    {
     "data": {
      "text/plain": [
       "{'auto_reload': True,\n",
       " 'autoescape': False,\n",
       " 'block_end_string': '%}',\n",
       " 'block_start_string': '{%',\n",
       " 'bytecode_cache': None,\n",
       " 'cache': <LRUCache {(<weakref at 0x7fae5b69c5f0; to 'PackageLoader' at 0x7fae5b742110>, 'color_scale.js'): <Template 'color_scale.js'>}>,\n",
       " 'comment_end_string': '#}',\n",
       " 'comment_start_string': '{#',\n",
       " 'enable_async': False,\n",
       " 'extensions': {},\n",
       " 'filters': {'abs': <function abs>,\n",
       "  'attr': <function jinja2.filters.do_attr>,\n",
       "  'batch': <function jinja2.filters.do_batch>,\n",
       "  'capitalize': <function jinja2.filters.do_capitalize>,\n",
       "  'center': <function jinja2.filters.do_center>,\n",
       "  'count': <function len>,\n",
       "  'd': <function jinja2.filters.do_default>,\n",
       "  'default': <function jinja2.filters.do_default>,\n",
       "  'dictsort': <function jinja2.filters.do_dictsort>,\n",
       "  'e': <function markupsafe._speedups.escape>,\n",
       "  'escape': <function markupsafe._speedups.escape>,\n",
       "  'filesizeformat': <function jinja2.filters.do_filesizeformat>,\n",
       "  'first': <function jinja2.filters.do_first>,\n",
       "  'float': <function jinja2.filters.do_float>,\n",
       "  'forceescape': <function jinja2.filters.do_forceescape>,\n",
       "  'format': <function jinja2.filters.do_format>,\n",
       "  'groupby': <function jinja2.filters.do_groupby>,\n",
       "  'indent': <function jinja2.filters.do_indent>,\n",
       "  'int': <function jinja2.filters.do_int>,\n",
       "  'join': <function jinja2.filters.do_join>,\n",
       "  'last': <function jinja2.filters.do_last>,\n",
       "  'length': <function len>,\n",
       "  'list': <function jinja2.filters.do_list>,\n",
       "  'lower': <function jinja2.filters.do_lower>,\n",
       "  'map': <function jinja2.filters.do_map>,\n",
       "  'max': <function jinja2.filters.do_max>,\n",
       "  'min': <function jinja2.filters.do_min>,\n",
       "  'pprint': <function jinja2.filters.do_pprint>,\n",
       "  'random': <function jinja2.filters.do_random>,\n",
       "  'reject': <function jinja2.filters.do_reject>,\n",
       "  'rejectattr': <function jinja2.filters.do_rejectattr>,\n",
       "  'replace': <function jinja2.filters.do_replace>,\n",
       "  'reverse': <function jinja2.filters.do_reverse>,\n",
       "  'round': <function jinja2.filters.do_round>,\n",
       "  'safe': <function jinja2.filters.do_mark_safe>,\n",
       "  'select': <function jinja2.filters.do_select>,\n",
       "  'selectattr': <function jinja2.filters.do_selectattr>,\n",
       "  'slice': <function jinja2.filters.do_slice>,\n",
       "  'sort': <function jinja2.filters.do_sort>,\n",
       "  'string': <function markupsafe._speedups.soft_unicode>,\n",
       "  'striptags': <function jinja2.filters.do_striptags>,\n",
       "  'sum': <function jinja2.filters.do_sum>,\n",
       "  'title': <function jinja2.filters.do_title>,\n",
       "  'tojson': <function jinja2.filters.do_tojson>,\n",
       "  'trim': <function jinja2.filters.do_trim>,\n",
       "  'truncate': <function jinja2.filters.do_truncate>,\n",
       "  'unique': <function jinja2.filters.do_unique>,\n",
       "  'upper': <function jinja2.filters.do_upper>,\n",
       "  'urlencode': <function jinja2.filters.do_urlencode>,\n",
       "  'urlize': <function jinja2.filters.do_urlize>,\n",
       "  'wordcount': <function jinja2.filters.do_wordcount>,\n",
       "  'wordwrap': <function jinja2.filters.do_wordwrap>,\n",
       "  'xmlattr': <function jinja2.filters.do_xmlattr>},\n",
       " 'finalize': None,\n",
       " 'globals': {'cycler': jinja2.utils.Cycler,\n",
       "  'dict': dict,\n",
       "  'joiner': jinja2.utils.Joiner,\n",
       "  'lipsum': <function jinja2.utils.generate_lorem_ipsum>,\n",
       "  'namespace': jinja2.utils.Namespace,\n",
       "  'range': range},\n",
       " 'is_async': False,\n",
       " 'keep_trailing_newline': False,\n",
       " 'line_comment_prefix': None,\n",
       " 'line_statement_prefix': None,\n",
       " 'loader': <jinja2.loaders.PackageLoader at 0x7fae5b742110>,\n",
       " 'lstrip_blocks': False,\n",
       " 'newline_sequence': '\\n',\n",
       " 'optimized': True,\n",
       " 'policies': {'compiler.ascii_str': True,\n",
       "  'ext.i18n.trimmed': False,\n",
       "  'json.dumps_function': None,\n",
       "  'json.dumps_kwargs': {'sort_keys': True},\n",
       "  'truncate.leeway': 5,\n",
       "  'urlize.rel': 'noopener',\n",
       "  'urlize.target': None},\n",
       " 'tests': {'!=': <function _operator.ne>,\n",
       "  '<': <function _operator.lt>,\n",
       "  '<=': <function _operator.le>,\n",
       "  '==': <function _operator.eq>,\n",
       "  '>': <function _operator.gt>,\n",
       "  '>=': <function _operator.ge>,\n",
       "  'boolean': <function jinja2.tests.test_boolean>,\n",
       "  'callable': <function callable>,\n",
       "  'defined': <function jinja2.tests.test_defined>,\n",
       "  'divisibleby': <function jinja2.tests.test_divisibleby>,\n",
       "  'eq': <function _operator.eq>,\n",
       "  'equalto': <function _operator.eq>,\n",
       "  'escaped': <function jinja2.tests.test_escaped>,\n",
       "  'even': <function jinja2.tests.test_even>,\n",
       "  'false': <function jinja2.tests.test_false>,\n",
       "  'float': <function jinja2.tests.test_float>,\n",
       "  'ge': <function _operator.ge>,\n",
       "  'greaterthan': <function _operator.gt>,\n",
       "  'gt': <function _operator.gt>,\n",
       "  'in': <function jinja2.tests.test_in>,\n",
       "  'integer': <function jinja2.tests.test_integer>,\n",
       "  'iterable': <function jinja2.tests.test_iterable>,\n",
       "  'le': <function _operator.le>,\n",
       "  'lessthan': <function _operator.lt>,\n",
       "  'lower': <function jinja2.tests.test_lower>,\n",
       "  'lt': <function _operator.lt>,\n",
       "  'mapping': <function jinja2.tests.test_mapping>,\n",
       "  'ne': <function _operator.ne>,\n",
       "  'none': <function jinja2.tests.test_none>,\n",
       "  'number': <function jinja2.tests.test_number>,\n",
       "  'odd': <function jinja2.tests.test_odd>,\n",
       "  'sameas': <function jinja2.tests.test_sameas>,\n",
       "  'sequence': <function jinja2.tests.test_sequence>,\n",
       "  'string': <function jinja2.tests.test_string>,\n",
       "  'true': <function jinja2.tests.test_true>,\n",
       "  'undefined': <function jinja2.tests.test_undefined>,\n",
       "  'upper': <function jinja2.tests.test_upper>},\n",
       " 'trim_blocks': False,\n",
       " 'undefined': jinja2.runtime.Undefined,\n",
       " 'variable_end_string': '}}',\n",
       " 'variable_start_string': '{{'}"
      ]
     },
     "execution_count": 36,
     "metadata": {
      "tags": []
     },
     "output_type": "execute_result"
    }
   ],
   "source": [
    "map.__dict__['_parent'].__dict__['html'].__dict__['_env'].__dict__"
   ]
  },
  {
   "cell_type": "code",
   "execution_count": null,
   "id": "H4k8Bm6i6AcW",
   "metadata": {
    "colab": {
     "base_uri": "https://localhost:8080/",
     "height": 168
    },
    "id": "H4k8Bm6i6AcW",
    "outputId": "b5f03f81-4605-49f4-feab-ee33984d1509"
   },
   "outputs": [
    {
     "ename": "AttributeError",
     "evalue": "ignored",
     "output_type": "error",
     "traceback": [
      "\u001b[0;31m---------------------------------------------------------------------------\u001b[0m",
      "\u001b[0;31mAttributeError\u001b[0m                            Traceback (most recent call last)",
      "\u001b[0;32m<ipython-input-53-5f6d58c76c63>\u001b[0m in \u001b[0;36m<module>\u001b[0;34m()\u001b[0m\n\u001b[0;32m----> 1\u001b[0;31m \u001b[0mmap\u001b[0m\u001b[0;34m.\u001b[0m\u001b[0mget_Zoom\u001b[0m\u001b[0;34m(\u001b[0m\u001b[0;34m)\u001b[0m\u001b[0;34m\u001b[0m\u001b[0;34m\u001b[0m\u001b[0m\n\u001b[0m",
      "\u001b[0;31mAttributeError\u001b[0m: 'Map' object has no attribute 'get_Zoom'"
     ]
    }
   ],
   "source": [
    "map.get_Zoom()"
   ]
  },
  {
   "cell_type": "code",
   "execution_count": null,
   "id": "MgTcZx6j6riw",
   "metadata": {
    "colab": {
     "base_uri": "https://localhost:8080/"
    },
    "id": "MgTcZx6j6riw",
    "outputId": "fea761c4-a501-45a9-d944-aa01f04dbaa6"
   },
   "outputs": [
    {
     "data": {
      "text/plain": [
       "0.16666666666666666"
      ]
     },
     "execution_count": 84,
     "metadata": {
      "tags": []
     },
     "output_type": "execute_result"
    }
   ],
   "source": [
    "1/6\n"
   ]
  },
  {
   "cell_type": "code",
   "execution_count": null,
   "id": "W_1m52meLw1n",
   "metadata": {
    "id": "W_1m52meLw1n"
   },
   "outputs": [],
   "source": []
  }
 ],
 "metadata": {
  "colab": {
   "collapsed_sections": [
    "3ee61394"
   ],
   "name": "predict_ee_folium.ipynb",
   "provenance": [],
   "toc_visible": true
  },
  "kernelspec": {
   "display_name": "Python 3",
   "language": "python",
   "name": "python3"
  },
  "language_info": {
   "codemirror_mode": {
    "name": "ipython",
    "version": 3
   },
   "file_extension": ".py",
   "mimetype": "text/x-python",
   "name": "python",
   "nbconvert_exporter": "python",
   "pygments_lexer": "ipython3",
   "version": "3.8.6"
  },
  "toc": {
   "base_numbering": 1,
   "nav_menu": {},
   "number_sections": true,
   "sideBar": true,
   "skip_h1_title": false,
   "title_cell": "Table of Contents",
   "title_sidebar": "Contents",
   "toc_cell": false,
   "toc_position": {},
   "toc_section_display": true,
   "toc_window_display": true
  }
 },
 "nbformat": 4,
 "nbformat_minor": 5
}
