{
  "nbformat": 4,
  "nbformat_minor": 5,
  "metadata": {
    "kernelspec": {
      "display_name": "Python 3",
      "language": "python",
      "name": "python3"
    },
    "language_info": {
      "codemirror_mode": {
        "name": "ipython",
        "version": 3
      },
      "file_extension": ".py",
      "mimetype": "text/x-python",
      "name": "python",
      "nbconvert_exporter": "python",
      "pygments_lexer": "ipython3",
      "version": "3.8.6"
    },
    "toc": {
      "base_numbering": 1,
      "nav_menu": {},
      "number_sections": true,
      "sideBar": true,
      "skip_h1_title": false,
      "title_cell": "Table of Contents",
      "title_sidebar": "Contents",
      "toc_cell": false,
      "toc_position": {},
      "toc_section_display": true,
      "toc_window_display": false
    },
    "colab": {
      "name": "Laurent_prediction_test_image_2.ipynb",
      "provenance": [],
      "collapsed_sections": [
        "69f4e0c9",
        "2b52f525",
        "73e210a4",
        "3ee61394",
        "6b248755"
      ],
      "toc_visible": true
    }
  },
  "cells": [
    {
      "cell_type": "markdown",
      "metadata": {
        "id": "69f4e0c9"
      },
      "source": [
        "### Authentification & initial params"
      ],
      "id": "69f4e0c9"
    },
    {
      "cell_type": "code",
      "metadata": {
        "colab": {
          "base_uri": "https://localhost:8080/"
        },
        "id": "FQy5ppBNyBqq",
        "outputId": "eb5e284d-f1f6-44eb-e72f-064da1e5298c"
      },
      "source": [
        "!git clone https://github.com/TheChwal/forest_guard.git"
      ],
      "id": "FQy5ppBNyBqq",
      "execution_count": 1,
      "outputs": [
        {
          "output_type": "stream",
          "text": [
            "fatal: destination path 'forest_guard' already exists and is not an empty directory.\n"
          ],
          "name": "stdout"
        }
      ]
    },
    {
      "cell_type": "code",
      "metadata": {
        "colab": {
          "base_uri": "https://localhost:8080/"
        },
        "id": "s314HeUbyNBg",
        "outputId": "09bb827f-bc27-4295-8620-d9aaa1d47d16"
      },
      "source": [
        "%cd forest_guard/"
      ],
      "id": "s314HeUbyNBg",
      "execution_count": null,
      "outputs": [
        {
          "output_type": "stream",
          "text": [
            "/content/forest_guard\n"
          ],
          "name": "stdout"
        }
      ]
    },
    {
      "cell_type": "code",
      "metadata": {
        "id": "iG3BDrK0yRCA"
      },
      "source": [
        "!pip install ."
      ],
      "id": "iG3BDrK0yRCA",
      "execution_count": null,
      "outputs": []
    },
    {
      "cell_type": "code",
      "metadata": {
        "id": "xt_ggUlWIADq"
      },
      "source": [
        "pip install tensorflow-addons"
      ],
      "id": "xt_ggUlWIADq",
      "execution_count": null,
      "outputs": []
    },
    {
      "cell_type": "code",
      "metadata": {
        "ExecuteTime": {
          "end_time": "2021-05-31T08:29:46.623953Z",
          "start_time": "2021-05-31T08:29:44.816884Z"
        },
        "id": "2d8bd76e"
      },
      "source": [
        "import ee \n",
        "import folium\n",
        "from datetime import datetime as dt\n",
        "from IPython.display import Image\n",
        "import tensorflow as tf\n",
        "import matplotlib.pyplot as plt\n",
        "import os\n",
        "from google.cloud import storage\n",
        "import time\n",
        "import numpy as np\n",
        "from tensorflow.python.keras import layers\n",
        "from tensorflow.python.keras import losses\n",
        "from tensorflow.python.keras import models\n",
        "from tensorflow.python.keras import metrics\n",
        "from tensorflow.python.keras import optimizers"
      ],
      "id": "2d8bd76e",
      "execution_count": null,
      "outputs": []
    },
    {
      "cell_type": "code",
      "metadata": {
        "id": "0572b0d6"
      },
      "source": [
        "#TO BE DONE IN GOOGLE COLAB\n",
        "\n",
        "from google.colab import auth"
      ],
      "id": "0572b0d6",
      "execution_count": null,
      "outputs": []
    },
    {
      "cell_type": "code",
      "metadata": {
        "id": "ulC2ce8iz0WR"
      },
      "source": [
        "auth.authenticate_user()"
      ],
      "id": "ulC2ce8iz0WR",
      "execution_count": null,
      "outputs": []
    },
    {
      "cell_type": "code",
      "metadata": {
        "ExecuteTime": {
          "end_time": "2021-05-31T08:31:14.408172Z",
          "start_time": "2021-05-31T08:30:42.946389Z"
        },
        "colab": {
          "base_uri": "https://localhost:8080/"
        },
        "id": "7f5343e9",
        "outputId": "1b82d48c-be7e-4744-c0b4-b3dad04a15ed"
      },
      "source": [
        "ee.Authenticate()\n",
        "ee.Initialize()"
      ],
      "id": "7f5343e9",
      "execution_count": null,
      "outputs": [
        {
          "output_type": "stream",
          "text": [
            "To authorize access needed by Earth Engine, open the following URL in a web browser and follow the instructions. If the web browser does not start automatically, please manually browse the URL below.\n",
            "\n",
            "    https://accounts.google.com/o/oauth2/auth?client_id=517222506229-vsmmajv00ul0bs7p89v5m89qs8eb9359.apps.googleusercontent.com&scope=https%3A%2F%2Fwww.googleapis.com%2Fauth%2Fearthengine+https%3A%2F%2Fwww.googleapis.com%2Fauth%2Fdevstorage.full_control&redirect_uri=urn%3Aietf%3Awg%3Aoauth%3A2.0%3Aoob&response_type=code&code_challenge=Zro_u1IAPnAUvBqE7ybJral5pBc1l_t9qMYnLhBNIPA&code_challenge_method=S256\n",
            "\n",
            "The authorization workflow will generate a code, which you should paste in the box below. \n",
            "Enter verification code: 4/1AY0e-g6n6TP9WgEVd9dkM9mw5gsIGd7Dj5fbfNPMpAjsnbjCBhC9ZEXyPnI\n",
            "\n",
            "Successfully saved authorization token.\n"
          ],
          "name": "stdout"
        }
      ]
    },
    {
      "cell_type": "code",
      "metadata": {
        "ExecuteTime": {
          "end_time": "2021-05-31T08:31:53.367576Z",
          "start_time": "2021-05-31T08:31:53.361889Z"
        },
        "id": "9dde7c36"
      },
      "source": [
        "import os\n",
        "from google.cloud import storage\n",
        "\n",
        "PROJECT = 'wagon-bootcamp-data'\n",
        "\n",
        "BUCKET = 'forest_guard_bucket'  # ⚠️ replace with your BUCKET NAME\n",
        "FOLDER = 'Arthur_prediction_mont_de_marsan_with_target'\n",
        "TRAINING_BASE = 'training_patches'\n",
        "EVAL_BASE = 'eval_patches'\n",
        "\n",
        "OPTICAL_BANDS = ['B1', 'B2', 'B3', 'B4', 'B5', 'B6', 'B7']\n",
        "THERMAL_BANDS = ['B10', 'B11']\n",
        "BANDS = OPTICAL_BANDS + THERMAL_BANDS\n",
        "RESPONSE = 'fnf'\n",
        "FEATURES = BANDS + [RESPONSE]\n",
        "\n",
        "# Specify the size and shape of patches expected by the model.\n",
        "KERNEL_SIZE = 256\n",
        "KERNEL_SHAPE = [KERNEL_SIZE, KERNEL_SIZE]\n",
        "\n",
        "COLUMNS = [\n",
        "  tf.io.FixedLenFeature(shape=KERNEL_SHAPE, dtype=tf.float32) for k in FEATURES\n",
        "]\n",
        "FEATURES_DICT = dict(zip(FEATURES, COLUMNS))\n",
        "\n",
        "# Specify model training parameters.\n",
        "#BATCH_SIZE = 16\n",
        "# EPOCHS = 10\n",
        "#BUFFER_SIZE = 2000\n",
        "# OPTIMIZER = 'SGD'\n",
        "# LOSS = 'MeanSquaredError'\n",
        "# METRICS = ['RootMeanSquaredError']"
      ],
      "id": "9dde7c36",
      "execution_count": null,
      "outputs": []
    },
    {
      "cell_type": "code",
      "metadata": {
        "id": "HfiRPVrHo6Qm"
      },
      "source": [
        "MODEL_DIR = 'gs://forest_guard_bucket/models/forest_guard/ai_platform_tversky_ownmodel_patience7'\n",
        "EEIFIED_DIR = 'gs://forest_guard_bucket/models/forest_guard/eefied'\n",
        "REGION = 'europe-west1'"
      ],
      "id": "HfiRPVrHo6Qm",
      "execution_count": null,
      "outputs": []
    },
    {
      "cell_type": "code",
      "metadata": {
        "id": "i3nW13G3lDJ2"
      },
      "source": [
        "from tensorflow.python.tools import saved_model_utils\n",
        "\n",
        "\n",
        "meta_graph_def = saved_model_utils.get_meta_graph_def(MODEL_DIR, 'serve')\n",
        "inputs = meta_graph_def.signature_def['serving_default'].inputs\n",
        "outputs = meta_graph_def.signature_def['serving_default'].outputs\n",
        "\n",
        "# Just get the first thing(s) from the serving signature def.  i.e. this\n",
        "# model only has a single input and a single output.\n",
        "input_name = None\n",
        "for k,v in inputs.items():\n",
        "  input_name = v.name\n",
        "  break\n",
        "\n",
        "output_name = None\n",
        "for k,v in outputs.items():\n",
        "  output_name = v.name\n",
        "  break\n",
        "\n",
        "# Make a dictionary that maps Earth Engine outputs and inputs to \n",
        "# AI Platform inputs and outputs, respectively.\n",
        "import json\n",
        "input_dict = \"'\" + json.dumps({input_name: \"array\"}) + \"'\"\n",
        "output_dict = \"'\" + json.dumps({output_name: \"fnf\"}) + \"'\""
      ],
      "id": "i3nW13G3lDJ2",
      "execution_count": null,
      "outputs": []
    },
    {
      "cell_type": "code",
      "metadata": {
        "colab": {
          "base_uri": "https://localhost:8080/"
        },
        "id": "kDjL7K6crsde",
        "outputId": "fe692ecb-a209-478f-c5e6-b620d1c661ad"
      },
      "source": [
        "# You need to set the project before using the model prepare command.\n",
        "!earthengine set_project {PROJECT}\n",
        "!earthengine model prepare --source_dir {MODEL_DIR} --dest_dir {EEIFIED_DIR} --input {input_dict} --output {output_dict}"
      ],
      "id": "kDjL7K6crsde",
      "execution_count": null,
      "outputs": [
        {
          "output_type": "stream",
          "text": [
            "WARNING:tensorflow:From /usr/local/lib/python3.7/dist-packages/tensorflow/python/compat/v2_compat.py:96: disable_resource_variables (from tensorflow.python.ops.variable_scope) is deprecated and will be removed in a future version.\n",
            "Instructions for updating:\n",
            "non-resource variables are not supported in the long term\n",
            "Successfully saved project id\n",
            "WARNING:tensorflow:From /usr/local/lib/python3.7/dist-packages/tensorflow/python/compat/v2_compat.py:96: disable_resource_variables (from tensorflow.python.ops.variable_scope) is deprecated and will be removed in a future version.\n",
            "Instructions for updating:\n",
            "non-resource variables are not supported in the long term\n",
            "Success: model at 'gs://forest_guard_bucket/models/forest_guard/eefied' is ready to be hosted in AI Platform.\n"
          ],
          "name": "stdout"
        }
      ]
    },
    {
      "cell_type": "code",
      "metadata": {
        "colab": {
          "base_uri": "https://localhost:8080/"
        },
        "id": "koSeDUwwt44l",
        "outputId": "41d34dd4-e20a-45eb-9bce-b4ba72f65071"
      },
      "source": [
        "%%writefile config.yaml\n",
        "autoScaling:\n",
        "    minNodes: 10"
      ],
      "id": "koSeDUwwt44l",
      "execution_count": null,
      "outputs": [
        {
          "output_type": "stream",
          "text": [
            "Writing config.yaml\n"
          ],
          "name": "stdout"
        }
      ]
    },
    {
      "cell_type": "code",
      "metadata": {
        "colab": {
          "base_uri": "https://localhost:8080/"
        },
        "id": "9SLgdnZ0vR78",
        "outputId": "1f6abf91-beee-4bb8-b7b0-ae72f4a1132b"
      },
      "source": [
        "MODEL_NAME = 'test_ai_platform_tversky_ownmodel_patience7'\n",
        "VERSION_NAME = 'v' + str(int(time.time()))\n",
        "print('Creating version: ' + VERSION_NAME)\n",
        "\n",
        "!gcloud ai-platform models create {MODEL_NAME} \\\n",
        "  --project {PROJECT} \\\n",
        "  --region {REGION}\n",
        "\n",
        "!gcloud ai-platform versions create {VERSION_NAME} \\\n",
        "  --project {PROJECT} \\\n",
        "  --model {MODEL_NAME} \\\n",
        "  --region {REGION} \\\n",
        "  --origin {EEIFIED_DIR} \\\n",
        "  --framework \"TENSORFLOW\" \\\n",
        "  --runtime-version 2.4 \\\n",
        "  --python-version 3.7 \\\n",
        "  --config=config.yaml"
      ],
      "id": "9SLgdnZ0vR78",
      "execution_count": null,
      "outputs": [
        {
          "output_type": "stream",
          "text": [
            "Creating version: v1622559645\n",
            "Using endpoint [https://europe-west1-ml.googleapis.com/]\n",
            "\u001b[1;31mERROR:\u001b[0m (gcloud.ai-platform.models.create) Resource in projects [wagon-bootcamp-data] is the subject of a conflict: Field: model.name Error: A model with the same name already exists.\n",
            "- '@type': type.googleapis.com/google.rpc.BadRequest\n",
            "  fieldViolations:\n",
            "  - description: A model with the same name already exists.\n",
            "    field: model.name\n",
            "Using endpoint [https://europe-west1-ml.googleapis.com/]\n",
            "\u001b[1;31mERROR:\u001b[0m (gcloud.ai-platform.versions.create) HttpError accessing <https://europe-west1-ml.googleapis.com/v1/projects/wagon-bootcamp-data/models/test_ai_platform_tversky_ownmodel_patience7/versions?alt=json>: response: <{'vary': 'Origin, X-Origin, Referer', 'content-type': 'application/json; charset=UTF-8', 'content-encoding': 'gzip', 'date': 'Tue, 01 Jun 2021 15:01:20 GMT', 'server': 'ESF', 'cache-control': 'private', 'x-xss-protection': '0', 'x-frame-options': 'SAMEORIGIN', 'x-content-type-options': 'nosniff', 'transfer-encoding': 'chunked', 'status': 429}>, content <{\n",
            "  \"error\": {\n",
            "    \"code\": 429,\n",
            "    \"message\": \"The requested number of n1-standard-2 exceeds the quota limit. Current usage/limit: 0/20, Requested: 26.\",\n",
            "    \"status\": \"RESOURCE_EXHAUSTED\"\n",
            "  }\n",
            "}\n",
            ">\n",
            "This may be due to network connectivity issues. Please check your network settings, and the status of the service you are trying to reach.\n"
          ],
          "name": "stdout"
        }
      ]
    },
    {
      "cell_type": "code",
      "metadata": {
        "colab": {
          "base_uri": "https://localhost:8080/",
          "height": 651
        },
        "id": "chs-E0rIvVh_",
        "outputId": "b244103b-5bd3-4675-ad1d-ccab413a32d0"
      },
      "source": [
        "# Use Landsat 8 surface reflectance data.\n",
        "l8sr = ee.ImageCollection('LANDSAT/LC08/C01/T1_SR')\n",
        "\n",
        "# Cloud masking function.\n",
        "def maskL8sr(image):\n",
        "  cloudShadowBitMask = ee.Number(2).pow(3).int()\n",
        "  cloudsBitMask = ee.Number(2).pow(5).int()\n",
        "  qa = image.select('pixel_qa')\n",
        "  mask1 = qa.bitwiseAnd(cloudShadowBitMask).eq(0).And(\n",
        "    qa.bitwiseAnd(cloudsBitMask).eq(0))\n",
        "  mask2 = image.mask().reduce('min')\n",
        "  mask3 = image.select(OPTICAL_BANDS).gt(0).And(\n",
        "          image.select(OPTICAL_BANDS).lt(10000)).reduce('min')\n",
        "  mask = mask1.And(mask2).And(mask3)\n",
        "  return image.select(OPTICAL_BANDS).divide(10000).addBands(\n",
        "          image.select(THERMAL_BANDS).divide(10).clamp(273.15, 373.15)\n",
        "            .subtract(273.15).divide(100)).updateMask(mask)\n",
        "\n",
        "# The image input data is a cloud-masked median composite.\n",
        "image = l8sr.filterDate(\n",
        "    '2015-01-01', '2017-12-31').map(maskL8sr).median().select(BANDS).float()\n",
        "\n",
        "# Load the trained model and use it for prediction.  If you specified a region \n",
        "# other than the default (us-central1) at model creation, specify it here.\n",
        "model = ee.Model.fromAiPlatformPredictor(\n",
        "    projectId = PROJECT,\n",
        "    modelName = MODEL_NAME,\n",
        "    # modelName = \"ai_platform_ee_output_format_tf2\",\n",
        "    version = VERSION_NAME,\n",
        "    # version = \"v1622550169\",\n",
        "    region= REGION,\n",
        "    inputTileSize = [256, 256],\n",
        "    # inputOverlapSize = [8, 8],\n",
        "    proj = ee.Projection('EPSG:4326').atScale(30),\n",
        "    fixInputProj = True,\n",
        "    outputBands = {'fnf': {\n",
        "        'type': ee.PixelType.float()\n",
        "      }\n",
        "    }\n",
        ")\n",
        "predictions = model.predictImage(image.toArray())\n",
        "\n",
        "# Use folium to visualize the input imagery and the predictions.\n",
        "# mapid = image.getMapId({'bands': ['B4', 'B3', 'B2'], 'min': 0, 'max': 0.3})\n",
        "map = folium.Map(location=[49, 7.5], zoom_start=15)\n",
        "# folium.TileLayer(\n",
        "#     tiles=mapid['tile_fetcher'].url_format,\n",
        "#     attr='Google Earth Engine',\n",
        "#     overlay=True,\n",
        "#     name='median composite',\n",
        "#   ).add_to(map)\n",
        "\n",
        "mapid = predictions.getMapId({'min': 0, 'max': 1})\n",
        "\n",
        "folium.TileLayer(\n",
        "    tiles=mapid['tile_fetcher'].url_format,\n",
        "    attr='Google Earth Engine',\n",
        "    overlay=True,\n",
        "    name='predictions',\n",
        "  ).add_to(map)\n",
        "map.add_child(folium.LayerControl())\n",
        "map"
      ],
      "id": "chs-E0rIvVh_",
      "execution_count": null,
      "outputs": [
        {
          "output_type": "execute_result",
          "data": {
            "text/html": [
              "<div style=\"width:100%;\"><div style=\"position:relative;width:100%;height:0;padding-bottom:60%;\"><span style=\"color:#565656\">Make this Notebook Trusted to load map: File -> Trust Notebook</span><iframe src=\"about:blank\" style=\"position:absolute;width:100%;height:100%;left:0;top:0;border:none !important;\" data-html=%3C%21DOCTYPE%20html%3E%0A%3Chead%3E%20%20%20%20%0A%20%20%20%20%3Cmeta%20http-equiv%3D%22content-type%22%20content%3D%22text/html%3B%20charset%3DUTF-8%22%20/%3E%0A%20%20%20%20%3Cscript%3EL_PREFER_CANVAS%3Dfalse%3B%20L_NO_TOUCH%3Dfalse%3B%20L_DISABLE_3D%3Dfalse%3B%3C/script%3E%0A%20%20%20%20%3Cscript%20src%3D%22https%3A//cdn.jsdelivr.net/npm/leaflet%401.4.0/dist/leaflet.js%22%3E%3C/script%3E%0A%20%20%20%20%3Cscript%20src%3D%22https%3A//code.jquery.com/jquery-1.12.4.min.js%22%3E%3C/script%3E%0A%20%20%20%20%3Cscript%20src%3D%22https%3A//maxcdn.bootstrapcdn.com/bootstrap/3.2.0/js/bootstrap.min.js%22%3E%3C/script%3E%0A%20%20%20%20%3Cscript%20src%3D%22https%3A//cdnjs.cloudflare.com/ajax/libs/Leaflet.awesome-markers/2.0.2/leaflet.awesome-markers.js%22%3E%3C/script%3E%0A%20%20%20%20%3Clink%20rel%3D%22stylesheet%22%20href%3D%22https%3A//cdn.jsdelivr.net/npm/leaflet%401.4.0/dist/leaflet.css%22/%3E%0A%20%20%20%20%3Clink%20rel%3D%22stylesheet%22%20href%3D%22https%3A//maxcdn.bootstrapcdn.com/bootstrap/3.2.0/css/bootstrap.min.css%22/%3E%0A%20%20%20%20%3Clink%20rel%3D%22stylesheet%22%20href%3D%22https%3A//maxcdn.bootstrapcdn.com/bootstrap/3.2.0/css/bootstrap-theme.min.css%22/%3E%0A%20%20%20%20%3Clink%20rel%3D%22stylesheet%22%20href%3D%22https%3A//maxcdn.bootstrapcdn.com/font-awesome/4.6.3/css/font-awesome.min.css%22/%3E%0A%20%20%20%20%3Clink%20rel%3D%22stylesheet%22%20href%3D%22https%3A//cdnjs.cloudflare.com/ajax/libs/Leaflet.awesome-markers/2.0.2/leaflet.awesome-markers.css%22/%3E%0A%20%20%20%20%3Clink%20rel%3D%22stylesheet%22%20href%3D%22https%3A//rawcdn.githack.com/python-visualization/folium/master/folium/templates/leaflet.awesome.rotate.css%22/%3E%0A%20%20%20%20%3Cstyle%3Ehtml%2C%20body%20%7Bwidth%3A%20100%25%3Bheight%3A%20100%25%3Bmargin%3A%200%3Bpadding%3A%200%3B%7D%3C/style%3E%0A%20%20%20%20%3Cstyle%3E%23map%20%7Bposition%3Aabsolute%3Btop%3A0%3Bbottom%3A0%3Bright%3A0%3Bleft%3A0%3B%7D%3C/style%3E%0A%20%20%20%20%0A%20%20%20%20%3Cmeta%20name%3D%22viewport%22%20content%3D%22width%3Ddevice-width%2C%0A%20%20%20%20%20%20%20%20initial-scale%3D1.0%2C%20maximum-scale%3D1.0%2C%20user-scalable%3Dno%22%20/%3E%0A%20%20%20%20%3Cstyle%3E%23map_15ff05f04b794425aed6f70b49c2cc8e%20%7B%0A%20%20%20%20%20%20%20%20position%3A%20relative%3B%0A%20%20%20%20%20%20%20%20width%3A%20100.0%25%3B%0A%20%20%20%20%20%20%20%20height%3A%20100.0%25%3B%0A%20%20%20%20%20%20%20%20left%3A%200.0%25%3B%0A%20%20%20%20%20%20%20%20top%3A%200.0%25%3B%0A%20%20%20%20%20%20%20%20%7D%0A%20%20%20%20%3C/style%3E%0A%3C/head%3E%0A%3Cbody%3E%20%20%20%20%0A%20%20%20%20%0A%20%20%20%20%3Cdiv%20class%3D%22folium-map%22%20id%3D%22map_15ff05f04b794425aed6f70b49c2cc8e%22%20%3E%3C/div%3E%0A%3C/body%3E%0A%3Cscript%3E%20%20%20%20%0A%20%20%20%20%0A%20%20%20%20%0A%20%20%20%20%20%20%20%20var%20bounds%20%3D%20null%3B%0A%20%20%20%20%0A%0A%20%20%20%20var%20map_15ff05f04b794425aed6f70b49c2cc8e%20%3D%20L.map%28%0A%20%20%20%20%20%20%20%20%27map_15ff05f04b794425aed6f70b49c2cc8e%27%2C%20%7B%0A%20%20%20%20%20%20%20%20center%3A%20%5B49%2C%207.5%5D%2C%0A%20%20%20%20%20%20%20%20zoom%3A%2015%2C%0A%20%20%20%20%20%20%20%20maxBounds%3A%20bounds%2C%0A%20%20%20%20%20%20%20%20layers%3A%20%5B%5D%2C%0A%20%20%20%20%20%20%20%20worldCopyJump%3A%20false%2C%0A%20%20%20%20%20%20%20%20crs%3A%20L.CRS.EPSG3857%2C%0A%20%20%20%20%20%20%20%20zoomControl%3A%20true%2C%0A%20%20%20%20%20%20%20%20%7D%29%3B%0A%0A%0A%20%20%20%20%0A%20%20%20%20var%20tile_layer_2837cf90ef33451183af662d9a890d1e%20%3D%20L.tileLayer%28%0A%20%20%20%20%20%20%20%20%27https%3A//%7Bs%7D.tile.openstreetmap.org/%7Bz%7D/%7Bx%7D/%7By%7D.png%27%2C%0A%20%20%20%20%20%20%20%20%7B%0A%20%20%20%20%20%20%20%20%22attribution%22%3A%20null%2C%0A%20%20%20%20%20%20%20%20%22detectRetina%22%3A%20false%2C%0A%20%20%20%20%20%20%20%20%22maxNativeZoom%22%3A%2018%2C%0A%20%20%20%20%20%20%20%20%22maxZoom%22%3A%2018%2C%0A%20%20%20%20%20%20%20%20%22minZoom%22%3A%200%2C%0A%20%20%20%20%20%20%20%20%22noWrap%22%3A%20false%2C%0A%20%20%20%20%20%20%20%20%22opacity%22%3A%201%2C%0A%20%20%20%20%20%20%20%20%22subdomains%22%3A%20%22abc%22%2C%0A%20%20%20%20%20%20%20%20%22tms%22%3A%20false%0A%7D%29.addTo%28map_15ff05f04b794425aed6f70b49c2cc8e%29%3B%0A%20%20%20%20var%20tile_layer_8ca7e2e82f284bffa5c84ad1ee02234d%20%3D%20L.tileLayer%28%0A%20%20%20%20%20%20%20%20%27https%3A//earthengine.googleapis.com/v1alpha/projects/earthengine-legacy/maps/00cb15470a194a6ff75f17f33efe8a6e-301ad53b983a161ecdcff33d2444fa47/tiles/%7Bz%7D/%7Bx%7D/%7By%7D%27%2C%0A%20%20%20%20%20%20%20%20%7B%0A%20%20%20%20%20%20%20%20%22attribution%22%3A%20%22Google%20Earth%20Engine%22%2C%0A%20%20%20%20%20%20%20%20%22detectRetina%22%3A%20false%2C%0A%20%20%20%20%20%20%20%20%22maxNativeZoom%22%3A%2018%2C%0A%20%20%20%20%20%20%20%20%22maxZoom%22%3A%2018%2C%0A%20%20%20%20%20%20%20%20%22minZoom%22%3A%200%2C%0A%20%20%20%20%20%20%20%20%22noWrap%22%3A%20false%2C%0A%20%20%20%20%20%20%20%20%22opacity%22%3A%201%2C%0A%20%20%20%20%20%20%20%20%22subdomains%22%3A%20%22abc%22%2C%0A%20%20%20%20%20%20%20%20%22tms%22%3A%20false%0A%7D%29.addTo%28map_15ff05f04b794425aed6f70b49c2cc8e%29%3B%0A%20%20%20%20%0A%20%20%20%20%20%20%20%20%20%20%20%20var%20layer_control_49cf83481ca1454282c63de10052ebb8%20%3D%20%7B%0A%20%20%20%20%20%20%20%20%20%20%20%20%20%20%20%20base_layers%20%3A%20%7B%20%22openstreetmap%22%20%3A%20tile_layer_2837cf90ef33451183af662d9a890d1e%2C%20%7D%2C%0A%20%20%20%20%20%20%20%20%20%20%20%20%20%20%20%20overlays%20%3A%20%7B%20%22predictions%22%20%3A%20tile_layer_8ca7e2e82f284bffa5c84ad1ee02234d%2C%20%7D%0A%20%20%20%20%20%20%20%20%20%20%20%20%20%20%20%20%7D%3B%0A%20%20%20%20%20%20%20%20%20%20%20%20L.control.layers%28%0A%20%20%20%20%20%20%20%20%20%20%20%20%20%20%20%20layer_control_49cf83481ca1454282c63de10052ebb8.base_layers%2C%0A%20%20%20%20%20%20%20%20%20%20%20%20%20%20%20%20layer_control_49cf83481ca1454282c63de10052ebb8.overlays%2C%0A%20%20%20%20%20%20%20%20%20%20%20%20%20%20%20%20%7Bposition%3A%20%27topright%27%2C%0A%20%20%20%20%20%20%20%20%20%20%20%20%20%20%20%20%20collapsed%3A%20true%2C%0A%20%20%20%20%20%20%20%20%20%20%20%20%20%20%20%20%20autoZIndex%3A%20true%0A%20%20%20%20%20%20%20%20%20%20%20%20%20%20%20%20%7D%29.addTo%28map_15ff05f04b794425aed6f70b49c2cc8e%29%3B%0A%20%20%20%20%20%20%20%20%20%20%20%20%0A%20%20%20%20%20%20%20%20%0A%3C/script%3E onload=\"this.contentDocument.open();this.contentDocument.write(    decodeURIComponent(this.getAttribute('data-html')));this.contentDocument.close();\" allowfullscreen webkitallowfullscreen mozallowfullscreen></iframe></div></div>"
            ],
            "text/plain": [
              "<folium.folium.Map at 0x7fd7b4aedb90>"
            ]
          },
          "metadata": {
            "tags": []
          },
          "execution_count": 38
        }
      ]
    },
    {
      "cell_type": "code",
      "metadata": {
        "id": "Rwd1rR8MtrUp"
      },
      "source": [
        "prediction = model.predictImage(image)"
      ],
      "id": "Rwd1rR8MtrUp",
      "execution_count": null,
      "outputs": []
    },
    {
      "cell_type": "code",
      "metadata": {
        "id": "iNIeDstD3h_k"
      },
      "source": [
        "prediction.getInfo()"
      ],
      "id": "iNIeDstD3h_k",
      "execution_count": null,
      "outputs": []
    },
    {
      "cell_type": "code",
      "metadata": {
        "id": "q5QoSv5m4RCq"
      },
      "source": [
        "image.getInfo()"
      ],
      "id": "q5QoSv5m4RCq",
      "execution_count": null,
      "outputs": []
    },
    {
      "cell_type": "code",
      "metadata": {
        "id": "hkAMvYbPt2fA"
      },
      "source": [
        "tilfetch = mapid[\"tile_fetcher\"]"
      ],
      "id": "hkAMvYbPt2fA",
      "execution_count": null,
      "outputs": []
    },
    {
      "cell_type": "markdown",
      "metadata": {
        "id": "1vDUesatnTRh"
      },
      "source": [
        "# New section"
      ],
      "id": "1vDUesatnTRh"
    },
    {
      "cell_type": "code",
      "metadata": {
        "colab": {
          "base_uri": "https://localhost:8080/"
        },
        "id": "X-EMRT6DuFXP",
        "outputId": "6190f32b-81d8-428c-e6c8-c09febce8cc1"
      },
      "source": [
        "tilfetch.url_format"
      ],
      "id": "X-EMRT6DuFXP",
      "execution_count": null,
      "outputs": [
        {
          "output_type": "execute_result",
          "data": {
            "application/vnd.google.colaboratory.intrinsic+json": {
              "type": "string"
            },
            "text/plain": [
              "'https://earthengine.googleapis.com/v1alpha/projects/earthengine-legacy/maps/00cb15470a194a6ff75f17f33efe8a6e-301ad53b983a161ecdcff33d2444fa47/tiles/{z}/{x}/{y}'"
            ]
          },
          "metadata": {
            "tags": []
          },
          "execution_count": 41
        }
      ]
    },
    {
      "cell_type": "code",
      "metadata": {
        "id": "F4n6vANsJjtR"
      },
      "source": [
        ""
      ],
      "id": "F4n6vANsJjtR",
      "execution_count": null,
      "outputs": []
    }
  ]
}