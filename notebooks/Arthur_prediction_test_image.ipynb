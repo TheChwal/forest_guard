{
 "cells": [
  {
   "cell_type": "markdown",
   "id": "69f4e0c9",
   "metadata": {},
   "source": [
    "### Authentification & initial params"
   ]
  },
  {
   "cell_type": "code",
   "execution_count": 5,
   "id": "f265c409",
   "metadata": {
    "ExecuteTime": {
     "end_time": "2021-05-31T07:25:01.129296Z",
     "start_time": "2021-05-31T07:24:52.395387Z"
    }
   },
   "outputs": [
    {
     "name": "stdout",
     "output_type": "stream",
     "text": [
      "Requirement already satisfied: forest_guard in /home/arthur/.pyenv/versions/3.8.6/envs/projetfinal/lib/python3.8/site-packages (1.0)\n",
      "Requirement already satisfied: earthengine-api in /home/arthur/.pyenv/versions/3.8.6/envs/projetfinal/lib/python3.8/site-packages (from forest_guard) (0.1.266)\n",
      "Requirement already satisfied: mlflow in /home/arthur/.pyenv/versions/3.8.6/envs/projetfinal/lib/python3.8/site-packages (from forest_guard) (1.17.0)\n",
      "Requirement already satisfied: s3fs in /home/arthur/.pyenv/versions/3.8.6/envs/projetfinal/lib/python3.8/site-packages (from forest_guard) (2021.5.0)\n",
      "Requirement already satisfied: flake8 in /home/arthur/.pyenv/versions/3.8.6/envs/projetfinal/lib/python3.8/site-packages (from forest_guard) (3.9.2)\n",
      "Requirement already satisfied: yapf in /home/arthur/.pyenv/versions/3.8.6/envs/projetfinal/lib/python3.8/site-packages (from forest_guard) (0.31.0)\n",
      "Requirement already satisfied: black in /home/arthur/.pyenv/versions/3.8.6/envs/projetfinal/lib/python3.8/site-packages (from forest_guard) (21.5b1)\n",
      "Requirement already satisfied: gcsfs in /home/arthur/.pyenv/versions/3.8.6/envs/projetfinal/lib/python3.8/site-packages (from forest_guard) (2021.5.0)\n",
      "Requirement already satisfied: six>=1.14 in /home/arthur/.pyenv/versions/3.8.6/envs/projetfinal/lib/python3.8/site-packages (from forest_guard) (1.15.0)\n",
      "Requirement already satisfied: pytest in /home/arthur/.pyenv/versions/3.8.6/envs/projetfinal/lib/python3.8/site-packages (from forest_guard) (6.2.4)\n",
      "Requirement already satisfied: setuptools>=26 in /home/arthur/.pyenv/versions/3.8.6/envs/projetfinal/lib/python3.8/site-packages (from forest_guard) (49.2.1)\n",
      "Requirement already satisfied: termcolor in /home/arthur/.pyenv/versions/3.8.6/envs/projetfinal/lib/python3.8/site-packages (from forest_guard) (1.1.0)\n",
      "Requirement already satisfied: pip>=9 in /home/arthur/.pyenv/versions/3.8.6/envs/projetfinal/lib/python3.8/site-packages (from forest_guard) (20.2.1)\n",
      "Requirement already satisfied: rasterio in /home/arthur/.pyenv/versions/3.8.6/envs/projetfinal/lib/python3.8/site-packages (from forest_guard) (1.2.3)\n",
      "Requirement already satisfied: numpy in /home/arthur/.pyenv/versions/3.8.6/envs/projetfinal/lib/python3.8/site-packages (from forest_guard) (1.19.5)\n",
      "Requirement already satisfied: memoized-property in /home/arthur/.pyenv/versions/3.8.6/envs/projetfinal/lib/python3.8/site-packages (from forest_guard) (1.0.3)\n",
      "Requirement already satisfied: tensorflow in /home/arthur/.pyenv/versions/3.8.6/envs/projetfinal/lib/python3.8/site-packages (from forest_guard) (2.5.0)\n",
      "Requirement already satisfied: pandas in /home/arthur/.pyenv/versions/3.8.6/envs/projetfinal/lib/python3.8/site-packages (from forest_guard) (1.2.4)\n",
      "Requirement already satisfied: joblib in /home/arthur/.pyenv/versions/3.8.6/envs/projetfinal/lib/python3.8/site-packages (from forest_guard) (1.0.1)\n",
      "Requirement already satisfied: twine in /home/arthur/.pyenv/versions/3.8.6/envs/projetfinal/lib/python3.8/site-packages (from forest_guard) (3.4.1)\n",
      "Requirement already satisfied: scikit-learn in /home/arthur/.pyenv/versions/3.8.6/envs/projetfinal/lib/python3.8/site-packages (from forest_guard) (0.24.2)\n",
      "Requirement already satisfied: coverage in /home/arthur/.pyenv/versions/3.8.6/envs/projetfinal/lib/python3.8/site-packages (from forest_guard) (5.5)\n",
      "Requirement already satisfied: wheel>=0.29 in /home/arthur/.pyenv/versions/3.8.6/envs/projetfinal/lib/python3.8/site-packages (from forest_guard) (0.36.2)\n",
      "Requirement already satisfied: google-cloud-storage in /home/arthur/.pyenv/versions/3.8.6/envs/projetfinal/lib/python3.8/site-packages (from forest_guard) (1.38.0)\n",
      "Requirement already satisfied: folium in /home/arthur/.pyenv/versions/3.8.6/envs/projetfinal/lib/python3.8/site-packages (from forest_guard) (0.12.1)\n",
      "Requirement already satisfied: google-auth>=1.4.1 in /home/arthur/.pyenv/versions/3.8.6/envs/projetfinal/lib/python3.8/site-packages (from earthengine-api->forest_guard) (1.30.0)\n",
      "Requirement already satisfied: google-api-python-client<2,>=1.12.1 in /home/arthur/.pyenv/versions/3.8.6/envs/projetfinal/lib/python3.8/site-packages (from earthengine-api->forest_guard) (1.12.8)\n",
      "Requirement already satisfied: httplib2shim in /home/arthur/.pyenv/versions/3.8.6/envs/projetfinal/lib/python3.8/site-packages (from earthengine-api->forest_guard) (0.0.3)\n",
      "Requirement already satisfied: google-auth-httplib2>=0.0.3 in /home/arthur/.pyenv/versions/3.8.6/envs/projetfinal/lib/python3.8/site-packages (from earthengine-api->forest_guard) (0.1.0)\n",
      "Requirement already satisfied: httplib2<1dev,>=0.9.2 in /home/arthur/.pyenv/versions/3.8.6/envs/projetfinal/lib/python3.8/site-packages (from earthengine-api->forest_guard) (0.19.1)\n",
      "Requirement already satisfied: future in /home/arthur/.pyenv/versions/3.8.6/envs/projetfinal/lib/python3.8/site-packages (from earthengine-api->forest_guard) (0.18.2)\n",
      "Requirement already satisfied: pyyaml in /home/arthur/.pyenv/versions/3.8.6/envs/projetfinal/lib/python3.8/site-packages (from mlflow->forest_guard) (5.4.1)\n",
      "Requirement already satisfied: click>=7.0 in /home/arthur/.pyenv/versions/3.8.6/envs/projetfinal/lib/python3.8/site-packages (from mlflow->forest_guard) (7.1.2)\n",
      "Requirement already satisfied: gunicorn; platform_system != \"Windows\" in /home/arthur/.pyenv/versions/3.8.6/envs/projetfinal/lib/python3.8/site-packages (from mlflow->forest_guard) (20.1.0)\n",
      "Requirement already satisfied: sqlalchemy in /home/arthur/.pyenv/versions/3.8.6/envs/projetfinal/lib/python3.8/site-packages (from mlflow->forest_guard) (1.4.15)\n",
      "Requirement already satisfied: entrypoints in /home/arthur/.pyenv/versions/3.8.6/envs/projetfinal/lib/python3.8/site-packages (from mlflow->forest_guard) (0.3)\n",
      "Requirement already satisfied: docker>=4.0.0 in /home/arthur/.pyenv/versions/3.8.6/envs/projetfinal/lib/python3.8/site-packages (from mlflow->forest_guard) (5.0.0)\n",
      "Requirement already satisfied: gitpython>=2.1.0 in /home/arthur/.pyenv/versions/3.8.6/envs/projetfinal/lib/python3.8/site-packages (from mlflow->forest_guard) (3.1.17)\n",
      "Requirement already satisfied: cloudpickle in /home/arthur/.pyenv/versions/3.8.6/envs/projetfinal/lib/python3.8/site-packages (from mlflow->forest_guard) (1.6.0)\n",
      "Requirement already satisfied: databricks-cli>=0.8.7 in /home/arthur/.pyenv/versions/3.8.6/envs/projetfinal/lib/python3.8/site-packages (from mlflow->forest_guard) (0.14.3)\n",
      "Requirement already satisfied: requests>=2.17.3 in /home/arthur/.pyenv/versions/3.8.6/envs/projetfinal/lib/python3.8/site-packages (from mlflow->forest_guard) (2.25.1)\n",
      "Requirement already satisfied: sqlparse>=0.3.1 in /home/arthur/.pyenv/versions/3.8.6/envs/projetfinal/lib/python3.8/site-packages (from mlflow->forest_guard) (0.4.1)\n",
      "Requirement already satisfied: protobuf>=3.6.0 in /home/arthur/.pyenv/versions/3.8.6/envs/projetfinal/lib/python3.8/site-packages (from mlflow->forest_guard) (3.17.0)\n",
      "Requirement already satisfied: pytz in /home/arthur/.pyenv/versions/3.8.6/envs/projetfinal/lib/python3.8/site-packages (from mlflow->forest_guard) (2021.1)\n",
      "Requirement already satisfied: alembic<=1.4.1 in /home/arthur/.pyenv/versions/3.8.6/envs/projetfinal/lib/python3.8/site-packages (from mlflow->forest_guard) (1.4.1)\n",
      "Requirement already satisfied: prometheus-flask-exporter in /home/arthur/.pyenv/versions/3.8.6/envs/projetfinal/lib/python3.8/site-packages (from mlflow->forest_guard) (0.18.2)\n",
      "Requirement already satisfied: Flask in /home/arthur/.pyenv/versions/3.8.6/envs/projetfinal/lib/python3.8/site-packages (from mlflow->forest_guard) (2.0.1)\n",
      "Requirement already satisfied: querystring-parser in /home/arthur/.pyenv/versions/3.8.6/envs/projetfinal/lib/python3.8/site-packages (from mlflow->forest_guard) (1.2.4)\n",
      "Requirement already satisfied: fsspec==2021.05.0 in /home/arthur/.pyenv/versions/3.8.6/envs/projetfinal/lib/python3.8/site-packages (from s3fs->forest_guard) (2021.5.0)\n",
      "Requirement already satisfied: aiobotocore>=1.0.1 in /home/arthur/.pyenv/versions/3.8.6/envs/projetfinal/lib/python3.8/site-packages (from s3fs->forest_guard) (1.3.0)\n",
      "Requirement already satisfied: pycodestyle<2.8.0,>=2.7.0 in /home/arthur/.pyenv/versions/3.8.6/envs/projetfinal/lib/python3.8/site-packages (from flake8->forest_guard) (2.7.0)\n"
     ]
    },
    {
     "name": "stdout",
     "output_type": "stream",
     "text": [
      "Requirement already satisfied: mccabe<0.7.0,>=0.6.0 in /home/arthur/.pyenv/versions/3.8.6/envs/projetfinal/lib/python3.8/site-packages (from flake8->forest_guard) (0.6.1)\n",
      "Requirement already satisfied: pyflakes<2.4.0,>=2.3.0 in /home/arthur/.pyenv/versions/3.8.6/envs/projetfinal/lib/python3.8/site-packages (from flake8->forest_guard) (2.3.1)\n",
      "Requirement already satisfied: toml>=0.10.1 in /home/arthur/.pyenv/versions/3.8.6/envs/projetfinal/lib/python3.8/site-packages (from black->forest_guard) (0.10.2)\n",
      "Requirement already satisfied: appdirs in /home/arthur/.pyenv/versions/3.8.6/envs/projetfinal/lib/python3.8/site-packages (from black->forest_guard) (1.4.4)\n",
      "Requirement already satisfied: mypy-extensions>=0.4.3 in /home/arthur/.pyenv/versions/3.8.6/envs/projetfinal/lib/python3.8/site-packages (from black->forest_guard) (0.4.3)\n",
      "Requirement already satisfied: pathspec<1,>=0.8.1 in /home/arthur/.pyenv/versions/3.8.6/envs/projetfinal/lib/python3.8/site-packages (from black->forest_guard) (0.8.1)\n",
      "Requirement already satisfied: regex>=2020.1.8 in /home/arthur/.pyenv/versions/3.8.6/envs/projetfinal/lib/python3.8/site-packages (from black->forest_guard) (2021.4.4)\n",
      "Requirement already satisfied: aiohttp in /home/arthur/.pyenv/versions/3.8.6/envs/projetfinal/lib/python3.8/site-packages (from gcsfs->forest_guard) (3.7.4.post0)\n",
      "Requirement already satisfied: google-auth-oauthlib in /home/arthur/.pyenv/versions/3.8.6/envs/projetfinal/lib/python3.8/site-packages (from gcsfs->forest_guard) (0.4.4)\n",
      "Requirement already satisfied: decorator in /home/arthur/.pyenv/versions/3.8.6/envs/projetfinal/lib/python3.8/site-packages (from gcsfs->forest_guard) (5.0.9)\n",
      "Requirement already satisfied: py>=1.8.2 in /home/arthur/.pyenv/versions/3.8.6/envs/projetfinal/lib/python3.8/site-packages (from pytest->forest_guard) (1.10.0)\n",
      "Requirement already satisfied: packaging in /home/arthur/.pyenv/versions/3.8.6/envs/projetfinal/lib/python3.8/site-packages (from pytest->forest_guard) (20.9)\n",
      "Requirement already satisfied: iniconfig in /home/arthur/.pyenv/versions/3.8.6/envs/projetfinal/lib/python3.8/site-packages (from pytest->forest_guard) (1.1.1)\n",
      "Requirement already satisfied: pluggy<1.0.0a1,>=0.12 in /home/arthur/.pyenv/versions/3.8.6/envs/projetfinal/lib/python3.8/site-packages (from pytest->forest_guard) (0.13.1)\n",
      "Requirement already satisfied: attrs>=19.2.0 in /home/arthur/.pyenv/versions/3.8.6/envs/projetfinal/lib/python3.8/site-packages (from pytest->forest_guard) (21.2.0)\n",
      "Requirement already satisfied: affine in /home/arthur/.pyenv/versions/3.8.6/envs/projetfinal/lib/python3.8/site-packages (from rasterio->forest_guard) (2.3.0)\n",
      "Requirement already satisfied: cligj>=0.5 in /home/arthur/.pyenv/versions/3.8.6/envs/projetfinal/lib/python3.8/site-packages (from rasterio->forest_guard) (0.7.1)\n",
      "Requirement already satisfied: click-plugins in /home/arthur/.pyenv/versions/3.8.6/envs/projetfinal/lib/python3.8/site-packages (from rasterio->forest_guard) (1.1.1)\n",
      "Requirement already satisfied: certifi in /home/arthur/.pyenv/versions/3.8.6/envs/projetfinal/lib/python3.8/site-packages (from rasterio->forest_guard) (2020.12.5)\n",
      "Requirement already satisfied: snuggs>=1.4.1 in /home/arthur/.pyenv/versions/3.8.6/envs/projetfinal/lib/python3.8/site-packages (from rasterio->forest_guard) (1.4.7)\n",
      "Requirement already satisfied: gast==0.4.0 in /home/arthur/.pyenv/versions/3.8.6/envs/projetfinal/lib/python3.8/site-packages (from tensorflow->forest_guard) (0.4.0)\n",
      "Requirement already satisfied: opt-einsum~=3.3.0 in /home/arthur/.pyenv/versions/3.8.6/envs/projetfinal/lib/python3.8/site-packages (from tensorflow->forest_guard) (3.3.0)\n",
      "Requirement already satisfied: absl-py~=0.10 in /home/arthur/.pyenv/versions/3.8.6/envs/projetfinal/lib/python3.8/site-packages (from tensorflow->forest_guard) (0.12.0)\n",
      "Requirement already satisfied: keras-preprocessing~=1.1.2 in /home/arthur/.pyenv/versions/3.8.6/envs/projetfinal/lib/python3.8/site-packages (from tensorflow->forest_guard) (1.1.2)\n",
      "Requirement already satisfied: keras-nightly~=2.5.0.dev in /home/arthur/.pyenv/versions/3.8.6/envs/projetfinal/lib/python3.8/site-packages (from tensorflow->forest_guard) (2.5.0.dev2021032900)\n",
      "Requirement already satisfied: h5py~=3.1.0 in /home/arthur/.pyenv/versions/3.8.6/envs/projetfinal/lib/python3.8/site-packages (from tensorflow->forest_guard) (3.1.0)\n",
      "Requirement already satisfied: tensorflow-estimator<2.6.0,>=2.5.0rc0 in /home/arthur/.pyenv/versions/3.8.6/envs/projetfinal/lib/python3.8/site-packages (from tensorflow->forest_guard) (2.5.0)\n",
      "Requirement already satisfied: typing-extensions~=3.7.4 in /home/arthur/.pyenv/versions/3.8.6/envs/projetfinal/lib/python3.8/site-packages (from tensorflow->forest_guard) (3.7.4.3)\n",
      "Requirement already satisfied: astunparse~=1.6.3 in /home/arthur/.pyenv/versions/3.8.6/envs/projetfinal/lib/python3.8/site-packages (from tensorflow->forest_guard) (1.6.3)\n",
      "Requirement already satisfied: flatbuffers~=1.12.0 in /home/arthur/.pyenv/versions/3.8.6/envs/projetfinal/lib/python3.8/site-packages (from tensorflow->forest_guard) (1.12)\n",
      "Requirement already satisfied: google-pasta~=0.2 in /home/arthur/.pyenv/versions/3.8.6/envs/projetfinal/lib/python3.8/site-packages (from tensorflow->forest_guard) (0.2.0)\n",
      "Requirement already satisfied: wrapt~=1.12.1 in /home/arthur/.pyenv/versions/3.8.6/envs/projetfinal/lib/python3.8/site-packages (from tensorflow->forest_guard) (1.12.1)\n",
      "Requirement already satisfied: grpcio~=1.34.0 in /home/arthur/.pyenv/versions/3.8.6/envs/projetfinal/lib/python3.8/site-packages (from tensorflow->forest_guard) (1.34.1)\n",
      "Requirement already satisfied: tensorboard~=2.5 in /home/arthur/.pyenv/versions/3.8.6/envs/projetfinal/lib/python3.8/site-packages (from tensorflow->forest_guard) (2.5.0)\n",
      "Requirement already satisfied: python-dateutil>=2.7.3 in /home/arthur/.pyenv/versions/3.8.6/envs/projetfinal/lib/python3.8/site-packages (from pandas->forest_guard) (2.8.1)\n",
      "Requirement already satisfied: readme-renderer>=21.0 in /home/arthur/.pyenv/versions/3.8.6/envs/projetfinal/lib/python3.8/site-packages (from twine->forest_guard) (29.0)\n",
      "Requirement already satisfied: importlib-metadata>=3.6 in /home/arthur/.pyenv/versions/3.8.6/envs/projetfinal/lib/python3.8/site-packages (from twine->forest_guard) (4.0.1)\n",
      "Requirement already satisfied: requests-toolbelt!=0.9.0,>=0.8.0 in /home/arthur/.pyenv/versions/3.8.6/envs/projetfinal/lib/python3.8/site-packages (from twine->forest_guard) (0.9.1)\n",
      "Requirement already satisfied: pkginfo>=1.4.2 in /home/arthur/.pyenv/versions/3.8.6/envs/projetfinal/lib/python3.8/site-packages (from twine->forest_guard) (1.7.0)\n",
      "Requirement already satisfied: keyring>=15.1 in /home/arthur/.pyenv/versions/3.8.6/envs/projetfinal/lib/python3.8/site-packages (from twine->forest_guard) (23.0.1)\n",
      "Requirement already satisfied: colorama>=0.4.3 in /home/arthur/.pyenv/versions/3.8.6/envs/projetfinal/lib/python3.8/site-packages (from twine->forest_guard) (0.4.4)\n",
      "Requirement already satisfied: tqdm>=4.14 in /home/arthur/.pyenv/versions/3.8.6/envs/projetfinal/lib/python3.8/site-packages (from twine->forest_guard) (4.60.0)\n",
      "Requirement already satisfied: rfc3986>=1.4.0 in /home/arthur/.pyenv/versions/3.8.6/envs/projetfinal/lib/python3.8/site-packages (from twine->forest_guard) (1.5.0)\n",
      "Requirement already satisfied: threadpoolctl>=2.0.0 in /home/arthur/.pyenv/versions/3.8.6/envs/projetfinal/lib/python3.8/site-packages (from scikit-learn->forest_guard) (2.1.0)\n",
      "Requirement already satisfied: scipy>=0.19.1 in /home/arthur/.pyenv/versions/3.8.6/envs/projetfinal/lib/python3.8/site-packages (from scikit-learn->forest_guard) (1.6.3)\n",
      "Requirement already satisfied: google-resumable-media<2.0dev,>=1.2.0 in /home/arthur/.pyenv/versions/3.8.6/envs/projetfinal/lib/python3.8/site-packages (from google-cloud-storage->forest_guard) (1.3.0)\n",
      "Requirement already satisfied: google-cloud-core<2.0dev,>=1.4.1 in /home/arthur/.pyenv/versions/3.8.6/envs/projetfinal/lib/python3.8/site-packages (from google-cloud-storage->forest_guard) (1.6.0)\n",
      "Requirement already satisfied: jinja2>=2.9 in /home/arthur/.pyenv/versions/3.8.6/envs/projetfinal/lib/python3.8/site-packages (from folium->forest_guard) (3.0.1)\n",
      "Requirement already satisfied: branca>=0.3.0 in /home/arthur/.pyenv/versions/3.8.6/envs/projetfinal/lib/python3.8/site-packages (from folium->forest_guard) (0.4.2)\n"
     ]
    },
    {
     "name": "stdout",
     "output_type": "stream",
     "text": [
      "Requirement already satisfied: rsa<5,>=3.1.4; python_version >= \"3.6\" in /home/arthur/.pyenv/versions/3.8.6/envs/projetfinal/lib/python3.8/site-packages (from google-auth>=1.4.1->earthengine-api->forest_guard) (4.7.2)\n",
      "Requirement already satisfied: cachetools<5.0,>=2.0.0 in /home/arthur/.pyenv/versions/3.8.6/envs/projetfinal/lib/python3.8/site-packages (from google-auth>=1.4.1->earthengine-api->forest_guard) (4.2.2)\n",
      "Requirement already satisfied: pyasn1-modules>=0.2.1 in /home/arthur/.pyenv/versions/3.8.6/envs/projetfinal/lib/python3.8/site-packages (from google-auth>=1.4.1->earthengine-api->forest_guard) (0.2.8)\n",
      "Requirement already satisfied: uritemplate<4dev,>=3.0.0 in /home/arthur/.pyenv/versions/3.8.6/envs/projetfinal/lib/python3.8/site-packages (from google-api-python-client<2,>=1.12.1->earthengine-api->forest_guard) (3.0.1)\n",
      "Requirement already satisfied: google-api-core<2dev,>=1.21.0 in /home/arthur/.pyenv/versions/3.8.6/envs/projetfinal/lib/python3.8/site-packages (from google-api-python-client<2,>=1.12.1->earthengine-api->forest_guard) (1.28.0)\n",
      "Requirement already satisfied: urllib3 in /home/arthur/.pyenv/versions/3.8.6/envs/projetfinal/lib/python3.8/site-packages (from httplib2shim->earthengine-api->forest_guard) (1.26.4)\n",
      "Requirement already satisfied: pyparsing<3,>=2.4.2 in /home/arthur/.pyenv/versions/3.8.6/envs/projetfinal/lib/python3.8/site-packages (from httplib2<1dev,>=0.9.2->earthengine-api->forest_guard) (2.4.7)\n",
      "Requirement already satisfied: greenlet!=0.4.17; python_version >= \"3\" in /home/arthur/.pyenv/versions/3.8.6/envs/projetfinal/lib/python3.8/site-packages (from sqlalchemy->mlflow->forest_guard) (1.1.0)\n",
      "Requirement already satisfied: websocket-client>=0.32.0 in /home/arthur/.pyenv/versions/3.8.6/envs/projetfinal/lib/python3.8/site-packages (from docker>=4.0.0->mlflow->forest_guard) (1.0.1)\n",
      "Requirement already satisfied: gitdb<5,>=4.0.1 in /home/arthur/.pyenv/versions/3.8.6/envs/projetfinal/lib/python3.8/site-packages (from gitpython>=2.1.0->mlflow->forest_guard) (4.0.7)\n",
      "Requirement already satisfied: tabulate>=0.7.7 in /home/arthur/.pyenv/versions/3.8.6/envs/projetfinal/lib/python3.8/site-packages (from databricks-cli>=0.8.7->mlflow->forest_guard) (0.8.9)\n",
      "Requirement already satisfied: chardet<5,>=3.0.2 in /home/arthur/.pyenv/versions/3.8.6/envs/projetfinal/lib/python3.8/site-packages (from requests>=2.17.3->mlflow->forest_guard) (4.0.0)\n",
      "Requirement already satisfied: idna<3,>=2.5 in /home/arthur/.pyenv/versions/3.8.6/envs/projetfinal/lib/python3.8/site-packages (from requests>=2.17.3->mlflow->forest_guard) (2.10)\n",
      "Requirement already satisfied: python-editor>=0.3 in /home/arthur/.pyenv/versions/3.8.6/envs/projetfinal/lib/python3.8/site-packages (from alembic<=1.4.1->mlflow->forest_guard) (1.0.4)\n",
      "Requirement already satisfied: Mako in /home/arthur/.pyenv/versions/3.8.6/envs/projetfinal/lib/python3.8/site-packages (from alembic<=1.4.1->mlflow->forest_guard) (1.1.4)\n",
      "Requirement already satisfied: prometheus-client in /home/arthur/.pyenv/versions/3.8.6/envs/projetfinal/lib/python3.8/site-packages (from prometheus-flask-exporter->mlflow->forest_guard) (0.10.1)\n",
      "Requirement already satisfied: itsdangerous>=2.0 in /home/arthur/.pyenv/versions/3.8.6/envs/projetfinal/lib/python3.8/site-packages (from Flask->mlflow->forest_guard) (2.0.1)\n",
      "Requirement already satisfied: Werkzeug>=2.0 in /home/arthur/.pyenv/versions/3.8.6/envs/projetfinal/lib/python3.8/site-packages (from Flask->mlflow->forest_guard) (2.0.1)\n",
      "Requirement already satisfied: botocore<1.20.50,>=1.20.49 in /home/arthur/.pyenv/versions/3.8.6/envs/projetfinal/lib/python3.8/site-packages (from aiobotocore>=1.0.1->s3fs->forest_guard) (1.20.49)\n",
      "Requirement already satisfied: aioitertools>=0.5.1 in /home/arthur/.pyenv/versions/3.8.6/envs/projetfinal/lib/python3.8/site-packages (from aiobotocore>=1.0.1->s3fs->forest_guard) (0.7.1)\n",
      "Requirement already satisfied: async-timeout<4.0,>=3.0 in /home/arthur/.pyenv/versions/3.8.6/envs/projetfinal/lib/python3.8/site-packages (from aiohttp->gcsfs->forest_guard) (3.0.1)\n",
      "Requirement already satisfied: multidict<7.0,>=4.5 in /home/arthur/.pyenv/versions/3.8.6/envs/projetfinal/lib/python3.8/site-packages (from aiohttp->gcsfs->forest_guard) (5.1.0)\n",
      "Requirement already satisfied: yarl<2.0,>=1.0 in /home/arthur/.pyenv/versions/3.8.6/envs/projetfinal/lib/python3.8/site-packages (from aiohttp->gcsfs->forest_guard) (1.6.3)\n",
      "Requirement already satisfied: requests-oauthlib>=0.7.0 in /home/arthur/.pyenv/versions/3.8.6/envs/projetfinal/lib/python3.8/site-packages (from google-auth-oauthlib->gcsfs->forest_guard) (1.3.0)\n",
      "Requirement already satisfied: markdown>=2.6.8 in /home/arthur/.pyenv/versions/3.8.6/envs/projetfinal/lib/python3.8/site-packages (from tensorboard~=2.5->tensorflow->forest_guard) (3.3.4)\n",
      "Requirement already satisfied: tensorboard-plugin-wit>=1.6.0 in /home/arthur/.pyenv/versions/3.8.6/envs/projetfinal/lib/python3.8/site-packages (from tensorboard~=2.5->tensorflow->forest_guard) (1.8.0)\n",
      "Requirement already satisfied: tensorboard-data-server<0.7.0,>=0.6.0 in /home/arthur/.pyenv/versions/3.8.6/envs/projetfinal/lib/python3.8/site-packages (from tensorboard~=2.5->tensorflow->forest_guard) (0.6.1)\n",
      "Requirement already satisfied: bleach>=2.1.0 in /home/arthur/.pyenv/versions/3.8.6/envs/projetfinal/lib/python3.8/site-packages (from readme-renderer>=21.0->twine->forest_guard) (3.3.0)\n",
      "Requirement already satisfied: docutils>=0.13.1 in /home/arthur/.pyenv/versions/3.8.6/envs/projetfinal/lib/python3.8/site-packages (from readme-renderer>=21.0->twine->forest_guard) (0.17.1)\n",
      "Requirement already satisfied: Pygments>=2.5.1 in /home/arthur/.pyenv/versions/3.8.6/envs/projetfinal/lib/python3.8/site-packages (from readme-renderer>=21.0->twine->forest_guard) (2.9.0)\n",
      "Requirement already satisfied: zipp>=0.5 in /home/arthur/.pyenv/versions/3.8.6/envs/projetfinal/lib/python3.8/site-packages (from importlib-metadata>=3.6->twine->forest_guard) (3.4.1)\n",
      "Requirement already satisfied: SecretStorage>=3.2; sys_platform == \"linux\" in /home/arthur/.pyenv/versions/3.8.6/envs/projetfinal/lib/python3.8/site-packages (from keyring>=15.1->twine->forest_guard) (3.3.1)\n",
      "Requirement already satisfied: jeepney>=0.4.2; sys_platform == \"linux\" in /home/arthur/.pyenv/versions/3.8.6/envs/projetfinal/lib/python3.8/site-packages (from keyring>=15.1->twine->forest_guard) (0.6.0)\n",
      "Requirement already satisfied: google-crc32c<2.0dev,>=1.0; python_version >= \"3.5\" in /home/arthur/.pyenv/versions/3.8.6/envs/projetfinal/lib/python3.8/site-packages (from google-resumable-media<2.0dev,>=1.2.0->google-cloud-storage->forest_guard) (1.1.2)\n",
      "Requirement already satisfied: MarkupSafe>=2.0 in /home/arthur/.pyenv/versions/3.8.6/envs/projetfinal/lib/python3.8/site-packages (from jinja2>=2.9->folium->forest_guard) (2.0.1)\n",
      "Requirement already satisfied: pyasn1>=0.1.3 in /home/arthur/.pyenv/versions/3.8.6/envs/projetfinal/lib/python3.8/site-packages (from rsa<5,>=3.1.4; python_version >= \"3.6\"->google-auth>=1.4.1->earthengine-api->forest_guard) (0.4.8)\n",
      "Requirement already satisfied: googleapis-common-protos<2.0dev,>=1.6.0 in /home/arthur/.pyenv/versions/3.8.6/envs/projetfinal/lib/python3.8/site-packages (from google-api-core<2dev,>=1.21.0->google-api-python-client<2,>=1.12.1->earthengine-api->forest_guard) (1.53.0)\n",
      "Requirement already satisfied: smmap<5,>=3.0.1 in /home/arthur/.pyenv/versions/3.8.6/envs/projetfinal/lib/python3.8/site-packages (from gitdb<5,>=4.0.1->gitpython>=2.1.0->mlflow->forest_guard) (4.0.0)\n",
      "Requirement already satisfied: jmespath<1.0.0,>=0.7.1 in /home/arthur/.pyenv/versions/3.8.6/envs/projetfinal/lib/python3.8/site-packages (from botocore<1.20.50,>=1.20.49->aiobotocore>=1.0.1->s3fs->forest_guard) (0.10.0)\n",
      "Requirement already satisfied: oauthlib>=3.0.0 in /home/arthur/.pyenv/versions/3.8.6/envs/projetfinal/lib/python3.8/site-packages (from requests-oauthlib>=0.7.0->google-auth-oauthlib->gcsfs->forest_guard) (3.1.0)\n",
      "Requirement already satisfied: webencodings in /home/arthur/.pyenv/versions/3.8.6/envs/projetfinal/lib/python3.8/site-packages (from bleach>=2.1.0->readme-renderer>=21.0->twine->forest_guard) (0.5.1)\n",
      "Requirement already satisfied: cryptography>=2.0 in /home/arthur/.pyenv/versions/3.8.6/envs/projetfinal/lib/python3.8/site-packages (from SecretStorage>=3.2; sys_platform == \"linux\"->keyring>=15.1->twine->forest_guard) (3.4.7)\n"
     ]
    },
    {
     "name": "stdout",
     "output_type": "stream",
     "text": [
      "Requirement already satisfied: cffi>=1.0.0 in /home/arthur/.pyenv/versions/3.8.6/envs/projetfinal/lib/python3.8/site-packages (from google-crc32c<2.0dev,>=1.0; python_version >= \"3.5\"->google-resumable-media<2.0dev,>=1.2.0->google-cloud-storage->forest_guard) (1.14.5)\n",
      "Requirement already satisfied: pycparser in /home/arthur/.pyenv/versions/3.8.6/envs/projetfinal/lib/python3.8/site-packages (from cffi>=1.0.0->google-crc32c<2.0dev,>=1.0; python_version >= \"3.5\"->google-resumable-media<2.0dev,>=1.2.0->google-cloud-storage->forest_guard) (2.20)\n",
      "\u001b[33mWARNING: You are using pip version 20.2.1; however, version 21.1.2 is available.\n",
      "You should consider upgrading via the '/home/arthur/.pyenv/versions/3.8.6/envs/projetfinal/bin/python -m pip install --upgrade pip' command.\u001b[0m\n"
     ]
    }
   ],
   "source": [
    "! pip install forest_guard"
   ]
  },
  {
   "cell_type": "code",
   "execution_count": null,
   "id": "2dd6c127",
   "metadata": {},
   "outputs": [],
   "source": [
    "#TO BE DONE IN GOOGLE COLAB\n",
    "\n",
    "# !git clone https://github.com/TheChwal/forest_guard.git\n",
    "\n",
    "# %cd forest_guard/\n",
    "\n",
    "# !pip install ."
   ]
  },
  {
   "cell_type": "code",
   "execution_count": 1,
   "id": "2d8bd76e",
   "metadata": {
    "ExecuteTime": {
     "end_time": "2021-05-31T07:22:51.656472Z",
     "start_time": "2021-05-31T07:22:46.010438Z"
    }
   },
   "outputs": [],
   "source": [
    "import ee \n",
    "import folium\n",
    "from datetime import datetime as dt\n",
    "from IPython.display import Image\n",
    "import tensorflow as tf\n",
    "import matplotlib.pyplot as plt\n",
    "import os\n",
    "from google.cloud import storage\n",
    "import time\n",
    "import numpy as np\n",
    "from tensorflow.python.keras import layers\n",
    "from tensorflow.python.keras import losses\n",
    "from tensorflow.python.keras import models\n",
    "from tensorflow.python.keras import metrics\n",
    "from tensorflow.python.keras import optimizers"
   ]
  },
  {
   "cell_type": "code",
   "execution_count": null,
   "id": "0572b0d6",
   "metadata": {},
   "outputs": [],
   "source": [
    "#TO BE DONE IN GOOGLE COLAB\n",
    "\n",
    "# from google.colab import auth\n",
    "\n",
    "# auth.authenticate_user()"
   ]
  },
  {
   "cell_type": "code",
   "execution_count": 3,
   "id": "7f5343e9",
   "metadata": {
    "ExecuteTime": {
     "end_time": "2021-05-31T07:24:25.682696Z",
     "start_time": "2021-05-31T07:24:03.655212Z"
    }
   },
   "outputs": [
    {
     "data": {
      "text/html": [
       "<p>To authorize access needed by Earth Engine, open the following\n",
       "        URL in a web browser and follow the instructions:</p>\n",
       "        <p><a href=https://accounts.google.com/o/oauth2/auth?client_id=517222506229-vsmmajv00ul0bs7p89v5m89qs8eb9359.apps.googleusercontent.com&scope=https%3A%2F%2Fwww.googleapis.com%2Fauth%2Fearthengine+https%3A%2F%2Fwww.googleapis.com%2Fauth%2Fdevstorage.full_control&redirect_uri=urn%3Aietf%3Awg%3Aoauth%3A2.0%3Aoob&response_type=code&code_challenge=Hwu1Fj0yba37RUL8koYGr9yJllizOH7VfOuyizMqFFE&code_challenge_method=S256>https://accounts.google.com/o/oauth2/auth?client_id=517222506229-vsmmajv00ul0bs7p89v5m89qs8eb9359.apps.googleusercontent.com&scope=https%3A%2F%2Fwww.googleapis.com%2Fauth%2Fearthengine+https%3A%2F%2Fwww.googleapis.com%2Fauth%2Fdevstorage.full_control&redirect_uri=urn%3Aietf%3Awg%3Aoauth%3A2.0%3Aoob&response_type=code&code_challenge=Hwu1Fj0yba37RUL8koYGr9yJllizOH7VfOuyizMqFFE&code_challenge_method=S256</a></p>\n",
       "        <p>The authorization workflow will generate a code, which you\n",
       "        should paste in the box below</p>\n",
       "        "
      ],
      "text/plain": [
       "<IPython.core.display.HTML object>"
      ]
     },
     "metadata": {},
     "output_type": "display_data"
    },
    {
     "name": "stdout",
     "output_type": "stream",
     "text": [
      "Enter verification code: 4/1AY0e-g49zA8legl6RjwJHjhg7k4GLntVob2c_Lcy7ziSujhnGs_KdtbBnrg\n",
      "\n",
      "Successfully saved authorization token.\n"
     ]
    }
   ],
   "source": [
    "ee.Authenticate()\n",
    "ee.Initialize()"
   ]
  },
  {
   "cell_type": "code",
   "execution_count": 4,
   "id": "9dde7c36",
   "metadata": {
    "ExecuteTime": {
     "end_time": "2021-05-31T07:24:40.869184Z",
     "start_time": "2021-05-31T07:24:40.862899Z"
    }
   },
   "outputs": [],
   "source": [
    "import os\n",
    "from google.cloud import storage\n",
    "\n",
    "BUCKET = 'forest_guard_bucket'  # ⚠️ replace with your BUCKET NAME\n",
    "FOLDER = 'Arthur_prediction_beijing'\n",
    "TRAINING_BASE = 'training_patches'\n",
    "EVAL_BASE = 'eval_patches'\n",
    "\n",
    "OPTICAL_BANDS = ['B1', 'B2', 'B3', 'B4', 'B5', 'B6', 'B7']\n",
    "THERMAL_BANDS = ['B10', 'B11']\n",
    "BANDS = OPTICAL_BANDS + THERMAL_BANDS\n",
    "RESPONSE = 'fnf'\n",
    "FEATURES = BANDS + [RESPONSE]\n",
    "\n",
    "# Specify the size and shape of patches expected by the model.\n",
    "KERNEL_SIZE = 256\n",
    "KERNEL_SHAPE = [KERNEL_SIZE, KERNEL_SIZE]\n",
    "\n",
    "COLUMNS = [\n",
    "  tf.io.FixedLenFeature(shape=KERNEL_SHAPE, dtype=tf.float32) for k in FEATURES\n",
    "]\n",
    "FEATURES_DICT = dict(zip(FEATURES, COLUMNS))\n",
    "\n",
    "# Specify model training parameters.\n",
    "#BATCH_SIZE = 16\n",
    "# EPOCHS = 10\n",
    "#BUFFER_SIZE = 2000\n",
    "# OPTIMIZER = 'SGD'\n",
    "# LOSS = 'MeanSquaredError'\n",
    "# METRICS = ['RootMeanSquaredError']"
   ]
  },
  {
   "cell_type": "code",
   "execution_count": 6,
   "id": "af1a8580",
   "metadata": {
    "ExecuteTime": {
     "end_time": "2021-05-31T07:25:19.561489Z",
     "start_time": "2021-05-31T07:25:19.549418Z"
    }
   },
   "outputs": [],
   "source": [
    "from forest_guard.datas import get_image_landsat\n",
    "\n",
    "image = get_image_landsat('2015-01-01', '2017-12-31')"
   ]
  },
  {
   "cell_type": "code",
   "execution_count": 7,
   "id": "fdb92057",
   "metadata": {
    "ExecuteTime": {
     "end_time": "2021-05-31T07:25:21.218191Z",
     "start_time": "2021-05-31T07:25:21.214051Z"
    }
   },
   "outputs": [],
   "source": [
    "from forest_guard.datas import get_jaxa\n",
    "jaxa = get_jaxa('2017-01-01', '2017-12-31')"
   ]
  },
  {
   "cell_type": "markdown",
   "id": "2b52f525",
   "metadata": {},
   "source": [
    "### Download predict image"
   ]
  },
  {
   "cell_type": "code",
   "execution_count": 8,
   "id": "67ff1424",
   "metadata": {
    "ExecuteTime": {
     "end_time": "2021-05-31T07:25:24.805885Z",
     "start_time": "2021-05-31T07:25:24.801304Z"
    }
   },
   "outputs": [],
   "source": [
    "#Predict parameters\n",
    "\n",
    "user_folder = 'users/bastidearthur' # replace 'username' by your GEE username (https://code.earthengine.google.com/ => Assets)\n",
    "predict_image = 'FCNN_beijing_adam_binary_crossentropy' #precise zone + model params\n",
    "predict_kernel_buffer = [128, 128]\n",
    "predict_region = ee.Geometry.Polygon(\n",
    "        [[[115.9662455210937, 40.121362012835235],\n",
    "          [115.9662455210937, 39.64293313749715],\n",
    "          [117.01818643906245, 39.64293313749715],\n",
    "          [117.01818643906245, 40.121362012835235]]], None, False)"
   ]
  },
  {
   "cell_type": "code",
   "execution_count": 9,
   "id": "60486a47",
   "metadata": {
    "ExecuteTime": {
     "end_time": "2021-05-30T19:55:47.291125Z",
     "start_time": "2021-05-30T19:55:47.264622Z"
    },
    "scrolled": false
   },
   "outputs": [
    {
     "ename": "ModuleNotFoundError",
     "evalue": "No module named 'forest_guard.predict'",
     "output_type": "error",
     "traceback": [
      "\u001b[0;31m---------------------------------------------------------------------------\u001b[0m",
      "\u001b[0;31mModuleNotFoundError\u001b[0m                       Traceback (most recent call last)",
      "\u001b[0;32m<ipython-input-9-4a8bfc05217a>\u001b[0m in \u001b[0;36m<module>\u001b[0;34m\u001b[0m\n\u001b[0;32m----> 1\u001b[0;31m \u001b[0;32mfrom\u001b[0m \u001b[0mforest_guard\u001b[0m\u001b[0;34m.\u001b[0m\u001b[0mpredict\u001b[0m \u001b[0;32mimport\u001b[0m \u001b[0mget_predict_image\u001b[0m\u001b[0;34m\u001b[0m\u001b[0;34m\u001b[0m\u001b[0m\n\u001b[0m",
      "\u001b[0;31mModuleNotFoundError\u001b[0m: No module named 'forest_guard.predict'"
     ]
    }
   ],
   "source": [
    "from forest_guard.predict import get_image"
   ]
  },
  {
   "cell_type": "code",
   "execution_count": null,
   "id": "062bb5af",
   "metadata": {},
   "outputs": [],
   "source": [
    "# Run the download\n",
    "get_predict_image(predict_image, predict_kernel_buffer, predict_region)"
   ]
  },
  {
   "cell_type": "code",
   "execution_count": 21,
   "id": "a51d89e6",
   "metadata": {
    "ExecuteTime": {
     "end_time": "2021-05-30T21:48:18.578914Z",
     "start_time": "2021-05-30T21:48:18.546048Z"
    }
   },
   "outputs": [],
   "source": [
    "def get_predict_image(predict_image, predict_kernel_buffer, predict_region):\n",
    "  \"\"\"Run the image export task.  Block until complete.\n",
    "  \"\"\"\n",
    "  task = ee.batch.Export.image.toCloudStorage(\n",
    "    image = image.select(BANDS),\n",
    "    description = predict_image,\n",
    "    bucket = BUCKET,\n",
    "    fileNamePrefix = FOLDER + '/' + predict_image,\n",
    "    region = predict_region.getInfo()['coordinates'],\n",
    "    scale = 30,\n",
    "    fileFormat = 'TFRecord',\n",
    "    maxPixels = 1e10,\n",
    "    formatOptions = {\n",
    "      'patchDimensions': KERNEL_SHAPE,\n",
    "      'kernelSize': predict_kernel_buffer,\n",
    "      'compressed': True,\n",
    "      'maxFileSize': 104857600\n",
    "    }\n",
    "  )\n",
    "  task.start()\n",
    "\n",
    "  # Block until the task completes.\n",
    "  print('Running image export to Cloud Storage...')\n",
    "  import time\n",
    "  while task.active():\n",
    "    time.sleep(30)\n",
    "\n",
    "  # Error condition\n",
    "  if task.status()['state'] != 'COMPLETED':\n",
    "    print('Error with image export.')\n",
    "  else:\n",
    "    print('Image export completed.')"
   ]
  },
  {
   "cell_type": "code",
   "execution_count": 24,
   "id": "3608ff82",
   "metadata": {
    "ExecuteTime": {
     "end_time": "2021-05-30T21:56:52.627297Z",
     "start_time": "2021-05-30T21:49:48.063463Z"
    }
   },
   "outputs": [
    {
     "name": "stdout",
     "output_type": "stream",
     "text": [
      "Running image export to Cloud Storage...\n",
      "Image export completed.\n"
     ]
    }
   ],
   "source": [
    "get_predict_image(predict_image, predict_kernel_buffer, predict_region)"
   ]
  },
  {
   "cell_type": "markdown",
   "id": "73e210a4",
   "metadata": {},
   "source": [
    "### Predict target "
   ]
  },
  {
   "cell_type": "code",
   "execution_count": null,
   "id": "a9d59d6f",
   "metadata": {
    "ExecuteTime": {
     "start_time": "2021-05-31T07:29:58.408Z"
    }
   },
   "outputs": [],
   "source": [
    "# Select the model from Cloud Storage to use for prediction\n",
    "MODEL_SAVE = 'gs://' + 'forest_guard_bucket' + '/' + 'models/forest_guard/model_large_dataset_adam_binarycrossentropy'\n",
    "model_pretrained = tf.keras.models.load_model(MODEL_SAVE)"
   ]
  },
  {
   "cell_type": "code",
   "execution_count": null,
   "id": "3ad93c16",
   "metadata": {},
   "outputs": [],
   "source": [
    "from forest_guard.predict import predict_image_target"
   ]
  },
  {
   "cell_type": "code",
   "execution_count": 25,
   "id": "4980edc0",
   "metadata": {
    "ExecuteTime": {
     "end_time": "2021-05-30T21:58:43.631725Z",
     "start_time": "2021-05-30T21:58:43.597315Z"
    }
   },
   "outputs": [],
   "source": [
    "def predict_image_target(predict_image, user_folder, predict_kernel_buffer, predict_region):\n",
    "  \"\"\"Perform inference on exported imagery, upload to Earth Engine.\n",
    "  \"\"\"\n",
    "\n",
    "  print('Looking for TFRecord files...')\n",
    "\n",
    "  # Get a list of all the files in the output bucket.\n",
    "  filesList = !gsutil ls 'gs://'{BUCKET}'/'{FOLDER}\n",
    "\n",
    "  # Get only the files generated by the image export.\n",
    "  exportFilesList = [s for s in filesList if predict_image in s]\n",
    "\n",
    "  # Get the list of image files and the JSON mixer file.\n",
    "  imageFilesList = []\n",
    "  jsonFile = None\n",
    "  for f in exportFilesList:\n",
    "    if f.endswith('.tfrecord.gz'):\n",
    "      imageFilesList.append(f)\n",
    "    elif f.endswith('.json'):\n",
    "      jsonFile = f\n",
    "\n",
    "  # Make sure the files are in the right order.\n",
    "  imageFilesList.sort()\n",
    "\n",
    "  from pprint import pprint\n",
    "  pprint(imageFilesList)\n",
    "  print(jsonFile)\n",
    "\n",
    "  import json\n",
    "  # Load the contents of the mixer file to a JSON object.\n",
    "  jsonText = !gsutil cat {jsonFile}\n",
    "  # Get a single string w/ newlines from the IPython.utils.text.SList\n",
    "  mixer = json.loads(jsonText.nlstr)\n",
    "  pprint(mixer)\n",
    "  patches = mixer['totalPatches']\n",
    "\n",
    "  # Get set up for prediction.\n",
    "  x_buffer = int(predict_kernel_buffer[0] / 2)\n",
    "  y_buffer = int(predict_kernel_buffer[1] / 2)\n",
    "\n",
    "  buffered_shape = [\n",
    "      KERNEL_SHAPE[0] + predict_kernel_buffer[0],\n",
    "      KERNEL_SHAPE[1] + predict_kernel_buffer[1]]\n",
    "\n",
    "  imageColumns = [\n",
    "    tf.io.FixedLenFeature(shape=buffered_shape, dtype=tf.float32) \n",
    "      for k in BANDS\n",
    "  ]\n",
    "\n",
    "  imageFeaturesDict = dict(zip(BANDS, imageColumns))\n",
    "\n",
    "  def parse_image(example_proto):\n",
    "    return tf.io.parse_single_example(example_proto, imageFeaturesDict)\n",
    "\n",
    "  def toTupleImage(inputs):\n",
    "    inputsList = [inputs.get(key) for key in BANDS]\n",
    "    stacked = tf.stack(inputsList, axis=0)\n",
    "    stacked = tf.transpose(stacked, [1, 2, 0])\n",
    "    return stacked\n",
    "\n",
    "   # Create a dataset from the TFRecord file(s) in Cloud Storage.\n",
    "  imageDataset = tf.data.TFRecordDataset(imageFilesList, compression_type='GZIP')\n",
    "  imageDataset = imageDataset.map(parse_image, num_parallel_calls=5)\n",
    "  imageDataset = imageDataset.map(toTupleImage).batch(1)\n",
    "\n",
    "  # Perform inference.\n",
    "  print('Running predictions...')\n",
    "  predictions = model_pretrained.predict(imageDataset, steps=patches, verbose=1)\n",
    "  # print(predictions[0])\n",
    "\n",
    "  featured_predictions = np.where(predictions>0.5,1,predictions)\n",
    "  featured_predictions = np.where(featured_predictions<0.5,0,featured_predictions)\n",
    "\n",
    "  print('Writing predictions...')\n",
    "  out_image_file = 'gs://' + BUCKET + '/' + FOLDER + '/' + predict_image + '.TFRecord'\n",
    "  writer = tf.io.TFRecordWriter(out_image_file)\n",
    "  patches = 0\n",
    "  for predictionPatch in featured_predictions:\n",
    "    print('Writing patch ' + str(patches) + '...')\n",
    "    predictionPatch = predictionPatch[\n",
    "        x_buffer:x_buffer+KERNEL_SIZE, y_buffer:y_buffer+KERNEL_SIZE]\n",
    "\n",
    "    # Create an example.\n",
    "    example = tf.train.Example(\n",
    "      features=tf.train.Features(\n",
    "        feature={\n",
    "          'fnf': tf.train.Feature(\n",
    "              float_list=tf.train.FloatList(\n",
    "                  value=predictionPatch.flatten()))\n",
    "        }\n",
    "      )\n",
    "    )\n",
    "    # Write the example.\n",
    "    writer.write(example.SerializeToString())\n",
    "    patches += 1\n",
    "\n",
    "  writer.close()\n",
    "\n",
    "  # Start the upload.\n",
    "  out_image_asset = user_folder + '/' + predict_image\n",
    "  !earthengine upload image --asset_id={out_image_asset} {out_image_file} {jsonFile}"
   ]
  },
  {
   "cell_type": "code",
   "execution_count": 26,
   "id": "84a7aa1a",
   "metadata": {
    "ExecuteTime": {
     "end_time": "2021-05-30T22:00:22.732011Z",
     "start_time": "2021-05-30T21:59:09.775733Z"
    }
   },
   "outputs": [
    {
     "name": "stdout",
     "output_type": "stream",
     "text": [
      "Looking for TFRecord files...\n",
      "['gs://forest_guard_bucket/Arthur_prediction_beijing/FCNN_beijing_adam_binary_crossentropy00000.tfrecord.gz',\n",
      " 'gs://forest_guard_bucket/Arthur_prediction_beijing/FCNN_beijing_adam_binary_crossentropy00001.tfrecord.gz',\n",
      " 'gs://forest_guard_bucket/Arthur_prediction_beijing/FCNN_beijing_adam_binary_crossentropy00002.tfrecord.gz',\n",
      " 'gs://forest_guard_bucket/Arthur_prediction_beijing/FCNN_beijing_adam_binary_crossentropy00003.tfrecord.gz',\n",
      " 'gs://forest_guard_bucket/Arthur_prediction_beijing/FCNN_beijing_adam_binary_crossentropy00004.tfrecord.gz']\n",
      "gs://forest_guard_bucket/Arthur_prediction_beijing/FCNN_beijing_adam_binary_crossentropymixer.json\n",
      "{'patchDimensions': [256, 256],\n",
      " 'patchesPerRow': 15,\n",
      " 'projection': {'affine': {'doubleMatrix': [0.00026949458523585647,\n",
      "                                            0.0,\n",
      "                                            115.9662149728414,\n",
      "                                            0.0,\n",
      "                                            -0.00026949458523585647,\n",
      "                                            40.122623344499544]},\n",
      "                'crs': 'EPSG:4326'},\n",
      " 'totalPatches': 90}\n",
      "Running predictions...\n",
      "90/90 [==============================] - 57s 583ms/step\n",
      "Writing predictions...\n",
      "Writing patch 0...\n",
      "Writing patch 1...\n",
      "Writing patch 2...\n",
      "Writing patch 3...\n",
      "Writing patch 4...\n",
      "Writing patch 5...\n",
      "Writing patch 6...\n",
      "Writing patch 7...\n",
      "Writing patch 8...\n",
      "Writing patch 9...\n",
      "Writing patch 10...\n",
      "Writing patch 11...\n",
      "Writing patch 12...\n",
      "Writing patch 13...\n",
      "Writing patch 14...\n",
      "Writing patch 15...\n",
      "Writing patch 16...\n",
      "Writing patch 17...\n",
      "Writing patch 18...\n",
      "Writing patch 19...\n",
      "Writing patch 20...\n",
      "Writing patch 21...\n",
      "Writing patch 22...\n",
      "Writing patch 23...\n",
      "Writing patch 24...\n",
      "Writing patch 25...\n",
      "Writing patch 26...\n",
      "Writing patch 27...\n",
      "Writing patch 28...\n",
      "Writing patch 29...\n",
      "Writing patch 30...\n",
      "Writing patch 31...\n",
      "Writing patch 32...\n",
      "Writing patch 33...\n",
      "Writing patch 34...\n",
      "Writing patch 35...\n",
      "Writing patch 36...\n",
      "Writing patch 37...\n",
      "Writing patch 38...\n",
      "Writing patch 39...\n",
      "Writing patch 40...\n",
      "Writing patch 41...\n",
      "Writing patch 42...\n",
      "Writing patch 43...\n",
      "Writing patch 44...\n",
      "Writing patch 45...\n",
      "Writing patch 46...\n",
      "Writing patch 47...\n",
      "Writing patch 48...\n",
      "Writing patch 49...\n",
      "Writing patch 50...\n",
      "Writing patch 51...\n",
      "Writing patch 52...\n",
      "Writing patch 53...\n",
      "Writing patch 54...\n",
      "Writing patch 55...\n",
      "Writing patch 56...\n",
      "Writing patch 57...\n",
      "Writing patch 58...\n",
      "Writing patch 59...\n",
      "Writing patch 60...\n",
      "Writing patch 61...\n",
      "Writing patch 62...\n",
      "Writing patch 63...\n",
      "Writing patch 64...\n",
      "Writing patch 65...\n",
      "Writing patch 66...\n",
      "Writing patch 67...\n",
      "Writing patch 68...\n",
      "Writing patch 69...\n",
      "Writing patch 70...\n",
      "Writing patch 71...\n",
      "Writing patch 72...\n",
      "Writing patch 73...\n",
      "Writing patch 74...\n",
      "Writing patch 75...\n",
      "Writing patch 76...\n",
      "Writing patch 77...\n",
      "Writing patch 78...\n",
      "Writing patch 79...\n",
      "Writing patch 80...\n",
      "Writing patch 81...\n",
      "Writing patch 82...\n",
      "Writing patch 83...\n",
      "Writing patch 84...\n",
      "Writing patch 85...\n",
      "Writing patch 86...\n",
      "Writing patch 87...\n",
      "Writing patch 88...\n",
      "Writing patch 89...\n",
      "WARNING:tensorflow:From /home/arthur/.pyenv/versions/3.8.6/envs/projetfinal/lib/python3.8/site-packages/tensorflow/python/compat/v2_compat.py:96: disable_resource_variables (from tensorflow.python.ops.variable_scope) is deprecated and will be removed in a future version.\n",
      "Instructions for updating:\n",
      "non-resource variables are not supported in the long term\n",
      "Started upload task with ID: 3AKSN6MWVE3PA7RMEI2OSVAE\n"
     ]
    }
   ],
   "source": [
    "# Run the prediction.\n",
    "predict_image_target(predict_image, user_folder, predict_kernel_buffer, predict_region)"
   ]
  },
  {
   "cell_type": "markdown",
   "id": "3ee61394",
   "metadata": {},
   "source": [
    "### Display prediction on map"
   ]
  },
  {
   "cell_type": "code",
   "execution_count": 9,
   "id": "fef7479f",
   "metadata": {
    "ExecuteTime": {
     "end_time": "2021-05-31T07:25:53.790220Z",
     "start_time": "2021-05-31T07:25:53.787010Z"
    }
   },
   "outputs": [],
   "source": [
    "palette = ['006600',\n",
    "           'FEFF99',\n",
    "            #'0000FF'\n",
    "          ]"
   ]
  },
  {
   "cell_type": "code",
   "execution_count": 11,
   "id": "03290bc2",
   "metadata": {
    "ExecuteTime": {
     "end_time": "2021-05-31T07:26:11.354184Z",
     "start_time": "2021-05-31T07:26:10.668087Z"
    }
   },
   "outputs": [
    {
     "data": {
      "text/html": [
       "<div style=\"width:100%;\"><div style=\"position:relative;width:100%;height:0;padding-bottom:60%;\"><span style=\"color:#565656\">Make this Notebook Trusted to load map: File -> Trust Notebook</span><iframe src=\"about:blank\" style=\"position:absolute;width:100%;height:100%;left:0;top:0;border:none !important;\" data-html=%3C%21DOCTYPE%20html%3E%0A%3Chead%3E%20%20%20%20%0A%20%20%20%20%3Cmeta%20http-equiv%3D%22content-type%22%20content%3D%22text/html%3B%20charset%3DUTF-8%22%20/%3E%0A%20%20%20%20%0A%20%20%20%20%20%20%20%20%3Cscript%3E%0A%20%20%20%20%20%20%20%20%20%20%20%20L_NO_TOUCH%20%3D%20false%3B%0A%20%20%20%20%20%20%20%20%20%20%20%20L_DISABLE_3D%20%3D%20false%3B%0A%20%20%20%20%20%20%20%20%3C/script%3E%0A%20%20%20%20%0A%20%20%20%20%3Cstyle%3Ehtml%2C%20body%20%7Bwidth%3A%20100%25%3Bheight%3A%20100%25%3Bmargin%3A%200%3Bpadding%3A%200%3B%7D%3C/style%3E%0A%20%20%20%20%3Cstyle%3E%23map%20%7Bposition%3Aabsolute%3Btop%3A0%3Bbottom%3A0%3Bright%3A0%3Bleft%3A0%3B%7D%3C/style%3E%0A%20%20%20%20%3Cscript%20src%3D%22https%3A//cdn.jsdelivr.net/npm/leaflet%401.6.0/dist/leaflet.js%22%3E%3C/script%3E%0A%20%20%20%20%3Cscript%20src%3D%22https%3A//code.jquery.com/jquery-1.12.4.min.js%22%3E%3C/script%3E%0A%20%20%20%20%3Cscript%20src%3D%22https%3A//maxcdn.bootstrapcdn.com/bootstrap/3.2.0/js/bootstrap.min.js%22%3E%3C/script%3E%0A%20%20%20%20%3Cscript%20src%3D%22https%3A//cdnjs.cloudflare.com/ajax/libs/Leaflet.awesome-markers/2.0.2/leaflet.awesome-markers.js%22%3E%3C/script%3E%0A%20%20%20%20%3Clink%20rel%3D%22stylesheet%22%20href%3D%22https%3A//cdn.jsdelivr.net/npm/leaflet%401.6.0/dist/leaflet.css%22/%3E%0A%20%20%20%20%3Clink%20rel%3D%22stylesheet%22%20href%3D%22https%3A//maxcdn.bootstrapcdn.com/bootstrap/3.2.0/css/bootstrap.min.css%22/%3E%0A%20%20%20%20%3Clink%20rel%3D%22stylesheet%22%20href%3D%22https%3A//maxcdn.bootstrapcdn.com/bootstrap/3.2.0/css/bootstrap-theme.min.css%22/%3E%0A%20%20%20%20%3Clink%20rel%3D%22stylesheet%22%20href%3D%22https%3A//maxcdn.bootstrapcdn.com/font-awesome/4.6.3/css/font-awesome.min.css%22/%3E%0A%20%20%20%20%3Clink%20rel%3D%22stylesheet%22%20href%3D%22https%3A//cdnjs.cloudflare.com/ajax/libs/Leaflet.awesome-markers/2.0.2/leaflet.awesome-markers.css%22/%3E%0A%20%20%20%20%3Clink%20rel%3D%22stylesheet%22%20href%3D%22https%3A//cdn.jsdelivr.net/gh/python-visualization/folium/folium/templates/leaflet.awesome.rotate.min.css%22/%3E%0A%20%20%20%20%0A%20%20%20%20%20%20%20%20%20%20%20%20%3Cmeta%20name%3D%22viewport%22%20content%3D%22width%3Ddevice-width%2C%0A%20%20%20%20%20%20%20%20%20%20%20%20%20%20%20%20initial-scale%3D1.0%2C%20maximum-scale%3D1.0%2C%20user-scalable%3Dno%22%20/%3E%0A%20%20%20%20%20%20%20%20%20%20%20%20%3Cstyle%3E%0A%20%20%20%20%20%20%20%20%20%20%20%20%20%20%20%20%23map_b0e3f01934e9452ebfa62a82981c9cca%20%7B%0A%20%20%20%20%20%20%20%20%20%20%20%20%20%20%20%20%20%20%20%20position%3A%20relative%3B%0A%20%20%20%20%20%20%20%20%20%20%20%20%20%20%20%20%20%20%20%20width%3A%20100.0%25%3B%0A%20%20%20%20%20%20%20%20%20%20%20%20%20%20%20%20%20%20%20%20height%3A%20100.0%25%3B%0A%20%20%20%20%20%20%20%20%20%20%20%20%20%20%20%20%20%20%20%20left%3A%200.0%25%3B%0A%20%20%20%20%20%20%20%20%20%20%20%20%20%20%20%20%20%20%20%20top%3A%200.0%25%3B%0A%20%20%20%20%20%20%20%20%20%20%20%20%20%20%20%20%7D%0A%20%20%20%20%20%20%20%20%20%20%20%20%3C/style%3E%0A%20%20%20%20%20%20%20%20%0A%3C/head%3E%0A%3Cbody%3E%20%20%20%20%0A%20%20%20%20%0A%20%20%20%20%20%20%20%20%20%20%20%20%3Cdiv%20class%3D%22folium-map%22%20id%3D%22map_b0e3f01934e9452ebfa62a82981c9cca%22%20%3E%3C/div%3E%0A%20%20%20%20%20%20%20%20%0A%3C/body%3E%0A%3Cscript%3E%20%20%20%20%0A%20%20%20%20%0A%20%20%20%20%20%20%20%20%20%20%20%20var%20map_b0e3f01934e9452ebfa62a82981c9cca%20%3D%20L.map%28%0A%20%20%20%20%20%20%20%20%20%20%20%20%20%20%20%20%22map_b0e3f01934e9452ebfa62a82981c9cca%22%2C%0A%20%20%20%20%20%20%20%20%20%20%20%20%20%20%20%20%7B%0A%20%20%20%20%20%20%20%20%20%20%20%20%20%20%20%20%20%20%20%20center%3A%20%5B39.898%2C%20116.5097%5D%2C%0A%20%20%20%20%20%20%20%20%20%20%20%20%20%20%20%20%20%20%20%20crs%3A%20L.CRS.EPSG3857%2C%0A%20%20%20%20%20%20%20%20%20%20%20%20%20%20%20%20%20%20%20%20zoom%3A%2010%2C%0A%20%20%20%20%20%20%20%20%20%20%20%20%20%20%20%20%20%20%20%20zoomControl%3A%20true%2C%0A%20%20%20%20%20%20%20%20%20%20%20%20%20%20%20%20%20%20%20%20preferCanvas%3A%20false%2C%0A%20%20%20%20%20%20%20%20%20%20%20%20%20%20%20%20%7D%0A%20%20%20%20%20%20%20%20%20%20%20%20%29%3B%0A%0A%20%20%20%20%20%20%20%20%20%20%20%20%0A%0A%20%20%20%20%20%20%20%20%0A%20%20%20%20%0A%20%20%20%20%20%20%20%20%20%20%20%20var%20tile_layer_7ac2150b2b1240c6bb7ade006c145a5a%20%3D%20L.tileLayer%28%0A%20%20%20%20%20%20%20%20%20%20%20%20%20%20%20%20%22https%3A//%7Bs%7D.tile.openstreetmap.org/%7Bz%7D/%7Bx%7D/%7By%7D.png%22%2C%0A%20%20%20%20%20%20%20%20%20%20%20%20%20%20%20%20%7B%22attribution%22%3A%20%22Data%20by%20%5Cu0026copy%3B%20%5Cu003ca%20href%3D%5C%22http%3A//openstreetmap.org%5C%22%5Cu003eOpenStreetMap%5Cu003c/a%5Cu003e%2C%20under%20%5Cu003ca%20href%3D%5C%22http%3A//www.openstreetmap.org/copyright%5C%22%5Cu003eODbL%5Cu003c/a%5Cu003e.%22%2C%20%22detectRetina%22%3A%20false%2C%20%22maxNativeZoom%22%3A%2018%2C%20%22maxZoom%22%3A%2018%2C%20%22minZoom%22%3A%200%2C%20%22noWrap%22%3A%20false%2C%20%22opacity%22%3A%201%2C%20%22subdomains%22%3A%20%22abc%22%2C%20%22tms%22%3A%20false%7D%0A%20%20%20%20%20%20%20%20%20%20%20%20%29.addTo%28map_b0e3f01934e9452ebfa62a82981c9cca%29%3B%0A%20%20%20%20%20%20%20%20%0A%20%20%20%20%0A%20%20%20%20%20%20%20%20%20%20%20%20var%20tile_layer_2d9664cf8d99494f87963021adcadb0c%20%3D%20L.tileLayer%28%0A%20%20%20%20%20%20%20%20%20%20%20%20%20%20%20%20%22https%3A//earthengine.googleapis.com/v1alpha/projects/earthengine-legacy/maps/7a2f83b22358dec816bda19bdccb552a-b6c85aec97fe67a5421cd907d1fa23d7/tiles/%7Bz%7D/%7Bx%7D/%7By%7D%22%2C%0A%20%20%20%20%20%20%20%20%20%20%20%20%20%20%20%20%7B%22attribution%22%3A%20%22Map%20Data%20%5Cu0026copy%3B%20%5Cu003ca%20href%3D%5C%22https%3A//earthengine.google.com/%5C%22%5Cu003eGoogle%20Earth%20Engine%5Cu003c/a%5Cu003e%22%2C%20%22color%22%3A%20%5B%22006600%22%2C%20%22FEFF99%22%5D%2C%20%22detectRetina%22%3A%20false%2C%20%22maxNativeZoom%22%3A%2018%2C%20%22maxZoom%22%3A%2018%2C%20%22minZoom%22%3A%200%2C%20%22noWrap%22%3A%20false%2C%20%22opacity%22%3A%201%2C%20%22subdomains%22%3A%20%22abc%22%2C%20%22tms%22%3A%20false%7D%0A%20%20%20%20%20%20%20%20%20%20%20%20%29.addTo%28map_b0e3f01934e9452ebfa62a82981c9cca%29%3B%0A%20%20%20%20%20%20%20%20%0A%20%20%20%20%0A%20%20%20%20%20%20%20%20%20%20%20%20var%20layer_control_aae6372e943444f7ae3208858c1ef353%20%3D%20%7B%0A%20%20%20%20%20%20%20%20%20%20%20%20%20%20%20%20base_layers%20%3A%20%7B%0A%20%20%20%20%20%20%20%20%20%20%20%20%20%20%20%20%20%20%20%20%22openstreetmap%22%20%3A%20tile_layer_7ac2150b2b1240c6bb7ade006c145a5a%2C%0A%20%20%20%20%20%20%20%20%20%20%20%20%20%20%20%20%7D%2C%0A%20%20%20%20%20%20%20%20%20%20%20%20%20%20%20%20overlays%20%3A%20%20%7B%0A%20%20%20%20%20%20%20%20%20%20%20%20%20%20%20%20%20%20%20%20%22jaxa%20fnf%22%20%3A%20tile_layer_2d9664cf8d99494f87963021adcadb0c%2C%0A%20%20%20%20%20%20%20%20%20%20%20%20%20%20%20%20%7D%2C%0A%20%20%20%20%20%20%20%20%20%20%20%20%7D%3B%0A%20%20%20%20%20%20%20%20%20%20%20%20L.control.layers%28%0A%20%20%20%20%20%20%20%20%20%20%20%20%20%20%20%20layer_control_aae6372e943444f7ae3208858c1ef353.base_layers%2C%0A%20%20%20%20%20%20%20%20%20%20%20%20%20%20%20%20layer_control_aae6372e943444f7ae3208858c1ef353.overlays%2C%0A%20%20%20%20%20%20%20%20%20%20%20%20%20%20%20%20%7B%22autoZIndex%22%3A%20true%2C%20%22collapsed%22%3A%20true%2C%20%22position%22%3A%20%22topright%22%7D%0A%20%20%20%20%20%20%20%20%20%20%20%20%29.addTo%28map_b0e3f01934e9452ebfa62a82981c9cca%29%3B%0A%20%20%20%20%20%20%20%20%0A%3C/script%3E onload=\"this.contentDocument.open();this.contentDocument.write(    decodeURIComponent(this.getAttribute('data-html')));this.contentDocument.close();\" allowfullscreen webkitallowfullscreen mozallowfullscreen></iframe></div></div>"
      ],
      "text/plain": [
       "<folium.folium.Map at 0x7f2a4f3675b0>"
      ]
     },
     "execution_count": 11,
     "metadata": {},
     "output_type": "execute_result"
    }
   ],
   "source": [
    "# Display predicted target on a map\n",
    "\n",
    "prediction_image = ee.Image(user_folder + '/' + predict_image)\n",
    "mapid = prediction_image.getMapId({'bands': ['fnf'],\n",
    "                       'min': 0, \n",
    "                       'max': 2, \n",
    "                      'palette':palette\n",
    "                      })\n",
    "map = folium.Map(location=[39.898, 116.5097])\n",
    "folium.TileLayer(\n",
    "    tiles=mapid['tile_fetcher'].url_format,\n",
    "    attr='Map Data &copy; <a href=\"https://earthengine.google.com/\">Google Earth Engine</a>',\n",
    "    overlay=True,\n",
    "    name='jaxa fnf',\n",
    "    color=palette,\n",
    "    opacity = 1\n",
    "  ).add_to(map)\n",
    "map.add_child(folium.LayerControl())\n",
    "map"
   ]
  },
  {
   "cell_type": "code",
   "execution_count": 13,
   "id": "228e314e",
   "metadata": {
    "ExecuteTime": {
     "end_time": "2021-05-31T07:27:15.156038Z",
     "start_time": "2021-05-31T07:27:14.816545Z"
    }
   },
   "outputs": [
    {
     "data": {
      "text/html": [
       "<div style=\"width:100%;\"><div style=\"position:relative;width:100%;height:0;padding-bottom:60%;\"><span style=\"color:#565656\">Make this Notebook Trusted to load map: File -> Trust Notebook</span><iframe src=\"about:blank\" style=\"position:absolute;width:100%;height:100%;left:0;top:0;border:none !important;\" data-html=%3C%21DOCTYPE%20html%3E%0A%3Chead%3E%20%20%20%20%0A%20%20%20%20%3Cmeta%20http-equiv%3D%22content-type%22%20content%3D%22text/html%3B%20charset%3DUTF-8%22%20/%3E%0A%20%20%20%20%0A%20%20%20%20%20%20%20%20%3Cscript%3E%0A%20%20%20%20%20%20%20%20%20%20%20%20L_NO_TOUCH%20%3D%20false%3B%0A%20%20%20%20%20%20%20%20%20%20%20%20L_DISABLE_3D%20%3D%20false%3B%0A%20%20%20%20%20%20%20%20%3C/script%3E%0A%20%20%20%20%0A%20%20%20%20%3Cstyle%3Ehtml%2C%20body%20%7Bwidth%3A%20100%25%3Bheight%3A%20100%25%3Bmargin%3A%200%3Bpadding%3A%200%3B%7D%3C/style%3E%0A%20%20%20%20%3Cstyle%3E%23map%20%7Bposition%3Aabsolute%3Btop%3A0%3Bbottom%3A0%3Bright%3A0%3Bleft%3A0%3B%7D%3C/style%3E%0A%20%20%20%20%3Cscript%20src%3D%22https%3A//cdn.jsdelivr.net/npm/leaflet%401.6.0/dist/leaflet.js%22%3E%3C/script%3E%0A%20%20%20%20%3Cscript%20src%3D%22https%3A//code.jquery.com/jquery-1.12.4.min.js%22%3E%3C/script%3E%0A%20%20%20%20%3Cscript%20src%3D%22https%3A//maxcdn.bootstrapcdn.com/bootstrap/3.2.0/js/bootstrap.min.js%22%3E%3C/script%3E%0A%20%20%20%20%3Cscript%20src%3D%22https%3A//cdnjs.cloudflare.com/ajax/libs/Leaflet.awesome-markers/2.0.2/leaflet.awesome-markers.js%22%3E%3C/script%3E%0A%20%20%20%20%3Clink%20rel%3D%22stylesheet%22%20href%3D%22https%3A//cdn.jsdelivr.net/npm/leaflet%401.6.0/dist/leaflet.css%22/%3E%0A%20%20%20%20%3Clink%20rel%3D%22stylesheet%22%20href%3D%22https%3A//maxcdn.bootstrapcdn.com/bootstrap/3.2.0/css/bootstrap.min.css%22/%3E%0A%20%20%20%20%3Clink%20rel%3D%22stylesheet%22%20href%3D%22https%3A//maxcdn.bootstrapcdn.com/bootstrap/3.2.0/css/bootstrap-theme.min.css%22/%3E%0A%20%20%20%20%3Clink%20rel%3D%22stylesheet%22%20href%3D%22https%3A//maxcdn.bootstrapcdn.com/font-awesome/4.6.3/css/font-awesome.min.css%22/%3E%0A%20%20%20%20%3Clink%20rel%3D%22stylesheet%22%20href%3D%22https%3A//cdnjs.cloudflare.com/ajax/libs/Leaflet.awesome-markers/2.0.2/leaflet.awesome-markers.css%22/%3E%0A%20%20%20%20%3Clink%20rel%3D%22stylesheet%22%20href%3D%22https%3A//cdn.jsdelivr.net/gh/python-visualization/folium/folium/templates/leaflet.awesome.rotate.min.css%22/%3E%0A%20%20%20%20%0A%20%20%20%20%20%20%20%20%20%20%20%20%3Cmeta%20name%3D%22viewport%22%20content%3D%22width%3Ddevice-width%2C%0A%20%20%20%20%20%20%20%20%20%20%20%20%20%20%20%20initial-scale%3D1.0%2C%20maximum-scale%3D1.0%2C%20user-scalable%3Dno%22%20/%3E%0A%20%20%20%20%20%20%20%20%20%20%20%20%3Cstyle%3E%0A%20%20%20%20%20%20%20%20%20%20%20%20%20%20%20%20%23map_0b71ecd52d474ed3b098c3eb4d4caa4b%20%7B%0A%20%20%20%20%20%20%20%20%20%20%20%20%20%20%20%20%20%20%20%20position%3A%20relative%3B%0A%20%20%20%20%20%20%20%20%20%20%20%20%20%20%20%20%20%20%20%20width%3A%20100.0%25%3B%0A%20%20%20%20%20%20%20%20%20%20%20%20%20%20%20%20%20%20%20%20height%3A%20100.0%25%3B%0A%20%20%20%20%20%20%20%20%20%20%20%20%20%20%20%20%20%20%20%20left%3A%200.0%25%3B%0A%20%20%20%20%20%20%20%20%20%20%20%20%20%20%20%20%20%20%20%20top%3A%200.0%25%3B%0A%20%20%20%20%20%20%20%20%20%20%20%20%20%20%20%20%7D%0A%20%20%20%20%20%20%20%20%20%20%20%20%3C/style%3E%0A%20%20%20%20%20%20%20%20%0A%3C/head%3E%0A%3Cbody%3E%20%20%20%20%0A%20%20%20%20%0A%20%20%20%20%20%20%20%20%20%20%20%20%3Cdiv%20class%3D%22folium-map%22%20id%3D%22map_0b71ecd52d474ed3b098c3eb4d4caa4b%22%20%3E%3C/div%3E%0A%20%20%20%20%20%20%20%20%0A%3C/body%3E%0A%3Cscript%3E%20%20%20%20%0A%20%20%20%20%0A%20%20%20%20%20%20%20%20%20%20%20%20var%20map_0b71ecd52d474ed3b098c3eb4d4caa4b%20%3D%20L.map%28%0A%20%20%20%20%20%20%20%20%20%20%20%20%20%20%20%20%22map_0b71ecd52d474ed3b098c3eb4d4caa4b%22%2C%0A%20%20%20%20%20%20%20%20%20%20%20%20%20%20%20%20%7B%0A%20%20%20%20%20%20%20%20%20%20%20%20%20%20%20%20%20%20%20%20center%3A%20%5B39.898%2C%20116.5097%5D%2C%0A%20%20%20%20%20%20%20%20%20%20%20%20%20%20%20%20%20%20%20%20crs%3A%20L.CRS.EPSG3857%2C%0A%20%20%20%20%20%20%20%20%20%20%20%20%20%20%20%20%20%20%20%20zoom%3A%2010%2C%0A%20%20%20%20%20%20%20%20%20%20%20%20%20%20%20%20%20%20%20%20zoomControl%3A%20true%2C%0A%20%20%20%20%20%20%20%20%20%20%20%20%20%20%20%20%20%20%20%20preferCanvas%3A%20false%2C%0A%20%20%20%20%20%20%20%20%20%20%20%20%20%20%20%20%7D%0A%20%20%20%20%20%20%20%20%20%20%20%20%29%3B%0A%0A%20%20%20%20%20%20%20%20%20%20%20%20%0A%0A%20%20%20%20%20%20%20%20%0A%20%20%20%20%0A%20%20%20%20%20%20%20%20%20%20%20%20var%20tile_layer_ec0cc0d8ec82410fa78ff8f324283e6a%20%3D%20L.tileLayer%28%0A%20%20%20%20%20%20%20%20%20%20%20%20%20%20%20%20%22https%3A//%7Bs%7D.tile.openstreetmap.org/%7Bz%7D/%7Bx%7D/%7By%7D.png%22%2C%0A%20%20%20%20%20%20%20%20%20%20%20%20%20%20%20%20%7B%22attribution%22%3A%20%22Data%20by%20%5Cu0026copy%3B%20%5Cu003ca%20href%3D%5C%22http%3A//openstreetmap.org%5C%22%5Cu003eOpenStreetMap%5Cu003c/a%5Cu003e%2C%20under%20%5Cu003ca%20href%3D%5C%22http%3A//www.openstreetmap.org/copyright%5C%22%5Cu003eODbL%5Cu003c/a%5Cu003e.%22%2C%20%22detectRetina%22%3A%20false%2C%20%22maxNativeZoom%22%3A%2018%2C%20%22maxZoom%22%3A%2018%2C%20%22minZoom%22%3A%200%2C%20%22noWrap%22%3A%20false%2C%20%22opacity%22%3A%201%2C%20%22subdomains%22%3A%20%22abc%22%2C%20%22tms%22%3A%20false%7D%0A%20%20%20%20%20%20%20%20%20%20%20%20%29.addTo%28map_0b71ecd52d474ed3b098c3eb4d4caa4b%29%3B%0A%20%20%20%20%20%20%20%20%0A%20%20%20%20%0A%20%20%20%20%20%20%20%20%20%20%20%20var%20tile_layer_4eeacea91faa4dd39de42851ba79909d%20%3D%20L.tileLayer%28%0A%20%20%20%20%20%20%20%20%20%20%20%20%20%20%20%20%22https%3A//earthengine.googleapis.com/v1alpha/projects/earthengine-legacy/maps/fcacfdabf7afce8f43e511a2e59770c2-eaf2fe841e7ecd3d2fe8529cd972c5c3/tiles/%7Bz%7D/%7Bx%7D/%7By%7D%22%2C%0A%20%20%20%20%20%20%20%20%20%20%20%20%20%20%20%20%7B%22attribution%22%3A%20%22Map%20Data%20%5Cu0026copy%3B%20%5Cu003ca%20href%3D%5C%22https%3A//earthengine.google.com/%5C%22%5Cu003eGoogle%20Earth%20Engine%5Cu003c/a%5Cu003e%22%2C%20%22color%22%3A%20%5B%22006600%22%2C%20%22FEFF99%22%5D%2C%20%22detectRetina%22%3A%20false%2C%20%22maxNativeZoom%22%3A%2018%2C%20%22maxZoom%22%3A%2018%2C%20%22minZoom%22%3A%200%2C%20%22noWrap%22%3A%20false%2C%20%22opacity%22%3A%201%2C%20%22subdomains%22%3A%20%22abc%22%2C%20%22tms%22%3A%20false%7D%0A%20%20%20%20%20%20%20%20%20%20%20%20%29.addTo%28map_0b71ecd52d474ed3b098c3eb4d4caa4b%29%3B%0A%20%20%20%20%20%20%20%20%0A%20%20%20%20%0A%20%20%20%20%20%20%20%20%20%20%20%20var%20layer_control_9f416132a22448da988caef95cc71d65%20%3D%20%7B%0A%20%20%20%20%20%20%20%20%20%20%20%20%20%20%20%20base_layers%20%3A%20%7B%0A%20%20%20%20%20%20%20%20%20%20%20%20%20%20%20%20%20%20%20%20%22openstreetmap%22%20%3A%20tile_layer_ec0cc0d8ec82410fa78ff8f324283e6a%2C%0A%20%20%20%20%20%20%20%20%20%20%20%20%20%20%20%20%7D%2C%0A%20%20%20%20%20%20%20%20%20%20%20%20%20%20%20%20overlays%20%3A%20%20%7B%0A%20%20%20%20%20%20%20%20%20%20%20%20%20%20%20%20%20%20%20%20%22jaxa%20fnf%22%20%3A%20tile_layer_4eeacea91faa4dd39de42851ba79909d%2C%0A%20%20%20%20%20%20%20%20%20%20%20%20%20%20%20%20%7D%2C%0A%20%20%20%20%20%20%20%20%20%20%20%20%7D%3B%0A%20%20%20%20%20%20%20%20%20%20%20%20L.control.layers%28%0A%20%20%20%20%20%20%20%20%20%20%20%20%20%20%20%20layer_control_9f416132a22448da988caef95cc71d65.base_layers%2C%0A%20%20%20%20%20%20%20%20%20%20%20%20%20%20%20%20layer_control_9f416132a22448da988caef95cc71d65.overlays%2C%0A%20%20%20%20%20%20%20%20%20%20%20%20%20%20%20%20%7B%22autoZIndex%22%3A%20true%2C%20%22collapsed%22%3A%20true%2C%20%22position%22%3A%20%22topright%22%7D%0A%20%20%20%20%20%20%20%20%20%20%20%20%29.addTo%28map_0b71ecd52d474ed3b098c3eb4d4caa4b%29%3B%0A%20%20%20%20%20%20%20%20%0A%3C/script%3E onload=\"this.contentDocument.open();this.contentDocument.write(    decodeURIComponent(this.getAttribute('data-html')));this.contentDocument.close();\" allowfullscreen webkitallowfullscreen mozallowfullscreen></iframe></div></div>"
      ],
      "text/plain": [
       "<folium.folium.Map at 0x7f2a4f367520>"
      ]
     },
     "execution_count": 13,
     "metadata": {},
     "output_type": "execute_result"
    }
   ],
   "source": [
    "# Display predicted target on a map\n",
    "\n",
    "prediction_image = ee.Image(user_folder + '/' + 'FCNN_demo_beijing_384_')\n",
    "mapid = prediction_image.getMapId({'bands': ['fnf'],\n",
    "                       'min': 0, \n",
    "                       'max': 2, \n",
    "                      'palette':palette\n",
    "                      })\n",
    "map = folium.Map(location=[39.898, 116.5097])\n",
    "folium.TileLayer(\n",
    "    tiles=mapid['tile_fetcher'].url_format,\n",
    "    attr='Map Data &copy; <a href=\"https://earthengine.google.com/\">Google Earth Engine</a>',\n",
    "    overlay=True,\n",
    "    name='jaxa fnf',\n",
    "    color=palette,\n",
    "    opacity = 1\n",
    "  ).add_to(map)\n",
    "map.add_child(folium.LayerControl())\n",
    "map"
   ]
  },
  {
   "cell_type": "code",
   "execution_count": 12,
   "id": "4f529eec",
   "metadata": {
    "ExecuteTime": {
     "end_time": "2021-05-31T07:26:16.775503Z",
     "start_time": "2021-05-31T07:26:16.483181Z"
    }
   },
   "outputs": [
    {
     "data": {
      "text/html": [
       "<div style=\"width:100%;\"><div style=\"position:relative;width:100%;height:0;padding-bottom:60%;\"><span style=\"color:#565656\">Make this Notebook Trusted to load map: File -> Trust Notebook</span><iframe src=\"about:blank\" style=\"position:absolute;width:100%;height:100%;left:0;top:0;border:none !important;\" data-html=%3C%21DOCTYPE%20html%3E%0A%3Chead%3E%20%20%20%20%0A%20%20%20%20%3Cmeta%20http-equiv%3D%22content-type%22%20content%3D%22text/html%3B%20charset%3DUTF-8%22%20/%3E%0A%20%20%20%20%0A%20%20%20%20%20%20%20%20%3Cscript%3E%0A%20%20%20%20%20%20%20%20%20%20%20%20L_NO_TOUCH%20%3D%20false%3B%0A%20%20%20%20%20%20%20%20%20%20%20%20L_DISABLE_3D%20%3D%20false%3B%0A%20%20%20%20%20%20%20%20%3C/script%3E%0A%20%20%20%20%0A%20%20%20%20%3Cstyle%3Ehtml%2C%20body%20%7Bwidth%3A%20100%25%3Bheight%3A%20100%25%3Bmargin%3A%200%3Bpadding%3A%200%3B%7D%3C/style%3E%0A%20%20%20%20%3Cstyle%3E%23map%20%7Bposition%3Aabsolute%3Btop%3A0%3Bbottom%3A0%3Bright%3A0%3Bleft%3A0%3B%7D%3C/style%3E%0A%20%20%20%20%3Cscript%20src%3D%22https%3A//cdn.jsdelivr.net/npm/leaflet%401.6.0/dist/leaflet.js%22%3E%3C/script%3E%0A%20%20%20%20%3Cscript%20src%3D%22https%3A//code.jquery.com/jquery-1.12.4.min.js%22%3E%3C/script%3E%0A%20%20%20%20%3Cscript%20src%3D%22https%3A//maxcdn.bootstrapcdn.com/bootstrap/3.2.0/js/bootstrap.min.js%22%3E%3C/script%3E%0A%20%20%20%20%3Cscript%20src%3D%22https%3A//cdnjs.cloudflare.com/ajax/libs/Leaflet.awesome-markers/2.0.2/leaflet.awesome-markers.js%22%3E%3C/script%3E%0A%20%20%20%20%3Clink%20rel%3D%22stylesheet%22%20href%3D%22https%3A//cdn.jsdelivr.net/npm/leaflet%401.6.0/dist/leaflet.css%22/%3E%0A%20%20%20%20%3Clink%20rel%3D%22stylesheet%22%20href%3D%22https%3A//maxcdn.bootstrapcdn.com/bootstrap/3.2.0/css/bootstrap.min.css%22/%3E%0A%20%20%20%20%3Clink%20rel%3D%22stylesheet%22%20href%3D%22https%3A//maxcdn.bootstrapcdn.com/bootstrap/3.2.0/css/bootstrap-theme.min.css%22/%3E%0A%20%20%20%20%3Clink%20rel%3D%22stylesheet%22%20href%3D%22https%3A//maxcdn.bootstrapcdn.com/font-awesome/4.6.3/css/font-awesome.min.css%22/%3E%0A%20%20%20%20%3Clink%20rel%3D%22stylesheet%22%20href%3D%22https%3A//cdnjs.cloudflare.com/ajax/libs/Leaflet.awesome-markers/2.0.2/leaflet.awesome-markers.css%22/%3E%0A%20%20%20%20%3Clink%20rel%3D%22stylesheet%22%20href%3D%22https%3A//cdn.jsdelivr.net/gh/python-visualization/folium/folium/templates/leaflet.awesome.rotate.min.css%22/%3E%0A%20%20%20%20%0A%20%20%20%20%20%20%20%20%20%20%20%20%3Cmeta%20name%3D%22viewport%22%20content%3D%22width%3Ddevice-width%2C%0A%20%20%20%20%20%20%20%20%20%20%20%20%20%20%20%20initial-scale%3D1.0%2C%20maximum-scale%3D1.0%2C%20user-scalable%3Dno%22%20/%3E%0A%20%20%20%20%20%20%20%20%20%20%20%20%3Cstyle%3E%0A%20%20%20%20%20%20%20%20%20%20%20%20%20%20%20%20%23map_0486deb9b70f443082dab299a0adef24%20%7B%0A%20%20%20%20%20%20%20%20%20%20%20%20%20%20%20%20%20%20%20%20position%3A%20relative%3B%0A%20%20%20%20%20%20%20%20%20%20%20%20%20%20%20%20%20%20%20%20width%3A%20100.0%25%3B%0A%20%20%20%20%20%20%20%20%20%20%20%20%20%20%20%20%20%20%20%20height%3A%20100.0%25%3B%0A%20%20%20%20%20%20%20%20%20%20%20%20%20%20%20%20%20%20%20%20left%3A%200.0%25%3B%0A%20%20%20%20%20%20%20%20%20%20%20%20%20%20%20%20%20%20%20%20top%3A%200.0%25%3B%0A%20%20%20%20%20%20%20%20%20%20%20%20%20%20%20%20%7D%0A%20%20%20%20%20%20%20%20%20%20%20%20%3C/style%3E%0A%20%20%20%20%20%20%20%20%0A%3C/head%3E%0A%3Cbody%3E%20%20%20%20%0A%20%20%20%20%0A%20%20%20%20%20%20%20%20%20%20%20%20%3Cdiv%20class%3D%22folium-map%22%20id%3D%22map_0486deb9b70f443082dab299a0adef24%22%20%3E%3C/div%3E%0A%20%20%20%20%20%20%20%20%0A%3C/body%3E%0A%3Cscript%3E%20%20%20%20%0A%20%20%20%20%0A%20%20%20%20%20%20%20%20%20%20%20%20var%20map_0486deb9b70f443082dab299a0adef24%20%3D%20L.map%28%0A%20%20%20%20%20%20%20%20%20%20%20%20%20%20%20%20%22map_0486deb9b70f443082dab299a0adef24%22%2C%0A%20%20%20%20%20%20%20%20%20%20%20%20%20%20%20%20%7B%0A%20%20%20%20%20%20%20%20%20%20%20%20%20%20%20%20%20%20%20%20center%3A%20%5B39.898%2C%20116.5097%5D%2C%0A%20%20%20%20%20%20%20%20%20%20%20%20%20%20%20%20%20%20%20%20crs%3A%20L.CRS.EPSG3857%2C%0A%20%20%20%20%20%20%20%20%20%20%20%20%20%20%20%20%20%20%20%20zoom%3A%2010%2C%0A%20%20%20%20%20%20%20%20%20%20%20%20%20%20%20%20%20%20%20%20zoomControl%3A%20true%2C%0A%20%20%20%20%20%20%20%20%20%20%20%20%20%20%20%20%20%20%20%20preferCanvas%3A%20false%2C%0A%20%20%20%20%20%20%20%20%20%20%20%20%20%20%20%20%7D%0A%20%20%20%20%20%20%20%20%20%20%20%20%29%3B%0A%0A%20%20%20%20%20%20%20%20%20%20%20%20%0A%0A%20%20%20%20%20%20%20%20%0A%20%20%20%20%0A%20%20%20%20%20%20%20%20%20%20%20%20var%20tile_layer_3d332c8900d24e2abbe273bb9f6b84ee%20%3D%20L.tileLayer%28%0A%20%20%20%20%20%20%20%20%20%20%20%20%20%20%20%20%22https%3A//%7Bs%7D.tile.openstreetmap.org/%7Bz%7D/%7Bx%7D/%7By%7D.png%22%2C%0A%20%20%20%20%20%20%20%20%20%20%20%20%20%20%20%20%7B%22attribution%22%3A%20%22Data%20by%20%5Cu0026copy%3B%20%5Cu003ca%20href%3D%5C%22http%3A//openstreetmap.org%5C%22%5Cu003eOpenStreetMap%5Cu003c/a%5Cu003e%2C%20under%20%5Cu003ca%20href%3D%5C%22http%3A//www.openstreetmap.org/copyright%5C%22%5Cu003eODbL%5Cu003c/a%5Cu003e.%22%2C%20%22detectRetina%22%3A%20false%2C%20%22maxNativeZoom%22%3A%2018%2C%20%22maxZoom%22%3A%2018%2C%20%22minZoom%22%3A%200%2C%20%22noWrap%22%3A%20false%2C%20%22opacity%22%3A%201%2C%20%22subdomains%22%3A%20%22abc%22%2C%20%22tms%22%3A%20false%7D%0A%20%20%20%20%20%20%20%20%20%20%20%20%29.addTo%28map_0486deb9b70f443082dab299a0adef24%29%3B%0A%20%20%20%20%20%20%20%20%0A%20%20%20%20%0A%20%20%20%20%20%20%20%20%20%20%20%20var%20tile_layer_d9d445e2cf4f49d68d69c7da8debfd4f%20%3D%20L.tileLayer%28%0A%20%20%20%20%20%20%20%20%20%20%20%20%20%20%20%20%22https%3A//earthengine.googleapis.com/v1alpha/projects/earthengine-legacy/maps/30ff626897979de1de0c4d4efd318afa-22c9723abe8c11f2ab4f7c68c5df32d9/tiles/%7Bz%7D/%7Bx%7D/%7By%7D%22%2C%0A%20%20%20%20%20%20%20%20%20%20%20%20%20%20%20%20%7B%22attribution%22%3A%20%22Map%20Data%20%5Cu0026copy%3B%20%5Cu003ca%20href%3D%5C%22https%3A//earthengine.google.com/%5C%22%5Cu003eGoogle%20Earth%20Engine%5Cu003c/a%5Cu003e%22%2C%20%22color%22%3A%20%5B%22006600%22%2C%20%22FEFF99%22%5D%2C%20%22detectRetina%22%3A%20false%2C%20%22maxNativeZoom%22%3A%2018%2C%20%22maxZoom%22%3A%2018%2C%20%22minZoom%22%3A%200%2C%20%22noWrap%22%3A%20false%2C%20%22opacity%22%3A%201%2C%20%22subdomains%22%3A%20%22abc%22%2C%20%22tms%22%3A%20false%7D%0A%20%20%20%20%20%20%20%20%20%20%20%20%29.addTo%28map_0486deb9b70f443082dab299a0adef24%29%3B%0A%20%20%20%20%20%20%20%20%0A%20%20%20%20%0A%20%20%20%20%20%20%20%20%20%20%20%20var%20layer_control_189a3e299e9742869d540e0a7b5d31ea%20%3D%20%7B%0A%20%20%20%20%20%20%20%20%20%20%20%20%20%20%20%20base_layers%20%3A%20%7B%0A%20%20%20%20%20%20%20%20%20%20%20%20%20%20%20%20%20%20%20%20%22openstreetmap%22%20%3A%20tile_layer_3d332c8900d24e2abbe273bb9f6b84ee%2C%0A%20%20%20%20%20%20%20%20%20%20%20%20%20%20%20%20%7D%2C%0A%20%20%20%20%20%20%20%20%20%20%20%20%20%20%20%20overlays%20%3A%20%20%7B%0A%20%20%20%20%20%20%20%20%20%20%20%20%20%20%20%20%20%20%20%20%22jaxa%20fnf%22%20%3A%20tile_layer_d9d445e2cf4f49d68d69c7da8debfd4f%2C%0A%20%20%20%20%20%20%20%20%20%20%20%20%20%20%20%20%7D%2C%0A%20%20%20%20%20%20%20%20%20%20%20%20%7D%3B%0A%20%20%20%20%20%20%20%20%20%20%20%20L.control.layers%28%0A%20%20%20%20%20%20%20%20%20%20%20%20%20%20%20%20layer_control_189a3e299e9742869d540e0a7b5d31ea.base_layers%2C%0A%20%20%20%20%20%20%20%20%20%20%20%20%20%20%20%20layer_control_189a3e299e9742869d540e0a7b5d31ea.overlays%2C%0A%20%20%20%20%20%20%20%20%20%20%20%20%20%20%20%20%7B%22autoZIndex%22%3A%20true%2C%20%22collapsed%22%3A%20true%2C%20%22position%22%3A%20%22topright%22%7D%0A%20%20%20%20%20%20%20%20%20%20%20%20%29.addTo%28map_0486deb9b70f443082dab299a0adef24%29%3B%0A%20%20%20%20%20%20%20%20%0A%3C/script%3E onload=\"this.contentDocument.open();this.contentDocument.write(    decodeURIComponent(this.getAttribute('data-html')));this.contentDocument.close();\" allowfullscreen webkitallowfullscreen mozallowfullscreen></iframe></div></div>"
      ],
      "text/plain": [
       "<folium.folium.Map at 0x7f2a4f304f70>"
      ]
     },
     "execution_count": 12,
     "metadata": {},
     "output_type": "execute_result"
    }
   ],
   "source": [
    "# Display y_true to compare\n",
    "\n",
    "mapid = jaxa.getMapId({'bands': ['fnf'],\n",
    "                       'min': 2, \n",
    "                       'max': 0, \n",
    "                      'palette':palette\n",
    "                      })\n",
    "map = folium.Map(location=[39.898, 116.5097])\n",
    "\n",
    "\n",
    "folium.TileLayer(\n",
    "    tiles=mapid['tile_fetcher'].url_format,\n",
    "    attr='Map Data &copy; <a href=\"https://earthengine.google.com/\">Google Earth Engine</a>',\n",
    "    overlay=True,\n",
    "    name='jaxa fnf',\n",
    "    color=palette,\n",
    "    opacity = 1\n",
    "  ).add_to(map)\n",
    "map.add_child(folium.LayerControl())\n",
    "map"
   ]
  },
  {
   "cell_type": "markdown",
   "id": "6b248755",
   "metadata": {},
   "source": [
    "### Compare specific part of test image"
   ]
  },
  {
   "cell_type": "code",
   "execution_count": 14,
   "id": "6e29d62c",
   "metadata": {
    "ExecuteTime": {
     "end_time": "2021-05-31T07:29:06.484713Z",
     "start_time": "2021-05-31T07:29:06.467400Z"
    }
   },
   "outputs": [],
   "source": [
    "def get_image_data(predict_image, user_folder, predict_kernel_buffer, predict_region):\n",
    "    \"\"\"Perform inference on exported imagery, upload to Earth Engine.\n",
    "    \"\"\"\n",
    "    print('Looking for TFRecord files...')\n",
    "    # Get a list of all the files in the output bucket.\n",
    "    filesList = !gsutil ls 'gs://'{BUCKET}'/'{FOLDER}\n",
    "    # Get only the files generated by the image export.\n",
    "    exportFilesList = [s for s in filesList if predict_image in s]\n",
    "    # Get the list of image files and the JSON mixer file.\n",
    "    imageFilesList = []\n",
    "    jsonFile = None\n",
    "    for f in exportFilesList:\n",
    "        if f.endswith('.tfrecord.gz'):\n",
    "            imageFilesList.append(f)\n",
    "        elif f.endswith('.json'):\n",
    "            jsonFile = f\n",
    "    # Make sure the files are in the right order.\n",
    "    imageFilesList.sort()\n",
    "    from pprint import pprint\n",
    "    pprint(imageFilesList)\n",
    "    print(jsonFile)\n",
    "    import json\n",
    "    # Load the contents of the mixer file to a JSON object.\n",
    "    jsonText = !gsutil cat {jsonFile}\n",
    "    # Get a single string w/ newlines from the IPython.utils.text.SList\n",
    "    mixer = json.loads(jsonText.nlstr)\n",
    "    pprint(mixer)\n",
    "    patches = mixer['totalPatches']\n",
    "    # Get set up for prediction.\n",
    "    x_buffer = int(predict_kernel_buffer[0] / 2)\n",
    "    y_buffer = int(predict_kernel_buffer[1] / 2)\n",
    "    buffered_shape = [\n",
    "        KERNEL_SHAPE[0] + predict_kernel_buffer[0],\n",
    "        KERNEL_SHAPE[1] + predict_kernel_buffer[1]]\n",
    "    imageColumns = [\n",
    "      tf.io.FixedLenFeature(shape=buffered_shape, dtype=tf.float32) \n",
    "        for k in BANDS\n",
    "    ]\n",
    "    imageFeaturesDict = dict(zip(BANDS, imageColumns))\n",
    "    def parse_image(example_proto):\n",
    "        return tf.io.parse_single_example(example_proto, imageFeaturesDict)\n",
    "    def toTupleImage(inputs):\n",
    "        inputsList = [inputs.get(key) for key in BANDS]\n",
    "        stacked = tf.stack(inputsList, axis=0)\n",
    "        stacked = tf.transpose(stacked, [1, 2, 0])\n",
    "        return stacked\n",
    "     # Create a dataset from the TFRecord file(s) in Cloud Storage.\n",
    "    imageDataset = tf.data.TFRecordDataset(imageFilesList, compression_type='GZIP')\n",
    "    imageDataset = imageDataset.map(parse_image, num_parallel_calls=5)\n",
    "    imageDataset = imageDataset.map(toTupleImage).batch(1)\n",
    "    \n",
    "    return imageDataset"
   ]
  },
  {
   "cell_type": "code",
   "execution_count": 15,
   "id": "ffd7ac54",
   "metadata": {
    "ExecuteTime": {
     "end_time": "2021-05-31T07:29:12.979081Z",
     "start_time": "2021-05-31T07:29:09.724076Z"
    },
    "scrolled": true
   },
   "outputs": [
    {
     "name": "stdout",
     "output_type": "stream",
     "text": [
      "Looking for TFRecord files...\n",
      "['gs://forest_guard_bucket/Arthur_prediction_beijing/FCNN_beijing_adam_binary_crossentropy00000.tfrecord.gz',\n",
      " 'gs://forest_guard_bucket/Arthur_prediction_beijing/FCNN_beijing_adam_binary_crossentropy00001.tfrecord.gz',\n",
      " 'gs://forest_guard_bucket/Arthur_prediction_beijing/FCNN_beijing_adam_binary_crossentropy00002.tfrecord.gz',\n",
      " 'gs://forest_guard_bucket/Arthur_prediction_beijing/FCNN_beijing_adam_binary_crossentropy00003.tfrecord.gz',\n",
      " 'gs://forest_guard_bucket/Arthur_prediction_beijing/FCNN_beijing_adam_binary_crossentropy00004.tfrecord.gz']\n",
      "gs://forest_guard_bucket/Arthur_prediction_beijing/FCNN_beijing_adam_binary_crossentropymixer.json\n",
      "{'patchDimensions': [256, 256],\n",
      " 'patchesPerRow': 15,\n",
      " 'projection': {'affine': {'doubleMatrix': [0.00026949458523585647,\n",
      "                                            0.0,\n",
      "                                            115.9662149728414,\n",
      "                                            0.0,\n",
      "                                            -0.00026949458523585647,\n",
      "                                            40.122623344499544]},\n",
      "                'crs': 'EPSG:4326'},\n",
      " 'totalPatches': 90}\n"
     ]
    }
   ],
   "source": [
    "image_data = get_image_data(predict_image, user_folder, predict_kernel_buffer, predict_region)"
   ]
  },
  {
   "cell_type": "code",
   "execution_count": 16,
   "id": "d2b90571",
   "metadata": {
    "ExecuteTime": {
     "end_time": "2021-05-31T07:29:42.024813Z",
     "start_time": "2021-05-31T07:29:42.006504Z"
    }
   },
   "outputs": [
    {
     "ename": "NameError",
     "evalue": "name 'model_pretrained' is not defined",
     "output_type": "error",
     "traceback": [
      "\u001b[0;31m---------------------------------------------------------------------------\u001b[0m",
      "\u001b[0;31mNameError\u001b[0m                                 Traceback (most recent call last)",
      "\u001b[0;32m<ipython-input-16-b3d89942c2ba>\u001b[0m in \u001b[0;36m<module>\u001b[0;34m\u001b[0m\n\u001b[0;32m----> 1\u001b[0;31m \u001b[0mpredictions\u001b[0m \u001b[0;34m=\u001b[0m \u001b[0mmodel_pretrained\u001b[0m\u001b[0;34m.\u001b[0m\u001b[0mpredict\u001b[0m\u001b[0;34m(\u001b[0m\u001b[0mimage_data\u001b[0m\u001b[0;34m,\u001b[0m \u001b[0mverbose\u001b[0m\u001b[0;34m=\u001b[0m\u001b[0;36m1\u001b[0m\u001b[0;34m)\u001b[0m\u001b[0;34m\u001b[0m\u001b[0;34m\u001b[0m\u001b[0m\n\u001b[0m",
      "\u001b[0;31mNameError\u001b[0m: name 'model_pretrained' is not defined"
     ]
    }
   ],
   "source": [
    "predictions = model_pretrained.predict(image_data, verbose=1)"
   ]
  },
  {
   "cell_type": "code",
   "execution_count": 30,
   "id": "91ab4494",
   "metadata": {
    "ExecuteTime": {
     "end_time": "2021-05-30T22:05:17.822870Z",
     "start_time": "2021-05-30T22:05:17.753530Z"
    }
   },
   "outputs": [],
   "source": [
    "featured_predictions = np.where(predictions>0.5,1,predictions)\n",
    "featured_predictions = np.where(predictions<0.5,0,featured_predictions)"
   ]
  },
  {
   "cell_type": "code",
   "execution_count": 31,
   "id": "5028dd9e",
   "metadata": {
    "ExecuteTime": {
     "end_time": "2021-05-30T22:05:25.795283Z",
     "start_time": "2021-05-30T22:05:19.503505Z"
    }
   },
   "outputs": [],
   "source": [
    "stacked_image_data = np.stack(list(image_data))"
   ]
  },
  {
   "cell_type": "code",
   "execution_count": 41,
   "id": "67aa9cae",
   "metadata": {
    "ExecuteTime": {
     "end_time": "2021-05-30T22:16:41.145336Z",
     "start_time": "2021-05-30T22:16:40.770636Z"
    }
   },
   "outputs": [
    {
     "data": {
      "application/vnd.jupyter.widget-view+json": {
       "model_id": "c6fc8eb14f3c4516bb4e819e93bb6ae7",
       "version_major": 2,
       "version_minor": 0
      },
      "text/plain": [
       "interactive(children=(Dropdown(description='image_number', options=(0, 1, 2, 3, 4, 5, 6, 7, 8, 9, 10, 11, 12, …"
      ]
     },
     "metadata": {},
     "output_type": "display_data"
    },
    {
     "ename": "NameError",
     "evalue": "name 'image_number' is not defined",
     "output_type": "error",
     "traceback": [
      "\u001b[0;31m---------------------------------------------------------------------------\u001b[0m",
      "\u001b[0;31mNameError\u001b[0m                                 Traceback (most recent call last)",
      "\u001b[0;32m<ipython-input-41-c652b92b9fda>\u001b[0m in \u001b[0;36m<module>\u001b[0;34m\u001b[0m\n\u001b[1;32m     12\u001b[0m     \u001b[0mplt\u001b[0m\u001b[0;34m.\u001b[0m\u001b[0mimshow\u001b[0m\u001b[0;34m(\u001b[0m\u001b[0mfeatured_predictions\u001b[0m\u001b[0;34m[\u001b[0m\u001b[0mimage_number\u001b[0m\u001b[0;34m,\u001b[0m\u001b[0;34m:\u001b[0m\u001b[0;34m,\u001b[0m\u001b[0;34m:\u001b[0m\u001b[0;34m,\u001b[0m\u001b[0;36m0\u001b[0m\u001b[0;34m]\u001b[0m\u001b[0;34m)\u001b[0m\u001b[0;34m\u001b[0m\u001b[0;34m\u001b[0m\u001b[0m\n\u001b[1;32m     13\u001b[0m \u001b[0;34m\u001b[0m\u001b[0m\n\u001b[0;32m---> 14\u001b[0;31m \u001b[0mplot_y_pred\u001b[0m\u001b[0;34m(\u001b[0m\u001b[0mimage_number\u001b[0m\u001b[0;34m)\u001b[0m\u001b[0;34m\u001b[0m\u001b[0;34m\u001b[0m\u001b[0m\n\u001b[0m",
      "\u001b[0;31mNameError\u001b[0m: name 'image_number' is not defined"
     ]
    }
   ],
   "source": [
    "from ipywidgets import interact\n",
    "\n",
    "@interact(image_number=np.arange(0, 91, 1))\n",
    "\n",
    "def plot_y_pred(image_number):\n",
    "    fig = plt.figure(figsize=(15,7))\n",
    "    \n",
    "    plt.subplot(1, 2, 1)\n",
    "    plt.imshow(np.flip(stacked_image_data[image_number,0,:,:,1:4], axis=2)*5)\n",
    "    \n",
    "    plt.subplot(1, 2, 2)\n",
    "    plt.imshow(featured_predictions[image_number,:,:,0])\n",
    "    \n",
    "plot_y_pred(image_number)"
   ]
  },
  {
   "cell_type": "code",
   "execution_count": null,
   "id": "d318e66f",
   "metadata": {},
   "outputs": [],
   "source": []
  }
 ],
 "metadata": {
  "kernelspec": {
   "display_name": "Python 3",
   "language": "python",
   "name": "python3"
  },
  "language_info": {
   "codemirror_mode": {
    "name": "ipython",
    "version": 3
   },
   "file_extension": ".py",
   "mimetype": "text/x-python",
   "name": "python",
   "nbconvert_exporter": "python",
   "pygments_lexer": "ipython3",
   "version": "3.8.6"
  },
  "toc": {
   "base_numbering": 1,
   "nav_menu": {},
   "number_sections": true,
   "sideBar": true,
   "skip_h1_title": false,
   "title_cell": "Table of Contents",
   "title_sidebar": "Contents",
   "toc_cell": false,
   "toc_position": {},
   "toc_section_display": true,
   "toc_window_display": false
  }
 },
 "nbformat": 4,
 "nbformat_minor": 5
}
