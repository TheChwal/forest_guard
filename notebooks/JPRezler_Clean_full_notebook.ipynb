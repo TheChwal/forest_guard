{
 "cells": [
  {
   "cell_type": "markdown",
   "id": "c2729de4",
   "metadata": {},
   "source": [
    "<header style=\"color:green;font-size:30px; text-align:center;\">      \n",
    "<b>\n",
    "    FOREST GUARDS\n",
    "</b>\n",
    "</header>   "
   ]
  },
  {
   "cell_type": "markdown",
   "id": "89cd9ea5",
   "metadata": {},
   "source": [
    "### Import and authentification"
   ]
  },
  {
   "cell_type": "code",
   "execution_count": null,
   "id": "dd3a16fa",
   "metadata": {
    "ExecuteTime": {
     "end_time": "2021-06-09T13:34:03.045747Z",
     "start_time": "2021-06-09T13:34:02.030214Z"
    }
   },
   "outputs": [],
   "source": [
    "import ee \n",
    "import tensorflow as tf\n",
    "from IPython.display import Image\n",
    "\n",
    "%load_ext autoreload\n",
    "%autoreload 2"
   ]
  },
  {
   "cell_type": "code",
   "execution_count": null,
   "id": "3963135d",
   "metadata": {},
   "outputs": [],
   "source": [
    "# TO BE DONE IN GOOGLE COLAB ONLY\n",
    "\n",
    "\n",
    "!git clone https://github.com/TheChwal/forest_guard.git\n",
    "\n",
    "%cd forest_guard/\n",
    "\n",
    "!pip install ."
   ]
  },
  {
   "cell_type": "code",
   "execution_count": null,
   "id": "8d52beb5",
   "metadata": {},
   "outputs": [],
   "source": [
    "#TO BE DONE IN GOOGLE COLAB ONLY\n",
    "\n",
    "from google.colab import auth\n",
    "\n",
    "auth.authenticate_user()"
   ]
  },
  {
   "cell_type": "code",
   "execution_count": null,
   "id": "ee98313e",
   "metadata": {
    "ExecuteTime": {
     "end_time": "2021-06-01T17:06:45.720407Z",
     "start_time": "2021-06-01T17:06:25.943422Z"
    },
    "scrolled": true
   },
   "outputs": [],
   "source": [
    "# Authenticate and initialize Earth Engine\n",
    "ee.Authenticate()\n",
    "ee.Initialize()\n"
   ]
  },
  {
   "cell_type": "markdown",
   "id": "3f58233a",
   "metadata": {},
   "source": [
    "### Global variables"
   ]
  },
  {
   "cell_type": "code",
   "execution_count": null,
   "id": "5de0fd25",
   "metadata": {
    "ExecuteTime": {
     "end_time": "2021-06-09T13:34:19.758336Z",
     "start_time": "2021-06-09T13:34:19.738098Z"
    }
   },
   "outputs": [],
   "source": [
    "\n",
    "BUCKET = 'forest_guard_bucket'  # ⚠️ replace with your BUCKET NAME\n",
    "FOLDER = 'data_trainval' # ⚠️ replace with your folder\n",
    "TRAINING_BASE = 'training_patches'\n",
    "EVAL_BASE = 'eval_patches'\n",
    "\n",
    "OPTICAL_BANDS = ['B1', 'B2', 'B3', 'B4', 'B5', 'B6', 'B7']\n",
    "THERMAL_BANDS = ['B10', 'B11']\n",
    "BANDS = OPTICAL_BANDS + THERMAL_BANDS\n",
    "RESPONSE = 'fnf'\n",
    "FEATURES = BANDS + [RESPONSE]\n",
    "\n",
    "# Specify the size and shape of patches expected by the model.\n",
    "KERNEL_SIZE = 256\n",
    "KERNEL_SHAPE = [KERNEL_SIZE, KERNEL_SIZE]\n",
    "\n",
    "COLUMNS = [\n",
    "  tf.io.FixedLenFeature(shape=KERNEL_SHAPE, dtype=tf.float32) for k in FEATURES\n",
    "]\n",
    "FEATURES_DICT = dict(zip(FEATURES, COLUMNS))\n",
    "\n",
    "  "
   ]
  },
  {
   "cell_type": "markdown",
   "id": "58cd13c4",
   "metadata": {},
   "source": [
    "### Exporting training and val set "
   ]
  },
  {
   "cell_type": "markdown",
   "id": "667b185e",
   "metadata": {},
   "source": [
    "#### Processing and Visualising the data on folium"
   ]
  },
  {
   "cell_type": "markdown",
   "id": "999afa03",
   "metadata": {},
   "source": [
    "##### X"
   ]
  },
  {
   "cell_type": "code",
   "execution_count": null,
   "id": "7a94df9c",
   "metadata": {
    "ExecuteTime": {
     "end_time": "2021-05-29T09:39:42.468548Z",
     "start_time": "2021-05-29T09:39:41.662986Z"
    }
   },
   "outputs": [],
   "source": [
    "from forest_guard.datas import get_image_landsat\n",
    "\n",
    "# The image input data is a cloud-masked median composite.\n",
    "image = get_image_landsat('2015-01-01', '2017-12-31')\n",
    "\n",
    "\n",
    "# Use folium to visualize the imagery.\n",
    "mapid = image.getMapId({'bands': ['B4', 'B3', 'B2'], 'min': 0, 'max': 0.3})\n",
    "map = folium.Map(location=[48.9, 2.5])\n",
    "folium.TileLayer(\n",
    "    tiles=mapid['tile_fetcher'].url_format,\n",
    "    attr='Map Data &copy; <a href=\"https://earthengine.google.com/\">Google Earth Engine</a>',\n",
    "    overlay=True,\n",
    "    name='median composite',\n",
    "    opacity = 0.5\n",
    "  ).add_to(map)\n",
    "\n",
    "mapid = image.getMapId({'bands': ['B11'], 'min': 0, 'max': 0.5})\n",
    "folium.TileLayer(\n",
    "    tiles=mapid['tile_fetcher'].url_format,\n",
    "    attr='Map Data &copy; <a href=\"https://earthengine.google.com/\">Google Earth Engine</a>',\n",
    "    overlay=True,\n",
    "    name='thermal',\n",
    "    opacity = 0.5\n",
    "  ).add_to(map)\n",
    "map.add_child(folium.LayerControl())\n",
    "map"
   ]
  },
  {
   "cell_type": "markdown",
   "id": "aa16d927",
   "metadata": {},
   "source": [
    "##### Target"
   ]
  },
  {
   "cell_type": "code",
   "execution_count": null,
   "id": "fa50f903",
   "metadata": {
    "ExecuteTime": {
     "end_time": "2021-05-29T09:39:43.880894Z",
     "start_time": "2021-05-29T09:39:43.579585Z"
    }
   },
   "outputs": [],
   "source": [
    "from forest_guard.datas import get_jaxa\n",
    "jaxa = get_jaxa('2017-01-01', '2017-12-31')\n",
    "\n",
    "palette = ['006400',\n",
    "           'FEFF99',\n",
    "            '0000FF'\n",
    "          ]\n",
    "mapid = jaxa.getMapId({'bands': ['fnf'],\n",
    "                       'min': 1, \n",
    "                       'max': 3, \n",
    "                      'palette':palette\n",
    "                      })\n",
    "map = folium.Map(location=[48.9, 2.5])\n",
    "\n",
    "\n",
    "folium.TileLayer(\n",
    "    tiles=mapid['tile_fetcher'].url_format,\n",
    "    attr='Map Data &copy; <a href=\"https://earthengine.google.com/\">Google Earth Engine</a>',\n",
    "    overlay=True,\n",
    "    name='jaxa fnf',\n",
    "    color=palette,\n",
    "    opacity = 1\n",
    "  ).add_to(map)\n",
    "map.add_child(folium.LayerControl())\n",
    "map"
   ]
  },
  {
   "cell_type": "markdown",
   "id": "d82f1fc4",
   "metadata": {},
   "source": [
    "#### Stacking X and y"
   ]
  },
  {
   "cell_type": "code",
   "execution_count": null,
   "id": "ff4d4b3e",
   "metadata": {
    "ExecuteTime": {
     "end_time": "2021-05-29T09:39:45.596449Z",
     "start_time": "2021-05-29T09:39:45.580057Z"
    }
   },
   "outputs": [],
   "source": [
    "from forest_guard.datas import get_stacked_arrays\n",
    "\n",
    "arrays = get_stacked_arrays(image, jaxa, BANDS, RESPONSE, KERNEL_SIZE)"
   ]
  },
  {
   "cell_type": "markdown",
   "id": "ce32d6a8",
   "metadata": {},
   "source": [
    "#### Areas of interests for training and test"
   ]
  },
  {
   "cell_type": "markdown",
   "id": "2951ac0c",
   "metadata": {},
   "source": [
    "***For now, X and y are virtual satellite data for the full space***  \n",
    "It is need to choose the regional areas where we are going to train and test"
   ]
  },
  {
   "cell_type": "code",
   "execution_count": null,
   "id": "e6ff2c73",
   "metadata": {
    "ExecuteTime": {
     "end_time": "2021-05-31T10:59:39.877077Z",
     "start_time": "2021-05-31T10:59:39.837414Z"
    }
   },
   "outputs": [],
   "source": [
    "# create our own areas of interests\n",
    "\n",
    "\n",
    "# training features collection\n",
    "rect_train = []\n",
    "#massif central\n",
    "rect_train.append(ee.Geometry.Rectangle([3.327248985602229, 46.600827791084875, 4.689553673102229,47.70649093701327]))\n",
    "#west alpes\n",
    "rect_train.append(ee.Geometry.Rectangle([5.7423828124999865,45.351141225773794, 8.291210937499986,46.633369678740046]))\n",
    "#sweden\n",
    "rect_train.append(ee.Geometry.Rectangle([12.158398437499986,57.85568314226695, 14.883007812499986,59.23144539808598]))\n",
    "#sydney area\n",
    "rect_train.append(ee.Geometry.Rectangle([150.04780273437498,-34.28117194241202, 151.47602539062498,-33.11122308232406]))\n",
    "\n",
    "trainingPolys = ee.FeatureCollection(rect_train)\n",
    "\n",
    "# eval features collections\n",
    "rect_eval=[]\n",
    "#west France\n",
    "rect_eval.append(ee.Geometry.Rectangle([-0.7016469211726672,46.88962161312492, 0.9353159694523328,47.64998631126759]))\n",
    "#east alpes\n",
    "rect_eval.append(ee.Geometry.Rectangle([10.319052480734172,45.60830293723585, 13.527060293234172,47.511663948188954]))\n",
    "#russia\n",
    "rect_eval.append(ee.Geometry.Rectangle([29.61104466823417,57.26094864586795, 32.68721654323417,58.93274292154694]))\n",
    "#australia\n",
    "rect_eval.append(ee.Geometry.Rectangle([149.36943235990577,-37.37123372588969, 150.22636595365577,-36.73996965953723]))\n",
    "\n",
    "evalPolys= ee.FeatureCollection(rect_eval)"
   ]
  },
  {
   "cell_type": "code",
   "execution_count": null,
   "id": "6e4b8d37",
   "metadata": {
    "ExecuteTime": {
     "end_time": "2021-05-29T09:39:48.659669Z",
     "start_time": "2021-05-29T09:39:48.324079Z"
    },
    "scrolled": false
   },
   "outputs": [],
   "source": [
    "###################################################\n",
    "###   DEFINE OUR COLLECTIONS OF AREAS OF INTEREST\n",
    "################################################\n",
    "\n",
    "polyImage = ee.Image(0).byte().paint(trainingPolys, 1).paint(evalPolys, 2)\n",
    "polyImage = polyImage.updateMask(polyImage)\n",
    "\n",
    "mapid = polyImage.getMapId({'min': 1, 'max': 2, 'palette': ['red', 'blue']})\n",
    "map = folium.Map(location=[47., 0.], zoom_start=5)\n",
    "folium.TileLayer(\n",
    "    tiles=mapid['tile_fetcher'].url_format,\n",
    "    attr='Map Data &copy; <a href=\"https://earthengine.google.com/\">Google Earth Engine</a>',\n",
    "    overlay=True,\n",
    "    name='training polygons',\n",
    "  ).add_to(map)\n",
    "map.add_child(folium.LayerControl())\n",
    "map"
   ]
  },
  {
   "cell_type": "markdown",
   "id": "c0fce18e",
   "metadata": {},
   "source": [
    "#### Export data in TFRecords format"
   ]
  },
  {
   "cell_type": "code",
   "execution_count": null,
   "id": "f041b28f",
   "metadata": {
    "ExecuteTime": {
     "end_time": "2021-05-29T09:55:43.316290Z",
     "start_time": "2021-05-29T09:40:02.758580Z"
    }
   },
   "outputs": [],
   "source": [
    "from forest_guard.datas import export_to_cloud_sampling_train_eval\n",
    "\n",
    "\n",
    "export_to_cloud_sampling_train_eval(trainingPolys, evalPolys, arrays, 100, 1000, FOLDER)"
   ]
  },
  {
   "cell_type": "markdown",
   "id": "970be0a5",
   "metadata": {},
   "source": [
    "### Parse TFRecords and get back tensors"
   ]
  },
  {
   "cell_type": "markdown",
   "id": "cb994eee",
   "metadata": {},
   "source": [
    "#### Training set"
   ]
  },
  {
   "cell_type": "code",
   "execution_count": null,
   "id": "b43f3236",
   "metadata": {
    "ExecuteTime": {
     "end_time": "2021-05-31T15:50:09.830257Z",
     "start_time": "2021-05-31T15:50:08.560697Z"
    }
   },
   "outputs": [],
   "source": [
    "from forest_guard.parse import get_training_dataset\n",
    "\n",
    "training = get_training_dataset(FOLDER)\n",
    "\n",
    "print(iter(training.take(1)).next()) # to visualise one element"
   ]
  },
  {
   "cell_type": "markdown",
   "id": "003efe12",
   "metadata": {},
   "source": [
    "#### Visualise training set"
   ]
  },
  {
   "cell_type": "code",
   "execution_count": null,
   "id": "5821bb1c",
   "metadata": {
    "ExecuteTime": {
     "end_time": "2021-05-29T06:55:17.747006Z",
     "start_time": "2021-05-29T06:55:16.216507Z"
    }
   },
   "outputs": [],
   "source": [
    "images , labels = iter(training.take(1)).next()\n",
    "\n",
    "fig = plt.figure(figsize=(15,7))\n",
    "\n",
    "for i in range(5):\n",
    "    plt.subplot(1, 5, i+1 )\n",
    "    plt.imshow(np.flip(images[i, :, : , 1:4].numpy(), axis=2)*5)\n",
    "    "
   ]
  },
  {
   "cell_type": "code",
   "execution_count": null,
   "id": "ec541d30",
   "metadata": {
    "ExecuteTime": {
     "end_time": "2021-05-29T06:55:18.982346Z",
     "start_time": "2021-05-29T06:55:18.737203Z"
    }
   },
   "outputs": [],
   "source": [
    "fig = plt.figure(figsize=(15,7))\n",
    "\n",
    "for i in range(5):\n",
    "    plt.subplot(1,5,i+1)\n",
    "    plt.imshow(labels[i, :, : , :])\n"
   ]
  },
  {
   "cell_type": "markdown",
   "id": "180d8329",
   "metadata": {},
   "source": [
    "#### Training Data augmentation"
   ]
  },
  {
   "cell_type": "markdown",
   "id": "45179937",
   "metadata": {},
   "source": [
    "***If need horizontal and vertical flips are possible***  \n",
    "But this is is heavy in memory"
   ]
  },
  {
   "cell_type": "code",
   "execution_count": null,
   "id": "35bbbc4c",
   "metadata": {
    "ExecuteTime": {
     "end_time": "2021-05-29T06:54:32.667677Z",
     "start_time": "2021-05-29T06:54:32.650556Z"
    }
   },
   "outputs": [],
   "source": [
    "from forest_guard.parse import get_training_dataset_gen\n",
    "\n",
    "training_gen = get_training_dataset_gen(FOLDER)\n"
   ]
  },
  {
   "cell_type": "markdown",
   "id": "c13d3ebf",
   "metadata": {},
   "source": [
    "#### Visualise augmented training set"
   ]
  },
  {
   "cell_type": "code",
   "execution_count": null,
   "id": "589f819a",
   "metadata": {
    "ExecuteTime": {
     "end_time": "2021-05-29T06:54:42.003396Z",
     "start_time": "2021-05-29T06:54:41.962768Z"
    }
   },
   "outputs": [],
   "source": [
    "images , labels = next(training_gen)\n",
    "images.shape, labels.shape"
   ]
  },
  {
   "cell_type": "code",
   "execution_count": null,
   "id": "2761d407",
   "metadata": {
    "ExecuteTime": {
     "end_time": "2021-05-29T06:54:42.965712Z",
     "start_time": "2021-05-29T06:54:42.429674Z"
    },
    "scrolled": false
   },
   "outputs": [],
   "source": [
    "fig, axes = plt.subplots(2,4, figsize=(15,7))\n",
    "   \n",
    "for i in range(4):\n",
    "    axes[0,i].imshow(np.flip(images[i, :, : , 1:4], axis=2)*5)\n",
    "    axes[1,i].imshow(labels[i, :, : , :])\n",
    "    "
   ]
  },
  {
   "cell_type": "markdown",
   "id": "3abff1df",
   "metadata": {},
   "source": [
    "#### Evaluation set"
   ]
  },
  {
   "cell_type": "code",
   "execution_count": null,
   "id": "e897ca10",
   "metadata": {
    "ExecuteTime": {
     "end_time": "2021-05-31T10:12:16.649127Z",
     "start_time": "2021-05-31T10:12:16.547519Z"
    }
   },
   "outputs": [],
   "source": [
    "from forest_guard.parse import get_eval_dataset\n",
    "evaluation = get_eval_dataset(FOLDER)"
   ]
  },
  {
   "cell_type": "code",
   "execution_count": null,
   "id": "760b31f1",
   "metadata": {
    "ExecuteTime": {
     "end_time": "2021-05-28T06:52:10.030091Z",
     "start_time": "2021-05-28T06:52:06.517174Z"
    },
    "scrolled": false
   },
   "outputs": [],
   "source": [
    "print(iter(evaluation.take(1)).next())"
   ]
  },
  {
   "cell_type": "markdown",
   "id": "59902cb1",
   "metadata": {},
   "source": [
    "#### Evaluation augmentation"
   ]
  },
  {
   "cell_type": "code",
   "execution_count": null,
   "id": "9be5688b",
   "metadata": {
    "ExecuteTime": {
     "end_time": "2021-05-29T06:55:30.227708Z",
     "start_time": "2021-05-29T06:55:28.479128Z"
    }
   },
   "outputs": [],
   "source": [
    "\n",
    "from forest_guard.parse import get_eval_dataset_gen\n",
    "evaluation_gen = get_eval_dataset_gen(FOLDER)"
   ]
  },
  {
   "cell_type": "code",
   "execution_count": null,
   "id": "2197e57d",
   "metadata": {
    "ExecuteTime": {
     "end_time": "2021-05-28T15:44:14.199589Z",
     "start_time": "2021-05-28T15:44:14.176680Z"
    }
   },
   "outputs": [],
   "source": [
    "images , labels = next(evaluation_gen)\n",
    "images.shape, labels.shape"
   ]
  },
  {
   "cell_type": "markdown",
   "id": "c1b072b3",
   "metadata": {},
   "source": [
    "### Model training and performance monitoring"
   ]
  },
  {
   "cell_type": "markdown",
   "id": "1b2bae36",
   "metadata": {},
   "source": [
    "#### Training"
   ]
  },
  {
   "cell_type": "markdown",
   "id": "02207dcf",
   "metadata": {},
   "source": [
    "***Below is a way to train from the notebook (Colab)***  \n",
    "Be careful that GPU of Colab are not at the same place of where your data are stored, which implies heavy costs  \n",
    "***Training on AI platform is possible*** to avoid this issue"
   ]
  },
  {
   "cell_type": "code",
   "execution_count": null,
   "id": "edcb3430",
   "metadata": {
    "ExecuteTime": {
     "end_time": "2021-06-09T14:07:05.427970Z",
     "start_time": "2021-06-09T14:07:05.125598Z"
    }
   },
   "outputs": [],
   "source": [
    "from forest_guard.trainer import Trainer\n",
    "\n",
    "print('\\n', 'instantiate trainer')\n",
    "trainer = Trainer('model_name')"
   ]
  },
  {
   "cell_type": "markdown",
   "id": "96cb8486",
   "metadata": {},
   "source": [
    "Dice, tversky and lovasz_softmax are 3 losses implemented\n",
    "***lovasz_softmax assumes that output of the model is in logit space***"
   ]
  },
  {
   "cell_type": "code",
   "execution_count": null,
   "id": "47146d8d",
   "metadata": {
    "ExecuteTime": {
     "end_time": "2021-05-31T16:20:11.367737Z",
     "start_time": "2021-05-31T16:20:11.338171Z"
    }
   },
   "outputs": [],
   "source": [
    "from forest_guard.keras.losses import iou\n",
    "from forest_guard.losses import dice_loss\n",
    "from forest_guard.losses import tversky_loss\n",
    "from forest_guard.losses import lovasz_softmax\n",
    "\n",
    "tversky = tversky_loss(0.75)\n",
    "dice = dice_loss\n",
    "lovasz = lovasz_softmax"
   ]
  },
  {
   "cell_type": "markdown",
   "id": "cc77b79b",
   "metadata": {},
   "source": [
    "It is possible to download a model already existing or create a Unet from scratch"
   ]
  },
  {
   "cell_type": "code",
   "execution_count": null,
   "id": "18ac8d58",
   "metadata": {
    "ExecuteTime": {
     "end_time": "2021-05-31T12:34:33.281028Z",
     "start_time": "2021-05-31T12:30:16.427460Z"
    }
   },
   "outputs": [],
   "source": [
    "download = False\n",
    "if download:\n",
    "    print('\\n', 'download model', '\\n')\n",
    "    trainer.download_model_from_gcp()\n",
    "else:\n",
    "    print('\\n', 'build model', '\\n')\n",
    "    trainer.init_model() #put sigmoid at false for lovasz softmax"
   ]
  },
  {
   "cell_type": "code",
   "execution_count": null,
   "id": "f50cd438",
   "metadata": {
    "ExecuteTime": {
     "end_time": "2021-05-31T12:34:33.320335Z",
     "start_time": "2021-05-31T12:34:33.282419Z"
    },
    "scrolled": true
   },
   "outputs": [],
   "source": [
    "trainer.model.summary()"
   ]
  },
  {
   "cell_type": "markdown",
   "id": "5080e378",
   "metadata": {},
   "source": [
    "***Train the model***"
   ]
  },
  {
   "cell_type": "code",
   "execution_count": null,
   "id": "5b6dbf47",
   "metadata": {
    "ExecuteTime": {
     "start_time": "2021-05-31T10:40:41.306Z"
    }
   },
   "outputs": [],
   "source": [
    "\n",
    "print('\\n', 'run trainer', '\\n')\n",
    "history = trainer.run(training,\n",
    "                      evaluation,\n",
    "                      100,\n",
    "                      metrics = [iou, \"mae\", \"accuracy\"], \n",
    "                      optimizer='adam',\n",
    "                      loss=tversky,\n",
    "                      train_size = 3200,\n",
    "                      eval_size=1600,\n",
    "                     patience=10)\n"
   ]
  },
  {
   "cell_type": "code",
   "execution_count": null,
   "id": "2499e603",
   "metadata": {
    "ExecuteTime": {
     "end_time": "2021-05-28T08:28:13.055582Z",
     "start_time": "2021-05-28T08:28:12.330177Z"
    }
   },
   "outputs": [],
   "source": [
    "# write metrics in ml flow\n",
    "trainer.metrics_to_mlflow(history)\n",
    "\n",
    "\n",
    "#save history on the cloud\n",
    "trainer.save_history(history)\n",
    "\n",
    "\n",
    "# save model in your bucket\n",
    "\n",
    "print('\\n', 'save model', '\\n')\n",
    "trainer.save_model()"
   ]
  },
  {
   "cell_type": "markdown",
   "id": "e9da38cc",
   "metadata": {},
   "source": [
    "#### Visualise training history"
   ]
  },
  {
   "cell_type": "code",
   "execution_count": null,
   "id": "cf007a00",
   "metadata": {
    "ExecuteTime": {
     "end_time": "2021-06-09T14:10:07.041451Z",
     "start_time": "2021-06-09T14:10:06.913599Z"
    },
    "scrolled": true
   },
   "outputs": [],
   "source": [
    "from forest_guard.history import get_history_colab\n",
    "from forest_guard.history import plot_history_accuracy\n",
    "from forest_guard.history import plot_history_iou\n",
    "\n"
   ]
  },
  {
   "cell_type": "code",
   "execution_count": null,
   "id": "60be3090",
   "metadata": {
    "ExecuteTime": {
     "end_time": "2021-05-30T09:06:25.204793Z",
     "start_time": "2021-05-30T09:06:24.861658Z"
    }
   },
   "outputs": [],
   "source": [
    "from forest_guard.history import get_history_colab\n",
    "hist = get_history_colab('model_name')\n",
    "plot_history_accuracy(hist)\n",
    "plot_history_iou(hist)"
   ]
  },
  {
   "cell_type": "markdown",
   "id": "33b16c29",
   "metadata": {},
   "source": [
    "### _EEfying_ the model and push it on AI platform"
   ]
  },
  {
   "cell_type": "code",
   "execution_count": null,
   "id": "1941c96c",
   "metadata": {},
   "outputs": [],
   "source": [
    "MODEL_DIR = 'gs://forest_guard_bucket/models/forest_guard/model_name'\n",
    "EEIFIED_DIR = 'gs://forest_guard_bucket/models/forest_guard/eefied'\n",
    "REGION = 'us_central1'"
   ]
  },
  {
   "cell_type": "code",
   "execution_count": null,
   "id": "348d057f",
   "metadata": {},
   "outputs": [],
   "source": [
    "from tensorflow.python.tools import saved_model_utils\n",
    "\n",
    "meta_graph_def = saved_model_utils.get_meta_graph_def(MODEL_DIR, 'serve')\n",
    "inputs = meta_graph_def.signature_def['serving_default'].inputs\n",
    "outputs = meta_graph_def.signature_def['serving_default'].outputs\n",
    "\n",
    "# Just get the first thing(s) from the serving signature def.  i.e. this\n",
    "# model only has a single input and a single output.\n",
    "input_name = None\n",
    "for k,v in inputs.items():\n",
    "  input_name = v.name\n",
    "  break\n",
    "\n",
    "output_name = None\n",
    "for k,v in outputs.items():\n",
    "  output_name = v.name\n",
    "  break\n",
    "\n",
    "# Make a dictionary that maps Earth Engine outputs and inputs to \n",
    "# AI Platform inputs and outputs, respectively.\n",
    "import json\n",
    "input_dict = \"'\" + json.dumps({input_name: \"array\"}) + \"'\"\n",
    "output_dict = \"'\" + json.dumps({output_name: \"fnf\"}) + \"'\""
   ]
  },
  {
   "cell_type": "code",
   "execution_count": null,
   "id": "37d5c1cd",
   "metadata": {},
   "outputs": [],
   "source": [
    "PROJECT = 'my-project'"
   ]
  },
  {
   "cell_type": "code",
   "execution_count": null,
   "id": "a48fb0e7",
   "metadata": {},
   "outputs": [],
   "source": [
    "# You need to set the project before using the model prepare command.\n",
    "\n",
    "!earthengine set_project {PROJECT}\n",
    "!earthengine model prepare --source_dir {MODEL_DIR} --dest_dir {EEIFIED_DIR} --input {input_dict} --output {output_dict}"
   ]
  },
  {
   "cell_type": "markdown",
   "id": "47f2427d",
   "metadata": {},
   "source": [
    "Model is _eefied_, needs now to be pushed on AI platform for predictions"
   ]
  },
  {
   "cell_type": "code",
   "execution_count": null,
   "id": "653a099b",
   "metadata": {
    "ExecuteTime": {
     "end_time": "2021-06-09T14:17:21.947902Z",
     "start_time": "2021-06-09T14:17:21.926660Z"
    }
   },
   "outputs": [],
   "source": [
    "MODEL_NAME = 'model_name'"
   ]
  },
  {
   "cell_type": "code",
   "execution_count": null,
   "id": "46846d8c",
   "metadata": {},
   "outputs": [],
   "source": [
    "VERSION_NAME = 'v' + str(int(time.time()))\n",
    "print('Creating version: ' + VERSION_NAME)\n",
    "\n",
    "!gcloud ai-platform models create {MODEL_NAME} \\\n",
    "  --project {PROJECT} \\\n",
    "  --region {REGION}\n",
    "\n",
    "!gcloud ai-platform versions create {VERSION_NAME} \\\n",
    "  --project {PROJECT} \\\n",
    "  --model {MODEL_NAME} \\\n",
    "  --region {REGION} \\\n",
    "  --origin {EEIFIED_DIR} \\\n",
    "  --framework \"TENSORFLOW\" \\\n",
    "  --runtime-version 2.3 \\\n",
    "  --python-version 3.7 \\\n",
    "  #--machine-type mls1-c4-m2\n",
    "  #--min-node=1 etc \\\n",
    "  # gpu ..."
   ]
  },
  {
   "cell_type": "markdown",
   "id": "3c2a59c4",
   "metadata": {},
   "source": [
    "### Visualise prediction in Folium "
   ]
  },
  {
   "cell_type": "code",
   "execution_count": null,
   "id": "432d84f1",
   "metadata": {},
   "outputs": [],
   "source": [
    "from forest_guard.predictFoliumEE import add_ee_layer\n",
    "from forest_guard.predictFoliumEE import maskL8sr\n",
    "\n",
    "folium.Map.add_ee_layer = add_ee_layer\n",
    "from forest_guard.predictFoliumEE import map_pred"
   ]
  },
  {
   "cell_type": "code",
   "execution_count": null,
   "id": "1785fcfa",
   "metadata": {},
   "outputs": [],
   "source": [
    "map = map_pred(MODEL_NAME_SMALL, VERSION_SMALL, REGION, 2017, 2020)\n",
    "\n",
    "display(map)"
   ]
  }
 ],
 "metadata": {
  "kernelspec": {
   "display_name": "Python 3",
   "language": "python",
   "name": "python3"
  },
  "language_info": {
   "codemirror_mode": {
    "name": "ipython",
    "version": 3
   },
   "file_extension": ".py",
   "mimetype": "text/x-python",
   "name": "python",
   "nbconvert_exporter": "python",
   "pygments_lexer": "ipython3",
   "version": "3.8.6"
  },
  "toc": {
   "base_numbering": 1,
   "nav_menu": {},
   "number_sections": true,
   "sideBar": true,
   "skip_h1_title": false,
   "title_cell": "Table of Contents",
   "title_sidebar": "Contents",
   "toc_cell": false,
   "toc_position": {
    "height": "calc(100% - 180px)",
    "left": "10px",
    "top": "150px",
    "width": "218.4px"
   },
   "toc_section_display": true,
   "toc_window_display": true
  }
 },
 "nbformat": 4,
 "nbformat_minor": 5
}
